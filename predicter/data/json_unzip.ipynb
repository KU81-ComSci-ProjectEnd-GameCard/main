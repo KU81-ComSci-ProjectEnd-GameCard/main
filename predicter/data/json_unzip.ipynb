{
  "nbformat": 4,
  "nbformat_minor": 0,
  "metadata": {
    "colab": {
      "provenance": []
    },
    "kernelspec": {
      "name": "python3",
      "display_name": "Python 3"
    },
    "language_info": {
      "name": "python"
    }
  },
  "cells": [
    {
      "cell_type": "code",
      "execution_count": null,
      "metadata": {
        "id": "hCDsXLgUadKs"
      },
      "outputs": [],
      "source": [
        "import gzip\n",
        "import json\n",
        "\n",
        "# Specify the input and output file paths\n",
        "input_file = ['2020-11-01-00-07#1067.json.gz','2020-11-01-00-17#1152.json.gz','2020-11-01-00-27#1120.json.gz','2020-11-01-00-37#1158.json.gz']\n",
        "output_file =[ '2020-11-01-00-07#1067.json','2020-11-01-00-17#1152.json' , '2020-11-01-00-27#1120.json' , '2020-11-01-00-37#1158.json']\n",
        "\n",
        "# Open the .gz file and read its content\n",
        "for i in input_file:\n",
        "  with gzip.open(i, 'rt', encoding='utf-8') as f:\n",
        "      data = json.load(f)\n",
        "\n",
        "# Write the content to a .json file\n",
        "for i in output_file:\n",
        "  with open(i, 'w', encoding='utf-8') as f:\n",
        "      json.dump(data, f, indent=4)"
      ]
    }
  ]
}