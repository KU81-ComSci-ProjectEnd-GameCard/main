{
  "nbformat": 4,
  "nbformat_minor": 0,
  "metadata": {
    "colab": {
      "provenance": []
    },
    "kernelspec": {
      "name": "python3",
      "display_name": "Python 3"
    },
    "language_info": {
      "name": "python"
    }
  },
  "cells": [
    {
      "cell_type": "markdown",
      "source": [
        "# load data\n",
        "**connect to https://drive.google.com/drive/folders/1c7MwTdLxnPgvmPbBEfNWa45YAUU53H0l** that share short cut in my google drive"
      ],
      "metadata": {
        "id": "04DcMHIr9wAZ"
      }
    },
    {
      "cell_type": "code",
      "source": [
        "import os\n",
        "from google.colab import drive\n",
        "drive.mount(\"/content/drive\")"
      ],
      "metadata": {
        "colab": {
          "base_uri": "https://localhost:8080/"
        },
        "id": "vM5-gRwb9WG0",
        "outputId": "88e4a789-9dda-4c14-df65-3f58803f9a01"
      },
      "execution_count": 63,
      "outputs": [
        {
          "output_type": "stream",
          "name": "stdout",
          "text": [
            "Drive already mounted at /content/drive; to attempt to forcibly remount, call drive.mount(\"/content/drive\", force_remount=True).\n"
          ]
        }
      ]
    },
    {
      "cell_type": "markdown",
      "source": [
        "# unzip raw data .json.gz"
      ],
      "metadata": {
        "id": "3Zm5cwF2_eXq"
      }
    },
    {
      "cell_type": "code",
      "source": [
        "directory_path = '/content/drive/MyDrive/STS Data/Monthly_2020_11'\n",
        "# List all files in the directory\n",
        "file_names = os.listdir(directory_path)\n",
        "select_files = file_names[0:10]"
      ],
      "metadata": {
        "id": "RWyvWyAD98Cz"
      },
      "execution_count": 64,
      "outputs": []
    },
    {
      "cell_type": "code",
      "execution_count": 65,
      "metadata": {
        "id": "hCDsXLgUadKs"
      },
      "outputs": [],
      "source": [
        "import gzip\n",
        "import json\n",
        "\n",
        "combined_data = []\n",
        "# Open the .gz file and read its content\n",
        "for i in select_files:\n",
        "  with gzip.open(directory_path + '/'+i, 'rt', encoding='utf-8') as f:\n",
        "      data = json.load(f)\n",
        "      if isinstance(data, list):\n",
        "          combined_data.extend(data)\n",
        "      elif isinstance(data, dict):\n",
        "          combined_data.append(data)\n",
        "      else:\n",
        "          print(f\"Unexpected data format in file: {i}\")"
      ]
    },
    {
      "cell_type": "code",
      "source": [
        "!mkdir output"
      ],
      "metadata": {
        "colab": {
          "base_uri": "https://localhost:8080/"
        },
        "id": "9J7XVG0uIV4S",
        "outputId": "3e6ff942-bb24-44e5-b49b-f51e646d73c1"
      },
      "execution_count": 66,
      "outputs": [
        {
          "output_type": "stream",
          "name": "stdout",
          "text": [
            "mkdir: cannot create directory ‘output’: File exists\n"
          ]
        }
      ]
    },
    {
      "cell_type": "code",
      "source": [
        "%cd"
      ],
      "metadata": {
        "id": "6lIe0xtBMVXr",
        "outputId": "fdd13b58-0fd4-4735-bea5-1bfd6978686c",
        "colab": {
          "base_uri": "https://localhost:8080/"
        }
      },
      "execution_count": 69,
      "outputs": [
        {
          "output_type": "stream",
          "name": "stdout",
          "text": [
            "drive\t\t\t\t  output2020-11-06-02-16#1202.json\n",
            "main\t\t\t\t  output2020-11-06-04-07#1193.json\n",
            "output\t\t\t\t  output2020-11-06-11-59#1305.json\n",
            "output2020-11-03-22-26#1226.json  output2020-11-06-22-38#1165.json\n",
            "output2020-11-04-06-39#1126.json  output.zip\n",
            "output2020-11-04-14-25#1504.json  sample_data\n",
            "output2020-11-04-17-06#1275.json\n"
          ]
        }
      ]
    },
    {
      "cell_type": "code",
      "source": [
        "output_file_path = os.path.join('output/', 'combined_output.json')\n",
        "\n",
        "# Write the combined data to a new JSON file\n",
        "with open(output_file_path, 'w', encoding='utf-8') as f:\n",
        "    json.dump(combined_data, f, ensure_ascii=False, indent=4)\n",
        "\n",
        "print(f\"Combined data written to {output_file_path}\")"
      ],
      "metadata": {
        "colab": {
          "base_uri": "https://localhost:8080/"
        },
        "id": "BP2Vz3T8KOt-",
        "outputId": "69ca3ced-c6fa-42a7-f828-d8a2501be58e"
      },
      "execution_count": 71,
      "outputs": [
        {
          "output_type": "stream",
          "name": "stdout",
          "text": [
            "Combined data written to output/combined_output.json\n"
          ]
        }
      ]
    }
  ]
}