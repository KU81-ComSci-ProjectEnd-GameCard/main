{
 "cells": [
  {
   "cell_type": "code",
   "execution_count": 3,
   "id": "5420633b-4e2a-4b3d-9760-b0f0d2e4f665",
   "metadata": {},
   "outputs": [],
   "source": [
    "import pickle\n",
    "import os\n",
    "import numpy as np\n",
    "\n",
    "\n",
    "def save(matrix,filename , path = 'matrix_data'):\n",
    "    os.makedirs(path, exist_ok=True) \n",
    "    filepath = os.path.join(path, filename)\n",
    "    with open(filepath, 'wb') as file:\n",
    "        pickle.dump(matrix, file)\n",
    "\n",
    "def load(filename , path = 'matrix_data'):\n",
    "    filepath = os.path.join(path, filename)\n",
    "    with open(filepath, 'rb') as file:\n",
    "        return pickle.load(file)"
   ]
  },
  {
   "cell_type": "code",
   "execution_count": null,
   "id": "48f9e4c9-7586-4fce-92b2-a74dbe6f9c44",
   "metadata": {},
   "outputs": [],
   "source": []
  }
 ],
 "metadata": {
  "kernelspec": {
   "display_name": "Python 3 (ipykernel)",
   "language": "python",
   "name": "python3"
  },
  "language_info": {
   "codemirror_mode": {
    "name": "ipython",
    "version": 3
   },
   "file_extension": ".py",
   "mimetype": "text/x-python",
   "name": "python",
   "nbconvert_exporter": "python",
   "pygments_lexer": "ipython3",
   "version": "3.9.5"
  }
 },
 "nbformat": 4,
 "nbformat_minor": 5
}
