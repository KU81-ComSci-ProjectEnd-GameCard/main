{
 "cells": [
  {
   "cell_type": "code",
   "execution_count": 57,
   "id": "ed2186a5-09a1-4145-bab3-56e8366f1d98",
   "metadata": {},
   "outputs": [],
   "source": [
    "from tensorflow.keras.models import load_model\n",
    "from joblib import load\n",
    "import numpy as np"
   ]
  },
  {
   "cell_type": "code",
   "execution_count": 58,
   "id": "227b1762-cb7b-4c78-bfc9-b669b9290cff",
   "metadata": {},
   "outputs": [],
   "source": [
    "def cosine_similarity(vector1, vector2):\n",
    "    dot_product = np.dot(vector1, vector2)\n",
    "    norm1 = np.linalg.norm(vector1)\n",
    "    norm2 = np.linalg.norm(vector2)\n",
    "    if norm1 == 0 or norm2 == 0:\n",
    "        return np.array(0.0)\n",
    "    similarity = dot_product / (norm1 * norm2)\n",
    "    return similarity"
   ]
  },
  {
   "cell_type": "code",
   "execution_count": 125,
   "id": "753fec04-de7c-45d2-9e62-650d6e3fb907",
   "metadata": {},
   "outputs": [],
   "source": [
    "model = load_model('trained_model/MIX_11k_40dim_V2.keras', compile=False)"
   ]
  },
  {
   "cell_type": "code",
   "execution_count": 126,
   "id": "5131ea0c-7b24-4f3d-b058-ee1e5d870364",
   "metadata": {},
   "outputs": [],
   "source": [
    "def custom_analyzer(doc):\n",
    "    return doc\n",
    "cardVec = load('matrix_data/cardVecTF_MIX_11k_40dim.joblib')\n",
    "deckVecorizer = load('matrix_data/deckVectorizer_MIX_11k_30K.joblib')"
   ]
  },
  {
   "cell_type": "code",
   "execution_count": 151,
   "id": "fa914ab6-f97b-46f2-ba95-9e11b874e870",
   "metadata": {},
   "outputs": [],
   "source": [
    "ic_smaple = list([ [\"Strike_R\"] * 5 + [\"Defend_R\"] * 5 + [\"Bash\"]+['Shrug It Off']*5 + ['Iron Wave']*0])"
   ]
  },
  {
   "cell_type": "code",
   "execution_count": 152,
   "id": "67336a52-5567-47de-9385-d61988c47c3b",
   "metadata": {},
   "outputs": [],
   "source": [
    "sampleVec = deckVecorizer.transform(ic_smaple).toarray()"
   ]
  },
  {
   "cell_type": "code",
   "execution_count": 153,
   "id": "94a1a0e8-1fcb-468b-b671-9f5adf7a3b03",
   "metadata": {},
   "outputs": [
    {
     "name": "stdout",
     "output_type": "stream",
     "text": [
      "\u001b[1m1/1\u001b[0m \u001b[32m━━━━━━━━━━━━━━━━━━━━\u001b[0m\u001b[37m\u001b[0m \u001b[1m0s\u001b[0m 20ms/step\n"
     ]
    }
   ],
   "source": [
    "sample_pred = model.predict(sampleVec)"
   ]
  },
  {
   "cell_type": "code",
   "execution_count": 154,
   "id": "1ec7162a-1d4d-4777-b55e-04a9d23b6b97",
   "metadata": {},
   "outputs": [
    {
     "data": {
      "text/plain": [
       "array([0.6477098])"
      ]
     },
     "execution_count": 154,
     "metadata": {},
     "output_type": "execute_result"
    }
   ],
   "source": [
    "cosine_similarity(sample_pred, cardVec['Body Slam'])"
   ]
  },
  {
   "cell_type": "code",
   "execution_count": null,
   "id": "cffc6c81-8c9a-431b-a6fa-12fe57bc5f0d",
   "metadata": {},
   "outputs": [],
   "source": []
  }
 ],
 "metadata": {
  "kernelspec": {
   "display_name": "Python 3 (ipykernel)",
   "language": "python",
   "name": "python3"
  },
  "language_info": {
   "codemirror_mode": {
    "name": "ipython",
    "version": 3
   },
   "file_extension": ".py",
   "mimetype": "text/x-python",
   "name": "python",
   "nbconvert_exporter": "python",
   "pygments_lexer": "ipython3",
   "version": "3.9.5"
  }
 },
 "nbformat": 4,
 "nbformat_minor": 5
}
