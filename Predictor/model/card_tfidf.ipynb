{
 "cells": [
  {
   "cell_type": "markdown",
   "id": "e63b0438-adbc-40f2-924f-61c919ea305e",
   "metadata": {},
   "source": [
    "load data"
   ]
  },
  {
   "cell_type": "code",
   "execution_count": 1,
   "id": "65467df7-7ef6-4a89-827f-aecde24eabe1",
   "metadata": {},
   "outputs": [],
   "source": [
    "import urllib.request\n",
    "import json\n",
    "import numpy as np\n",
    "import pandas as pd"
   ]
  },
  {
   "cell_type": "code",
   "execution_count": 2,
   "id": "d2aca369-83e9-4b0f-8e37-132dfbe3860a",
   "metadata": {},
   "outputs": [],
   "source": [
    "data_url = 'https://raw.githubusercontent.com/KU81-ComSci-ProjectEnd-GameCard/main/master/Predictor/data/processed_data/quality_run8k.json'\n",
    "json_data = list()\n",
    "with urllib.request.urlopen(data_url) as url:\n",
    "    run_js = json.loads(url.read().decode())\n",
    "run = pd.DataFrame(run_js)"
   ]
  },
  {
   "cell_type": "code",
   "execution_count": 3,
   "id": "a7abac42-d986-4b35-b2f9-2a3845de698c",
   "metadata": {},
   "outputs": [],
   "source": [
    "decks = run.master_deck.tolist()"
   ]
  },
  {
   "cell_type": "markdown",
   "id": "20546846-822f-41d6-a14e-30af7b02fcea",
   "metadata": {},
   "source": [
    "build lsa model"
   ]
  },
  {
   "cell_type": "code",
   "execution_count": 4,
   "id": "2bc16e27-ae7f-4e9b-a497-cbf4b42a9a30",
   "metadata": {},
   "outputs": [],
   "source": [
    "def upgrade_lst(lst):\n",
    "  new_lst = list()\n",
    "  for item in lst:\n",
    "    if(item != 'Searing Blow'):\n",
    "      new_lst.append(item+'+1')\n",
    "  return new_lst\n",
    "    \n",
    "def get_ALL_CARD():\n",
    "  IC_ATTACK_CARDS = [\"Strike_R\", \"Bash\", \"Anger\", \"Body Slam\", \"Clash\", \"Cleave\", \"Clothesline\", \"Headbutt\", \"Heavy Blade\", \"Iron Wave\", \"Perfected Strike\", \"Pommel Strike\", \"Sword Boomerang\", \"Thunderclap\", \"Twin Strike\", \"Wild Strike\", \"Blood for Blood\", \"Carnage\", \"Dropkick\", \"Hemokinesis\", \"Pummel\", \"Rampage\", \"Reckless Charge\", \"Searing Blow\", \"Sever Soul\", \"Uppercut\", \"Whirlwind\", \"Bludgeon\", \"Feed\", \"Fiend Fire\", \"Immolate\", \"Reaper\"]\n",
    "  IC_SKILL_CARDS = [\"Defend_R\", \"Armaments\", \"Flex\", \"Havoc\", \"Shrug It Off\", \"True Grit\", \"Warcry\", \"Battle Trance\", \"Bloodletting\", \"Burning Pact\", \"Disarm\", \"Dual Wield\", \"Entrench\", \"Flame Barrier\", \"Ghostly Armor\", \"Infernal Blade\", \"Intimidate\", \"Power Through\", \"Rage\", \"Second Wind\", \"Seeing Red\", \"Sentinel\", \"Shockwave\", \"Spot Weakness\", \"Double Tap\", \"Exhume\", \"Impervious\", \"Limit Break\", \"Offering\"]\n",
    "  IC_POWER_CARDS = [\"Combust\", \"Dark Embrace\", \"Evolve\", \"Feel No Pain\", \"Fire Breathing\", \"Inflame\", \"Metallicize\", \"Rupture\", \"Barricade\", \"Berserk\", \"Brutality\", \"Corruption\", \"Demon Form\", \"Juggernaut\"]\n",
    "  IRONCLAD_CARDS = IC_ATTACK_CARDS + IC_SKILL_CARDS + IC_POWER_CARDS\n",
    "\n",
    "  COLORLESS_CARDS = [\"Dramatic Entrance\", \"Flash of Steel\", \"Mind Blast\", \"Swift Strike\", \"HandOfGreed\", \"Bite\", \"Expunger\", \"Ritual Dagger\", \"Shiv\", \"Smite\", \"Through Violence\", \"Bandage Up\", \"Blind\", \"Dark Shackles\", \"Deep Breath\", \"Discovery\", \"Enlightenment\", \"Finesse\", \"Forethought\", \"Good Instincts\", \"Impatience\", \"Jack Of All Trades\", \"Madness\", \"Panacea\", \"PanicButton\", \"Purity\", \"Trip\", \"Apotheosis\", \"Chrysalis\", \"Master of Strategy\", \"Metamorphosis\", \"Secret Technique\", \"Secret Weapon\", \"The Bomb\", \"Thinking Ahead\", \"Transmutation\", \"Violence\", \"Apparition\", \"Beta\", \"Insight\", \"J.A.X.\", \"Miracle\", \"Safety\", \"Magnetism\", \"Mayhem\", \"Panache\", \"Sadistic Nature\", ]\n",
    "\n",
    "  CURSE_CARDS = [\"AscendersBan\", \"Clumsy\", \"Curse of the Bell\", \"Decay\", \"Doubt\", \"Injury\", \"Necronomicurse\", \"Normality\", \"Pain\", \"Parasite\", \"Pride\", \"Regret\", \"Shame\", \"Writhe\"]\n",
    "  return IRONCLAD_CARDS + COLORLESS_CARDS + CURSE_CARDS + upgrade_lst(IRONCLAD_CARDS) + upgrade_lst(COLORLESS_CARDS)"
   ]
  },
  {
   "cell_type": "code",
   "execution_count": 16,
   "id": "89ee9c4e-0cb4-493d-a706-05897c7bfe10",
   "metadata": {},
   "outputs": [],
   "source": [
    "vocab = get_ALL_CARD()"
   ]
  },
  {
   "cell_type": "code",
   "execution_count": 17,
   "id": "7b890aa6-be3d-4fdf-8870-6e3c75954808",
   "metadata": {},
   "outputs": [],
   "source": [
    "from sklearn.feature_extraction.text import TfidfVectorizer\n",
    "from sklearn.decomposition import TruncatedSVD"
   ]
  },
  {
   "cell_type": "code",
   "execution_count": 18,
   "id": "f152cd60-d431-40f3-8a1d-21860ada6605",
   "metadata": {},
   "outputs": [],
   "source": [
    "def custom_analyzer(doc):\n",
    "    return doc\n",
    "    \n",
    "tfidf_vectorizer = TfidfVectorizer(vocabulary=vocab, analyzer=custom_analyzer,lowercase=False)\n",
    "tf_matrix = tfidf_vectorizer.fit_transform(decks)"
   ]
  },
  {
   "cell_type": "code",
   "execution_count": 19,
   "id": "200523c0-3b85-4461-85aa-c6cda9d4016f",
   "metadata": {},
   "outputs": [],
   "source": [
    "n_components = 40 # Number of dimensions to reduce to\n",
    "svd = TruncatedSVD(n_components=n_components)\n",
    "reduced_matrix = svd.fit_transform(tf_matrix.T)"
   ]
  },
  {
   "cell_type": "markdown",
   "id": "d8b6407f-093c-4722-b8ad-18375a5d9533",
   "metadata": {},
   "source": [
    "#### print(len(reduced_matrix))"
   ]
  },
  {
   "cell_type": "code",
   "execution_count": 20,
   "id": "62d3baef-b408-44c5-9fd2-0da01b501c4c",
   "metadata": {},
   "outputs": [
    {
     "data": {
      "text/plain": [
       "257"
      ]
     },
     "execution_count": 20,
     "metadata": {},
     "output_type": "execute_result"
    }
   ],
   "source": [
    "len(vocab)"
   ]
  },
  {
   "cell_type": "code",
   "execution_count": 21,
   "id": "4d469d6f-1e89-4a1b-9044-dc3128a77f13",
   "metadata": {},
   "outputs": [],
   "source": [
    "words = tfidf_vectorizer.get_feature_names_out()"
   ]
  },
  {
   "cell_type": "code",
   "execution_count": 22,
   "id": "a936b048-0b34-44de-89a0-ff2faf69e947",
   "metadata": {},
   "outputs": [],
   "source": [
    "card_vector = dict()"
   ]
  },
  {
   "cell_type": "code",
   "execution_count": 23,
   "id": "6ec845cb-a00d-4226-8af5-89f7f899eae8",
   "metadata": {},
   "outputs": [],
   "source": [
    "for i, word in enumerate(words):\n",
    "    card_vector[word] = reduced_matrix[i]"
   ]
  },
  {
   "cell_type": "code",
   "execution_count": 24,
   "id": "9087d6a2-d789-4627-a0a7-2b14c273c536",
   "metadata": {},
   "outputs": [],
   "source": [
    "from joblib import dump\n",
    "import os"
   ]
  },
  {
   "cell_type": "code",
   "execution_count": 25,
   "id": "65acd647-a705-4d11-b7a2-0ffd1980a1a3",
   "metadata": {},
   "outputs": [],
   "source": [
    "save_path = os.path.join('matrix_data', 'cardVec_8k_40dim.joblib')"
   ]
  },
  {
   "cell_type": "code",
   "execution_count": 26,
   "id": "2331999a-7fb1-44fc-9dc0-ff8e5e283e77",
   "metadata": {},
   "outputs": [
    {
     "data": {
      "text/plain": [
       "['matrix_data\\\\cardVec_8k_40dim.joblib']"
      ]
     },
     "execution_count": 26,
     "metadata": {},
     "output_type": "execute_result"
    }
   ],
   "source": [
    "dump(card_vector, save_path)"
   ]
  },
  {
   "cell_type": "code",
   "execution_count": 35,
   "id": "ccec6eb0-e399-4fd9-a801-737ceb11864d",
   "metadata": {},
   "outputs": [],
   "source": []
  },
  {
   "cell_type": "code",
   "execution_count": null,
   "id": "05728d8e-2cdb-4409-b022-00b29ed7735e",
   "metadata": {},
   "outputs": [],
   "source": []
  }
 ],
 "metadata": {
  "kernelspec": {
   "display_name": "Python 3 (ipykernel)",
   "language": "python",
   "name": "python3"
  },
  "language_info": {
   "codemirror_mode": {
    "name": "ipython",
    "version": 3
   },
   "file_extension": ".py",
   "mimetype": "text/x-python",
   "name": "python",
   "nbconvert_exporter": "python",
   "pygments_lexer": "ipython3",
   "version": "3.9.5"
  }
 },
 "nbformat": 4,
 "nbformat_minor": 5
}
