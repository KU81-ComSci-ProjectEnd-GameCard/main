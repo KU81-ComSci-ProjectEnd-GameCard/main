{
 "cells": [
  {
   "cell_type": "markdown",
   "id": "e63b0438-adbc-40f2-924f-61c919ea305e",
   "metadata": {},
   "source": [
    "load data"
   ]
  },
  {
   "cell_type": "code",
   "execution_count": 20,
   "id": "65467df7-7ef6-4a89-827f-aecde24eabe1",
   "metadata": {},
   "outputs": [],
   "source": [
    "import urllib.request\n",
    "import json\n",
    "import numpy as np\n",
    "import pandas as pd"
   ]
  },
  {
   "cell_type": "code",
   "execution_count": 21,
   "id": "d2aca369-83e9-4b0f-8e37-132dfbe3860a",
   "metadata": {},
   "outputs": [],
   "source": [
    "data_url = 'data/processed_data/TS_quality_run5k.json'\n",
    "json_data = list()\n",
    "TS_run = pd.read_json(data_url)"
   ]
  },
  {
   "cell_type": "code",
   "execution_count": 22,
   "id": "5c37e74f-4512-4415-8300-38cabb567695",
   "metadata": {},
   "outputs": [],
   "source": [
    "data_url = 'data/processed_data/quality_run8k.json'\n",
    "json_data = list()\n",
    "IC_run = pd.read_json(data_url)"
   ]
  },
  {
   "cell_type": "code",
   "execution_count": 23,
   "id": "04a32630-5a3a-4760-9b65-7a8d09208951",
   "metadata": {},
   "outputs": [],
   "source": [
    "IC_run = IC_run.sample(n=5500).reset_index()"
   ]
  },
  {
   "cell_type": "code",
   "execution_count": 24,
   "id": "a7abac42-d986-4b35-b2f9-2a3845de698c",
   "metadata": {},
   "outputs": [],
   "source": [
    "decks = TS_run.master_deck.tolist() + IC_run.master_deck.tolist()"
   ]
  },
  {
   "cell_type": "code",
   "execution_count": 25,
   "id": "be401d3c-db33-4059-be35-724a58736145",
   "metadata": {},
   "outputs": [
    {
     "data": {
      "text/plain": [
       "Index(['level_0', 'index', 'gold_per_floor', 'floor_reached', 'playtime',\n",
       "       'items_purged', 'score', 'play_id', 'local_time', 'is_ascension_mode',\n",
       "       'campfire_choices', 'neow_cost', 'seed_source_timestamp',\n",
       "       'circlet_count', 'master_deck', 'relics', 'potions_floor_usage',\n",
       "       'damage_taken', 'seed_played', 'potions_obtained', 'is_trial',\n",
       "       'path_per_floor', 'character_chosen', 'items_purchased',\n",
       "       'campfire_rested', 'item_purchase_floors', 'current_hp_per_floor',\n",
       "       'gold', 'neow_bonus', 'is_prod', 'is_daily', 'chose_seed',\n",
       "       'campfire_upgraded', 'win_rate', 'timestamp', 'path_taken',\n",
       "       'build_version', 'purchased_purges', 'victory', 'max_hp_per_floor',\n",
       "       'card_choices', 'player_experience', 'relics_obtained', 'event_choices',\n",
       "       'is_beta', 'boss_relics', 'items_purged_floors', 'is_endless',\n",
       "       'potions_floor_spawned', 'killed_by', 'ascension_level',\n",
       "       'special_seed'],\n",
       "      dtype='object')"
      ]
     },
     "execution_count": 25,
     "metadata": {},
     "output_type": "execute_result"
    }
   ],
   "source": [
    "IC_run.columns"
   ]
  },
  {
   "cell_type": "code",
   "execution_count": 26,
   "id": "27066721-646c-43eb-9ff7-50ca6c05c964",
   "metadata": {},
   "outputs": [
    {
     "name": "stdout",
     "output_type": "stream",
     "text": [
      "['Defend_G', 'Defend_G', 'Defend_G', 'Defend_G', 'Survivor', 'Neutralize+1', 'Backstab+1', 'Backstab+1', 'Deadly Poison+1', 'Deadly Poison+1', 'Escape Plan', 'Envenom+1', 'Dagger Spray', 'Corpse Explosion+1', 'Backflip+1', 'After Image', 'Footwork', 'Bane']\n"
     ]
    }
   ],
   "source": [
    "print(decks[0])"
   ]
  },
  {
   "cell_type": "code",
   "execution_count": 27,
   "id": "30b5ff4b-3877-473d-88bc-3b0c6ca2dfb3",
   "metadata": {},
   "outputs": [
    {
     "data": {
      "text/plain": [
       "10789"
      ]
     },
     "execution_count": 27,
     "metadata": {},
     "output_type": "execute_result"
    }
   ],
   "source": [
    "len(decks)"
   ]
  },
  {
   "cell_type": "code",
   "execution_count": 28,
   "id": "2bc16e27-ae7f-4e9b-a497-cbf4b42a9a30",
   "metadata": {},
   "outputs": [],
   "source": [
    "def upgrade_lst(lst):\n",
    "  new_lst = list()\n",
    "  for item in lst:\n",
    "    if(item != 'Searing Blow'):\n",
    "      new_lst.append(item+'+1')\n",
    "  return new_lst"
   ]
  },
  {
   "cell_type": "code",
   "execution_count": 29,
   "id": "ad9392fb-5098-48e5-b8eb-767eac625f1f",
   "metadata": {},
   "outputs": [],
   "source": [
    "def get_ALL_IC_CARD():\n",
    "  IC_ATTACK_CARDS = [\"Strike_R\", \"Bash\", \"Anger\", \"Body Slam\", \"Clash\", \"Cleave\", \"Clothesline\", \"Headbutt\", \"Heavy Blade\", \"Iron Wave\", \"Perfected Strike\", \"Pommel Strike\", \"Sword Boomerang\", \"Thunderclap\", \"Twin Strike\", \"Wild Strike\", \"Blood for Blood\", \"Carnage\", \"Dropkick\", \"Hemokinesis\", \"Pummel\", \"Rampage\", \"Reckless Charge\", \"Searing Blow\", \"Sever Soul\", \"Uppercut\", \"Whirlwind\", \"Bludgeon\", \"Feed\", \"Fiend Fire\", \"Immolate\", \"Reaper\"]\n",
    "  IC_SKILL_CARDS = [\"Defend_R\", \"Armaments\", \"Flex\", \"Havoc\", \"Shrug It Off\", \"True Grit\", \"Warcry\", \"Battle Trance\", \"Bloodletting\", \"Burning Pact\", \"Disarm\", \"Dual Wield\", \"Entrench\", \"Flame Barrier\", \"Ghostly Armor\", \"Infernal Blade\", \"Intimidate\", \"Power Through\", \"Rage\", \"Second Wind\", \"Seeing Red\", \"Sentinel\", \"Shockwave\", \"Spot Weakness\", \"Double Tap\", \"Exhume\", \"Impervious\", \"Limit Break\", \"Offering\"]\n",
    "  IC_POWER_CARDS = [\"Combust\", \"Dark Embrace\", \"Evolve\", \"Feel No Pain\", \"Fire Breathing\", \"Inflame\", \"Metallicize\", \"Rupture\", \"Barricade\", \"Berserk\", \"Brutality\", \"Corruption\", \"Demon Form\", \"Juggernaut\"]\n",
    "  IRONCLAD_CARDS = IC_ATTACK_CARDS + IC_SKILL_CARDS + IC_POWER_CARDS\n",
    "  return IRONCLAD_CARDS + upgrade_lst(IRONCLAD_CARDS)"
   ]
  },
  {
   "cell_type": "code",
   "execution_count": 30,
   "id": "3ebf4bd0-2bee-40d5-af9e-f55dee835513",
   "metadata": {},
   "outputs": [],
   "source": [
    "def get_ALL_COLORLESS_CARD():\n",
    "    COLORLESS_CARDS = [\"Dramatic Entrance\", \"Flash of Steel\", \"Mind Blast\", \"Swift Strike\", \"HandOfGreed\", \"Bite\", \"Expunger\", \"Ritual Dagger\", \"Shiv\", \"Smite\", \"Through Violence\", \"Bandage Up\", \"Blind\", \"Dark Shackles\", \"Deep Breath\", \"Discovery\", \"Enlightenment\", \"Finesse\", \"Forethought\", \"Good Instincts\", \"Impatience\", \"Jack Of All Trades\", \"Madness\", \"Panacea\", \"PanicButton\", \"Purity\", \"Trip\", \"Apotheosis\", \"Chrysalis\", \"Master of Strategy\", \"Metamorphosis\", \"Secret Technique\", \"Secret Weapon\", \"The Bomb\", \"Thinking Ahead\", \"Transmutation\", \"Violence\", \"Apparition\", \"Beta\", \"Insight\", \"J.A.X.\", \"Miracle\", \"Safety\", \"Magnetism\", \"Mayhem\", \"Panache\", \"Sadistic Nature\"]\n",
    "    CURSE_CARDS = [\"AscendersBane\", \"Clumsy\", \"Curse of the Bell\", \"Decay\", \"Doubt\", \"Injury\", \"Necronomicurse\", \"Normality\", \"Pain\", \"Parasite\", \"Pride\", \"Regret\", \"Shame\", \"Writhe\"]\n",
    "    NOISE = ['Expunger', 'Ritual Dagger', 'Shiv', 'Smite', 'Through Violence',\n",
    "       'Apparition', 'Beta', 'Insight', 'Miracle', 'Safety',\n",
    "       'Curse of the Bell', 'Pride', 'Expunger+1', 'Ritual Dagger+1', 'Shiv+1',\n",
    "       'Smite+1', 'Through Violence+1', 'Apparition+1', 'Beta+1', 'Insight+1',\n",
    "       'Miracle+1', 'Safety+1']\n",
    "    cards = COLORLESS_CARDS + upgrade_lst(COLORLESS_CARDS) + CURSE_CARDS \n",
    "    return [card for card in cards if card not in NOISE] "
   ]
  },
  {
   "cell_type": "code",
   "execution_count": 31,
   "id": "35f0dc3a-2fea-4f84-9434-42b399f42fbf",
   "metadata": {},
   "outputs": [],
   "source": [
    "def get_ALL_TS_CARD():\n",
    "    TS_ALL_CARD =[ \t\n",
    "        \"Strike_G\" , \"Defend_G\" ,\"Neutralize\" , \"Survivor\",\n",
    "        \"Bane\", \"Dagger Spray\", \"Dagger Throw\", \"Flying Knee\", \"Poisoned Stab\", \"Quick Slash\", \"Slice\", \"Sneaky Strike\", \"Sucker Punch\",\n",
    "        \"All Out Attack\", \"Backstab\", \"Choke\", \"Dash\", \"Endless Agony\", \"Eviscerate\", \"Finisher\", \"Flechettes\", \"Heel Hook\", \"Masterful Stab\", \"Predator\", \"Riddle with Holes\", \"Skewer\",\n",
    "        \"Die Die Die\", \"Glass Knife\", \"Grand Finale\", \"Unload\",\n",
    "        \"Acrobatics\", \"Backflip\", \"Blade Dance\", \"Cloak And Dagger\", \"Deadly Poison\", \"Deflect\", \"Dodge and Roll\", \"Outmaneuver\", \"PiercingWail\", \"Prepared\",\n",
    "        \"Blur\", \"Bouncing Flask\", \"Calculated Gamble\", \"Catalyst\", \"Concentrate\", \"Crippling Cloud\", \"Distraction\", \"Escape Plan\", \"Expertise\", \"Leg Sweep\", \"Reflex\", \"Setup\", \"Tactician\", \"Terror\",\n",
    "        \"Adrenaline\", \"Alchemize\", \"Bullet Time\", \"Burst\", \"Corpse Explosion\", \"Doppelganger\", \"Malaise\", \"Nightmare\", \"Phantasmal Killer\", \"Storm of Steel\",\n",
    "        \"Accuracy\", \"Caltrops\", \"Footwork\", \"Infinite Blades\", \"Noxious Fumes\", \"Well Laid Plans\",\n",
    "        \"A Thousand Cuts\", \"After Image\", \"Envenom\", \"Tools of the Trade\", \"Wraith Form v2\" ,\n",
    "        \"Underhanded Strike\" , 'Crippling Poison' , 'Venomology' , 'Night Terror' ## beta name\n",
    "    ]\n",
    "    return TS_ALL_CARD + upgrade_lst(TS_ALL_CARD)"
   ]
  },
  {
   "cell_type": "code",
   "execution_count": 32,
   "id": "50686d2a-55de-4154-a7ea-43330665a33a",
   "metadata": {},
   "outputs": [],
   "source": [
    "def get_ALL_CARD():\n",
    "    NOISE = ['Sneaky Strike', 'Riddle with Holes',\n",
    "       'Cloak and Dagger', 'Crippling Cloud', 'Alchemize',\n",
    "       'Nightmare', 'Sneaky Strike+1',\n",
    "        'Riddle with Holes+1', 'Cloak and Dagger+1',\n",
    "        'Crippling Cloud+1', 'Alchemize+1', 'Nightmare+1',\n",
    "        'Wraith Form v2+1','Underhanded Strike+1','Venomology+1','Night Terror+1'\n",
    "        ]\n",
    "    allCard = get_ALL_IC_CARD() + get_ALL_COLORLESS_CARD() + get_ALL_TS_CARD()\n",
    "    return [card for card in allCard if card not in NOISE] "
   ]
  },
  {
   "cell_type": "code",
   "execution_count": 33,
   "id": "89ee9c4e-0cb4-493d-a706-05897c7bfe10",
   "metadata": {},
   "outputs": [
    {
     "name": "stdout",
     "output_type": "stream",
     "text": [
      "379\n"
     ]
    }
   ],
   "source": [
    "vocab = get_ALL_CARD()\n",
    "print(len(vocab))"
   ]
  },
  {
   "cell_type": "code",
   "execution_count": 34,
   "id": "7b890aa6-be3d-4fdf-8870-6e3c75954808",
   "metadata": {},
   "outputs": [],
   "source": [
    "from sklearn.feature_extraction.text import TfidfVectorizer\n",
    "from sklearn.feature_extraction.text import CountVectorizer\n",
    "from sklearn.decomposition import TruncatedSVD"
   ]
  },
  {
   "cell_type": "code",
   "execution_count": 35,
   "id": "f152cd60-d431-40f3-8a1d-21860ada6605",
   "metadata": {},
   "outputs": [],
   "source": [
    "def custom_analyzer(doc):\n",
    "    return doc\n",
    "    \n",
    "vectorizer = CountVectorizer(vocabulary=vocab, analyzer=custom_analyzer,lowercase=False)\n",
    "matrix = vectorizer.fit_transform(decks)"
   ]
  },
  {
   "cell_type": "code",
   "execution_count": 36,
   "id": "200523c0-3b85-4461-85aa-c6cda9d4016f",
   "metadata": {},
   "outputs": [],
   "source": [
    "n_components = 2 # Number of dimensions to reduce to\n",
    "svd = TruncatedSVD(n_components=n_components)\n",
    "reduced_matrix = svd.fit_transform(matrix)"
   ]
  },
  {
   "cell_type": "code",
   "execution_count": 37,
   "id": "a533b1ec-24e1-4f36-be62-3836b405d588",
   "metadata": {},
   "outputs": [
    {
     "data": {
      "text/plain": [
       "(2, 379)"
      ]
     },
     "execution_count": 37,
     "metadata": {},
     "output_type": "execute_result"
    }
   ],
   "source": [
    "svd.components_.shape"
   ]
  },
  {
   "cell_type": "code",
   "execution_count": 38,
   "id": "c0123d69-1f3d-44a6-af3e-63898bf98217",
   "metadata": {},
   "outputs": [],
   "source": [
    "from sklearn.preprocessing import normalize\n",
    "normalized_word_vectors = normalize(svd.components_, norm='l2')"
   ]
  },
  {
   "cell_type": "code",
   "execution_count": 39,
   "id": "6b4f8d48-f541-4073-9bbf-3920ff983f25",
   "metadata": {},
   "outputs": [],
   "source": [
    "terms = vectorizer.get_feature_names_out()\n",
    "word_vectors = pd.DataFrame(svd.components_.T, index=terms, columns=[f'concept_{i+1}' for i in range(n_components)])"
   ]
  },
  {
   "cell_type": "code",
   "execution_count": 40,
   "id": "62d3baef-b408-44c5-9fd2-0da01b501c4c",
   "metadata": {},
   "outputs": [
    {
     "data": {
      "text/plain": [
       "379"
      ]
     },
     "execution_count": 40,
     "metadata": {},
     "output_type": "execute_result"
    }
   ],
   "source": [
    "len(vocab)"
   ]
  },
  {
   "cell_type": "code",
   "execution_count": 41,
   "id": "4d469d6f-1e89-4a1b-9044-dc3128a77f13",
   "metadata": {},
   "outputs": [],
   "source": [
    "terms = vectorizer.get_feature_names_out()\n",
    "card_vectors = {term: svd.components_[:, i].tolist() for i, term in enumerate(terms)}"
   ]
  },
  {
   "cell_type": "code",
   "execution_count": 52,
   "id": "74f4d197-9d84-4b73-8449-e746d0ac4c07",
   "metadata": {},
   "outputs": [
    {
     "data": {
      "text/plain": [
       "(379, 2)"
      ]
     },
     "execution_count": 52,
     "metadata": {},
     "output_type": "execute_result"
    }
   ],
   "source": [
    "svd.components_.T.shape"
   ]
  },
  {
   "cell_type": "code",
   "execution_count": 54,
   "id": "10750c8d-c3fb-4a43-b6ec-3d173349a598",
   "metadata": {},
   "outputs": [
    {
     "data": {
      "image/png": "[encoded data removed]",
      "text/plain": [
       "<Figure size 640x480 with 1 Axes>"
      ]
     },
     "metadata": {},
     "output_type": "display_data"
    }
   ],
   "source": [
    "from sklearn.decomposition import TruncatedSVD\n",
    "import matplotlib.pyplot as plt\n",
    "import numpy as np\n",
    "from scipy.sparse import csr_matrix\n",
    "\n",
    "# Example sparse vector (20-dimensional, sparse)\n",
    "tmp = svd.components_.T\n",
    "\n",
    "# Plotting the 2D projection\n",
    "plt.scatter(tmp[:, 0], tmp[:, 1])\n",
    "plt.show()"
   ]
  },
  {
   "cell_type": "markdown",
   "id": "9e1b1581-20f6-489c-a46d-57f0d8d458c7",
   "metadata": {},
   "source": [
    "cosine sim"
   ]
  },
  {
   "cell_type": "code",
   "execution_count": 45,
   "id": "ccec6eb0-e399-4fd9-a801-737ceb11864d",
   "metadata": {},
   "outputs": [],
   "source": [
    "from sklearn.metrics.pairwise import cosine_similarity\n",
    "import numpy as np\n",
    "\n",
    "# Convert dictionary to numpy array for vector operations\n",
    "word_list = list(card_vectors.keys())\n",
    "vector_array = np.array(list(card_vectors.values()))  # shape (num_words, num_components)\n",
    "\n",
    "# Compute cosine similarity\n",
    "cosine_sim_matrix = cosine_similarity(vector_array)\n",
    "\n",
    "# Display cosine similarity matrix\n",
    "cosine_sim_df = pd.DataFrame(cosine_sim_matrix, index=word_list, columns=word_list)\n"
   ]
  },
  {
   "cell_type": "code",
   "execution_count": 46,
   "id": "82edb579-d9a0-4308-b02c-211c98bebf7f",
   "metadata": {},
   "outputs": [
    {
     "data": {
      "text/plain": [
       "Index(['All Out Attack', 'Cloak And Dagger', 'PiercingWail', 'Well Laid Plans',\n",
       "       'Wraith Form v2', 'Underhanded Strike', 'Crippling Poison',\n",
       "       'Venomology', 'Night Terror', 'All Out Attack+1', 'Cloak And Dagger+1',\n",
       "       'PiercingWail+1', 'Well Laid Plans+1', 'Crippling Poison+1'],\n",
       "      dtype='object')"
      ]
     },
     "execution_count": 46,
     "metadata": {},
     "output_type": "execute_result"
    }
   ],
   "source": [
    "cosine_sim_df.loc[cosine_sim_df.sum(axis=1) == 0].index"
   ]
  },
  {
   "cell_type": "code",
   "execution_count": 47,
   "id": "05728d8e-2cdb-4409-b022-00b29ed7735e",
   "metadata": {},
   "outputs": [
    {
     "data": {
      "image/png": "[encoded data removed]",
      "text/plain": [
       "<Figure size 1000x600 with 1 Axes>"
      ]
     },
     "metadata": {},
     "output_type": "display_data"
    }
   ],
   "source": [
    "import numpy as np\n",
    "import matplotlib.pyplot as plt\n",
    "import seaborn as sns\n",
    "vector_magnitudes = np.linalg.norm(vector_array, axis=1)\n",
    "\n",
    "# Plot histogram of magnitudes\n",
    "plt.figure(figsize=(10, 6))\n",
    "sns.histplot(vector_magnitudes, kde=True, bins=30)\n",
    "plt.title('Distribution of Word Vector Magnitudes')\n",
    "plt.xlabel('Magnitude')\n",
    "plt.ylabel('Frequency')\n",
    "plt.show()"
   ]
  },
  {
   "cell_type": "code",
   "execution_count": 48,
   "id": "fc95ad6e-0cd1-4474-b998-5c143d7d1a97",
   "metadata": {},
   "outputs": [],
   "source": [
    "from sklearn.metrics.pairwise import cosine_similarity"
   ]
  },
  {
   "cell_type": "code",
   "execution_count": 49,
   "id": "c61f9d1d-16e2-455a-a3d8-d1b05a6f9f7e",
   "metadata": {},
   "outputs": [
    {
     "data": {
      "image/png": "[encoded data removed]",
      "text/plain": [
       "<Figure size 800x600 with 1 Axes>"
      ]
     },
     "metadata": {},
     "output_type": "display_data"
    }
   ],
   "source": [
    "cosine_sim_values = cosine_sim_matrix[np.triu_indices_from(cosine_sim_matrix, k=1)]\n",
    "\n",
    "# Plot the distribution of cosine similarities\n",
    "plt.figure(figsize=(8, 6))\n",
    "plt.hist(cosine_sim_values, bins=50, color='blue', alpha=0.7)\n",
    "plt.title('Distribution of Cosine Similarities')\n",
    "plt.xlabel('Cosine Similarity')\n",
    "plt.ylabel('Frequency')\n",
    "plt.show()"
   ]
  },
  {
   "cell_type": "code",
   "execution_count": 70,
   "id": "f029813d-eba2-4ff7-a224-3244fa4dcbe6",
   "metadata": {},
   "outputs": [
    {
     "data": {
      "text/plain": [
       "(71631,)"
      ]
     },
     "execution_count": 70,
     "metadata": {},
     "output_type": "execute_result"
    }
   ],
   "source": [
    "cosine_sim_values.shape"
   ]
  },
  {
   "cell_type": "code",
   "execution_count": 71,
   "id": "eacc176e-87ff-4ee0-8938-3cfd6d217352",
   "metadata": {},
   "outputs": [
    {
     "data": {
      "text/plain": [
       "array([0.99999615, 0.99999839, 0.99999455, ..., 0.99999733, 0.        ,\n",
       "       0.        ])"
      ]
     },
     "execution_count": 71,
     "metadata": {},
     "output_type": "execute_result"
    }
   ],
   "source": [
    "cosine_sim_values"
   ]
  },
  {
   "cell_type": "code",
   "execution_count": 72,
   "id": "effddbc1-1fac-49da-b234-06ccb9b356b4",
   "metadata": {},
   "outputs": [],
   "source": [
    "from sklearn.metrics import silhouette_score\n",
    "from sklearn.cluster import KMeans"
   ]
  },
  {
   "cell_type": "code",
   "execution_count": 73,
   "id": "e5150ffd-d078-4292-bc50-8aeca92acae6",
   "metadata": {},
   "outputs": [],
   "source": [
    "cardKmean = KMeans(n_clusters=11, random_state=10,n_init= 50)\n",
    "cardK = cardKmean.fit_predict(vector_array)"
   ]
  },
  {
   "cell_type": "code",
   "execution_count": 74,
   "id": "68aff3f7-a2c7-4a6b-ad85-1b0adab265b0",
   "metadata": {},
   "outputs": [
    {
     "name": "stdout",
     "output_type": "stream",
     "text": [
      "[(5, 164), (0, 74), (3, 57), (10, 40), (6, 17), (7, 11), (8, 8), (9, 4), (2, 2), (4, 1), (1, 1)]\n"
     ]
    }
   ],
   "source": [
    "from collections import Counter\n",
    "counter = Counter(cardK)\n",
    "sorted_counter = sorted(counter.items(), key=lambda x: x[1], reverse=True)\n",
    "print(sorted_counter)"
   ]
  },
  {
   "cell_type": "code",
   "execution_count": 75,
   "id": "fe5ec845-8e2f-43d5-ad09-e1a7b670ce73",
   "metadata": {},
   "outputs": [
    {
     "data": {
      "image/png": "[encoded data removed]",
      "text/plain": [
       "<Figure size 1000x700 with 2 Axes>"
      ]
     },
     "metadata": {},
     "output_type": "display_data"
    }
   ],
   "source": [
    "import numpy as np\n",
    "import matplotlib.pyplot as plt\n",
    "from sklearn.decomposition import PCA\n",
    "from sklearn.manifold import TSNE\n",
    "import seaborn as sns\n",
    "\n",
    "# Assuming cardVect is a numpy array with shape (257, 20)\n",
    "# Apply PCA to reduce to 2D\n",
    "pca = PCA(n_components=2)\n",
    "pca_result = pca.fit_transform(vector_array)\n",
    "\n",
    "plot_data = pca_result\n",
    "\n",
    "# Plot\n",
    "plt.figure(figsize=(10, 7))\n",
    "plt.scatter(plot_data[:, 0], plot_data[:, 1], c=cardK, cmap='viridis', marker='o', s=50)\n",
    "plt.colorbar(label='Cluster')\n",
    "plt.title('K-means Clustering Results')\n",
    "plt.xlabel('Component 1')\n",
    "plt.ylabel('Component 2')\n",
    "plt.show()"
   ]
  },
  {
   "cell_type": "code",
   "execution_count": 53,
   "id": "2a1440e4-64c5-4de3-a313-6b88598b8d78",
   "metadata": {},
   "outputs": [
    {
     "data": {
      "text/plain": [
       "(379, 20)"
      ]
     },
     "execution_count": 53,
     "metadata": {},
     "output_type": "execute_result"
    }
   ],
   "source": [
    "vector_array.shape"
   ]
  },
  {
   "cell_type": "code",
   "execution_count": 33,
   "id": "137ab37b-35a3-4182-a76d-d0ef27be4f0b",
   "metadata": {},
   "outputs": [],
   "source": [
    "cardSvector = dict( zip(vocab, reduced_matrix))"
   ]
  },
  {
   "cell_type": "code",
   "execution_count": 34,
   "id": "0e7aba4c-a131-4f18-882d-6df57417bffa",
   "metadata": {},
   "outputs": [
    {
     "data": {
      "text/plain": [
       "array([ 6.87562712e+00, -4.26829314e-01,  1.90568030e+00,  6.46140812e-03,\n",
       "       -5.23775249e-01,  1.52529028e+00, -3.49290247e-01, -1.41411849e+00,\n",
       "        6.87247894e-02, -9.72976087e-01,  1.26018858e-01,  7.15061625e-02,\n",
       "        3.03267008e-01, -2.23867602e-01,  6.91914570e-01,  1.97284629e-01,\n",
       "       -3.43057799e-01, -7.08824819e-01,  2.14672972e-02,  3.29197918e-01,\n",
       "        1.37386434e-01,  9.50830767e-01, -8.02619775e-02,  1.32312055e-01,\n",
       "        1.31296821e-01, -1.34731352e-02, -1.05500978e-01,  2.46488007e-01,\n",
       "       -3.40203965e-02,  5.25051584e-02, -3.36481183e-01,  1.03244859e-01,\n",
       "        5.75076335e-02, -1.41984700e-01,  8.20575094e-02, -5.08393873e-01,\n",
       "        1.31309953e-01, -4.96572944e-01, -3.70051379e-01,  1.21522271e-02])"
      ]
     },
     "execution_count": 34,
     "metadata": {},
     "output_type": "execute_result"
    }
   ],
   "source": [
    "cardSvector[\"Underhanded Strike\"]"
   ]
  },
  {
   "cell_type": "code",
   "execution_count": 35,
   "id": "bf4ca401-387d-4835-a026-104e0ba01348",
   "metadata": {},
   "outputs": [
    {
     "data": {
      "text/plain": [
       "['matrix_data\\\\cardVecTF_MIX_11k_40dim.joblib']"
      ]
     },
     "execution_count": 35,
     "metadata": {},
     "output_type": "execute_result"
    }
   ],
   "source": [
    "from joblib import dump\n",
    "import os\n",
    "save_path = os.path.join('matrix_data', 'cardVecTF_MIX_11k_40dim.joblib')\n",
    "dump(card_vectors, save_path)"
   ]
  },
  {
   "cell_type": "code",
   "execution_count": null,
   "id": "16fb7ee1-7619-419e-8798-b7d5da861978",
   "metadata": {},
   "outputs": [],
   "source": []
  },
  {
   "cell_type": "code",
   "execution_count": null,
   "id": "d25f02cb-0fbd-4dc4-9116-7641f0465dff",
   "metadata": {},
   "outputs": [],
   "source": []
  }
 ],
 "metadata": {
  "kernelspec": {
   "display_name": "Python 3 (ipykernel)",
   "language": "python",
   "name": "python3"
  },
  "language_info": {
   "codemirror_mode": {
    "name": "ipython",
    "version": 3
   },
   "file_extension": ".py",
   "mimetype": "text/x-python",
   "name": "python",
   "nbconvert_exporter": "python",
   "pygments_lexer": "ipython3",
   "version": "3.9.5"
  }
 },
 "nbformat": 4,
 "nbformat_minor": 5
}
