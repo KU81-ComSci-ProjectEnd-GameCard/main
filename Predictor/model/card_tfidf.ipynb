{
 "cells": [
  {
   "cell_type": "markdown",
   "id": "e63b0438-adbc-40f2-924f-61c919ea305e",
   "metadata": {},
   "source": [
    "load data"
   ]
  },
  {
   "cell_type": "code",
   "execution_count": 1,
   "id": "65467df7-7ef6-4a89-827f-aecde24eabe1",
   "metadata": {},
   "outputs": [],
   "source": [
    "import urllib.request\n",
    "import json\n",
    "import numpy as np\n",
    "import pandas as pd"
   ]
  },
  {
   "cell_type": "code",
   "execution_count": 2,
   "id": "d2aca369-83e9-4b0f-8e37-132dfbe3860a",
   "metadata": {},
   "outputs": [],
   "source": [
    "data_url = 'https://raw.githubusercontent.com/KU81-ComSci-ProjectEnd-GameCard/main/master/Predictor/data/processed_data/quality_run.json'\n",
    "json_data = list()\n",
    "with urllib.request.urlopen(data_url) as url:\n",
    "    run_js = json.loads(url.read().decode())\n",
    "run = pd.DataFrame(run_js)"
   ]
  },
  {
   "cell_type": "code",
   "execution_count": 3,
   "id": "a7abac42-d986-4b35-b2f9-2a3845de698c",
   "metadata": {},
   "outputs": [],
   "source": [
    "decks = run.master_deck.tolist()"
   ]
  },
  {
   "cell_type": "markdown",
   "id": "20546846-822f-41d6-a14e-30af7b02fcea",
   "metadata": {},
   "source": [
    "build lsa model"
   ]
  },
  {
   "cell_type": "code",
   "execution_count": 4,
   "id": "2bc16e27-ae7f-4e9b-a497-cbf4b42a9a30",
   "metadata": {},
   "outputs": [],
   "source": [
    "def upgrade_lst(lst):\n",
    "  new_lst = list()\n",
    "  for item in lst:\n",
    "    if(item != 'Searing Blow'):\n",
    "      new_lst.append(item+'+1')\n",
    "  return new_lst\n",
    "    \n",
    "def get_ALL_CARD():\n",
    "  IC_ATTACK_CARDS = [\"Strike_R\", \"Bash\", \"Anger\", \"Body Slam\", \"Clash\", \"Cleave\", \"Clothesline\", \"Headbutt\", \"Heavy Blade\", \"Iron Wave\", \"Perfected Strike\", \"Pommel Strike\", \"Sword Boomerang\", \"Thunderclap\", \"Twin Strike\", \"Wild Strike\", \"Blood for Blood\", \"Carnage\", \"Dropkick\", \"Hemokinesis\", \"Pummel\", \"Rampage\", \"Reckless Charge\", \"Searing Blow\", \"Sever Soul\", \"Uppercut\", \"Whirlwind\", \"Bludgeon\", \"Feed\", \"Fiend Fire\", \"Immolate\", \"Reaper\"]\n",
    "  IC_SKILL_CARDS = [\"Defend_R\", \"Armaments\", \"Flex\", \"Havoc\", \"Shrug It Off\", \"True Grit\", \"Warcry\", \"Battle Trance\", \"Bloodletting\", \"Burning Pact\", \"Disarm\", \"Dual Wield\", \"Entrench\", \"Flame Barrier\", \"Ghostly Armor\", \"Infernal Blade\", \"Intimidate\", \"Power Through\", \"Rage\", \"Second Wind\", \"Seeing Red\", \"Sentinel\", \"Shockwave\", \"Spot Weakness\", \"Double Tap\", \"Exhume\", \"Impervious\", \"Limit Break\", \"Offering\"]\n",
    "  IC_POWER_CARDS = [\"Combust\", \"Dark Embrace\", \"Evolve\", \"Feel No Pain\", \"Fire Breathing\", \"Inflame\", \"Metallicize\", \"Rupture\", \"Barricade\", \"Berserk\", \"Brutality\", \"Corruption\", \"Demon Form\", \"Juggernaut\"]\n",
    "  IRONCLAD_CARDS = IC_ATTACK_CARDS + IC_SKILL_CARDS + IC_POWER_CARDS\n",
    "\n",
    "  COLORLESS_CARDS = [\"Dramatic Entrance\", \"Flash of Steel\", \"Mind Blast\", \"Swift Strike\", \"HandOfGreed\", \"Bite\", \"Expunger\", \"Ritual Dagger\", \"Shiv\", \"Smite\", \"Through Violence\", \"Bandage Up\", \"Blind\", \"Dark Shackles\", \"Deep Breath\", \"Discovery\", \"Enlightenment\", \"Finesse\", \"Forethought\", \"Good Instincts\", \"Impatience\", \"Jack Of All Trades\", \"Madness\", \"Panacea\", \"PanicButton\", \"Purity\", \"Trip\", \"Apotheosis\", \"Chrysalis\", \"Master of Strategy\", \"Metamorphosis\", \"Secret Technique\", \"Secret Weapon\", \"The Bomb\", \"Thinking Ahead\", \"Transmutation\", \"Violence\", \"Apparition\", \"Beta\", \"Insight\", \"J.A.X.\", \"Miracle\", \"Safety\", \"Magnetism\", \"Mayhem\", \"Panache\", \"Sadistic Nature\", ]\n",
    "\n",
    "  CURSE_CARDS = [\"Ascender s Bane\", \"Clumsy\", \"Curse of the Bell\", \"Decay\", \"Doubt\", \"Injury\", \"Necronomicurse\", \"Normality\", \"Pain\", \"Parasite\", \"Pride\", \"Regret\", \"Shame\", \"Writhe\"]\n",
    "  return IRONCLAD_CARDS + COLORLESS_CARDS + CURSE_CARDS + upgrade_lst(IRONCLAD_CARDS) + upgrade_lst(COLORLESS_CARDS)"
   ]
  },
  {
   "cell_type": "code",
   "execution_count": 5,
   "id": "89ee9c4e-0cb4-493d-a706-05897c7bfe10",
   "metadata": {},
   "outputs": [],
   "source": [
    "vocab = get_ALL_CARD()"
   ]
  },
  {
   "cell_type": "code",
   "execution_count": 6,
   "id": "7b890aa6-be3d-4fdf-8870-6e3c75954808",
   "metadata": {},
   "outputs": [],
   "source": [
    "from sklearn.feature_extraction.text import TfidfVectorizer\n",
    "from sklearn.decomposition import TruncatedSVD"
   ]
  },
  {
   "cell_type": "code",
   "execution_count": 7,
   "id": "f152cd60-d431-40f3-8a1d-21860ada6605",
   "metadata": {},
   "outputs": [
    {
     "name": "stderr",
     "output_type": "stream",
     "text": [
      "c:\\users\\gaming\\appdata\\local\\programs\\python\\python39\\lib\\site-packages\\sklearn\\feature_extraction\\text.py:1375: UserWarning: Upper case characters found in vocabulary while 'lowercase' is True. These entries will not be matched with any documents\n",
      "  warnings.warn(\n"
     ]
    }
   ],
   "source": [
    "def custom_analyzer(doc):\n",
    "    return doc\n",
    "    \n",
    "tfidf_vectorizer = TfidfVectorizer(vocabulary=vocab, analyzer=custom_analyzer)\n",
    "tfidf_matrix = tfidf_vectorizer.fit_transform(decks)"
   ]
  },
  {
   "cell_type": "code",
   "execution_count": 8,
   "id": "200523c0-3b85-4461-85aa-c6cda9d4016f",
   "metadata": {},
   "outputs": [],
   "source": [
    "n_components = 20  # Number of dimensions to reduce to\n",
    "svd = TruncatedSVD(n_components=n_components)\n",
    "reduced_matrix = svd.fit_transform(tfidf_matrix.T)"
   ]
  },
  {
   "cell_type": "code",
   "execution_count": 9,
   "id": "71e4f3df-d12d-4610-a54c-5b13fc060c22",
   "metadata": {},
   "outputs": [
    {
     "name": "stdout",
     "output_type": "stream",
     "text": [
      "[[ 8.74016636e+00 -4.47508518e+00 -2.54973330e+00 ... -4.22828441e-02\n",
      "  -6.47058225e-01  3.48487778e-01]\n",
      " [ 2.28737518e+00 -3.70514218e-01  2.56936987e-01 ...  6.23821507e-03\n",
      "  -4.71010142e-02 -2.13858882e-01]\n",
      " [ 1.44000364e+00 -7.92089229e-02 -4.34628592e-01 ... -5.43844145e-01\n",
      "   1.14855216e-01  2.47321918e-01]\n",
      " ...\n",
      " [ 2.29644837e-01  4.28772863e-02  2.28675083e-02 ... -1.67246963e-02\n",
      "  -6.94517381e-02  2.12562061e-02]\n",
      " [ 7.89971406e-02  2.92644538e-02  3.67902939e-02 ... -4.05144776e-02\n",
      "   1.11681321e-02  1.96593518e-02]\n",
      " [ 2.51901130e-02  5.40553767e-02 -1.64737665e-02 ... -4.07624364e-02\n",
      "  -3.32762747e-03 -6.78829796e-03]]\n"
     ]
    }
   ],
   "source": [
    "print(reduced_matrix)"
   ]
  },
  {
   "cell_type": "code",
   "execution_count": 10,
   "id": "62d3baef-b408-44c5-9fd2-0da01b501c4c",
   "metadata": {},
   "outputs": [
    {
     "name": "stdout",
     "output_type": "stream",
     "text": [
      "[[ 1.          0.78695762  0.51495778 ...  0.57139278  0.46198377\n",
      "   0.00647977]\n",
      " [ 0.78695762  1.          0.65899666 ...  0.78591364  0.57289563\n",
      "  -0.00808456]\n",
      " [ 0.51495778  0.65899666  1.         ...  0.5943299   0.43324398\n",
      "   0.07691922]\n",
      " ...\n",
      " [ 0.57139278  0.78591364  0.5943299  ...  1.          0.66431204\n",
      "   0.20772988]\n",
      " [ 0.46198377  0.57289563  0.43324398 ...  0.66431204  1.\n",
      "   0.28922824]\n",
      " [ 0.00647977 -0.00808456  0.07691922 ...  0.20772988  0.28922824\n",
      "   1.        ]]\n"
     ]
    }
   ],
   "source": [
    "from sklearn.metrics.pairwise import cosine_similarity\n",
    "similarity_matrix = cosine_similarity(reduced_matrix)\n",
    "print(similarity_matrix)"
   ]
  },
  {
   "cell_type": "code",
   "execution_count": 11,
   "id": "baadc0f9-9b5e-4af5-8b08-246f566dad98",
   "metadata": {},
   "outputs": [
    {
     "name": "stdout",
     "output_type": "stream",
     "text": [
      "Occurrence Matrix:\n",
      "                   Strike_R      Bash     Anger  Body Slam     Clash  \\\n",
      "Strike_R           0.000000  0.786958  0.514958   0.410258  0.411205   \n",
      "Bash               0.786958  0.000000  0.658997   0.766546  0.423421   \n",
      "Anger              0.514958  0.658997  0.000000   0.427146  0.639485   \n",
      "Body Slam          0.410258  0.766546  0.427146   0.000000  0.305628   \n",
      "Clash              0.411205  0.423421  0.639485   0.305628  0.000000   \n",
      "...                     ...       ...       ...        ...       ...   \n",
      "Safety+1           0.000000  0.000000  0.000000   0.000000  0.000000   \n",
      "Magnetism+1        0.137258  0.481363  0.131292   0.456048  0.011019   \n",
      "Mayhem+1           0.571393  0.785914  0.594330   0.731957  0.365941   \n",
      "Panache+1          0.461984  0.572896  0.433244   0.529158  0.224499   \n",
      "Sadistic Nature+1  0.006480 -0.008085  0.076919   0.028437 -0.186293   \n",
      "\n",
      "                     Cleave  Clothesline  Headbutt  Heavy Blade  Iron Wave  \\\n",
      "Strike_R           0.621060     0.598697  0.647260     0.509458   0.439742   \n",
      "Bash               0.871039     0.825282  0.814335     0.746101   0.758821   \n",
      "Anger              0.816638     0.792812  0.669853     0.779837   0.532612   \n",
      "Body Slam          0.673577     0.675093  0.653925     0.502110   0.767488   \n",
      "Clash              0.637320     0.473689  0.476667     0.290862   0.479352   \n",
      "...                     ...          ...       ...          ...        ...   \n",
      "Safety+1           0.000000     0.000000  0.000000     0.000000   0.000000   \n",
      "Magnetism+1        0.331558     0.435377  0.266879     0.249711   0.518980   \n",
      "Mayhem+1           0.754442     0.736988  0.776817     0.564011   0.570983   \n",
      "Panache+1          0.420566     0.455890  0.545677     0.295421   0.354154   \n",
      "Sadistic Nature+1 -0.014150     0.127749  0.110205    -0.076538  -0.056039   \n",
      "\n",
      "                   ...  Apparition+1  Beta+1  Insight+1  J.A.X.+1  Miracle+1  \\\n",
      "Strike_R           ...           0.0     0.0        0.0  0.364501        0.0   \n",
      "Bash               ...           0.0     0.0        0.0  0.521896        0.0   \n",
      "Anger              ...           0.0     0.0        0.0  0.497784        0.0   \n",
      "Body Slam          ...           0.0     0.0        0.0  0.351507        0.0   \n",
      "Clash              ...           0.0     0.0        0.0  0.387606        0.0   \n",
      "...                ...           ...     ...        ...       ...        ...   \n",
      "Safety+1           ...           0.0     0.0        0.0  0.000000        0.0   \n",
      "Magnetism+1        ...           0.0     0.0        0.0  0.313658        0.0   \n",
      "Mayhem+1           ...           0.0     0.0        0.0  0.560931        0.0   \n",
      "Panache+1          ...           0.0     0.0        0.0  0.161112        0.0   \n",
      "Sadistic Nature+1  ...           0.0     0.0        0.0  0.004564        0.0   \n",
      "\n",
      "                   Safety+1  Magnetism+1  Mayhem+1  Panache+1  \\\n",
      "Strike_R                0.0     0.137258  0.571393   0.461984   \n",
      "Bash                    0.0     0.481363  0.785914   0.572896   \n",
      "Anger                   0.0     0.131292  0.594330   0.433244   \n",
      "Body Slam               0.0     0.456048  0.731957   0.529158   \n",
      "Clash                   0.0     0.011019  0.365941   0.224499   \n",
      "...                     ...          ...       ...        ...   \n",
      "Safety+1                0.0     0.000000  0.000000   0.000000   \n",
      "Magnetism+1             0.0     0.000000  0.374266   0.342703   \n",
      "Mayhem+1                0.0     0.374266  0.000000   0.664312   \n",
      "Panache+1               0.0     0.342703  0.664312   0.000000   \n",
      "Sadistic Nature+1       0.0    -0.068490  0.207730   0.289228   \n",
      "\n",
      "                   Sadistic Nature+1  \n",
      "Strike_R                    0.006480  \n",
      "Bash                       -0.008085  \n",
      "Anger                       0.076919  \n",
      "Body Slam                   0.028437  \n",
      "Clash                      -0.186293  \n",
      "...                              ...  \n",
      "Safety+1                    0.000000  \n",
      "Magnetism+1                -0.068490  \n",
      "Mayhem+1                    0.207730  \n",
      "Panache+1                   0.289228  \n",
      "Sadistic Nature+1           0.000000  \n",
      "\n",
      "[257 rows x 257 columns]\n"
     ]
    }
   ],
   "source": [
    "\n",
    "df_similarity = pd.DataFrame(similarity_matrix)\n",
    "\n",
    "# Set the index and column names to be the document numbers\n",
    "doc_names = [f\"{vocab[i]}\" for i in range(len(vocab))]\n",
    "df_similarity.index = doc_names\n",
    "df_similarity.columns = doc_names\n",
    "\n",
    "# Create an occurrence matrix based on a similarity threshold\n",
    "similarity_threshold = 0.5  # Adjust this value as needed\n",
    "df_occurrence = df_similarity\n",
    "\n",
    "# Set diagonal values to 0 (a document is not similar to itself in this context)\n",
    "np.fill_diagonal(df_occurrence.values, 0)\n",
    "\n",
    "print(\"Occurrence Matrix:\")\n",
    "print(df_occurrence)"
   ]
  },
  {
   "cell_type": "code",
   "execution_count": 12,
   "id": "2331999a-7fb1-44fc-9dc0-ff8e5e283e77",
   "metadata": {},
   "outputs": [],
   "source": [
    "import nbimporter\n",
    "import save_load_matrix as slm"
   ]
  },
  {
   "cell_type": "code",
   "execution_count": 15,
   "id": "ccec6eb0-e399-4fd9-a801-737ceb11864d",
   "metadata": {},
   "outputs": [],
   "source": [
    "slm.save('reduced_matrix' , 'card.pkl')"
   ]
  },
  {
   "cell_type": "code",
   "execution_count": null,
   "id": "05728d8e-2cdb-4409-b022-00b29ed7735e",
   "metadata": {},
   "outputs": [],
   "source": []
  }
 ],
 "metadata": {
  "kernelspec": {
   "display_name": "Python 3 (ipykernel)",
   "language": "python",
   "name": "python3"
  },
  "language_info": {
   "codemirror_mode": {
    "name": "ipython",
    "version": 3
   },
   "file_extension": ".py",
   "mimetype": "text/x-python",
   "name": "python",
   "nbconvert_exporter": "python",
   "pygments_lexer": "ipython3",
   "version": "3.9.5"
  }
 },
 "nbformat": 4,
 "nbformat_minor": 5
}
