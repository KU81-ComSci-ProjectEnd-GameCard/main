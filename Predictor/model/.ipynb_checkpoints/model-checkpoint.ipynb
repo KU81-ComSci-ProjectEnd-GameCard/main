{
 "cells": [
  {
   "cell_type": "code",
   "execution_count": 1,
   "id": "c64bf4e6-4fa6-4050-bff1-4b4b5a60d89a",
   "metadata": {},
   "outputs": [],
   "source": [
    "import urllib.request\n",
    "import json\n",
    "import numpy as np\n",
    "import pandas as pd\n",
    "from joblib import load\n",
    "from sklearn.feature_extraction.text import TfidfVectorizer\n",
    "from sklearn.decomposition import TruncatedSVD"
   ]
  },
  {
   "cell_type": "code",
   "execution_count": 52,
   "id": "d28db8a0-4f06-4fee-853d-4a936ed6c493",
   "metadata": {},
   "outputs": [],
   "source": [
    "def custom_analyzer(doc):\n",
    "    return doc\n",
    "\n",
    "cardVec = load('matrix_data/cardVecTFfixed_8k_5dim.joblib')\n",
    "deckVecorizer = load('matrix_data/deckVectorizerFixed_8k_30K.joblib')"
   ]
  },
  {
   "cell_type": "code",
   "execution_count": 53,
   "id": "16c4ba2b-4b47-4dc4-beba-4a24289aded5",
   "metadata": {},
   "outputs": [
    {
     "data": {
      "text/html": [
       "<style>#sk-container-id-2 {color: black;}#sk-container-id-2 pre{padding: 0;}#sk-container-id-2 div.sk-toggleable {background-color: white;}#sk-container-id-2 label.sk-toggleable__label {cursor: pointer;display: block;width: 100%;margin-bottom: 0;padding: 0.3em;box-sizing: border-box;text-align: center;}#sk-container-id-2 label.sk-toggleable__label-arrow:before {content: \"▸\";float: left;margin-right: 0.25em;color: #696969;}#sk-container-id-2 label.sk-toggleable__label-arrow:hover:before {color: black;}#sk-container-id-2 div.sk-estimator:hover label.sk-toggleable__label-arrow:before {color: black;}#sk-container-id-2 div.sk-toggleable__content {max-height: 0;max-width: 0;overflow: hidden;text-align: left;background-color: #f0f8ff;}#sk-container-id-2 div.sk-toggleable__content pre {margin: 0.2em;color: black;border-radius: 0.25em;background-color: #f0f8ff;}#sk-container-id-2 input.sk-toggleable__control:checked~div.sk-toggleable__content {max-height: 200px;max-width: 100%;overflow: auto;}#sk-container-id-2 input.sk-toggleable__control:checked~label.sk-toggleable__label-arrow:before {content: \"▾\";}#sk-container-id-2 div.sk-estimator input.sk-toggleable__control:checked~label.sk-toggleable__label {background-color: #d4ebff;}#sk-container-id-2 div.sk-label input.sk-toggleable__control:checked~label.sk-toggleable__label {background-color: #d4ebff;}#sk-container-id-2 input.sk-hidden--visually {border: 0;clip: rect(1px 1px 1px 1px);clip: rect(1px, 1px, 1px, 1px);height: 1px;margin: -1px;overflow: hidden;padding: 0;position: absolute;width: 1px;}#sk-container-id-2 div.sk-estimator {font-family: monospace;background-color: #f0f8ff;border: 1px dotted black;border-radius: 0.25em;box-sizing: border-box;margin-bottom: 0.5em;}#sk-container-id-2 div.sk-estimator:hover {background-color: #d4ebff;}#sk-container-id-2 div.sk-parallel-item::after {content: \"\";width: 100%;border-bottom: 1px solid gray;flex-grow: 1;}#sk-container-id-2 div.sk-label:hover label.sk-toggleable__label {background-color: #d4ebff;}#sk-container-id-2 div.sk-serial::before {content: \"\";position: absolute;border-left: 1px solid gray;box-sizing: border-box;top: 0;bottom: 0;left: 50%;z-index: 0;}#sk-container-id-2 div.sk-serial {display: flex;flex-direction: column;align-items: center;background-color: white;padding-right: 0.2em;padding-left: 0.2em;position: relative;}#sk-container-id-2 div.sk-item {position: relative;z-index: 1;}#sk-container-id-2 div.sk-parallel {display: flex;align-items: stretch;justify-content: center;background-color: white;position: relative;}#sk-container-id-2 div.sk-item::before, #sk-container-id-2 div.sk-parallel-item::before {content: \"\";position: absolute;border-left: 1px solid gray;box-sizing: border-box;top: 0;bottom: 0;left: 50%;z-index: -1;}#sk-container-id-2 div.sk-parallel-item {display: flex;flex-direction: column;z-index: 1;position: relative;background-color: white;}#sk-container-id-2 div.sk-parallel-item:first-child::after {align-self: flex-end;width: 50%;}#sk-container-id-2 div.sk-parallel-item:last-child::after {align-self: flex-start;width: 50%;}#sk-container-id-2 div.sk-parallel-item:only-child::after {width: 0;}#sk-container-id-2 div.sk-dashed-wrapped {border: 1px dashed gray;margin: 0 0.4em 0.5em 0.4em;box-sizing: border-box;padding-bottom: 0.4em;background-color: white;}#sk-container-id-2 div.sk-label label {font-family: monospace;font-weight: bold;display: inline-block;line-height: 1.2em;}#sk-container-id-2 div.sk-label-container {text-align: center;}#sk-container-id-2 div.sk-container {/* jupyter's `normalize.less` sets `[hidden] { display: none; }` but bootstrap.min.css set `[hidden] { display: none !important; }` so we also need the `!important` here to be able to override the default hidden behavior on the sphinx rendered scikit-learn.org. See: https://github.com/scikit-learn/scikit-learn/issues/21755 */display: inline-block !important;position: relative;}#sk-container-id-2 div.sk-text-repr-fallback {display: none;}</style><div id=\"sk-container-id-2\" class=\"sk-top-container\"><div class=\"sk-text-repr-fallback\"><pre>TfidfVectorizer(analyzer=&lt;function custom_analyzer at 0x00000208BD7770D0&gt;,\n",
       "                lowercase=False,\n",
       "                vocabulary=[&#x27;Strike_R&#x27;, &#x27;Bash&#x27;, &#x27;Anger&#x27;, &#x27;Body Slam&#x27;, &#x27;Clash&#x27;,\n",
       "                            &#x27;Cleave&#x27;, &#x27;Clothesline&#x27;, &#x27;Headbutt&#x27;, &#x27;Heavy Blade&#x27;,\n",
       "                            &#x27;Iron Wave&#x27;, &#x27;Perfected Strike&#x27;, &#x27;Pommel Strike&#x27;,\n",
       "                            &#x27;Sword Boomerang&#x27;, &#x27;Thunderclap&#x27;, &#x27;Twin Strike&#x27;,\n",
       "                            &#x27;Wild Strike&#x27;, &#x27;Blood for Blood&#x27;, &#x27;Carnage&#x27;,\n",
       "                            &#x27;Dropkick&#x27;, &#x27;Hemokinesis&#x27;, &#x27;Pummel&#x27;, &#x27;Rampage&#x27;,\n",
       "                            &#x27;Reckless Charge&#x27;, &#x27;Searing Blow&#x27;, &#x27;Sever Soul&#x27;,\n",
       "                            &#x27;Uppercut&#x27;, &#x27;Whirlwind&#x27;, &#x27;Bludgeon&#x27;, &#x27;Feed&#x27;,\n",
       "                            &#x27;Fiend Fire&#x27;, ...])</pre><b>In a Jupyter environment, please rerun this cell to show the HTML representation or trust the notebook. <br />On GitHub, the HTML representation is unable to render, please try loading this page with nbviewer.org.</b></div><div class=\"sk-container\" hidden><div class=\"sk-item\"><div class=\"sk-estimator sk-toggleable\"><input class=\"sk-toggleable__control sk-hidden--visually\" id=\"sk-estimator-id-2\" type=\"checkbox\" checked><label for=\"sk-estimator-id-2\" class=\"sk-toggleable__label sk-toggleable__label-arrow\">TfidfVectorizer</label><div class=\"sk-toggleable__content\"><pre>TfidfVectorizer(analyzer=&lt;function custom_analyzer at 0x00000208BD7770D0&gt;,\n",
       "                lowercase=False,\n",
       "                vocabulary=[&#x27;Strike_R&#x27;, &#x27;Bash&#x27;, &#x27;Anger&#x27;, &#x27;Body Slam&#x27;, &#x27;Clash&#x27;,\n",
       "                            &#x27;Cleave&#x27;, &#x27;Clothesline&#x27;, &#x27;Headbutt&#x27;, &#x27;Heavy Blade&#x27;,\n",
       "                            &#x27;Iron Wave&#x27;, &#x27;Perfected Strike&#x27;, &#x27;Pommel Strike&#x27;,\n",
       "                            &#x27;Sword Boomerang&#x27;, &#x27;Thunderclap&#x27;, &#x27;Twin Strike&#x27;,\n",
       "                            &#x27;Wild Strike&#x27;, &#x27;Blood for Blood&#x27;, &#x27;Carnage&#x27;,\n",
       "                            &#x27;Dropkick&#x27;, &#x27;Hemokinesis&#x27;, &#x27;Pummel&#x27;, &#x27;Rampage&#x27;,\n",
       "                            &#x27;Reckless Charge&#x27;, &#x27;Searing Blow&#x27;, &#x27;Sever Soul&#x27;,\n",
       "                            &#x27;Uppercut&#x27;, &#x27;Whirlwind&#x27;, &#x27;Bludgeon&#x27;, &#x27;Feed&#x27;,\n",
       "                            &#x27;Fiend Fire&#x27;, ...])</pre></div></div></div></div></div>"
      ],
      "text/plain": [
       "TfidfVectorizer(analyzer=<function custom_analyzer at 0x00000208BD7770D0>,\n",
       "                lowercase=False,\n",
       "                vocabulary=['Strike_R', 'Bash', 'Anger', 'Body Slam', 'Clash',\n",
       "                            'Cleave', 'Clothesline', 'Headbutt', 'Heavy Blade',\n",
       "                            'Iron Wave', 'Perfected Strike', 'Pommel Strike',\n",
       "                            'Sword Boomerang', 'Thunderclap', 'Twin Strike',\n",
       "                            'Wild Strike', 'Blood for Blood', 'Carnage',\n",
       "                            'Dropkick', 'Hemokinesis', 'Pummel', 'Rampage',\n",
       "                            'Reckless Charge', 'Searing Blow', 'Sever Soul',\n",
       "                            'Uppercut', 'Whirlwind', 'Bludgeon', 'Feed',\n",
       "                            'Fiend Fire', ...])"
      ]
     },
     "execution_count": 53,
     "metadata": {},
     "output_type": "execute_result"
    }
   ],
   "source": [
    "deckVecorizer"
   ]
  },
  {
   "cell_type": "code",
   "execution_count": 4,
   "id": "656efa3f-6d9e-411e-aae4-bc00f2a573c6",
   "metadata": {},
   "outputs": [],
   "source": [
    "data_url = 'https://raw.githubusercontent.com/KU81-ComSci-ProjectEnd-GameCard/main/master/Predictor/data/processed_data/picked_8k_30k.json'\n",
    "with urllib.request.urlopen(data_url) as url:\n",
    "    pick_js = json.loads(url.read().decode())\n",
    "pick = pd.DataFrame(pick_js)"
   ]
  },
  {
   "cell_type": "code",
   "execution_count": 54,
   "id": "18783d2a-e9c9-489e-b4fc-72969c062b42",
   "metadata": {},
   "outputs": [
    {
     "data": {
      "text/html": [
       "<div>\n",
       "<style scoped>\n",
       "    .dataframe tbody tr th:only-of-type {\n",
       "        vertical-align: middle;\n",
       "    }\n",
       "\n",
       "    .dataframe tbody tr th {\n",
       "        vertical-align: top;\n",
       "    }\n",
       "\n",
       "    .dataframe thead th {\n",
       "        text-align: right;\n",
       "    }\n",
       "</style>\n",
       "<table border=\"1\" class=\"dataframe\">\n",
       "  <thead>\n",
       "    <tr style=\"text-align: right;\">\n",
       "      <th></th>\n",
       "      <th>deck</th>\n",
       "      <th>picked</th>\n",
       "    </tr>\n",
       "  </thead>\n",
       "  <tbody>\n",
       "    <tr>\n",
       "      <th>0</th>\n",
       "      <td>[Strike_R, Strike_R, Strike_R, Strike_R, Strik...</td>\n",
       "      <td>Bludgeon</td>\n",
       "    </tr>\n",
       "    <tr>\n",
       "      <th>1</th>\n",
       "      <td>[Strike_R, Strike_R, Strike_R, Strike_R, Strik...</td>\n",
       "      <td>Flex</td>\n",
       "    </tr>\n",
       "    <tr>\n",
       "      <th>2</th>\n",
       "      <td>[Strike_R, Strike_R, Strike_R, Strike_R, Strik...</td>\n",
       "      <td>Anger</td>\n",
       "    </tr>\n",
       "    <tr>\n",
       "      <th>3</th>\n",
       "      <td>[Strike_R, Strike_R, Strike_R, Strike_R, Strik...</td>\n",
       "      <td>Reckless Charge</td>\n",
       "    </tr>\n",
       "    <tr>\n",
       "      <th>4</th>\n",
       "      <td>[Strike_R, Strike_R, Strike_R, Strike_R, Strik...</td>\n",
       "      <td>Flex</td>\n",
       "    </tr>\n",
       "    <tr>\n",
       "      <th>...</th>\n",
       "      <td>...</td>\n",
       "      <td>...</td>\n",
       "    </tr>\n",
       "    <tr>\n",
       "      <th>30225</th>\n",
       "      <td>[Strike_R+1, Strike_R+1, Strike_R+1, Strike_R+...</td>\n",
       "      <td>Shrug It Off+1</td>\n",
       "    </tr>\n",
       "    <tr>\n",
       "      <th>30226</th>\n",
       "      <td>[Strike_R+1, Strike_R+1, Strike_R+1, Strike_R+...</td>\n",
       "      <td>Headbutt+1</td>\n",
       "    </tr>\n",
       "    <tr>\n",
       "      <th>30227</th>\n",
       "      <td>[Strike_R+1, Strike_R+1, Strike_R+1, Strike_R+...</td>\n",
       "      <td>Shockwave+1</td>\n",
       "    </tr>\n",
       "    <tr>\n",
       "      <th>30228</th>\n",
       "      <td>[Strike_R+1, Strike_R+1, Strike_R+1, Strike_R+...</td>\n",
       "      <td>Clothesline</td>\n",
       "    </tr>\n",
       "    <tr>\n",
       "      <th>30229</th>\n",
       "      <td>[Strike_R+1, Strike_R+1, Strike_R+1, Strike_R+...</td>\n",
       "      <td>Burning Pact+1</td>\n",
       "    </tr>\n",
       "  </tbody>\n",
       "</table>\n",
       "<p>30230 rows × 2 columns</p>\n",
       "</div>"
      ],
      "text/plain": [
       "                                                    deck           picked\n",
       "0      [Strike_R, Strike_R, Strike_R, Strike_R, Strik...         Bludgeon\n",
       "1      [Strike_R, Strike_R, Strike_R, Strike_R, Strik...             Flex\n",
       "2      [Strike_R, Strike_R, Strike_R, Strike_R, Strik...            Anger\n",
       "3      [Strike_R, Strike_R, Strike_R, Strike_R, Strik...  Reckless Charge\n",
       "4      [Strike_R, Strike_R, Strike_R, Strike_R, Strik...             Flex\n",
       "...                                                  ...              ...\n",
       "30225  [Strike_R+1, Strike_R+1, Strike_R+1, Strike_R+...   Shrug It Off+1\n",
       "30226  [Strike_R+1, Strike_R+1, Strike_R+1, Strike_R+...       Headbutt+1\n",
       "30227  [Strike_R+1, Strike_R+1, Strike_R+1, Strike_R+...      Shockwave+1\n",
       "30228  [Strike_R+1, Strike_R+1, Strike_R+1, Strike_R+...      Clothesline\n",
       "30229  [Strike_R+1, Strike_R+1, Strike_R+1, Strike_R+...   Burning Pact+1\n",
       "\n",
       "[30230 rows x 2 columns]"
      ]
     },
     "execution_count": 54,
     "metadata": {},
     "output_type": "execute_result"
    }
   ],
   "source": [
    "pick"
   ]
  },
  {
   "cell_type": "code",
   "execution_count": 55,
   "id": "7f28b07f-8e9f-4c58-8c18-2a116fcb3176",
   "metadata": {},
   "outputs": [
    {
     "data": {
      "text/plain": [
       "['Strike_R',\n",
       " 'Strike_R',\n",
       " 'Strike_R',\n",
       " 'Strike_R',\n",
       " 'Strike_R',\n",
       " 'Defend_R',\n",
       " 'Defend_R',\n",
       " 'Defend_R',\n",
       " 'Defend_R',\n",
       " 'Bash']"
      ]
     },
     "execution_count": 55,
     "metadata": {},
     "output_type": "execute_result"
    }
   ],
   "source": [
    "pick.deck[0]"
   ]
  },
  {
   "cell_type": "markdown",
   "id": "3affae2c-fc44-438d-ad9f-e44120a1442c",
   "metadata": {},
   "source": [
    "kerass"
   ]
  },
  {
   "cell_type": "code",
   "execution_count": 56,
   "id": "5baa4a0a-e796-49e2-8a10-457d649827bc",
   "metadata": {},
   "outputs": [],
   "source": [
    "import numpy as np\n",
    "from tensorflow.keras.models import Sequential\n",
    "from tensorflow.keras.layers import Dense\n",
    "from sklearn.model_selection import train_test_split\n",
    "from sklearn.preprocessing import StandardScaler\n",
    "from tensorflow.keras.callbacks import Callback\n",
    "from tensorflow.keras.layers import Dense, Input, Dropout, BatchNormalization\n",
    "from tensorflow.keras.regularizers import l2\n",
    "import keras"
   ]
  },
  {
   "cell_type": "code",
   "execution_count": 57,
   "id": "d56dcb27-a234-4e3b-a33d-43545924853c",
   "metadata": {},
   "outputs": [],
   "source": [
    "keras.utils.set_random_seed(812)"
   ]
  },
  {
   "cell_type": "code",
   "execution_count": 58,
   "id": "50306672-8d79-4ea0-add9-88383e54d68e",
   "metadata": {},
   "outputs": [],
   "source": [
    "X = deckVecorizer.fit_transform(pick.deck.tolist())\n",
    "X = X.toarray()\n",
    "y = [cardVec[picked] for picked in pick.picked ]\n",
    "y_card = pick.picked \n",
    "\n",
    "X = np.array(X, dtype=np.float32)\n",
    "y = np.array(y, dtype=np.float32)\n",
    "y_card = np.array(y_card, dtype= str)\n",
    "\n",
    "# Split data into training and testing sets\n",
    "X_train, X_test, y_train, y_test, yC_train,yC_test = train_test_split(X, y,y_card, test_size=0.2,  shuffle=True)\n",
    "\n",
    "X_train, X_val, y_train, y_val = train_test_split(X_train,y_train, test_size=0.2, shuffle=True)"
   ]
  },
  {
   "cell_type": "code",
   "execution_count": 59,
   "id": "690cb100-7a4b-4560-bc0f-11319a407586",
   "metadata": {},
   "outputs": [
    {
     "data": {
      "text/plain": [
       "(30230, 235)"
      ]
     },
     "execution_count": 59,
     "metadata": {},
     "output_type": "execute_result"
    }
   ],
   "source": [
    "X.shape"
   ]
  },
  {
   "cell_type": "code",
   "execution_count": 60,
   "id": "08e00da1-705f-4119-8b22-84341b96079e",
   "metadata": {},
   "outputs": [
    {
     "data": {
      "text/plain": [
       "(30230, 5)"
      ]
     },
     "execution_count": 60,
     "metadata": {},
     "output_type": "execute_result"
    }
   ],
   "source": [
    "y.shape"
   ]
  },
  {
   "cell_type": "code",
   "execution_count": 61,
   "id": "c779364b-c182-4e49-99de-82c00fb1a3b3",
   "metadata": {},
   "outputs": [],
   "source": [
    "# Standardize the data\n",
    "### scaler = StandardScaler()\n",
    "## X_train = scaler.fit_transform(X_train)\n",
    "## X_test = scaler.transform(X_test)"
   ]
  },
  {
   "cell_type": "code",
   "execution_count": 62,
   "id": "045093db-5e09-4062-8931-2fafd097aa98",
   "metadata": {},
   "outputs": [],
   "source": [
    "import tensorflow as tf\n",
    "from tensorflow.keras.optimizers import Adam\n",
    "def cosine_similarity_loss(y_true, y_pred):\n",
    "    # Compute the dot product between y_true and y_pred\n",
    "    dot_product = tf.reduce_sum(tf.multiply(y_true, y_pred), axis=-1)\n",
    "    \n",
    "    # Compute the norm of y_true and y_pred\n",
    "    norm_y_true = tf.sqrt(tf.reduce_sum(tf.square(y_true), axis=-1))\n",
    "    norm_y_pred = tf.sqrt(tf.reduce_sum(tf.square(y_pred), axis=-1))\n",
    "    \n",
    "    # Compute cosine similarity\n",
    "    cosine_similarity = dot_product / (norm_y_true * norm_y_pred + tf.keras.backend.epsilon())\n",
    "    \n",
    "    # Cosine similarity ranges from -1 to 1, so we convert it to a loss value by subtracting from 1\n",
    "    return 1 - cosine_similarity"
   ]
  },
  {
   "cell_type": "code",
   "execution_count": 63,
   "id": "4ec821e0-ea9c-48e6-a616-a3b9545ce91a",
   "metadata": {},
   "outputs": [],
   "source": [
    "def cosine_similarity(vector1, vector2):\n",
    "    dot_product = np.dot(vector1, vector2)\n",
    "    norm1 = np.linalg.norm(vector1)\n",
    "    norm2 = np.linalg.norm(vector2)\n",
    "    if norm1 == 0 or norm2 == 0:\n",
    "        return 0.0\n",
    "    similarity = dot_product / (norm1 * norm2)\n",
    "    return similarity"
   ]
  },
  {
   "cell_type": "code",
   "execution_count": 65,
   "id": "845347e9-ca0d-4176-8bad-32221a72148a",
   "metadata": {},
   "outputs": [],
   "source": [
    "model = Sequential([\n",
    "    Input(shape=(235,)),# Define the input shape\n",
    "    \n",
    "    Dense(128, activation='relu',kernel_regularizer=l2(0.001) ),     \n",
    "    BatchNormalization(), \n",
    "    Dropout(0.3),\n",
    "    \n",
    "    Dense(64, activation='relu',kernel_regularizer=l2(0.001) ),      \n",
    "    BatchNormalization(), \n",
    "    Dropout(0.3),\n",
    "    \n",
    "    Dense(32, activation='relu',kernel_regularizer=l2(0.001) ), \n",
    "    BatchNormalization(), \n",
    "    Dropout(0.3),\n",
    "    \n",
    "    Dense(5)           \n",
    "])\n",
    "# Compile the model\n",
    "optimizer = Adam(learning_rate=0.001)\n",
    "model.compile(optimizer=optimizer, loss= cosine_similarity_loss, metrics=['cosine_similarity']) "
   ]
  },
  {
   "cell_type": "code",
   "execution_count": 66,
   "id": "67b8577e-ef92-496a-98c3-7ae195c833e6",
   "metadata": {},
   "outputs": [],
   "source": [
    "class PrintLossEveryTenEpochs(Callback):\n",
    "    def on_epoch_end(self, epoch, logs=None):\n",
    "        if (epoch + 1) % 1 == 0:\n",
    "            print(f'Epoch {epoch + 1}, Loss: {logs[\"loss\"]:.4f}, ValidLoss: {logs[\"val_loss\"]:.4f}')"
   ]
  },
  {
   "cell_type": "code",
   "execution_count": 67,
   "id": "25afb926-87dd-4663-9eba-857f280f4e36",
   "metadata": {},
   "outputs": [
    {
     "name": "stdout",
     "output_type": "stream",
     "text": [
      "Epoch 1/5\n",
      "\u001b[1m1210/1210\u001b[0m \u001b[32m━━━━━━━━━━━━━━━━━━━━\u001b[0m\u001b[37m\u001b[0m \u001b[1m4s\u001b[0m 2ms/step - cosine_similarity: 0.3757 - loss: 0.8660 - val_cosine_similarity: 0.7108 - val_loss: 0.4684\n",
      "Epoch 2/5\n",
      "\u001b[1m1210/1210\u001b[0m \u001b[32m━━━━━━━━━━━━━━━━━━━━\u001b[0m\u001b[37m\u001b[0m \u001b[1m2s\u001b[0m 1ms/step - cosine_similarity: 0.7105 - loss: 0.4452 - val_cosine_similarity: 0.7139 - val_loss: 0.3786\n",
      "Epoch 3/5\n",
      "\u001b[1m1210/1210\u001b[0m \u001b[32m━━━━━━━━━━━━━━━━━━━━\u001b[0m\u001b[37m\u001b[0m \u001b[1m2s\u001b[0m 1ms/step - cosine_similarity: 0.7158 - loss: 0.3614 - val_cosine_similarity: 0.7147 - val_loss: 0.3276\n",
      "Epoch 4/5\n",
      "\u001b[1m1210/1210\u001b[0m \u001b[32m━━━━━━━━━━━━━━━━━━━━\u001b[0m\u001b[37m\u001b[0m \u001b[1m2s\u001b[0m 1ms/step - cosine_similarity: 0.7161 - loss: 0.3195 - val_cosine_similarity: 0.7124 - val_loss: 0.3091\n",
      "Epoch 5/5\n",
      "\u001b[1m1210/1210\u001b[0m \u001b[32m━━━━━━━━━━━━━━━━━━━━\u001b[0m\u001b[37m\u001b[0m \u001b[1m2s\u001b[0m 1ms/step - cosine_similarity: 0.7174 - loss: 0.3017 - val_cosine_similarity: 0.7128 - val_loss: 0.3017\n"
     ]
    }
   ],
   "source": [
    "# Train the model\n",
    "history = model.fit(X_train, y_train, epochs=5, batch_size=16,validation_data=[X_val,y_val],)"
   ]
  },
  {
   "cell_type": "code",
   "execution_count": 68,
   "id": "53f312eb-ee66-428c-8dea-ec53e098c30d",
   "metadata": {},
   "outputs": [
    {
     "data": {
      "image/png": "[encoded data removed]",
      "text/plain": [
       "<Figure size 640x480 with 1 Axes>"
      ]
     },
     "metadata": {},
     "output_type": "display_data"
    }
   ],
   "source": [
    "import matplotlib.pyplot as plt\n",
    "\n",
    "# Plot training & validation loss values\n",
    "plt.plot(history.history['loss'], label='Training Loss')\n",
    "plt.plot(history.history['val_loss'], label='Validation Loss')\n",
    "plt.title('Model Loss')\n",
    "plt.xlabel('Epoch')\n",
    "plt.ylabel('Loss')\n",
    "plt.legend(loc='upper right')\n",
    "\n",
    "plt.show()"
   ]
  },
  {
   "cell_type": "code",
   "execution_count": 69,
   "id": "0f350527-70c3-414d-9c0d-feb0dc5112ff",
   "metadata": {},
   "outputs": [
    {
     "data": {
      "image/png": "[encoded data removed]",
      "text/plain": [
       "<Figure size 640x480 with 1 Axes>"
      ]
     },
     "metadata": {},
     "output_type": "display_data"
    }
   ],
   "source": [
    "# Extract values for custom metric\n",
    "cosine_similarity_values = history.history['cosine_similarity']\n",
    "val_cosine_similarity_values = history.history.get('val_cosine_similarity', [])\n",
    "\n",
    "# Extract values for loss and validation loss if needed\n",
    "loss_values = history.history['loss']\n",
    "val_loss_values = history.history.get('val_loss', [])\n",
    "\n",
    "plt.plot(cosine_similarity_values, label='Cosine Similarity (Train)')\n",
    "if val_cosine_similarity_values:\n",
    "    plt.plot(val_cosine_similarity_values, label='Cosine Similarity (Validation)', linestyle='--')\n",
    "plt.xlabel('Epoch')\n",
    "plt.ylabel('Cosine Similarity')\n",
    "plt.title('Cosine Similarity over Epochs')\n",
    "plt.legend()\n",
    "plt.show()"
   ]
  },
  {
   "cell_type": "code",
   "execution_count": 70,
   "id": "4edc4b0e-7bda-4b0a-a40a-8301ba26e87f",
   "metadata": {},
   "outputs": [
    {
     "name": "stdout",
     "output_type": "stream",
     "text": [
      "\u001b[1m189/189\u001b[0m \u001b[32m━━━━━━━━━━━━━━━━━━━━\u001b[0m\u001b[37m\u001b[0m \u001b[1m0s\u001b[0m 676us/step - cosine_similarity: 0.7142 - loss: 0.3001\n",
      "Test Loss: 0.2986\n",
      "\u001b[1m189/189\u001b[0m \u001b[32m━━━━━━━━━━━━━━━━━━━━\u001b[0m\u001b[37m\u001b[0m \u001b[1m0s\u001b[0m 1ms/step\n"
     ]
    }
   ],
   "source": [
    "\n",
    "# Evaluate the model on the test set\n",
    "loss = model.evaluate(X_test, y_test, verbose=1)\n",
    "\n",
    "# If loss is a list, print the first element as the test loss\n",
    "print(f'Test Loss: {loss[0]:.4f}' if isinstance(loss, list) else f'Test Loss: {loss:.4f}')\n",
    "\n",
    "# Make predictions (optional)\n",
    "predictions = model.predict(X_test)\n",
    "simility_test = list()\n",
    "for pred, pick_card in zip(predictions , yC_test):\n",
    "    simility_test.append(cosine_similarity(pred, cardVec[pick_card]))"
   ]
  },
  {
   "cell_type": "code",
   "execution_count": 71,
   "id": "417dacd1-3706-4da0-9ce1-1253295bf076",
   "metadata": {},
   "outputs": [],
   "source": [
    "mt = pd.DataFrame()"
   ]
  },
  {
   "cell_type": "code",
   "execution_count": 72,
   "id": "2f229c6e-c4de-4c77-8edb-eb60265bbdd5",
   "metadata": {
    "scrolled": true
   },
   "outputs": [
    {
     "data": {
      "text/plain": [
       "count    6046.000000\n",
       "mean        0.715687\n",
       "std         0.235501\n",
       "min        -0.338115\n",
       "25%         0.588274\n",
       "50%         0.785094\n",
       "75%         0.894677\n",
       "max         0.999718\n",
       "Name: similate, dtype: float64"
      ]
     },
     "execution_count": 72,
     "metadata": {},
     "output_type": "execute_result"
    }
   ],
   "source": [
    "mt['similate'] = simility_test\n",
    "mt.similate.describe()"
   ]
  },
  {
   "cell_type": "code",
   "execution_count": 80,
   "id": "408230ef-7270-4841-8dc0-7dcfb732bcac",
   "metadata": {},
   "outputs": [],
   "source": [
    "from sklearn.linear_model import LinearRegression"
   ]
  },
  {
   "cell_type": "code",
   "execution_count": null,
   "id": "52d9ed95-3b3b-47c7-ba4d-60023e963539",
   "metadata": {},
   "outputs": [],
   "source": []
  },
  {
   "cell_type": "code",
   "execution_count": null,
   "id": "d4067085-fe68-4692-ac3a-bb010e4a3bdc",
   "metadata": {},
   "outputs": [],
   "source": []
  },
  {
   "cell_type": "code",
   "execution_count": null,
   "id": "38977b00-7f37-4ee6-ac1e-25225592b522",
   "metadata": {},
   "outputs": [],
   "source": []
  }
 ],
 "metadata": {
  "kernelspec": {
   "display_name": "Python 3 (ipykernel)",
   "language": "python",
   "name": "python3"
  },
  "language_info": {
   "codemirror_mode": {
    "name": "ipython",
    "version": 3
   },
   "file_extension": ".py",
   "mimetype": "text/x-python",
   "name": "python",
   "nbconvert_exporter": "python",
   "pygments_lexer": "ipython3",
   "version": "3.9.5"
  }
 },
 "nbformat": 4,
 "nbformat_minor": 5
}
