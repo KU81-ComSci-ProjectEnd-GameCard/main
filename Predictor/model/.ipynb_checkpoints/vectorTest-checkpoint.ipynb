{
 "cells": [
  {
   "cell_type": "code",
   "execution_count": 2,
   "id": "19341070-8224-49a3-8760-65c0240c6fb3",
   "metadata": {},
   "outputs": [],
   "source": [
    "from sklearn.metrics import silhouette_score\n",
    "from sklearn.cluster import KMeans\n",
    "import matplotlib.pyplot as plt\n",
    "import urllib.request\n",
    "import json\n",
    "import numpy as np\n",
    "import pandas as pd\n",
    "from joblib import load\n",
    "from sklearn.feature_extraction.text import TfidfVectorizer\n",
    "from sklearn.decomposition import TruncatedSVD"
   ]
  },
  {
   "cell_type": "code",
   "execution_count": 9,
   "id": "4f722ffc-d54e-4c75-a635-d212069a6615",
   "metadata": {},
   "outputs": [],
   "source": [
    "def custom_analyzer(doc):\n",
    "    return doc\n",
    "\n",
    "cardVec = load('matrix_data/cardVecTF_8k_20dim.joblib')\n",
    "deckVecorizer = load('matrix_data/deckVectorizer_8k_30K.joblib')"
   ]
  },
  {
   "cell_type": "code",
   "execution_count": 4,
   "id": "2cc26cb0-3f18-46a3-bdef-a30c209f4f9f",
   "metadata": {},
   "outputs": [],
   "source": [
    "data_url = 'https://raw.githubusercontent.com/KU81-ComSci-ProjectEnd-GameCard/main/master/Predictor/data/processed_data/picked_8k_30k.json'\n",
    "with urllib.request.urlopen(data_url) as url:\n",
    "    pick_js = json.loads(url.read().decode())\n",
    "pick = pd.DataFrame(pick_js)"
   ]
  },
  {
   "cell_type": "code",
   "execution_count": 10,
   "id": "d7d6d9c0-caef-4aa7-a8ab-7ba22e126c6e",
   "metadata": {},
   "outputs": [],
   "source": [
    "deckVec = deckVecorizer.fit_transform(pick.deck.tolist())\n",
    "deckVec = deckVec.toarray()"
   ]
  },
  {
   "cell_type": "code",
   "execution_count": 11,
   "id": "8706ade6-1248-42a0-a822-23008c4937fd",
   "metadata": {},
   "outputs": [],
   "source": [
    "cardVect = list(cardVec.values() )"
   ]
  },
  {
   "cell_type": "markdown",
   "id": "6495e3be-5571-4ff4-aa7b-da3b56b75562",
   "metadata": {},
   "source": [
    "work"
   ]
  },
  {
   "cell_type": "code",
   "execution_count": 12,
   "id": "2fece263-7024-47a4-9002-4613cfefd554",
   "metadata": {},
   "outputs": [
    {
     "data": {
      "text/html": [
       "<div>\n",
       "<style scoped>\n",
       "    .dataframe tbody tr th:only-of-type {\n",
       "        vertical-align: middle;\n",
       "    }\n",
       "\n",
       "    .dataframe tbody tr th {\n",
       "        vertical-align: top;\n",
       "    }\n",
       "\n",
       "    .dataframe thead th {\n",
       "        text-align: right;\n",
       "    }\n",
       "</style>\n",
       "<table border=\"1\" class=\"dataframe\">\n",
       "  <thead>\n",
       "    <tr style=\"text-align: right;\">\n",
       "      <th></th>\n",
       "      <th>deck</th>\n",
       "      <th>picked</th>\n",
       "    </tr>\n",
       "  </thead>\n",
       "  <tbody>\n",
       "    <tr>\n",
       "      <th>0</th>\n",
       "      <td>[Strike_R, Strike_R, Strike_R, Strike_R, Strik...</td>\n",
       "      <td>Bludgeon</td>\n",
       "    </tr>\n",
       "    <tr>\n",
       "      <th>1</th>\n",
       "      <td>[Strike_R, Strike_R, Strike_R, Strike_R, Strik...</td>\n",
       "      <td>Flex</td>\n",
       "    </tr>\n",
       "    <tr>\n",
       "      <th>2</th>\n",
       "      <td>[Strike_R, Strike_R, Strike_R, Strike_R, Strik...</td>\n",
       "      <td>Anger</td>\n",
       "    </tr>\n",
       "    <tr>\n",
       "      <th>3</th>\n",
       "      <td>[Strike_R, Strike_R, Strike_R, Strike_R, Strik...</td>\n",
       "      <td>Reckless Charge</td>\n",
       "    </tr>\n",
       "    <tr>\n",
       "      <th>4</th>\n",
       "      <td>[Strike_R, Strike_R, Strike_R, Strike_R, Strik...</td>\n",
       "      <td>Flex</td>\n",
       "    </tr>\n",
       "    <tr>\n",
       "      <th>...</th>\n",
       "      <td>...</td>\n",
       "      <td>...</td>\n",
       "    </tr>\n",
       "    <tr>\n",
       "      <th>30225</th>\n",
       "      <td>[Strike_R+1, Strike_R+1, Strike_R+1, Strike_R+...</td>\n",
       "      <td>Shrug It Off+1</td>\n",
       "    </tr>\n",
       "    <tr>\n",
       "      <th>30226</th>\n",
       "      <td>[Strike_R+1, Strike_R+1, Strike_R+1, Strike_R+...</td>\n",
       "      <td>Headbutt+1</td>\n",
       "    </tr>\n",
       "    <tr>\n",
       "      <th>30227</th>\n",
       "      <td>[Strike_R+1, Strike_R+1, Strike_R+1, Strike_R+...</td>\n",
       "      <td>Shockwave+1</td>\n",
       "    </tr>\n",
       "    <tr>\n",
       "      <th>30228</th>\n",
       "      <td>[Strike_R+1, Strike_R+1, Strike_R+1, Strike_R+...</td>\n",
       "      <td>Clothesline</td>\n",
       "    </tr>\n",
       "    <tr>\n",
       "      <th>30229</th>\n",
       "      <td>[Strike_R+1, Strike_R+1, Strike_R+1, Strike_R+...</td>\n",
       "      <td>Burning Pact+1</td>\n",
       "    </tr>\n",
       "  </tbody>\n",
       "</table>\n",
       "<p>30230 rows × 2 columns</p>\n",
       "</div>"
      ],
      "text/plain": [
       "                                                    deck           picked\n",
       "0      [Strike_R, Strike_R, Strike_R, Strike_R, Strik...         Bludgeon\n",
       "1      [Strike_R, Strike_R, Strike_R, Strike_R, Strik...             Flex\n",
       "2      [Strike_R, Strike_R, Strike_R, Strike_R, Strik...            Anger\n",
       "3      [Strike_R, Strike_R, Strike_R, Strike_R, Strik...  Reckless Charge\n",
       "4      [Strike_R, Strike_R, Strike_R, Strike_R, Strik...             Flex\n",
       "...                                                  ...              ...\n",
       "30225  [Strike_R+1, Strike_R+1, Strike_R+1, Strike_R+...   Shrug It Off+1\n",
       "30226  [Strike_R+1, Strike_R+1, Strike_R+1, Strike_R+...       Headbutt+1\n",
       "30227  [Strike_R+1, Strike_R+1, Strike_R+1, Strike_R+...      Shockwave+1\n",
       "30228  [Strike_R+1, Strike_R+1, Strike_R+1, Strike_R+...      Clothesline\n",
       "30229  [Strike_R+1, Strike_R+1, Strike_R+1, Strike_R+...   Burning Pact+1\n",
       "\n",
       "[30230 rows x 2 columns]"
      ]
     },
     "execution_count": 12,
     "metadata": {},
     "output_type": "execute_result"
    }
   ],
   "source": [
    "pick"
   ]
  },
  {
   "cell_type": "code",
   "execution_count": 14,
   "id": "1826bdac-84b5-4bd5-9c8c-5c6091be16c2",
   "metadata": {},
   "outputs": [],
   "source": [
    "kmeans = KMeans(n_clusters=10, random_state=0,n_init= 10)\n",
    "pre_pick = pick\n",
    "deckG = kmeans.fit_predict(deckVec)\n",
    "pre_pick['deck_group'] = deckG"
   ]
  },
  {
   "cell_type": "code",
   "execution_count": 18,
   "id": "d0087b5c-b8a5-4222-8447-f1044588e968",
   "metadata": {},
   "outputs": [
    {
     "name": "stdout",
     "output_type": "stream",
     "text": [
      "[(4, 6576), (6, 5350), (2, 4390), (0, 3802), (5, 2132), (7, 1889), (8, 1661), (1, 1597), (3, 1437), (9, 1396)]\n"
     ]
    }
   ],
   "source": [
    "from collections import Counter\n",
    "counter = Counter(deckG)\n",
    "sorted_counter = sorted(counter.items(), key=lambda x: x[1], reverse=True)\n",
    "print(sorted_counter)"
   ]
  },
  {
   "cell_type": "code",
   "execution_count": null,
   "id": "4fb8c88b-a0cf-414c-808c-1d73d8d84215",
   "metadata": {},
   "outputs": [],
   "source": [
    "pre_pick.groupby(['deck_group']).count()"
   ]
  },
  {
   "cell_type": "code",
   "execution_count": 4,
   "id": "383d8780-f7e8-4df2-82bc-ea28a3e2e962",
   "metadata": {},
   "outputs": [],
   "source": [
    "cardKmean = KMeans(n_clusters=10, random_state=10,n_init= 50)\n",
    "cardK = cardKmean.fit_predict(cardVect)"
   ]
  },
  {
   "cell_type": "code",
   "execution_count": 17,
   "id": "0665b021-537e-42cd-a55d-05411cbae4e9",
   "metadata": {},
   "outputs": [
    {
     "ename": "NameError",
     "evalue": "name 'cardK' is not defined",
     "output_type": "error",
     "traceback": [
      "\u001b[1;31m---------------------------------------------------------------------------\u001b[0m",
      "\u001b[1;31mNameError\u001b[0m                                 Traceback (most recent call last)",
      "Cell \u001b[1;32mIn[17], line 2\u001b[0m\n\u001b[0;32m      1\u001b[0m \u001b[38;5;28;01mfrom\u001b[39;00m \u001b[38;5;21;01mcollections\u001b[39;00m \u001b[38;5;28;01mimport\u001b[39;00m Counter\n\u001b[1;32m----> 2\u001b[0m counter \u001b[38;5;241m=\u001b[39m Counter(\u001b[43mcardK\u001b[49m)\n\u001b[0;32m      3\u001b[0m sorted_counter \u001b[38;5;241m=\u001b[39m \u001b[38;5;28msorted\u001b[39m(counter\u001b[38;5;241m.\u001b[39mitems(), key\u001b[38;5;241m=\u001b[39m\u001b[38;5;28;01mlambda\u001b[39;00m x: x[\u001b[38;5;241m1\u001b[39m], reverse\u001b[38;5;241m=\u001b[39m\u001b[38;5;28;01mTrue\u001b[39;00m)\n\u001b[0;32m      4\u001b[0m \u001b[38;5;28mprint\u001b[39m(sorted_counter)\n",
      "\u001b[1;31mNameError\u001b[0m: name 'cardK' is not defined"
     ]
    }
   ],
   "source": [
    "from collections import Counter\n",
    "counter = Counter(cardK)\n",
    "sorted_counter = sorted(counter.items(), key=lambda x: x[1], reverse=True)\n",
    "print(sorted_counter)"
   ]
  },
  {
   "cell_type": "code",
   "execution_count": 6,
   "id": "934a126e-6cfa-4ae5-8463-4a4cd9acd90e",
   "metadata": {},
   "outputs": [
    {
     "data": {
      "image/png": "[encoded data removed]",
      "text/plain": [
       "<Figure size 1000x700 with 2 Axes>"
      ]
     },
     "metadata": {},
     "output_type": "display_data"
    }
   ],
   "source": [
    "import numpy as np\n",
    "import matplotlib.pyplot as plt\n",
    "from sklearn.decomposition import PCA\n",
    "from sklearn.manifold import TSNE\n",
    "import seaborn as sns\n",
    "\n",
    "# Assuming cardVect is a numpy array with shape (257, 20)\n",
    "# Apply PCA to reduce to 2D\n",
    "pca = PCA(n_components=2)\n",
    "pca_result = pca.fit_transform(cardVect)\n",
    "\n",
    "plot_data = pca_result\n",
    "\n",
    "# Plot\n",
    "plt.figure(figsize=(10, 7))\n",
    "plt.scatter(plot_data[:, 0], plot_data[:, 1], c=cardK, cmap='viridis', marker='o', s=50)\n",
    "plt.colorbar(label='Cluster')\n",
    "plt.title('K-means Clustering Results')\n",
    "plt.xlabel('Component 1')\n",
    "plt.ylabel('Component 2')\n",
    "plt.show()"
   ]
  },
  {
   "cell_type": "code",
   "execution_count": 7,
   "id": "6f2dd55c-1706-409f-8fd1-c5601b3762cb",
   "metadata": {},
   "outputs": [
    {
     "ename": "NameError",
     "evalue": "name 'pick' is not defined",
     "output_type": "error",
     "traceback": [
      "\u001b[1;31m---------------------------------------------------------------------------\u001b[0m",
      "\u001b[1;31mNameError\u001b[0m                                 Traceback (most recent call last)",
      "Cell \u001b[1;32mIn[7], line 1\u001b[0m\n\u001b[1;32m----> 1\u001b[0m pre_pick[\u001b[38;5;124m'\u001b[39m\u001b[38;5;124mcard_group\u001b[39m\u001b[38;5;124m'\u001b[39m] \u001b[38;5;241m=\u001b[39m cardKmean\u001b[38;5;241m.\u001b[39mpredict([cardVec[picked] \u001b[38;5;28;01mfor\u001b[39;00m picked \u001b[38;5;129;01min\u001b[39;00m \u001b[43mpick\u001b[49m\u001b[38;5;241m.\u001b[39mpicked ])\n",
      "\u001b[1;31mNameError\u001b[0m: name 'pick' is not defined"
     ]
    }
   ],
   "source": [
    "pre_pick['card_group'] = cardKmean.predict([cardVec[picked] for picked in pick.picked ])"
   ]
  },
  {
   "cell_type": "code",
   "execution_count": 41,
   "id": "4e7d088a-af9b-4ec4-aef7-5de5de3c72c6",
   "metadata": {},
   "outputs": [
    {
     "data": {
      "text/html": [
       "<div>\n",
       "<style scoped>\n",
       "    .dataframe tbody tr th:only-of-type {\n",
       "        vertical-align: middle;\n",
       "    }\n",
       "\n",
       "    .dataframe tbody tr th {\n",
       "        vertical-align: top;\n",
       "    }\n",
       "\n",
       "    .dataframe thead th {\n",
       "        text-align: right;\n",
       "    }\n",
       "</style>\n",
       "<table border=\"1\" class=\"dataframe\">\n",
       "  <thead>\n",
       "    <tr style=\"text-align: right;\">\n",
       "      <th></th>\n",
       "      <th>deck</th>\n",
       "      <th>picked</th>\n",
       "      <th>deck_group</th>\n",
       "    </tr>\n",
       "    <tr>\n",
       "      <th>card_group</th>\n",
       "      <th></th>\n",
       "      <th></th>\n",
       "      <th></th>\n",
       "    </tr>\n",
       "  </thead>\n",
       "  <tbody>\n",
       "    <tr>\n",
       "      <th>0</th>\n",
       "      <td>307</td>\n",
       "      <td>307</td>\n",
       "      <td>307</td>\n",
       "    </tr>\n",
       "    <tr>\n",
       "      <th>1</th>\n",
       "      <td>28744</td>\n",
       "      <td>28744</td>\n",
       "      <td>28744</td>\n",
       "    </tr>\n",
       "    <tr>\n",
       "      <th>5</th>\n",
       "      <td>383</td>\n",
       "      <td>383</td>\n",
       "      <td>383</td>\n",
       "    </tr>\n",
       "    <tr>\n",
       "      <th>6</th>\n",
       "      <td>355</td>\n",
       "      <td>355</td>\n",
       "      <td>355</td>\n",
       "    </tr>\n",
       "    <tr>\n",
       "      <th>8</th>\n",
       "      <td>441</td>\n",
       "      <td>441</td>\n",
       "      <td>441</td>\n",
       "    </tr>\n",
       "  </tbody>\n",
       "</table>\n",
       "</div>"
      ],
      "text/plain": [
       "             deck  picked  deck_group\n",
       "card_group                           \n",
       "0             307     307         307\n",
       "1           28744   28744       28744\n",
       "5             383     383         383\n",
       "6             355     355         355\n",
       "8             441     441         441"
      ]
     },
     "execution_count": 41,
     "metadata": {},
     "output_type": "execute_result"
    }
   ],
   "source": [
    "pre_pick.groupby(['card_group']).count()"
   ]
  },
  {
   "cell_type": "code",
   "execution_count": null,
   "id": "763c338b-abf6-4a16-8f55-8124f35ea1ed",
   "metadata": {},
   "outputs": [],
   "source": []
  },
  {
   "cell_type": "code",
   "execution_count": null,
   "id": "c5b5a1ef-3749-4b62-bca4-83e612f2d74a",
   "metadata": {},
   "outputs": [],
   "source": []
  },
  {
   "cell_type": "code",
   "execution_count": null,
   "id": "c5570b3f-02ca-49a0-9b17-906ec37e136e",
   "metadata": {},
   "outputs": [],
   "source": []
  },
  {
   "cell_type": "code",
   "execution_count": null,
   "id": "9bd69523-ff45-4af4-a1fd-d0b6b72102a5",
   "metadata": {},
   "outputs": [],
   "source": []
  }
 ],
 "metadata": {
  "kernelspec": {
   "display_name": "Python 3 (ipykernel)",
   "language": "python",
   "name": "python3"
  },
  "language_info": {
   "codemirror_mode": {
    "name": "ipython",
    "version": 3
   },
   "file_extension": ".py",
   "mimetype": "text/x-python",
   "name": "python",
   "nbconvert_exporter": "python",
   "pygments_lexer": "ipython3",
   "version": "3.9.5"
  }
 },
 "nbformat": 4,
 "nbformat_minor": 5
}
