{
 "cells": [
  {
   "cell_type": "code",
   "execution_count": 13,
   "id": "b71af968-5b7f-4bcb-b41d-c4b7025388c1",
   "metadata": {},
   "outputs": [],
   "source": [
    "import urllib.request\n",
    "import json\n",
    "import numpy as np\n",
    "import pandas as pd"
   ]
  },
  {
   "cell_type": "code",
   "execution_count": 14,
   "id": "316a16c0-2273-4b4c-83a9-a5a4f75b907f",
   "metadata": {},
   "outputs": [],
   "source": [
    "data_url1 = 'data/processed_data/picked_TS_5k_14k.json'\n",
    "TS_pick = pd.read_json(data_url1)\n",
    "data_url2 = 'data/processed_data/picked_8k_30k.json'\n",
    "IC_pick = pd.read_json(data_url2)"
   ]
  },
  {
   "cell_type": "code",
   "execution_count": 15,
   "id": "1aa15527-1300-418b-b929-86e5267d131b",
   "metadata": {},
   "outputs": [],
   "source": [
    "IC_pick_sample = IC_pick.sample(n=15000).reset_index()"
   ]
  },
  {
   "cell_type": "code",
   "execution_count": 16,
   "id": "f5b5ab6f-6238-4a17-81a8-8c0b84e21ca4",
   "metadata": {},
   "outputs": [],
   "source": [
    "deck_state = TS_pick.deck.tolist() + IC_pick_sample.deck.tolist()"
   ]
  },
  {
   "cell_type": "code",
   "execution_count": 17,
   "id": "05e10caa-2d01-4733-80ff-464891033ed8",
   "metadata": {},
   "outputs": [
    {
     "data": {
      "text/plain": [
       "29413"
      ]
     },
     "execution_count": 17,
     "metadata": {},
     "output_type": "execute_result"
    }
   ],
   "source": [
    "len(deck_state)"
   ]
  },
  {
   "cell_type": "code",
   "execution_count": 18,
   "id": "53feac1a-903b-4c26-8ea8-7b5c940965dc",
   "metadata": {},
   "outputs": [],
   "source": [
    "def upgrade_lst(lst):\n",
    "  new_lst = list()\n",
    "  for item in lst:\n",
    "    if(item != 'Searing Blow'):\n",
    "      new_lst.append(item+'+1')\n",
    "  return new_lst"
   ]
  },
  {
   "cell_type": "code",
   "execution_count": 19,
   "id": "e5bbe8f3-901e-41ed-a3b7-f4b6c7d16e2d",
   "metadata": {},
   "outputs": [],
   "source": [
    "def get_ALL_IC_CARD():\n",
    "  IC_ATTACK_CARDS = [\"Strike_R\", \"Bash\", \"Anger\", \"Body Slam\", \"Clash\", \"Cleave\", \"Clothesline\", \"Headbutt\", \"Heavy Blade\", \"Iron Wave\", \"Perfected Strike\", \"Pommel Strike\", \"Sword Boomerang\", \"Thunderclap\", \"Twin Strike\", \"Wild Strike\", \"Blood for Blood\", \"Carnage\", \"Dropkick\", \"Hemokinesis\", \"Pummel\", \"Rampage\", \"Reckless Charge\", \"Searing Blow\", \"Sever Soul\", \"Uppercut\", \"Whirlwind\", \"Bludgeon\", \"Feed\", \"Fiend Fire\", \"Immolate\", \"Reaper\"]\n",
    "  IC_SKILL_CARDS = [\"Defend_R\", \"Armaments\", \"Flex\", \"Havoc\", \"Shrug It Off\", \"True Grit\", \"Warcry\", \"Battle Trance\", \"Bloodletting\", \"Burning Pact\", \"Disarm\", \"Dual Wield\", \"Entrench\", \"Flame Barrier\", \"Ghostly Armor\", \"Infernal Blade\", \"Intimidate\", \"Power Through\", \"Rage\", \"Second Wind\", \"Seeing Red\", \"Sentinel\", \"Shockwave\", \"Spot Weakness\", \"Double Tap\", \"Exhume\", \"Impervious\", \"Limit Break\", \"Offering\"]\n",
    "  IC_POWER_CARDS = [\"Combust\", \"Dark Embrace\", \"Evolve\", \"Feel No Pain\", \"Fire Breathing\", \"Inflame\", \"Metallicize\", \"Rupture\", \"Barricade\", \"Berserk\", \"Brutality\", \"Corruption\", \"Demon Form\", \"Juggernaut\"]\n",
    "  IRONCLAD_CARDS = IC_ATTACK_CARDS + IC_SKILL_CARDS + IC_POWER_CARDS\n",
    "  return IRONCLAD_CARDS + upgrade_lst(IRONCLAD_CARDS)"
   ]
  },
  {
   "cell_type": "code",
   "execution_count": 20,
   "id": "dd57067b-2470-46eb-935d-d8d2f9662a83",
   "metadata": {},
   "outputs": [],
   "source": [
    "def get_ALL_COLORLESS_CARD():\n",
    "    COLORLESS_CARDS = [\"Dramatic Entrance\", \"Flash of Steel\", \"Mind Blast\", \"Swift Strike\", \"HandOfGreed\", \"Bite\", \"Expunger\", \"Ritual Dagger\", \"Shiv\", \"Smite\", \"Through Violence\", \"Bandage Up\", \"Blind\", \"Dark Shackles\", \"Deep Breath\", \"Discovery\", \"Enlightenment\", \"Finesse\", \"Forethought\", \"Good Instincts\", \"Impatience\", \"Jack Of All Trades\", \"Madness\", \"Panacea\", \"PanicButton\", \"Purity\", \"Trip\", \"Apotheosis\", \"Chrysalis\", \"Master of Strategy\", \"Metamorphosis\", \"Secret Technique\", \"Secret Weapon\", \"The Bomb\", \"Thinking Ahead\", \"Transmutation\", \"Violence\", \"Apparition\", \"Beta\", \"Insight\", \"J.A.X.\", \"Miracle\", \"Safety\", \"Magnetism\", \"Mayhem\", \"Panache\", \"Sadistic Nature\"]\n",
    "    CURSE_CARDS = [\"AscendersBane\", \"Clumsy\", \"Curse of the Bell\", \"Decay\", \"Doubt\", \"Injury\", \"Necronomicurse\", \"Normality\", \"Pain\", \"Parasite\", \"Pride\", \"Regret\", \"Shame\", \"Writhe\"]\n",
    "    NOISE = ['Expunger', 'Ritual Dagger', 'Shiv', 'Smite', 'Through Violence',\n",
    "       'Apparition', 'Beta', 'Insight', 'Miracle', 'Safety',\n",
    "       'Curse of the Bell', 'Pride', 'Expunger+1', 'Ritual Dagger+1', 'Shiv+1',\n",
    "       'Smite+1', 'Through Violence+1', 'Apparition+1', 'Beta+1', 'Insight+1',\n",
    "       'Miracle+1', 'Safety+1']\n",
    "    cards = COLORLESS_CARDS + upgrade_lst(COLORLESS_CARDS) + CURSE_CARDS \n",
    "    return [card for card in cards if card not in NOISE] "
   ]
  },
  {
   "cell_type": "code",
   "execution_count": 21,
   "id": "be608f38-b20f-4d13-bc5e-7653644965ef",
   "metadata": {},
   "outputs": [],
   "source": [
    "def get_ALL_TS_CARD():\n",
    "    TS_ALL_CARD =[ \t\n",
    "        \"Strike_G\" , \"Defend_G\" ,\"Neutralize\" , \"Survivor\",\n",
    "        \"Bane\", \"Dagger Spray\", \"Dagger Throw\", \"Flying Knee\", \"Poisoned Stab\", \"Quick Slash\", \"Slice\", \"Sneaky Strike\", \"Sucker Punch\",\n",
    "        \"All Out Attack\", \"Backstab\", \"Choke\", \"Dash\", \"Endless Agony\", \"Eviscerate\", \"Finisher\", \"Flechettes\", \"Heel Hook\", \"Masterful Stab\", \"Predator\", \"Riddle with Holes\", \"Skewer\",\n",
    "        \"Die Die Die\", \"Glass Knife\", \"Grand Finale\", \"Unload\",\n",
    "        \"Acrobatics\", \"Backflip\", \"Blade Dance\", \"Cloak And Dagger\", \"Deadly Poison\", \"Deflect\", \"Dodge and Roll\", \"Outmaneuver\", \"PiercingWail\", \"Prepared\",\n",
    "        \"Blur\", \"Bouncing Flask\", \"Calculated Gamble\", \"Catalyst\", \"Concentrate\", \"Crippling Cloud\", \"Distraction\", \"Escape Plan\", \"Expertise\", \"Leg Sweep\", \"Reflex\", \"Setup\", \"Tactician\", \"Terror\",\n",
    "        \"Adrenaline\", \"Alchemize\", \"Bullet Time\", \"Burst\", \"Corpse Explosion\", \"Doppelganger\", \"Malaise\", \"Nightmare\", \"Phantasmal Killer\", \"Storm of Steel\",\n",
    "        \"Accuracy\", \"Caltrops\", \"Footwork\", \"Infinite Blades\", \"Noxious Fumes\", \"Well Laid Plans\",\n",
    "        \"A Thousand Cuts\", \"After Image\", \"Envenom\", \"Tools of the Trade\", \"Wraith Form v2\" ,\n",
    "        \"Underhanded Strike\", 'Crippling Poison' , 'Venomology' , 'Night Terror' ## beta name\n",
    "    ]\n",
    "    return TS_ALL_CARD + upgrade_lst(TS_ALL_CARD)"
   ]
  },
  {
   "cell_type": "code",
   "execution_count": 22,
   "id": "c9917bc9-dd45-4eb7-b415-8ac45d0dfda0",
   "metadata": {},
   "outputs": [],
   "source": [
    "def get_ALL_CARD():\n",
    "    NOISE = ['Sneaky Strike', 'Riddle with Holes',\n",
    "       'Cloak and Dagger', 'Crippling Cloud', 'Alchemize',\n",
    "       'Nightmare', 'Sneaky Strike+1',\n",
    "        'Riddle with Holes+1', 'Cloak and Dagger+1',\n",
    "        'Crippling Cloud+1', 'Alchemize+1', 'Nightmare+1',\n",
    "        'Wraith Form v2+1','Underhanded Strike+1','Venomology+1','Night Terror+1'\n",
    "        ]\n",
    "    allCard = get_ALL_IC_CARD() + get_ALL_COLORLESS_CARD() + get_ALL_TS_CARD()\n",
    "    return [card for card in allCard if card not in NOISE] "
   ]
  },
  {
   "cell_type": "code",
   "execution_count": 23,
   "id": "eafe5deb-de22-4f11-80de-99848ef4a13e",
   "metadata": {},
   "outputs": [
    {
     "data": {
      "text/plain": [
       "379"
      ]
     },
     "execution_count": 23,
     "metadata": {},
     "output_type": "execute_result"
    }
   ],
   "source": [
    "vocab = get_ALL_CARD()\n",
    "len(vocab)"
   ]
  },
  {
   "cell_type": "code",
   "execution_count": 24,
   "id": "84f3ceee-de9f-4f9d-b245-33619a9e5fbc",
   "metadata": {},
   "outputs": [
    {
     "name": "stdout",
     "output_type": "stream",
     "text": [
      "149\n",
      "86\n",
      "158\n"
     ]
    }
   ],
   "source": [
    "print(len(get_ALL_IC_CARD()))\n",
    "print(len(get_ALL_COLORLESS_CARD()))\n",
    "print(len(get_ALL_TS_CARD()))"
   ]
  },
  {
   "cell_type": "code",
   "execution_count": 25,
   "id": "bf59d4b7-dc30-40ae-adc6-88423f46308a",
   "metadata": {},
   "outputs": [],
   "source": [
    "from sklearn.feature_extraction.text import TfidfVectorizer\n",
    "from sklearn.decomposition import TruncatedSVD"
   ]
  },
  {
   "cell_type": "code",
   "execution_count": 26,
   "id": "71a47103-0cd3-497c-9046-ec7d8534d7f6",
   "metadata": {},
   "outputs": [
    {
     "data": {
      "text/html": [
       "<style>#sk-container-id-1 {color: black;}#sk-container-id-1 pre{padding: 0;}#sk-container-id-1 div.sk-toggleable {background-color: white;}#sk-container-id-1 label.sk-toggleable__label {cursor: pointer;display: block;width: 100%;margin-bottom: 0;padding: 0.3em;box-sizing: border-box;text-align: center;}#sk-container-id-1 label.sk-toggleable__label-arrow:before {content: \"▸\";float: left;margin-right: 0.25em;color: #696969;}#sk-container-id-1 label.sk-toggleable__label-arrow:hover:before {color: black;}#sk-container-id-1 div.sk-estimator:hover label.sk-toggleable__label-arrow:before {color: black;}#sk-container-id-1 div.sk-toggleable__content {max-height: 0;max-width: 0;overflow: hidden;text-align: left;background-color: #f0f8ff;}#sk-container-id-1 div.sk-toggleable__content pre {margin: 0.2em;color: black;border-radius: 0.25em;background-color: #f0f8ff;}#sk-container-id-1 input.sk-toggleable__control:checked~div.sk-toggleable__content {max-height: 200px;max-width: 100%;overflow: auto;}#sk-container-id-1 input.sk-toggleable__control:checked~label.sk-toggleable__label-arrow:before {content: \"▾\";}#sk-container-id-1 div.sk-estimator input.sk-toggleable__control:checked~label.sk-toggleable__label {background-color: #d4ebff;}#sk-container-id-1 div.sk-label input.sk-toggleable__control:checked~label.sk-toggleable__label {background-color: #d4ebff;}#sk-container-id-1 input.sk-hidden--visually {border: 0;clip: rect(1px 1px 1px 1px);clip: rect(1px, 1px, 1px, 1px);height: 1px;margin: -1px;overflow: hidden;padding: 0;position: absolute;width: 1px;}#sk-container-id-1 div.sk-estimator {font-family: monospace;background-color: #f0f8ff;border: 1px dotted black;border-radius: 0.25em;box-sizing: border-box;margin-bottom: 0.5em;}#sk-container-id-1 div.sk-estimator:hover {background-color: #d4ebff;}#sk-container-id-1 div.sk-parallel-item::after {content: \"\";width: 100%;border-bottom: 1px solid gray;flex-grow: 1;}#sk-container-id-1 div.sk-label:hover label.sk-toggleable__label {background-color: #d4ebff;}#sk-container-id-1 div.sk-serial::before {content: \"\";position: absolute;border-left: 1px solid gray;box-sizing: border-box;top: 0;bottom: 0;left: 50%;z-index: 0;}#sk-container-id-1 div.sk-serial {display: flex;flex-direction: column;align-items: center;background-color: white;padding-right: 0.2em;padding-left: 0.2em;position: relative;}#sk-container-id-1 div.sk-item {position: relative;z-index: 1;}#sk-container-id-1 div.sk-parallel {display: flex;align-items: stretch;justify-content: center;background-color: white;position: relative;}#sk-container-id-1 div.sk-item::before, #sk-container-id-1 div.sk-parallel-item::before {content: \"\";position: absolute;border-left: 1px solid gray;box-sizing: border-box;top: 0;bottom: 0;left: 50%;z-index: -1;}#sk-container-id-1 div.sk-parallel-item {display: flex;flex-direction: column;z-index: 1;position: relative;background-color: white;}#sk-container-id-1 div.sk-parallel-item:first-child::after {align-self: flex-end;width: 50%;}#sk-container-id-1 div.sk-parallel-item:last-child::after {align-self: flex-start;width: 50%;}#sk-container-id-1 div.sk-parallel-item:only-child::after {width: 0;}#sk-container-id-1 div.sk-dashed-wrapped {border: 1px dashed gray;margin: 0 0.4em 0.5em 0.4em;box-sizing: border-box;padding-bottom: 0.4em;background-color: white;}#sk-container-id-1 div.sk-label label {font-family: monospace;font-weight: bold;display: inline-block;line-height: 1.2em;}#sk-container-id-1 div.sk-label-container {text-align: center;}#sk-container-id-1 div.sk-container {/* jupyter's `normalize.less` sets `[hidden] { display: none; }` but bootstrap.min.css set `[hidden] { display: none !important; }` so we also need the `!important` here to be able to override the default hidden behavior on the sphinx rendered scikit-learn.org. See: https://github.com/scikit-learn/scikit-learn/issues/21755 */display: inline-block !important;position: relative;}#sk-container-id-1 div.sk-text-repr-fallback {display: none;}</style><div id=\"sk-container-id-1\" class=\"sk-top-container\"><div class=\"sk-text-repr-fallback\"><pre>TfidfVectorizer(analyzer=&lt;function custom_analyzer at 0x0000016E46802940&gt;,\n",
       "                lowercase=False,\n",
       "                vocabulary=[&#x27;Strike_R&#x27;, &#x27;Bash&#x27;, &#x27;Anger&#x27;, &#x27;Body Slam&#x27;, &#x27;Clash&#x27;,\n",
       "                            &#x27;Cleave&#x27;, &#x27;Clothesline&#x27;, &#x27;Headbutt&#x27;, &#x27;Heavy Blade&#x27;,\n",
       "                            &#x27;Iron Wave&#x27;, &#x27;Perfected Strike&#x27;, &#x27;Pommel Strike&#x27;,\n",
       "                            &#x27;Sword Boomerang&#x27;, &#x27;Thunderclap&#x27;, &#x27;Twin Strike&#x27;,\n",
       "                            &#x27;Wild Strike&#x27;, &#x27;Blood for Blood&#x27;, &#x27;Carnage&#x27;,\n",
       "                            &#x27;Dropkick&#x27;, &#x27;Hemokinesis&#x27;, &#x27;Pummel&#x27;, &#x27;Rampage&#x27;,\n",
       "                            &#x27;Reckless Charge&#x27;, &#x27;Searing Blow&#x27;, &#x27;Sever Soul&#x27;,\n",
       "                            &#x27;Uppercut&#x27;, &#x27;Whirlwind&#x27;, &#x27;Bludgeon&#x27;, &#x27;Feed&#x27;,\n",
       "                            &#x27;Fiend Fire&#x27;, ...])</pre><b>In a Jupyter environment, please rerun this cell to show the HTML representation or trust the notebook. <br />On GitHub, the HTML representation is unable to render, please try loading this page with nbviewer.org.</b></div><div class=\"sk-container\" hidden><div class=\"sk-item\"><div class=\"sk-estimator sk-toggleable\"><input class=\"sk-toggleable__control sk-hidden--visually\" id=\"sk-estimator-id-1\" type=\"checkbox\" checked><label for=\"sk-estimator-id-1\" class=\"sk-toggleable__label sk-toggleable__label-arrow\">TfidfVectorizer</label><div class=\"sk-toggleable__content\"><pre>TfidfVectorizer(analyzer=&lt;function custom_analyzer at 0x0000016E46802940&gt;,\n",
       "                lowercase=False,\n",
       "                vocabulary=[&#x27;Strike_R&#x27;, &#x27;Bash&#x27;, &#x27;Anger&#x27;, &#x27;Body Slam&#x27;, &#x27;Clash&#x27;,\n",
       "                            &#x27;Cleave&#x27;, &#x27;Clothesline&#x27;, &#x27;Headbutt&#x27;, &#x27;Heavy Blade&#x27;,\n",
       "                            &#x27;Iron Wave&#x27;, &#x27;Perfected Strike&#x27;, &#x27;Pommel Strike&#x27;,\n",
       "                            &#x27;Sword Boomerang&#x27;, &#x27;Thunderclap&#x27;, &#x27;Twin Strike&#x27;,\n",
       "                            &#x27;Wild Strike&#x27;, &#x27;Blood for Blood&#x27;, &#x27;Carnage&#x27;,\n",
       "                            &#x27;Dropkick&#x27;, &#x27;Hemokinesis&#x27;, &#x27;Pummel&#x27;, &#x27;Rampage&#x27;,\n",
       "                            &#x27;Reckless Charge&#x27;, &#x27;Searing Blow&#x27;, &#x27;Sever Soul&#x27;,\n",
       "                            &#x27;Uppercut&#x27;, &#x27;Whirlwind&#x27;, &#x27;Bludgeon&#x27;, &#x27;Feed&#x27;,\n",
       "                            &#x27;Fiend Fire&#x27;, ...])</pre></div></div></div></div></div>"
      ],
      "text/plain": [
       "TfidfVectorizer(analyzer=<function custom_analyzer at 0x0000016E46802940>,\n",
       "                lowercase=False,\n",
       "                vocabulary=['Strike_R', 'Bash', 'Anger', 'Body Slam', 'Clash',\n",
       "                            'Cleave', 'Clothesline', 'Headbutt', 'Heavy Blade',\n",
       "                            'Iron Wave', 'Perfected Strike', 'Pommel Strike',\n",
       "                            'Sword Boomerang', 'Thunderclap', 'Twin Strike',\n",
       "                            'Wild Strike', 'Blood for Blood', 'Carnage',\n",
       "                            'Dropkick', 'Hemokinesis', 'Pummel', 'Rampage',\n",
       "                            'Reckless Charge', 'Searing Blow', 'Sever Soul',\n",
       "                            'Uppercut', 'Whirlwind', 'Bludgeon', 'Feed',\n",
       "                            'Fiend Fire', ...])"
      ]
     },
     "execution_count": 26,
     "metadata": {},
     "output_type": "execute_result"
    }
   ],
   "source": [
    "def custom_analyzer(doc):\n",
    "    return doc\n",
    "    \n",
    "tfidf_vectorizer = TfidfVectorizer(vocabulary=vocab, analyzer=custom_analyzer,lowercase=False)\n",
    "tfidf_vectorizer.fit(deck_state)"
   ]
  },
  {
   "cell_type": "code",
   "execution_count": 28,
   "id": "12610fad-618e-478a-9684-8b7017be52cb",
   "metadata": {},
   "outputs": [],
   "source": [
    "matrix = tfidf_vectorizer.fit_transform(deck_state)"
   ]
  },
  {
   "cell_type": "code",
   "execution_count": 29,
   "id": "d3ebe533-bf35-4fdf-aad7-8cd99c89b150",
   "metadata": {},
   "outputs": [
    {
     "data": {
      "text/plain": [
       "(29413, 379)"
      ]
     },
     "execution_count": 29,
     "metadata": {},
     "output_type": "execute_result"
    }
   ],
   "source": [
    "matrix.shape"
   ]
  },
  {
   "cell_type": "code",
   "execution_count": 31,
   "id": "465c49f4-e396-4a22-ba0e-223f0803cb42",
   "metadata": {},
   "outputs": [
    {
     "data": {
      "image/png": "[encoded data removed]",
      "text/plain": [
       "<Figure size 640x480 with 1 Axes>"
      ]
     },
     "metadata": {},
     "output_type": "display_data"
    }
   ],
   "source": [
    "from sklearn.decomposition import PCA\n",
    "import matplotlib.pyplot as plt\n",
    "import numpy as np\n",
    "\n",
    "# Assume `vector_20dim` is your 20-dimensional vector\n",
    "svd = TruncatedSVD(n_components=2)\n",
    "reduced_vector = svd.fit_transform(matrix)\n",
    "\n",
    "# Plotting the 2D projection\n",
    "plt.scatter(reduced_vector[:, 0], reduced_vector[:, 1])\n",
    "plt.show()"
   ]
  },
  {
   "cell_type": "code",
   "execution_count": 15,
   "id": "294773df-ee9f-48ad-ae2a-8bded215e6e5",
   "metadata": {},
   "outputs": [],
   "source": [
    "from joblib import dump\n",
    "import os"
   ]
  },
  {
   "cell_type": "code",
   "execution_count": 16,
   "id": "c40169ca-9323-476a-9055-4b281bfae3be",
   "metadata": {},
   "outputs": [],
   "source": [
    "save_path = os.path.join('matrix_data', 'deckVectorizer_MIX_11k_30K.joblib')"
   ]
  },
  {
   "cell_type": "code",
   "execution_count": 37,
   "id": "1ceffaff-75a8-4847-b476-2a71c3f0215c",
   "metadata": {},
   "outputs": [
    {
     "data": {
      "text/plain": [
       "['matrix_data\\\\deckVectorizer_MIX_11k_30K.joblib']"
      ]
     },
     "execution_count": 37,
     "metadata": {},
     "output_type": "execute_result"
    }
   ],
   "source": [
    "dump(tfidf_vectorizer, save_path)"
   ]
  },
  {
   "cell_type": "code",
   "execution_count": 38,
   "id": "69e34773-f5a0-4696-a5b2-6557ee85fc88",
   "metadata": {},
   "outputs": [],
   "source": [
    "from sklearn.metrics import silhouette_score\n",
    "from sklearn.cluster import KMeans\n",
    "import matplotlib.pyplot as plt"
   ]
  },
  {
   "cell_type": "code",
   "execution_count": 39,
   "id": "6beff988-1136-4b35-862a-8f75a4e7b5a2",
   "metadata": {},
   "outputs": [],
   "source": [
    "deckVec = tfidf_vectorizer.fit_transform(deck_state)\n",
    "deckVec = deckVec.toarray()"
   ]
  },
  {
   "cell_type": "code",
   "execution_count": 40,
   "id": "abb24816-970f-42e1-b2c3-36d88fd7abcd",
   "metadata": {},
   "outputs": [],
   "source": [
    "kmeans = KMeans(n_clusters=10, random_state=0,n_init= 10)\n",
    "kmean = kmeans.fit_predict(deckVec)"
   ]
  },
  {
   "cell_type": "code",
   "execution_count": 41,
   "id": "a93f1bc6-1ad5-4ac3-b1cb-dfd0d2465bd7",
   "metadata": {},
   "outputs": [
    {
     "data": {
      "text/plain": [
       "Counter({8: 5395,\n",
       "         9: 5116,\n",
       "         2: 4072,\n",
       "         0: 3755,\n",
       "         1: 2864,\n",
       "         7: 2795,\n",
       "         4: 2481,\n",
       "         6: 1064,\n",
       "         3: 996,\n",
       "         5: 875})"
      ]
     },
     "execution_count": 41,
     "metadata": {},
     "output_type": "execute_result"
    }
   ],
   "source": [
    "from collections import Counter\n",
    "Counter(kmean)"
   ]
  },
  {
   "cell_type": "code",
   "execution_count": null,
   "id": "8ba55ed3-e1ca-4760-8bfe-cfff38138caa",
   "metadata": {},
   "outputs": [],
   "source": []
  },
  {
   "cell_type": "code",
   "execution_count": null,
   "id": "63e91e88-9771-4f1d-98ac-b8f19d46a251",
   "metadata": {},
   "outputs": [],
   "source": []
  },
  {
   "cell_type": "code",
   "execution_count": null,
   "id": "e4f9bd67-ceac-44e0-abbf-e761e754267f",
   "metadata": {},
   "outputs": [],
   "source": []
  },
  {
   "cell_type": "code",
   "execution_count": null,
   "id": "2d5987b5-8bd8-4674-8457-9945bd29da69",
   "metadata": {},
   "outputs": [],
   "source": []
  }
 ],
 "metadata": {
  "kernelspec": {
   "display_name": "Python 3 (ipykernel)",
   "language": "python",
   "name": "python3"
  },
  "language_info": {
   "codemirror_mode": {
    "name": "ipython",
    "version": 3
   },
   "file_extension": ".py",
   "mimetype": "text/x-python",
   "name": "python",
   "nbconvert_exporter": "python",
   "pygments_lexer": "ipython3",
   "version": "3.9.5"
  }
 },
 "nbformat": 4,
 "nbformat_minor": 5
}
