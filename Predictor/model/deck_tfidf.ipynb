{
 "cells": [
  {
   "cell_type": "code",
   "execution_count": 1,
   "id": "b71af968-5b7f-4bcb-b41d-c4b7025388c1",
   "metadata": {},
   "outputs": [],
   "source": [
    "import urllib.request\n",
    "import json\n",
    "import numpy as np\n",
    "import pandas as pd"
   ]
  },
  {
   "cell_type": "code",
   "execution_count": 3,
   "id": "316a16c0-2273-4b4c-83a9-a5a4f75b907f",
   "metadata": {},
   "outputs": [],
   "source": [
    "data_url = 'https://raw.githubusercontent.com/KU81-ComSci-ProjectEnd-GameCard/main/master/Predictor/data/processed_data/picked_2k_8k.json'\n",
    "json_data = list()\n",
    "with urllib.request.urlopen(data_url) as url:\n",
    "    pick_js = json.loads(url.read().decode())\n",
    "pick = pd.DataFrame(pick_js)"
   ]
  },
  {
   "cell_type": "code",
   "execution_count": 4,
   "id": "f5b5ab6f-6238-4a17-81a8-8c0b84e21ca4",
   "metadata": {},
   "outputs": [
    {
     "data": {
      "text/html": [
       "<div>\n",
       "<style scoped>\n",
       "    .dataframe tbody tr th:only-of-type {\n",
       "        vertical-align: middle;\n",
       "    }\n",
       "\n",
       "    .dataframe tbody tr th {\n",
       "        vertical-align: top;\n",
       "    }\n",
       "\n",
       "    .dataframe thead th {\n",
       "        text-align: right;\n",
       "    }\n",
       "</style>\n",
       "<table border=\"1\" class=\"dataframe\">\n",
       "  <thead>\n",
       "    <tr style=\"text-align: right;\">\n",
       "      <th></th>\n",
       "      <th>deck</th>\n",
       "      <th>picked</th>\n",
       "    </tr>\n",
       "  </thead>\n",
       "  <tbody>\n",
       "    <tr>\n",
       "      <th>0</th>\n",
       "      <td>[Strike_R, Strike_R, Strike_R, Strike_R, Strik...</td>\n",
       "      <td>Bludgeon</td>\n",
       "    </tr>\n",
       "    <tr>\n",
       "      <th>1</th>\n",
       "      <td>[Strike_R, Strike_R, Strike_R, Strike_R, Strik...</td>\n",
       "      <td>Flex</td>\n",
       "    </tr>\n",
       "    <tr>\n",
       "      <th>2</th>\n",
       "      <td>[Strike_R, Strike_R, Strike_R, Strike_R, Strik...</td>\n",
       "      <td>Anger</td>\n",
       "    </tr>\n",
       "    <tr>\n",
       "      <th>3</th>\n",
       "      <td>[Strike_R, Strike_R, Strike_R, Strike_R, Strik...</td>\n",
       "      <td>Reckless Charge</td>\n",
       "    </tr>\n",
       "    <tr>\n",
       "      <th>4</th>\n",
       "      <td>[Strike_R, Strike_R, Strike_R, Strike_R, Strik...</td>\n",
       "      <td>Flex</td>\n",
       "    </tr>\n",
       "    <tr>\n",
       "      <th>...</th>\n",
       "      <td>...</td>\n",
       "      <td>...</td>\n",
       "    </tr>\n",
       "    <tr>\n",
       "      <th>7986</th>\n",
       "      <td>[Strike_R, Strike_R, Strike_R, Strike_R, Strik...</td>\n",
       "      <td>Power Through</td>\n",
       "    </tr>\n",
       "    <tr>\n",
       "      <th>7987</th>\n",
       "      <td>[Strike_R, Strike_R, Strike_R, Strike_R, Strik...</td>\n",
       "      <td>Barricade</td>\n",
       "    </tr>\n",
       "    <tr>\n",
       "      <th>7988</th>\n",
       "      <td>[Strike_R, Strike_R, Strike_R, Strike_R, Strik...</td>\n",
       "      <td>Shrug It Off+1</td>\n",
       "    </tr>\n",
       "    <tr>\n",
       "      <th>7989</th>\n",
       "      <td>[Strike_R, Strike_R, Strike_R, Strike_R, Strik...</td>\n",
       "      <td>Infernal Blade</td>\n",
       "    </tr>\n",
       "    <tr>\n",
       "      <th>7990</th>\n",
       "      <td>[Strike_R, Strike_R, Strike_R, Strike_R, Strik...</td>\n",
       "      <td>Armaments</td>\n",
       "    </tr>\n",
       "  </tbody>\n",
       "</table>\n",
       "<p>7991 rows × 2 columns</p>\n",
       "</div>"
      ],
      "text/plain": [
       "                                                   deck           picked\n",
       "0     [Strike_R, Strike_R, Strike_R, Strike_R, Strik...         Bludgeon\n",
       "1     [Strike_R, Strike_R, Strike_R, Strike_R, Strik...             Flex\n",
       "2     [Strike_R, Strike_R, Strike_R, Strike_R, Strik...            Anger\n",
       "3     [Strike_R, Strike_R, Strike_R, Strike_R, Strik...  Reckless Charge\n",
       "4     [Strike_R, Strike_R, Strike_R, Strike_R, Strik...             Flex\n",
       "...                                                 ...              ...\n",
       "7986  [Strike_R, Strike_R, Strike_R, Strike_R, Strik...    Power Through\n",
       "7987  [Strike_R, Strike_R, Strike_R, Strike_R, Strik...        Barricade\n",
       "7988  [Strike_R, Strike_R, Strike_R, Strike_R, Strik...   Shrug It Off+1\n",
       "7989  [Strike_R, Strike_R, Strike_R, Strike_R, Strik...   Infernal Blade\n",
       "7990  [Strike_R, Strike_R, Strike_R, Strike_R, Strik...        Armaments\n",
       "\n",
       "[7991 rows x 2 columns]"
      ]
     },
     "execution_count": 4,
     "metadata": {},
     "output_type": "execute_result"
    }
   ],
   "source": [
    "pick"
   ]
  },
  {
   "cell_type": "code",
   "execution_count": 5,
   "id": "53feac1a-903b-4c26-8ea8-7b5c940965dc",
   "metadata": {},
   "outputs": [],
   "source": [
    "def upgrade_lst(lst):\n",
    "  new_lst = list()\n",
    "  for item in lst:\n",
    "    if(item != 'Searing Blow'):\n",
    "      new_lst.append(item+'+1')\n",
    "  return new_lst\n",
    "    \n",
    "def get_ALL_CARD():\n",
    "  IC_ATTACK_CARDS = [\"Strike_R\", \"Bash\", \"Anger\", \"Body Slam\", \"Clash\", \"Cleave\", \"Clothesline\", \"Headbutt\", \"Heavy Blade\", \"Iron Wave\", \"Perfected Strike\", \"Pommel Strike\", \"Sword Boomerang\", \"Thunderclap\", \"Twin Strike\", \"Wild Strike\", \"Blood for Blood\", \"Carnage\", \"Dropkick\", \"Hemokinesis\", \"Pummel\", \"Rampage\", \"Reckless Charge\", \"Searing Blow\", \"Sever Soul\", \"Uppercut\", \"Whirlwind\", \"Bludgeon\", \"Feed\", \"Fiend Fire\", \"Immolate\", \"Reaper\"]\n",
    "  IC_SKILL_CARDS = [\"Defend_R\", \"Armaments\", \"Flex\", \"Havoc\", \"Shrug It Off\", \"True Grit\", \"Warcry\", \"Battle Trance\", \"Bloodletting\", \"Burning Pact\", \"Disarm\", \"Dual Wield\", \"Entrench\", \"Flame Barrier\", \"Ghostly Armor\", \"Infernal Blade\", \"Intimidate\", \"Power Through\", \"Rage\", \"Second Wind\", \"Seeing Red\", \"Sentinel\", \"Shockwave\", \"Spot Weakness\", \"Double Tap\", \"Exhume\", \"Impervious\", \"Limit Break\", \"Offering\"]\n",
    "  IC_POWER_CARDS = [\"Combust\", \"Dark Embrace\", \"Evolve\", \"Feel No Pain\", \"Fire Breathing\", \"Inflame\", \"Metallicize\", \"Rupture\", \"Barricade\", \"Berserk\", \"Brutality\", \"Corruption\", \"Demon Form\", \"Juggernaut\"]\n",
    "  IRONCLAD_CARDS = IC_ATTACK_CARDS + IC_SKILL_CARDS + IC_POWER_CARDS\n",
    "\n",
    "  COLORLESS_CARDS = [\"Dramatic Entrance\", \"Flash of Steel\", \"Mind Blast\", \"Swift Strike\", \"HandOfGreed\", \"Bite\", \"Expunger\", \"Ritual Dagger\", \"Shiv\", \"Smite\", \"Through Violence\", \"Bandage Up\", \"Blind\", \"Dark Shackles\", \"Deep Breath\", \"Discovery\", \"Enlightenment\", \"Finesse\", \"Forethought\", \"Good Instincts\", \"Impatience\", \"Jack Of All Trades\", \"Madness\", \"Panacea\", \"PanicButton\", \"Purity\", \"Trip\", \"Apotheosis\", \"Chrysalis\", \"Master of Strategy\", \"Metamorphosis\", \"Secret Technique\", \"Secret Weapon\", \"The Bomb\", \"Thinking Ahead\", \"Transmutation\", \"Violence\", \"Apparition\", \"Beta\", \"Insight\", \"J.A.X.\", \"Miracle\", \"Safety\", \"Magnetism\", \"Mayhem\", \"Panache\", \"Sadistic Nature\", ]\n",
    "\n",
    "  CURSE_CARDS = [\"AscendersBan\", \"Clumsy\", \"Curse of the Bell\", \"Decay\", \"Doubt\", \"Injury\", \"Necronomicurse\", \"Normality\", \"Pain\", \"Parasite\", \"Pride\", \"Regret\", \"Shame\", \"Writhe\"]\n",
    "  return IRONCLAD_CARDS + COLORLESS_CARDS + CURSE_CARDS + upgrade_lst(IRONCLAD_CARDS) + upgrade_lst(COLORLESS_CARDS)"
   ]
  },
  {
   "cell_type": "code",
   "execution_count": 6,
   "id": "eafe5deb-de22-4f11-80de-99848ef4a13e",
   "metadata": {},
   "outputs": [],
   "source": [
    "vocab = get_ALL_CARD()"
   ]
  },
  {
   "cell_type": "code",
   "execution_count": 7,
   "id": "bf59d4b7-dc30-40ae-adc6-88423f46308a",
   "metadata": {},
   "outputs": [],
   "source": [
    "from sklearn.feature_extraction.text import TfidfVectorizer\n",
    "from sklearn.decomposition import TruncatedSVD"
   ]
  },
  {
   "cell_type": "code",
   "execution_count": 10,
   "id": "3499d2f5-584c-47fa-9bac-7fa650e021e7",
   "metadata": {},
   "outputs": [],
   "source": [
    "deck_state = pick.deck.tolist()"
   ]
  },
  {
   "cell_type": "code",
   "execution_count": 11,
   "id": "71a47103-0cd3-497c-9046-ec7d8534d7f6",
   "metadata": {},
   "outputs": [
    {
     "name": "stderr",
     "output_type": "stream",
     "text": [
      "c:\\users\\gaming\\appdata\\local\\programs\\python\\python39\\lib\\site-packages\\sklearn\\feature_extraction\\text.py:1375: UserWarning: Upper case characters found in vocabulary while 'lowercase' is True. These entries will not be matched with any documents\n",
      "  warnings.warn(\n"
     ]
    }
   ],
   "source": [
    "def custom_analyzer(doc):\n",
    "    return doc\n",
    "    \n",
    "tfidf_vectorizer = TfidfVectorizer(vocabulary=vocab, analyzer=custom_analyzer)\n",
    "tfidf_matrix = tfidf_vectorizer.fit_transform(deck_state)"
   ]
  },
  {
   "cell_type": "code",
   "execution_count": 13,
   "id": "811a8154-cbcb-41d6-b6eb-49301cd473db",
   "metadata": {},
   "outputs": [],
   "source": [
    "dense_matrix = tfidf_matrix.toarray()\n",
    "\n",
    "df = pd.DataFrame(dense_matrix, columns=tfidf_vectorizer.get_feature_names_out())"
   ]
  },
  {
   "cell_type": "code",
   "execution_count": 14,
   "id": "7890e360-61e4-42c8-b809-760266b7bc4d",
   "metadata": {},
   "outputs": [
    {
     "name": "stdout",
     "output_type": "stream",
     "text": [
      "      Strike_R      Bash     Anger  Body Slam  Clash    Cleave  Clothesline  \\\n",
      "0     0.771301  0.188103  0.000000        0.0    0.0  0.000000          0.0   \n",
      "1     0.668746  0.163092  0.000000        0.0    0.0  0.000000          0.0   \n",
      "2     0.634863  0.154829  0.000000        0.0    0.0  0.000000          0.0   \n",
      "3     0.600122  0.146356  0.326269        0.0    0.0  0.000000          0.0   \n",
      "4     0.531299  0.129572  0.000000        0.0    0.0  0.000000          0.0   \n",
      "...        ...       ...       ...        ...    ...       ...          ...   \n",
      "7986  0.260063  0.063424  0.000000        0.0    0.0  0.117261          0.0   \n",
      "7987  0.253826  0.061902  0.000000        0.0    0.0  0.114448          0.0   \n",
      "7988  0.249328  0.060805  0.000000        0.0    0.0  0.112420          0.0   \n",
      "7989  0.244130  0.059538  0.000000        0.0    0.0  0.110076          0.0   \n",
      "7990  0.215259  0.052497  0.000000        0.0    0.0  0.097059          0.0   \n",
      "\n",
      "      Headbutt  Heavy Blade  Iron Wave  ...  Apparition+1  Beta+1  Insight+1  \\\n",
      "0          0.0          0.0   0.000000  ...           0.0     0.0        0.0   \n",
      "1          0.0          0.0   0.000000  ...           0.0     0.0        0.0   \n",
      "2          0.0          0.0   0.000000  ...           0.0     0.0        0.0   \n",
      "3          0.0          0.0   0.000000  ...           0.0     0.0        0.0   \n",
      "4          0.0          0.0   0.000000  ...           0.0     0.0        0.0   \n",
      "...        ...          ...        ...  ...           ...     ...        ...   \n",
      "7986       0.0          0.0   0.138786  ...           0.0     0.0        0.0   \n",
      "7987       0.0          0.0   0.135457  ...           0.0     0.0        0.0   \n",
      "7988       0.0          0.0   0.133057  ...           0.0     0.0        0.0   \n",
      "7989       0.0          0.0   0.130283  ...           0.0     0.0        0.0   \n",
      "7990       0.0          0.0   0.114876  ...           0.0     0.0        0.0   \n",
      "\n",
      "      J.A.X.+1  Miracle+1  Safety+1  Magnetism+1  Mayhem+1  Panache+1  \\\n",
      "0          0.0        0.0       0.0          0.0       0.0        0.0   \n",
      "1          0.0        0.0       0.0          0.0       0.0        0.0   \n",
      "2          0.0        0.0       0.0          0.0       0.0        0.0   \n",
      "3          0.0        0.0       0.0          0.0       0.0        0.0   \n",
      "4          0.0        0.0       0.0          0.0       0.0        0.0   \n",
      "...        ...        ...       ...          ...       ...        ...   \n",
      "7986       0.0        0.0       0.0          0.0       0.0        0.0   \n",
      "7987       0.0        0.0       0.0          0.0       0.0        0.0   \n",
      "7988       0.0        0.0       0.0          0.0       0.0        0.0   \n",
      "7989       0.0        0.0       0.0          0.0       0.0        0.0   \n",
      "7990       0.0        0.0       0.0          0.0       0.0        0.0   \n",
      "\n",
      "      Sadistic Nature+1  \n",
      "0                   0.0  \n",
      "1                   0.0  \n",
      "2                   0.0  \n",
      "3                   0.0  \n",
      "4                   0.0  \n",
      "...                 ...  \n",
      "7986                0.0  \n",
      "7987                0.0  \n",
      "7988                0.0  \n",
      "7989                0.0  \n",
      "7990                0.0  \n",
      "\n",
      "[7991 rows x 257 columns]\n"
     ]
    }
   ],
   "source": [
    "print(df)"
   ]
  },
  {
   "cell_type": "code",
   "execution_count": 15,
   "id": "294773df-ee9f-48ad-ae2a-8bded215e6e5",
   "metadata": {},
   "outputs": [],
   "source": [
    "import nbimporter\n",
    "import save_load_matrix as slm"
   ]
  },
  {
   "cell_type": "code",
   "execution_count": 16,
   "id": "c40169ca-9323-476a-9055-4b281bfae3be",
   "metadata": {},
   "outputs": [],
   "source": [
    "slm.save('tfidf_matrix' , 'deck_8k.pkl')"
   ]
  },
  {
   "cell_type": "code",
   "execution_count": null,
   "id": "794d2502-f053-4f78-87e9-f824a556743d",
   "metadata": {},
   "outputs": [],
   "source": []
  }
 ],
 "metadata": {
  "kernelspec": {
   "display_name": "Python 3 (ipykernel)",
   "language": "python",
   "name": "python3"
  },
  "language_info": {
   "codemirror_mode": {
    "name": "ipython",
    "version": 3
   },
   "file_extension": ".py",
   "mimetype": "text/x-python",
   "name": "python",
   "nbconvert_exporter": "python",
   "pygments_lexer": "ipython3",
   "version": "3.9.5"
  }
 },
 "nbformat": 4,
 "nbformat_minor": 5
}
