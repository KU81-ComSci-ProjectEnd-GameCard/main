{
 "cells": [
  {
   "cell_type": "code",
   "execution_count": 1,
   "id": "c64bf4e6-4fa6-4050-bff1-4b4b5a60d89a",
   "metadata": {},
   "outputs": [],
   "source": [
    "import urllib.request\n",
    "import json\n",
    "import numpy as np\n",
    "import pandas as pd\n",
    "from joblib import load\n",
    "from sklearn.feature_extraction.text import TfidfVectorizer\n",
    "from sklearn.decomposition import TruncatedSVD"
   ]
  },
  {
   "cell_type": "code",
   "execution_count": 228,
   "id": "d28db8a0-4f06-4fee-853d-4a936ed6c493",
   "metadata": {},
   "outputs": [],
   "source": [
    "def custom_analyzer(doc):\n",
    "    return doc\n",
    "\n",
    "cardVec = load('matrix_data/cardVecTF_MIX_11k_20dim.joblib')\n",
    "deckVecorizer = load('matrix_data/deckVectorizer_MIX_11k_30K.joblib')"
   ]
  },
  {
   "cell_type": "code",
   "execution_count": 229,
   "id": "16c4ba2b-4b47-4dc4-beba-4a24289aded5",
   "metadata": {},
   "outputs": [
    {
     "data": {
      "text/html": [
       "<style>#sk-container-id-6 {color: black;}#sk-container-id-6 pre{padding: 0;}#sk-container-id-6 div.sk-toggleable {background-color: white;}#sk-container-id-6 label.sk-toggleable__label {cursor: pointer;display: block;width: 100%;margin-bottom: 0;padding: 0.3em;box-sizing: border-box;text-align: center;}#sk-container-id-6 label.sk-toggleable__label-arrow:before {content: \"▸\";float: left;margin-right: 0.25em;color: #696969;}#sk-container-id-6 label.sk-toggleable__label-arrow:hover:before {color: black;}#sk-container-id-6 div.sk-estimator:hover label.sk-toggleable__label-arrow:before {color: black;}#sk-container-id-6 div.sk-toggleable__content {max-height: 0;max-width: 0;overflow: hidden;text-align: left;background-color: #f0f8ff;}#sk-container-id-6 div.sk-toggleable__content pre {margin: 0.2em;color: black;border-radius: 0.25em;background-color: #f0f8ff;}#sk-container-id-6 input.sk-toggleable__control:checked~div.sk-toggleable__content {max-height: 200px;max-width: 100%;overflow: auto;}#sk-container-id-6 input.sk-toggleable__control:checked~label.sk-toggleable__label-arrow:before {content: \"▾\";}#sk-container-id-6 div.sk-estimator input.sk-toggleable__control:checked~label.sk-toggleable__label {background-color: #d4ebff;}#sk-container-id-6 div.sk-label input.sk-toggleable__control:checked~label.sk-toggleable__label {background-color: #d4ebff;}#sk-container-id-6 input.sk-hidden--visually {border: 0;clip: rect(1px 1px 1px 1px);clip: rect(1px, 1px, 1px, 1px);height: 1px;margin: -1px;overflow: hidden;padding: 0;position: absolute;width: 1px;}#sk-container-id-6 div.sk-estimator {font-family: monospace;background-color: #f0f8ff;border: 1px dotted black;border-radius: 0.25em;box-sizing: border-box;margin-bottom: 0.5em;}#sk-container-id-6 div.sk-estimator:hover {background-color: #d4ebff;}#sk-container-id-6 div.sk-parallel-item::after {content: \"\";width: 100%;border-bottom: 1px solid gray;flex-grow: 1;}#sk-container-id-6 div.sk-label:hover label.sk-toggleable__label {background-color: #d4ebff;}#sk-container-id-6 div.sk-serial::before {content: \"\";position: absolute;border-left: 1px solid gray;box-sizing: border-box;top: 0;bottom: 0;left: 50%;z-index: 0;}#sk-container-id-6 div.sk-serial {display: flex;flex-direction: column;align-items: center;background-color: white;padding-right: 0.2em;padding-left: 0.2em;position: relative;}#sk-container-id-6 div.sk-item {position: relative;z-index: 1;}#sk-container-id-6 div.sk-parallel {display: flex;align-items: stretch;justify-content: center;background-color: white;position: relative;}#sk-container-id-6 div.sk-item::before, #sk-container-id-6 div.sk-parallel-item::before {content: \"\";position: absolute;border-left: 1px solid gray;box-sizing: border-box;top: 0;bottom: 0;left: 50%;z-index: -1;}#sk-container-id-6 div.sk-parallel-item {display: flex;flex-direction: column;z-index: 1;position: relative;background-color: white;}#sk-container-id-6 div.sk-parallel-item:first-child::after {align-self: flex-end;width: 50%;}#sk-container-id-6 div.sk-parallel-item:last-child::after {align-self: flex-start;width: 50%;}#sk-container-id-6 div.sk-parallel-item:only-child::after {width: 0;}#sk-container-id-6 div.sk-dashed-wrapped {border: 1px dashed gray;margin: 0 0.4em 0.5em 0.4em;box-sizing: border-box;padding-bottom: 0.4em;background-color: white;}#sk-container-id-6 div.sk-label label {font-family: monospace;font-weight: bold;display: inline-block;line-height: 1.2em;}#sk-container-id-6 div.sk-label-container {text-align: center;}#sk-container-id-6 div.sk-container {/* jupyter's `normalize.less` sets `[hidden] { display: none; }` but bootstrap.min.css set `[hidden] { display: none !important; }` so we also need the `!important` here to be able to override the default hidden behavior on the sphinx rendered scikit-learn.org. See: https://github.com/scikit-learn/scikit-learn/issues/21755 */display: inline-block !important;position: relative;}#sk-container-id-6 div.sk-text-repr-fallback {display: none;}</style><div id=\"sk-container-id-6\" class=\"sk-top-container\"><div class=\"sk-text-repr-fallback\"><pre>TfidfVectorizer(analyzer=&lt;function custom_analyzer at 0x000002145F07EAF0&gt;,\n",
       "                lowercase=False,\n",
       "                vocabulary=[&#x27;Strike_R&#x27;, &#x27;Bash&#x27;, &#x27;Anger&#x27;, &#x27;Body Slam&#x27;, &#x27;Clash&#x27;,\n",
       "                            &#x27;Cleave&#x27;, &#x27;Clothesline&#x27;, &#x27;Headbutt&#x27;, &#x27;Heavy Blade&#x27;,\n",
       "                            &#x27;Iron Wave&#x27;, &#x27;Perfected Strike&#x27;, &#x27;Pommel Strike&#x27;,\n",
       "                            &#x27;Sword Boomerang&#x27;, &#x27;Thunderclap&#x27;, &#x27;Twin Strike&#x27;,\n",
       "                            &#x27;Wild Strike&#x27;, &#x27;Blood for Blood&#x27;, &#x27;Carnage&#x27;,\n",
       "                            &#x27;Dropkick&#x27;, &#x27;Hemokinesis&#x27;, &#x27;Pummel&#x27;, &#x27;Rampage&#x27;,\n",
       "                            &#x27;Reckless Charge&#x27;, &#x27;Searing Blow&#x27;, &#x27;Sever Soul&#x27;,\n",
       "                            &#x27;Uppercut&#x27;, &#x27;Whirlwind&#x27;, &#x27;Bludgeon&#x27;, &#x27;Feed&#x27;,\n",
       "                            &#x27;Fiend Fire&#x27;, ...])</pre><b>In a Jupyter environment, please rerun this cell to show the HTML representation or trust the notebook. <br />On GitHub, the HTML representation is unable to render, please try loading this page with nbviewer.org.</b></div><div class=\"sk-container\" hidden><div class=\"sk-item\"><div class=\"sk-estimator sk-toggleable\"><input class=\"sk-toggleable__control sk-hidden--visually\" id=\"sk-estimator-id-6\" type=\"checkbox\" checked><label for=\"sk-estimator-id-6\" class=\"sk-toggleable__label sk-toggleable__label-arrow\">TfidfVectorizer</label><div class=\"sk-toggleable__content\"><pre>TfidfVectorizer(analyzer=&lt;function custom_analyzer at 0x000002145F07EAF0&gt;,\n",
       "                lowercase=False,\n",
       "                vocabulary=[&#x27;Strike_R&#x27;, &#x27;Bash&#x27;, &#x27;Anger&#x27;, &#x27;Body Slam&#x27;, &#x27;Clash&#x27;,\n",
       "                            &#x27;Cleave&#x27;, &#x27;Clothesline&#x27;, &#x27;Headbutt&#x27;, &#x27;Heavy Blade&#x27;,\n",
       "                            &#x27;Iron Wave&#x27;, &#x27;Perfected Strike&#x27;, &#x27;Pommel Strike&#x27;,\n",
       "                            &#x27;Sword Boomerang&#x27;, &#x27;Thunderclap&#x27;, &#x27;Twin Strike&#x27;,\n",
       "                            &#x27;Wild Strike&#x27;, &#x27;Blood for Blood&#x27;, &#x27;Carnage&#x27;,\n",
       "                            &#x27;Dropkick&#x27;, &#x27;Hemokinesis&#x27;, &#x27;Pummel&#x27;, &#x27;Rampage&#x27;,\n",
       "                            &#x27;Reckless Charge&#x27;, &#x27;Searing Blow&#x27;, &#x27;Sever Soul&#x27;,\n",
       "                            &#x27;Uppercut&#x27;, &#x27;Whirlwind&#x27;, &#x27;Bludgeon&#x27;, &#x27;Feed&#x27;,\n",
       "                            &#x27;Fiend Fire&#x27;, ...])</pre></div></div></div></div></div>"
      ],
      "text/plain": [
       "TfidfVectorizer(analyzer=<function custom_analyzer at 0x000002145F07EAF0>,\n",
       "                lowercase=False,\n",
       "                vocabulary=['Strike_R', 'Bash', 'Anger', 'Body Slam', 'Clash',\n",
       "                            'Cleave', 'Clothesline', 'Headbutt', 'Heavy Blade',\n",
       "                            'Iron Wave', 'Perfected Strike', 'Pommel Strike',\n",
       "                            'Sword Boomerang', 'Thunderclap', 'Twin Strike',\n",
       "                            'Wild Strike', 'Blood for Blood', 'Carnage',\n",
       "                            'Dropkick', 'Hemokinesis', 'Pummel', 'Rampage',\n",
       "                            'Reckless Charge', 'Searing Blow', 'Sever Soul',\n",
       "                            'Uppercut', 'Whirlwind', 'Bludgeon', 'Feed',\n",
       "                            'Fiend Fire', ...])"
      ]
     },
     "execution_count": 229,
     "metadata": {},
     "output_type": "execute_result"
    }
   ],
   "source": [
    "deckVecorizer"
   ]
  },
  {
   "cell_type": "code",
   "execution_count": 230,
   "id": "656efa3f-6d9e-411e-aae4-bc00f2a573c6",
   "metadata": {},
   "outputs": [],
   "source": [
    "data_url1 = 'data/processed_data/picked_TS_5k_14k.json'\n",
    "TS_pick = pd.read_json(data_url1)\n",
    "data_url2 = 'data/processed_data/picked_8k_30k.json'\n",
    "IC_pick = pd.read_json(data_url2)"
   ]
  },
  {
   "cell_type": "code",
   "execution_count": 231,
   "id": "18783d2a-e9c9-489e-b4fc-72969c062b42",
   "metadata": {},
   "outputs": [],
   "source": [
    "IC_pick_sample = IC_pick.sample(n=15000).reset_index()"
   ]
  },
  {
   "cell_type": "code",
   "execution_count": 232,
   "id": "8ad2394a-9493-47d6-8580-c5611dd382a9",
   "metadata": {},
   "outputs": [],
   "source": [
    "pick = pd.concat([TS_pick, IC_pick_sample], ignore_index=True).sample(frac=1).reset_index(drop=True)"
   ]
  },
  {
   "cell_type": "markdown",
   "id": "3affae2c-fc44-438d-ad9f-e44120a1442c",
   "metadata": {},
   "source": [
    "kerass"
   ]
  },
  {
   "cell_type": "code",
   "execution_count": 233,
   "id": "5baa4a0a-e796-49e2-8a10-457d649827bc",
   "metadata": {},
   "outputs": [],
   "source": [
    "import numpy as np\n",
    "from tensorflow.keras.models import Sequential\n",
    "from tensorflow.keras.layers import Dense\n",
    "from sklearn.model_selection import train_test_split\n",
    "from sklearn.preprocessing import StandardScaler\n",
    "from tensorflow.keras.callbacks import Callback\n",
    "from tensorflow.keras.layers import Dense, Input, Dropout, BatchNormalization\n",
    "from tensorflow.keras.regularizers import l2\n",
    "import keras"
   ]
  },
  {
   "cell_type": "code",
   "execution_count": 234,
   "id": "d56dcb27-a234-4e3b-a33d-43545924853c",
   "metadata": {},
   "outputs": [],
   "source": [
    "keras.utils.set_random_seed(812)"
   ]
  },
  {
   "cell_type": "code",
   "execution_count": 235,
   "id": "50306672-8d79-4ea0-add9-88383e54d68e",
   "metadata": {},
   "outputs": [],
   "source": [
    "X = deckVecorizer.fit_transform(pick.deck.tolist())\n",
    "X = X.toarray()\n",
    "x_card = pick.deck.tolist()\n",
    "y = [cardVec[picked] for picked in pick.picked ]\n",
    "y_card = pick.picked \n",
    "\n",
    "X = np.array(X, dtype=np.float32)\n",
    "y = np.array(y, dtype=np.float32)\n",
    "y_card = np.array(y_card, dtype= str)\n",
    "\n",
    "# Split data into training and testing sets\n",
    "X_train, X_test, y_train, y_test, yC_train,yC_test ,xC_train,xC_test= train_test_split(X, y,y_card,x_card,  test_size=0.2,  shuffle=True)\n"
   ]
  },
  {
   "cell_type": "code",
   "execution_count": 236,
   "id": "690cb100-7a4b-4560-bc0f-11319a407586",
   "metadata": {},
   "outputs": [
    {
     "data": {
      "text/plain": [
       "(29413, 379)"
      ]
     },
     "execution_count": 236,
     "metadata": {},
     "output_type": "execute_result"
    }
   ],
   "source": [
    "X.shape"
   ]
  },
  {
   "cell_type": "code",
   "execution_count": 237,
   "id": "08e00da1-705f-4119-8b22-84341b96079e",
   "metadata": {},
   "outputs": [
    {
     "data": {
      "text/plain": [
       "(29413, 20)"
      ]
     },
     "execution_count": 237,
     "metadata": {},
     "output_type": "execute_result"
    }
   ],
   "source": [
    "y.shape"
   ]
  },
  {
   "cell_type": "code",
   "execution_count": 238,
   "id": "c779364b-c182-4e49-99de-82c00fb1a3b3",
   "metadata": {},
   "outputs": [],
   "source": [
    "# Standardize the data\n",
    "### scaler = StandardScaler()\n",
    "## X_train = scaler.fit_transform(X_train)\n",
    "## X_test = scaler.transform(X_test)"
   ]
  },
  {
   "cell_type": "code",
   "execution_count": 239,
   "id": "045093db-5e09-4062-8931-2fafd097aa98",
   "metadata": {},
   "outputs": [],
   "source": [
    "import tensorflow as tf\n",
    "from tensorflow.keras.optimizers import Adam\n",
    "def cosine_similarity_loss(y_true, y_pred):\n",
    "    # Compute the dot product between y_true and y_pred\n",
    "    dot_product = tf.reduce_sum(tf.multiply(y_true, y_pred), axis=-1)\n",
    "    \n",
    "    # Compute the norm of y_true and y_pred\n",
    "    norm_y_true = tf.sqrt(tf.reduce_sum(tf.square(y_true), axis=-1))\n",
    "    norm_y_pred = tf.sqrt(tf.reduce_sum(tf.square(y_pred), axis=-1))\n",
    "    \n",
    "    # Compute cosine similarity\n",
    "    cosine_similarity = dot_product / (norm_y_true * norm_y_pred + tf.keras.backend.epsilon())\n",
    "    \n",
    "    # Cosine similarity ranges from -1 to 1, so we convert it to a loss value by subtracting from 1\n",
    "    return 1 - cosine_similarity"
   ]
  },
  {
   "cell_type": "code",
   "execution_count": 240,
   "id": "4ec821e0-ea9c-48e6-a616-a3b9545ce91a",
   "metadata": {},
   "outputs": [],
   "source": [
    "def cosine_similarity(vector1, vector2):\n",
    "    dot_product = np.dot(vector1, vector2)\n",
    "    norm1 = np.linalg.norm(vector1)\n",
    "    norm2 = np.linalg.norm(vector2)\n",
    "    if norm1 == 0 or norm2 == 0:\n",
    "        return np.array(0.0)\n",
    "    similarity = dot_product / (norm1 * norm2)\n",
    "    return similarity"
   ]
  },
  {
   "cell_type": "code",
   "execution_count": 241,
   "id": "845347e9-ca0d-4176-8bad-32221a72148a",
   "metadata": {},
   "outputs": [],
   "source": [
    "model = Sequential([\n",
    "    Input(shape=(379,)),# Define the input shape\n",
    "\n",
    "    Dense(256, activation='relu' ),     \n",
    "   \n",
    "    \n",
    "    Dense(128, activation='relu'),     \n",
    "\n",
    "    \n",
    "    Dense(64, activation='relu' ),  \n",
    "    Dense(32, activation='relu' ),  \n",
    "\n",
    "    Dense(20)          \n",
    "])\n",
    "# Compile the model\n",
    "optimizer = Adam(learning_rate=0.001)\n",
    "model.compile(optimizer=optimizer, loss= cosine_similarity_loss) "
   ]
  },
  {
   "cell_type": "code",
   "execution_count": 242,
   "id": "83fd3e4f-a97b-42df-aa06-af26669e00fb",
   "metadata": {},
   "outputs": [],
   "source": [
    "# If you need it in the form of a History-like object\n",
    "class HistoryMock:\n",
    "    def __init__(self):\n",
    "        self.history = {'loss': [], 'accuracy': []}  # Add other metrics as needed\n",
    "\n",
    "history = HistoryMock()"
   ]
  },
  {
   "cell_type": "code",
   "execution_count": 243,
   "id": "25afb926-87dd-4663-9eba-857f280f4e36",
   "metadata": {},
   "outputs": [],
   "source": [
    "# Train the model\n",
    "history_tmp = model.fit(X_train, y_train, epochs=60,batch_size=16,verbose=0)"
   ]
  },
  {
   "cell_type": "code",
   "execution_count": 244,
   "id": "e15ca695-8882-4b9f-a46c-e538020eb771",
   "metadata": {},
   "outputs": [],
   "source": [
    "for key in history_tmp.history.keys():\n",
    "    if key in history.history:\n",
    "        history.history[key].extend(history_tmp.history[key])\n",
    "    else:\n",
    "        history.history[key] = history_tmp.history[key]"
   ]
  },
  {
   "cell_type": "code",
   "execution_count": 245,
   "id": "665716f1-13e9-4f95-846f-86584006f5b4",
   "metadata": {},
   "outputs": [
    {
     "data": {
      "image/png": "[encoded data removed]",
      "text/plain": [
       "<Figure size 640x480 with 1 Axes>"
      ]
     },
     "metadata": {},
     "output_type": "display_data"
    }
   ],
   "source": [
    "import matplotlib.pyplot as plt\n",
    "\n",
    "# Extract loss values from the history object\n",
    "loss = history.history['loss']\n",
    "\n",
    "# If you have validation data\n",
    "val_loss = history.history.get('val_loss', None)\n",
    "\n",
    "# Plot the training loss\n",
    "plt.plot(loss, label='Training Loss')\n",
    "\n",
    "# Plot validation loss if available\n",
    "if val_loss:\n",
    "    plt.plot(val_loss, label='Validation Loss')\n",
    "\n",
    "# Customize the plot\n",
    "plt.title('Loss Curve')\n",
    "plt.xlabel('Epochs')\n",
    "plt.ylabel('Loss')\n",
    "plt.legend()\n",
    "plt.grid(True)\n",
    "\n",
    "# Show the plot\n",
    "plt.show()"
   ]
  },
  {
   "cell_type": "code",
   "execution_count": 251,
   "id": "4edc4b0e-7bda-4b0a-a40a-8301ba26e87f",
   "metadata": {},
   "outputs": [
    {
     "name": "stdout",
     "output_type": "stream",
     "text": [
      "\u001b[1m184/184\u001b[0m \u001b[32m━━━━━━━━━━━━━━━━━━━━\u001b[0m\u001b[37m\u001b[0m \u001b[1m0s\u001b[0m 1ms/step - loss: 0.4499\n",
      "Test Loss: 0.4543\n",
      "\u001b[1m184/184\u001b[0m \u001b[32m━━━━━━━━━━━━━━━━━━━━\u001b[0m\u001b[37m\u001b[0m \u001b[1m0s\u001b[0m 885us/step\n"
     ]
    }
   ],
   "source": [
    "\n",
    "# Evaluate the model on the test set\n",
    "loss = model.evaluate(X_test, y_test, verbose=1)\n",
    "\n",
    "# If loss is a list, print the first element as the test loss\n",
    "print(f'Test Loss: {loss[0]:.4f}' if isinstance(loss, list) else f'Test Loss: {loss:.4f}')\n",
    "\n",
    "# Make predictions (optional)\n",
    "predictions = model.predict(X_test)\n",
    "simility_test = list()\n",
    "for pred, pick_card in zip(predictions , yC_test):\n",
    "    simility_test.append(cosine_similarity(pred, cardVec[pick_card]))"
   ]
  },
  {
   "cell_type": "code",
   "execution_count": 252,
   "id": "417dacd1-3706-4da0-9ce1-1253295bf076",
   "metadata": {},
   "outputs": [],
   "source": [
    "mt = pd.DataFrame()"
   ]
  },
  {
   "cell_type": "code",
   "execution_count": 253,
   "id": "2f229c6e-c4de-4c77-8edb-eb60265bbdd5",
   "metadata": {
    "scrolled": true
   },
   "outputs": [],
   "source": [
    "mt['similate'] = simility_test"
   ]
  },
  {
   "cell_type": "code",
   "execution_count": 254,
   "id": "632ae801-2fcd-471d-9360-b712c63d08ba",
   "metadata": {},
   "outputs": [
    {
     "data": {
      "text/plain": [
       "<bound method DataFrame.count of       similate\n",
       "0     0.955057\n",
       "1     0.754965\n",
       "2     0.923854\n",
       "3     0.879912\n",
       "4     0.561801\n",
       "...        ...\n",
       "5878  0.439951\n",
       "5879   0.85079\n",
       "5880  0.958291\n",
       "5881  0.561965\n",
       "5882  0.614232\n",
       "\n",
       "[5883 rows x 1 columns]>"
      ]
     },
     "execution_count": 254,
     "metadata": {},
     "output_type": "execute_result"
    }
   ],
   "source": [
    "mt.count"
   ]
  },
  {
   "cell_type": "code",
   "execution_count": 255,
   "id": "fc22680d-2a0e-4b3a-aff6-df26b570986b",
   "metadata": {},
   "outputs": [
    {
     "name": "stdout",
     "output_type": "stream",
     "text": [
      "0.7382287948325684\n",
      "0.6070032296447391\n",
      "0.43685194628590857\n"
     ]
    }
   ],
   "source": [
    "print((mt.loc[ mt.similate > 0.3].count().similate )/5883)\n",
    "print((mt.loc[ mt.similate > 0.5].count().similate )/5883)\n",
    "print((mt.loc[ mt.similate > 0.7].count().similate )/5883)"
   ]
  },
  {
   "cell_type": "code",
   "execution_count": 256,
   "id": "88c47568-9478-42f6-9320-e5758a385181",
   "metadata": {},
   "outputs": [
    {
     "data": {
      "image/png": "[encoded data removed]",
      "text/plain": [
       "<Figure size 640x480 with 1 Axes>"
      ]
     },
     "metadata": {},
     "output_type": "display_data"
    }
   ],
   "source": [
    "import matplotlib.pyplot as plt\n",
    "\n",
    "# Drop NaN values before plotting\n",
    "data = mt['similate'].dropna()\n",
    "\n",
    "# Plot histogram\n",
    "plt.hist(data, bins=30, color='blue', edgecolor='black')\n",
    "\n",
    "# Add labels and title\n",
    "plt.xlabel(\"Value\")\n",
    "plt.ylabel(\"Frequency\")\n",
    "plt.title(\"similarity test 20 dim\")\n",
    "\n",
    "# Display the plot\n",
    "plt.show()"
   ]
  },
  {
   "cell_type": "code",
   "execution_count": 257,
   "id": "408230ef-7270-4841-8dc0-7dcfb732bcac",
   "metadata": {},
   "outputs": [],
   "source": [
    "ic_smaple = [ [ [\"Strike_R\"] * 5 + [\"Defend_R\"] * 5 + [\"Bash\"]+['Shrug It Off']*0] ,\n",
    "             [ [\"Strike_R\"] * 5 + [\"Defend_R\"] * 10 + [\"Bash\"]+['Shrug It Off']*0] ,\n",
    "             [ [\"Strike_R\"] * 5 + [\"Defend_R\"] * 0 + [\"Bash\"]+['Shrug It Off']*0] ,\n",
    "             [ [\"Strike_R\"] * 5 + [\"Defend_R\"] * 5 + [\"Bash\"]+['Shrug It Off']*1] ,\n",
    "             [ [\"Strike_R\"] * 5 + [\"Defend_R\"] * 5 + [\"Bash\"]+['Shrug It Off']*3] ]"
   ]
  },
  {
   "cell_type": "code",
   "execution_count": 258,
   "id": "52d9ed95-3b3b-47c7-ba4d-60023e963539",
   "metadata": {},
   "outputs": [
    {
     "name": "stdout",
     "output_type": "stream",
     "text": [
      "\u001b[1m1/1\u001b[0m \u001b[32m━━━━━━━━━━━━━━━━━━━━\u001b[0m\u001b[37m\u001b[0m \u001b[1m0s\u001b[0m 22ms/step\n",
      "\u001b[1m1/1\u001b[0m \u001b[32m━━━━━━━━━━━━━━━━━━━━\u001b[0m\u001b[37m\u001b[0m \u001b[1m0s\u001b[0m 15ms/step\n",
      "\u001b[1m1/1\u001b[0m \u001b[32m━━━━━━━━━━━━━━━━━━━━\u001b[0m\u001b[37m\u001b[0m \u001b[1m0s\u001b[0m 15ms/step\n",
      "\u001b[1m1/1\u001b[0m \u001b[32m━━━━━━━━━━━━━━━━━━━━\u001b[0m\u001b[37m\u001b[0m \u001b[1m0s\u001b[0m 18ms/step\n",
      "\u001b[1m1/1\u001b[0m \u001b[32m━━━━━━━━━━━━━━━━━━━━\u001b[0m\u001b[37m\u001b[0m \u001b[1m0s\u001b[0m 16ms/step\n",
      "[array([0.76388371]), array([0.85915337]), array([0.65553778]), array([0.79589941]), array([0.68201858])]\n",
      "\n"
     ]
    }
   ],
   "source": [
    "sample = [deckVecorizer.transform(deck).toarray() for deck in ic_smaple]\n",
    "sample_pred = [model.predict(deck) for deck in sample]\n",
    "\n",
    "# Calculate cosine similarity for each prediction\n",
    "similarities = [cosine_similarity(pred, cardVec['Body Slam']) for pred in sample_pred]\n",
    "print(str(similarities) + '\\n')"
   ]
  },
  {
   "cell_type": "code",
   "execution_count": 259,
   "id": "ea900012-ec6f-4e19-a65a-83ec6ad374f1",
   "metadata": {},
   "outputs": [],
   "source": [
    "import matplotlib.pyplot as plt"
   ]
  },
  {
   "cell_type": "code",
   "execution_count": 64,
   "id": "3675846b-9090-4b94-b7f7-f8300372b260",
   "metadata": {},
   "outputs": [
    {
     "ename": "NameError",
     "evalue": "name 'sample_sim' is not defined",
     "output_type": "error",
     "traceback": [
      "\u001b[1;31m---------------------------------------------------------------------------\u001b[0m",
      "\u001b[1;31mNameError\u001b[0m                                 Traceback (most recent call last)",
      "Cell \u001b[1;32mIn[64], line 1\u001b[0m\n\u001b[1;32m----> 1\u001b[0m values \u001b[38;5;241m=\u001b[39m [item[\u001b[38;5;241m1\u001b[39m]\u001b[38;5;28;01mif\u001b[39;00m np\u001b[38;5;241m.\u001b[39misscalar(item[\u001b[38;5;241m1\u001b[39m]) \u001b[38;5;28;01melse\u001b[39;00m item[\u001b[38;5;241m1\u001b[39m]\u001b[38;5;241m.\u001b[39mitem() \u001b[38;5;28;01mfor\u001b[39;00m item \u001b[38;5;129;01min\u001b[39;00m \u001b[43msample_sim\u001b[49m]\n\u001b[0;32m      3\u001b[0m group_labels \u001b[38;5;241m=\u001b[39m [\u001b[38;5;124m'\u001b[39m\u001b[38;5;124mGroup 1\u001b[39m\u001b[38;5;124m'\u001b[39m] \u001b[38;5;241m*\u001b[39m \u001b[38;5;241m140\u001b[39m \u001b[38;5;241m+\u001b[39m [\u001b[38;5;124m'\u001b[39m\u001b[38;5;124mGroup 2\u001b[39m\u001b[38;5;124m'\u001b[39m] \u001b[38;5;241m*\u001b[39m \u001b[38;5;241m80\u001b[39m \u001b[38;5;241m+\u001b[39m [\u001b[38;5;124m'\u001b[39m\u001b[38;5;124mGroup 3\u001b[39m\u001b[38;5;124m'\u001b[39m] \u001b[38;5;241m*\u001b[39m (\u001b[38;5;28mlen\u001b[39m(values) \u001b[38;5;241m-\u001b[39m \u001b[38;5;241m220\u001b[39m)\n\u001b[0;32m      5\u001b[0m x_values \u001b[38;5;241m=\u001b[39m np\u001b[38;5;241m.\u001b[39marange(\u001b[38;5;28mlen\u001b[39m(values))\n",
      "\u001b[1;31mNameError\u001b[0m: name 'sample_sim' is not defined"
     ]
    }
   ],
   "source": [
    "values = [item[1]if np.isscalar(item[1]) else item[1].item() for item in sample_sim]\n",
    "\n",
    "group_labels = ['Group 1'] * 140 + ['Group 2'] * 80 + ['Group 3'] * (len(values) - 220)\n",
    "\n",
    "x_values = np.arange(len(values))\n",
    "# Create the line plot\n",
    "plt.figure(figsize=(12, 6))\n",
    "plt.plot(x_values, values, marker='o', linestyle='-', color='b', markersize=5)\n",
    "\n",
    "# Set x-ticks to the group transitions\n",
    "group_ticks = [139, 219, len(values) - 1]  # End of each group\n",
    "group_tick_labels = ['Group 1', 'Group 2', 'Group 3']\n",
    "\n",
    "plt.xticks(group_ticks, group_tick_labels)  # Set the group names as x-tick labels\n",
    "plt.xlabel('Groups')\n",
    "plt.ylabel('Values')\n",
    "plt.title('Continuous Line Graph with Group Labels')\n",
    "plt.tight_layout()\n",
    "plt.show()"
   ]
  },
  {
   "cell_type": "code",
   "execution_count": 65,
   "id": "356a7906-dfbf-417f-8bce-650f0654da93",
   "metadata": {},
   "outputs": [],
   "source": [
    "model.save('trained_model/MIX_11k_20dim_V5.keras')"
   ]
  },
  {
   "cell_type": "code",
   "execution_count": null,
   "id": "ef563132-bba2-4d6d-b28e-48806b33f4e5",
   "metadata": {},
   "outputs": [],
   "source": []
  },
  {
   "cell_type": "code",
   "execution_count": null,
   "id": "99eb9886-f4bc-4a9c-8e33-d080c04ed248",
   "metadata": {},
   "outputs": [],
   "source": []
  }
 ],
 "metadata": {
  "kernelspec": {
   "display_name": "Python 3 (ipykernel)",
   "language": "python",
   "name": "python3"
  },
  "language_info": {
   "codemirror_mode": {
    "name": "ipython",
    "version": 3
   },
   "file_extension": ".py",
   "mimetype": "text/x-python",
   "name": "python",
   "nbconvert_exporter": "python",
   "pygments_lexer": "ipython3",
   "version": "3.9.5"
  }
 },
 "nbformat": 4,
 "nbformat_minor": 5
}
