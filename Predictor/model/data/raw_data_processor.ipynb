{
 "cells": [
  {
   "cell_type": "markdown",
   "metadata": {
    "colab_type": "text",
    "id": "view-in-github"
   },
   "source": [
    "<a href=\"https://colab.research.google.com/github/KU81-ComSci-ProjectEnd-GameCard/main/blob/master/Predictor/data/json_unzip.ipynb\" target=\"_parent\"><img src=\"https://colab.research.google.com/assets/colab-badge.svg\" alt=\"Open In Colab\"/></a>"
   ]
  },
  {
   "cell_type": "markdown",
   "metadata": {
    "id": "04DcMHIr9wAZ"
   },
   "source": [
    "# load data\n",
    "**https://drive.google.com/drive/folders/1c7MwTdLxnPgvmPbBEfNWa45YAUU53H0l** make sure to load data form this before processing.  "
   ]
  },
  {
   "cell_type": "markdown",
   "metadata": {},
   "source": [
    "raw_data file so large to push to github"
   ]
  },
  {
   "cell_type": "code",
   "execution_count": 1,
   "metadata": {
    "id": "VQJ_117kMZMA"
   },
   "outputs": [],
   "source": [
    "import re\n",
    "def clear_SearingBlowPlus(lst):\n",
    "    return [re.sub(r'Searing Blow\\+\\d+', 'Searing Blow', item) for item in lst]"
   ]
  },
  {
   "cell_type": "code",
   "execution_count": 2,
   "metadata": {
    "id": "i3mdLMqFNFJe"
   },
   "outputs": [],
   "source": [
    "def upgrade_lst(lst):\n",
    "  new_lst = list()\n",
    "  for item in lst:\n",
    "    if(item == 'Searing Blow'):\n",
    "      new_lst.append('Searing Blow')\n",
    "    else:\n",
    "      new_lst.append(item+'+1')\n",
    "  return new_lst"
   ]
  },
  {
   "cell_type": "code",
   "execution_count": 3,
   "metadata": {
    "id": "KdsTG8ABM6ap"
   },
   "outputs": [],
   "source": [
    "def get_ALL_IC_CARD():\n",
    "  IC_ATTACK_CARDS = [\"Strike_R\", \"Bash\", \"Anger\", \"Body Slam\", \"Clash\", \"Cleave\", \"Clothesline\", \"Headbutt\", \"Heavy Blade\", \"Iron Wave\", \"Perfected Strike\", \"Pommel Strike\", \"Sword Boomerang\", \"Thunderclap\", \"Twin Strike\", \"Wild Strike\", \"Blood for Blood\", \"Carnage\", \"Dropkick\", \"Hemokinesis\", \"Pummel\", \"Rampage\", \"Reckless Charge\", \"Searing Blow\", \"Sever Soul\", \"Uppercut\", \"Whirlwind\", \"Bludgeon\", \"Feed\", \"Fiend Fire\", \"Immolate\", \"Reaper\"]\n",
    "  IC_SKILL_CARDS = [\"Defend_R\", \"Armaments\", \"Flex\", \"Havoc\", \"Shrug It Off\", \"True Grit\", \"Warcry\", \"Battle Trance\", \"Bloodletting\", \"Burning Pact\", \"Disarm\", \"Dual Wield\", \"Entrench\", \"Flame Barrier\", \"Ghostly Armor\", \"Infernal Blade\", \"Intimidate\", \"Power Through\", \"Rage\", \"Second Wind\", \"Seeing Red\", \"Sentinel\", \"Shockwave\", \"Spot Weakness\", \"Double Tap\", \"Exhume\", \"Impervious\", \"Limit Break\", \"Offering\"]\n",
    "  IC_POWER_CARDS = [\"Combust\", \"Dark Embrace\", \"Evolve\", \"Feel No Pain\", \"Fire Breathing\", \"Inflame\", \"Metallicize\", \"Rupture\", \"Barricade\", \"Berserk\", \"Brutality\", \"Corruption\", \"Demon Form\", \"Juggernaut\"]\n",
    "  IRONCLAD_CARDS = IC_ATTACK_CARDS + IC_SKILL_CARDS + IC_POWER_CARDS\n",
    "  return IRONCLAD_CARDS + upgrade_lst(IRONCLAD_CARDS)"
   ]
  },
  {
   "cell_type": "code",
   "execution_count": 4,
   "metadata": {},
   "outputs": [],
   "source": [
    "def get_ALL_COLORLESS_CARD():\n",
    "    COLORLESS_CARDS = [\"Dramatic Entrance\", \"Flash of Steel\", \"Mind Blast\", \"Swift Strike\", \"HandOfGreed\", \"Bite\", \"Expunger\", \"Ritual Dagger\", \"Shiv\", \"Smite\", \"Through Violence\", \"Bandage Up\", \"Blind\", \"Dark Shackles\", \"Deep Breath\", \"Discovery\", \"Enlightenment\", \"Finesse\", \"Forethought\", \"Good Instincts\", \"Impatience\", \"Jack Of All Trades\", \"Madness\", \"Panacea\", \"PanicButton\", \"Purity\", \"Trip\", \"Apotheosis\", \"Chrysalis\", \"Master of Strategy\", \"Metamorphosis\", \"Secret Technique\", \"Secret Weapon\", \"The Bomb\", \"Thinking Ahead\", \"Transmutation\", \"Violence\", \"Apparition\", \"Beta\", \"Insight\", \"J.A.X.\", \"Miracle\", \"Safety\", \"Magnetism\", \"Mayhem\", \"Panache\", \"Sadistic Nature\"]\n",
    "    CURSE_CARDS = [\"AscendersBane\", \"Clumsy\", \"Curse of the Bell\", \"Decay\", \"Doubt\", \"Injury\", \"Necronomicurse\", \"Normality\", \"Pain\", \"Parasite\", \"Pride\", \"Regret\", \"Shame\", \"Writhe\"]\n",
    "    return COLORLESS_CARDS + upgrade_lst(COLORLESS_CARDS) + CURSE_CARDS "
   ]
  },
  {
   "cell_type": "code",
   "execution_count": 5,
   "metadata": {},
   "outputs": [],
   "source": [
    "def get_ALL_TS_CARD():\n",
    "    TS_ALL_CARD =[ \t\n",
    "        \"Strike_G\" , \"Defend_G\" ,\"Neutralize\" , \"Survivor\",\n",
    "        \"Bane\", \"Dagger Spray\", \"Dagger Throw\", \"Flying Knee\", \"Poisoned Stab\", \"Quick Slash\", \"Slice\", \"Sneaky Strike\", \"Sucker Punch\",\n",
    "        \"All-Out Attack\", \"Backstab\", \"Choke\", \"Dash\", \"Endless Agony\", \"Eviscerate\", \"Finisher\", \"Flechettes\", \"Heel Hook\", \"Masterful Stab\", \"Predator\", \"Riddle with Holes\", \"Skewer\",\n",
    "        \"Die Die Die\", \"Glass Knife\", \"Grand Finale\", \"Unload\",\n",
    "        \"Acrobatics\", \"Backflip\", \"Blade Dance\", \"Cloak and Dagger\", \"Deadly Poison\", \"Deflect\", \"Dodge and Roll\", \"Outmaneuver\", \"Piercing Wail\", \"Prepared\",\n",
    "        \"Blur\", \"Bouncing Flask\", \"Calculated Gamble\", \"Catalyst\", \"Concentrate\", \"Crippling Cloud\", \"Distraction\", \"Escape Plan\", \"Expertise\", \"Leg Sweep\", \"Reflex\", \"Setup\", \"Tactician\", \"Terror\",\n",
    "        \"Adrenaline\", \"Alchemize\", \"Bullet Time\", \"Burst\", \"Corpse Explosion\", \"Doppelganger\", \"Malaise\", \"Nightmare\", \"Phantasmal Killer\", \"Storm of Steel\",\n",
    "        \"Accuracy\", \"Caltrops\", \"Footwork\", \"Infinite Blades\", \"Noxious Fumes\", \"Well Laid Plans\",\n",
    "        \"A Thousand Cuts\", \"After Image\", \"Envenom\", \"Tools of the Trade\", \"Wraith Form\"\n",
    "    ]\n",
    "    return TS_ALL_CARD + upgrade_lst(TS_ALL_CARD)\n",
    "    "
   ]
  },
  {
   "cell_type": "code",
   "execution_count": null,
   "metadata": {},
   "outputs": [],
   "source": []
  },
  {
   "cell_type": "code",
   "execution_count": 64,
   "metadata": {
    "id": "c-wAMWxCL4Tw"
   },
   "outputs": [],
   "source": [
    "import pandas as pd\n",
    "def get_ic_run(json_data):\n",
    "  df = pd.DataFrame(json_data)\n",
    "  runInfo = df['event'].apply(pd.Series)\n",
    "  runInfo['master_deck'] = runInfo['master_deck'].apply(clear_SearingBlowPlus)\n",
    "  ## รับแค่ run ของ ironclad\n",
    "  ALL_CARD = get_ALL_TS_CARD() + get_ALL_COLORLESS_CARD()\n",
    "  ic_run = runInfo[runInfo['master_deck'].apply(lambda x: all(word in ALL_CARD for word in x))]\n",
    "  ## เกณคือ ต้องผ่านชั้น 50 แล้ว\n",
    "  return ic_run.loc[ic_run.floor_reached >= 50]"
   ]
  },
  {
   "cell_type": "code",
   "execution_count": 70,
   "metadata": {
    "id": "aOqpP-JbKp2U"
   },
   "outputs": [],
   "source": [
    "import os\n",
    "import gzip\n",
    "import json\n",
    "\n",
    "def get_quality_run(directory, run_num,start=0, end=None):\n",
    "    quality_run = pd.DataFrame()\n",
    "    index = 0 \n",
    "    try:\n",
    "        counter = 0\n",
    "        for file_name in os.listdir(directory):\n",
    "            file_path = os.path.join(directory, file_name)\n",
    "            if os.path.isfile(file_path) and file_name.endswith('.json.gz'):\n",
    "                if counter >= start and (end is None or counter < end):\n",
    "                    with gzip.open(file_path, 'rt', encoding='utf-8') as gz_file:\n",
    "                        run_info = json.load(gz_file)\n",
    "                        ic_run = get_ic_run(run_info)\n",
    "                        quality_run = pd.concat([quality_run, ic_run], axis=0, join='outer')\n",
    "                        quality_run.drop_duplicates(subset=['play_id'])\n",
    "                        if(len(quality_run)>index):\n",
    "                            print(counter, '   :     ',len(quality_run))\n",
    "                            index = index + 2000\n",
    "                        if(len(quality_run) >= run_num):\n",
    "                            break\n",
    "            counter += 1\n",
    "    except Exception as e:\n",
    "        print(f\"Error: {e}\")\n",
    "    return quality_run\n",
    "                        "
   ]
  },
  {
   "cell_type": "code",
   "execution_count": 71,
   "metadata": {
    "id": "4haU1ttlZFGK"
   },
   "outputs": [],
   "source": [
    "raw_data = 'Monthly_2020_11'"
   ]
  },
  {
   "cell_type": "code",
   "execution_count": 72,
   "metadata": {
    "colab": {
     "base_uri": "https://localhost:8080/",
     "height": 263
    },
    "id": "zWKPZBqEPJWP",
    "outputId": "8695d629-8085-434e-ef1c-bcf72784cf19"
   },
   "outputs": [
    {
     "name": "stdout",
     "output_type": "stream",
     "text": [
      "0    :      2\n",
      "602    :      2001\n",
      "1208    :      4003\n"
     ]
    }
   ],
   "source": [
    "quality_run = get_quality_run(raw_data, 8000)"
   ]
  },
  {
   "cell_type": "code",
   "execution_count": 73,
   "metadata": {},
   "outputs": [],
   "source": [
    "quality_run = quality_run.reset_index()"
   ]
  },
  {
   "cell_type": "code",
   "execution_count": 74,
   "metadata": {},
   "outputs": [
    {
     "data": {
      "text/plain": [
       "5289"
      ]
     },
     "execution_count": 74,
     "metadata": {},
     "output_type": "execute_result"
    }
   ],
   "source": [
    "len(quality_run)"
   ]
  },
  {
   "cell_type": "code",
   "execution_count": 75,
   "metadata": {},
   "outputs": [],
   "source": [
    "import os\n",
    "file_path = os.path.join('processed_data', 'TS_quality_run5k.json')\n",
    "quality_run.to_json(file_path)"
   ]
  },
  {
   "cell_type": "code",
   "execution_count": 76,
   "metadata": {},
   "outputs": [
    {
     "data": {
      "text/plain": [
       "['AscendersBane',\n",
       " 'Strike_G',\n",
       " 'Strike_G',\n",
       " 'Strike_G',\n",
       " 'Strike_G',\n",
       " 'Strike_G',\n",
       " 'Defend_G',\n",
       " 'Defend_G',\n",
       " 'Defend_G',\n",
       " 'Defend_G',\n",
       " 'Defend_G',\n",
       " 'Survivor+1',\n",
       " 'Neutralize+1',\n",
       " 'Footwork+1',\n",
       " 'Noxious Fumes+1',\n",
       " 'Dagger Throw',\n",
       " 'Dash+1',\n",
       " 'Backflip+1',\n",
       " 'Dagger Spray+1',\n",
       " 'Adrenaline',\n",
       " 'Backflip+1',\n",
       " 'Dodge and Roll+1',\n",
       " 'Blur',\n",
       " 'Terror+1',\n",
       " 'Terror+1',\n",
       " 'Terror+1']"
      ]
     },
     "execution_count": 76,
     "metadata": {},
     "output_type": "execute_result"
    }
   ],
   "source": [
    "(quality_run.loc[quality_run.ascension_level >= 10]).iloc[0].master_deck"
   ]
  },
  {
   "cell_type": "code",
   "execution_count": null,
   "metadata": {},
   "outputs": [],
   "source": []
  }
 ],
 "metadata": {
  "colab": {
   "include_colab_link": true,
   "provenance": []
  },
  "kernelspec": {
   "display_name": "Python 3 (ipykernel)",
   "language": "python",
   "name": "python3"
  },
  "language_info": {
   "codemirror_mode": {
    "name": "ipython",
    "version": 3
   },
   "file_extension": ".py",
   "mimetype": "text/x-python",
   "name": "python",
   "nbconvert_exporter": "python",
   "pygments_lexer": "ipython3",
   "version": "3.9.5"
  }
 },
 "nbformat": 4,
 "nbformat_minor": 4
}
