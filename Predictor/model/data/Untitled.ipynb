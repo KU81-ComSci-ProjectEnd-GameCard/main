{
 "cells": [
  {
   "cell_type": "code",
   "execution_count": 13,
   "id": "e49a677f-be1e-4e63-92e1-a6a973426741",
   "metadata": {},
   "outputs": [],
   "source": [
    "import re\n",
    "def clear_SearingBlowPlus(lst):\n",
    "    return [re.sub(r'Searing Blow\\+\\d+', 'Searing Blow', item) for item in lst]\n",
    "def upgrade_lst(lst):\n",
    "  new_lst = list()\n",
    "  for item in lst:\n",
    "    if(item == 'Searing Blow'):\n",
    "      new_lst.append('Searing Blow')\n",
    "    else:\n",
    "      new_lst.append(item+'+1')\n",
    "  return new_lst\n",
    "def get_ALL_CARD():\n",
    "  IC_ATTACK_CARDS = [\"Strike_R\", \"Bash\", \"Anger\", \"Body Slam\", \"Clash\", \"Cleave\", \"Clothesline\", \"Headbutt\", \"Heavy Blade\", \"Iron Wave\", \"Perfected Strike\", \"Pommel Strike\", \"Sword Boomerang\", \"Thunderclap\", \"Twin Strike\", \"Wild Strike\", \"Blood for Blood\", \"Carnage\", \"Dropkick\", \"Hemokinesis\", \"Pummel\", \"Rampage\", \"Reckless Charge\", \"Searing Blow\", \"Sever Soul\", \"Uppercut\", \"Whirlwind\", \"Bludgeon\", \"Feed\", \"Fiend Fire\", \"Immolate\", \"Reaper\"]\n",
    "  IC_SKILL_CARDS = [\"Defend_R\", \"Armaments\", \"Flex\", \"H|avoc\", \"Shrug It Off\", \"True Grit\", \"Warcry\", \"Battle Trance\", \"Bloodletting\", \"Burning Pact\", \"Disarm\", \"Dual Wield\", \"Entrench\", \"Flame Barrier\", \"Ghostly Armor\", \"Infernal Blade\", \"Intimidate\", \"Power Through\", \"Rage\", \"Second Wind\", \"Seeing Red\", \"Sentinel\", \"Shockwave\", \"Spot Weakness\", \"Double Tap\", \"Exhume\", \"Impervious\", \"Limit Break\", \"Offering\"]\n",
    "  IC_POWER_CARDS = [\"Combust\", \"Dark Embrace\", \"Evolve\", \"Feel No Pain\", \"Fire Breathing\", \"Inflame\", \"Metallicize\", \"Rupture\", \"Barricade\", \"Berserk\", \"Brutality\", \"Corruption\", \"Demon Form\", \"Juggernaut\"]\n",
    "  IRONCLAD_CARDS = IC_ATTACK_CARDS + IC_SKILL_CARDS + IC_POWER_CARDS\n",
    "\n",
    "  COLORLESS_CARDS = [\"Dramatic Entrance\", \"Flash of Steel\", \"Mind Blast\", \"Swift Strike\", \"HandOfGreed\", \"Bite\", \"Expunger\", \"Ritual Dagger\", \"Shiv\", \"Smite\", \"Through Violence\", \"Bandage Up\", \"Blind\", \"Dark Shackles\", \"Deep Breath\", \"Discovery\", \"Enlightenment\", \"Finesse\", \"Forethought\", \"Good Instincts\", \"Impatience\", \"Jack Of All Trades\", \"Madness\", \"Panacea\", \"PanicButton\", \"Purity\", \"Trip\", \"Apotheosis\", \"Chrysalis\", \"Master of Strategy\", \"Metamorphosis\", \"Secret Technique\", \"Secret Weapon\", \"The Bomb\", \"Thinking Ahead\", \"Transmutation\", \"Violence\", \"Apparition\", \"Beta\", \"Insight\", \"J.A.X.\", \"Miracle\", \"Safety\", \"Magnetism\", \"Mayhem\", \"Panache\", \"Sadistic Nature\"]\n",
    "\n",
    "  CURSE_CARDS = [\"AscendersBane\", \"Clumsy\", \"Curse of the Bell\", \"Decay\", \"Doubt\", \"Injury\", \"Necronomicurse\", \"Normality\", \"Pain\", \"Parasite\", \"Pride\", \"Regret\", \"Shame\", \"Writhe\"]\n",
    "  return CURSE_CARDS + upgrade_lst(IRONCLAD_CARDS) + upgrade_lst(COLORLESS_CARDS)"
   ]
  },
  {
   "cell_type": "code",
   "execution_count": 14,
   "id": "c228ec3c-0636-4b54-9cbf-c3e2c1a6fc69",
   "metadata": {},
   "outputs": [],
   "source": [
    "vocab = get_ALL_CARD()"
   ]
  },
  {
   "cell_type": "code",
   "execution_count": 15,
   "id": "0bea147e-4202-40e0-a153-ed5f62bb74bd",
   "metadata": {},
   "outputs": [
    {
     "data": {
      "text/plain": [
       "136"
      ]
     },
     "execution_count": 15,
     "metadata": {},
     "output_type": "execute_result"
    }
   ],
   "source": [
    "len(vocab)"
   ]
  },
  {
   "cell_type": "code",
   "execution_count": null,
   "id": "5c78db66-7983-4831-8410-9ee012117164",
   "metadata": {},
   "outputs": [],
   "source": []
  }
 ],
 "metadata": {
  "kernelspec": {
   "display_name": "Python 3 (ipykernel)",
   "language": "python",
   "name": "python3"
  },
  "language_info": {
   "codemirror_mode": {
    "name": "ipython",
    "version": 3
   },
   "file_extension": ".py",
   "mimetype": "text/x-python",
   "name": "python",
   "nbconvert_exporter": "python",
   "pygments_lexer": "ipython3",
   "version": "3.9.5"
  }
 },
 "nbformat": 4,
 "nbformat_minor": 5
}
