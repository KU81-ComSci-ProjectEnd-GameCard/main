{
 "cells": [
  {
   "cell_type": "code",
   "execution_count": 43,
   "metadata": {},
   "outputs": [],
   "source": [
    "import pandas as pd\n",
    "from collections import Counter"
   ]
  },
  {
   "cell_type": "code",
   "execution_count": 44,
   "metadata": {
    "id": "mlI4exTXRy_H"
   },
   "outputs": [],
   "source": [
    "# URL of the raw JSON file on GitHub\n",
    "url = \"processed_data/TS_quality_run5k.json\"\n",
    "# Load the JSON data into a pandas DataFrame\n",
    "df = pd.read_json(url)"
   ]
  },
  {
   "cell_type": "code",
   "execution_count": 45,
   "metadata": {
    "id": "E4oPuWuvSTCj"
   },
   "outputs": [],
   "source": [
    "run = df.iloc[0]"
   ]
  },
  {
   "cell_type": "code",
   "execution_count": 46,
   "metadata": {
    "colab": {
     "base_uri": "https://localhost:8080/",
     "height": 1000
    },
    "id": "gBmJzXiLufKR",
    "outputId": "c714f131-f3d0-4f27-fa0b-0f9cb8776b44",
    "scrolled": true
   },
   "outputs": [
    {
     "data": {
      "text/plain": [
       "index                    5289\n",
       "gold_per_floor           5289\n",
       "floor_reached            5289\n",
       "playtime                 5289\n",
       "items_purged             5289\n",
       "score                    5289\n",
       "play_id                  5289\n",
       "local_time               5289\n",
       "is_ascension_mode        5289\n",
       "campfire_choices         5289\n",
       "neow_cost                5289\n",
       "seed_source_timestamp    5289\n",
       "circlet_count            5289\n",
       "master_deck              5289\n",
       "relics                   5289\n",
       "potions_floor_usage      5289\n",
       "damage_taken             5289\n",
       "seed_played              5289\n",
       "potions_obtained         5289\n",
       "is_trial                 5289\n",
       "path_per_floor           5289\n",
       "character_chosen         5289\n",
       "items_purchased          5289\n",
       "campfire_rested          5289\n",
       "item_purchase_floors     5289\n",
       "current_hp_per_floor     5289\n",
       "gold                     5289\n",
       "neow_bonus               5289\n",
       "is_prod                  5289\n",
       "is_daily                 5289\n",
       "chose_seed               5289\n",
       "campfire_upgraded        5289\n",
       "win_rate                 5289\n",
       "timestamp                5289\n",
       "path_taken               5289\n",
       "build_version            5289\n",
       "purchased_purges         5289\n",
       "victory                  5289\n",
       "max_hp_per_floor         5289\n",
       "card_choices             5289\n",
       "player_experience        5289\n",
       "relics_obtained          5289\n",
       "event_choices            5289\n",
       "is_beta                  5288\n",
       "boss_relics              5289\n",
       "items_purged_floors      5289\n",
       "is_endless               5289\n",
       "potions_floor_spawned    5289\n",
       "killed_by                1982\n",
       "ascension_level          5289\n",
       "special_seed             2489\n",
       "dtype: int64"
      ]
     },
     "execution_count": 46,
     "metadata": {},
     "output_type": "execute_result"
    }
   ],
   "source": [
    "df.count()"
   ]
  },
  {
   "cell_type": "code",
   "execution_count": 47,
   "metadata": {
    "id": "GzcH6jJvUGTI"
   },
   "outputs": [],
   "source": [
    " ## campfire_choices   items_purged  items_purged_floors   card_choices    items_purchased  item_purchase_floors   event_choices   neow_bonus"
   ]
  },
  {
   "cell_type": "code",
   "execution_count": 48,
   "metadata": {
    "id": "6PPP7UN_trda"
   },
   "outputs": [],
   "source": [
    "BASE_GAME_RELICS = {'Burning Blood', 'Cracked Core', 'PureWater', 'Ring of the Snake', 'Akabeko', 'Anchor', 'Ancient Tea Set', 'Art of War', 'Bag of Marbles', 'Bag of Preparation', 'Blood Vial', 'TestModSTS:BottledPlaceholderRelic', 'Bronze Scales', 'Centennial Puzzle', 'CeramicFish', 'Damaru', 'DataDisk', 'Dream Catcher', 'Happy Flower', 'Juzu Bracelet', 'Lantern', 'MawBank', 'MealTicket', 'Nunchaku', 'Oddly Smooth Stone', 'Omamori', 'Orichalcum', 'Pen Nib', 'TestModSTS:PlaceholderRelic2', 'Potion Belt', 'PreservedInsect', 'Red Skull', 'Regal Pillow', 'TestModSTS:DefaultClickableRelic', 'Smiling Mask', 'Snake Skull', 'Strawberry', 'Boot', 'Tiny Chest', 'Toy Ornithopter', 'Vajra', 'War Paint', 'Whetstone', 'Blue Candle', 'Bottled Flame', 'Bottled Lightning', 'Bottled Tornado', 'Darkstone Periapt', 'Yang', 'Eternal Feather', 'Frozen Egg 2', 'Cables', 'Gremlin Horn', 'HornCleat', 'InkBottle', 'Kunai', 'Letter Opener', 'Matryoshka', 'Meat on the Bone', 'Mercury Hourglass', 'Molten Egg 2', 'Mummified Hand', 'Ninja Scroll', 'Ornamental Fan', 'Pantograph', 'Paper Crane', 'Paper Frog', 'Pear', 'Question Card', 'Self Forming Clay', 'Shuriken', 'Singing Bowl', 'StrikeDummy', 'Sundial', 'Symbiotic Virus', 'TeardropLocket', 'The Courier', 'Toxic Egg 2', 'White Beast Statue', 'Bird Faced Urn', 'Calipers', 'CaptainsWheel', 'Champion Belt', 'Charon\\'s Ashes', 'CloakClasp', 'Dead Branch', 'Du-Vu Doll', 'Emotion Chip', 'FossilizedHelix', 'Gambling Chip', 'Ginger', 'Girya', 'GoldenEye', 'Ice Cream', 'Incense Burner', 'Lizard Tail', 'Magic Flower', 'Mango', 'Old Coin', 'Peace Pipe', 'Pocketwatch', 'Prayer Wheel', 'Shovel', 'StoneCalendar', 'The Specimen', 'Thread and Needle', 'Tingsha', 'Torii', 'Tough Bandages', 'TungstenRod', 'Turnip', 'Unceasing Top', 'WingedGreaves', 'Astrolabe', 'Black Blood', 'Black Star', 'Busted Crown', 'Calling Bell', 'Coffee Dripper', 'Cursed Key', 'Ectoplasm', 'Empty Cage', 'FrozenCore', 'Fusion Hammer', 'HolyWater', 'HoveringKite', 'Inserter', 'Mark of Pain', 'Nuclear Battery', 'Pandora\\'s Box', 'Philosopher\\'s Stone', 'Ring of the Serpent', 'Runic Cube', 'Runic Dome', 'Runic Pyramid', 'SacredBark', 'SlaversCollar', 'Snecko Eye', 'Sozu', 'Tiny House', 'Velvet Choker', 'VioletLotus', 'WristBlade', 'Bloody Idol', 'CultistMask', 'Enchiridion', 'FaceOfCleric', 'Golden Idol', 'GremlinMask', 'Mark of the Bloom', 'MutagenicStrength', 'Nloth\\'s Gift', 'NlothsMask', 'Necronomicon', 'NeowsBlessing', 'Nilry\\'s Codex', 'Odd Mushroom', 'Red Mask', 'Spirit Poop', 'SsserpentHead', 'WarpedTongs', 'Brimstone', 'Cauldron', 'Chemical X', 'ClockworkSouvenir', 'DollysMirror', 'Frozen Eye', 'HandDrill', 'Lee\\'s Waffle', 'Medical Kit', 'Melange', 'Membership Card', 'OrangePellets', 'Orrery', 'PrismaticShard', 'Runic Capacitor', 'Sling', 'Strange Spoon', 'TheAbacus', 'Toolbox', 'TwistedFunnel'}"
   ]
  },
  {
   "cell_type": "code",
   "execution_count": 49,
   "metadata": {
    "id": "leobnIPZL1ma"
   },
   "outputs": [],
   "source": [
    "UV_RELICS = {'Omamori','War Paint','Whetstone','DollysMirror','Orrery','Astrolbe','Pandora\\'s Box','Calling Bell','Tiny House','Empty Cage','Frozen Egg 2','Molten Egg 2','Toxic Egg 2','Necronomicon','Singing Bowl'}"
   ]
  },
  {
   "cell_type": "code",
   "execution_count": 50,
   "metadata": {
    "id": "GJcb-DecMA9R"
   },
   "outputs": [],
   "source": [
    "IC_ATK_CARD =[\"Anger\",\"Body Slam\",\"Clash\",\"Cleave\",\"Clothesline\",\"Headbutt\",\"Heavy Blade\",\"Iron Wave\",\"Perfected Strike\",\"Pommel Strike\",\"Sword Boomerang\",\"Thunderclap\",\"Twin Strike\",\"Wild Strike\",\"Blood for Blood\",\"Carnage\",\"Dropkick\",\"Hemokinesis\",\"Pummel\",\"Rampage\",\"Reckless Charge\",\"Searing Blow\",\"Sever Soul\",\"Uppercut\",\"Whirlwind\",\"Bludgeon\",\"Feed\",\"Fiend Fire\",\"Immolate\",\"Reaper\"]\n",
    "IC_ATK_CARD_P =[\"Anger+1\", \"Body Slam+1\", \"Clash+1\", \"Cleave+1\", \"Clothesline+1\", \"Headbutt+1\", \n",
    "    \"Heavy Blade+1\", \"Iron Wave+1\", \"Perfected Strike+1\", \"Pommel Strike+1\", \"Sword Boomerang+1\", \n",
    "    \"Thunderclap+1\", \"Twin Strike+1\", \"Wild Strike+1\", \"Blood for Blood+1\", \"Carnage+1\", \n",
    "    \"Dropkick+1\", \"Hemokinesis+1\", \"Pummel+1\", \"Rampage+1\", \"Reckless Charge+1\", \n",
    "    \"Searing Blow+1\", \"Sever Soul+1\", \"Uppercut+1\", \"Whirlwind+1\", \"Bludgeon+1\", \n",
    "    \"Feed+1\", \"Fiend Fire+1\", \"Immolate+1\", \"Reaper+1\"]\n",
    "IC_SKILL_CARD = [\"Armaments\",\"Flex\",\"Havoc\",\"Shrug It Off\",\"True Grit\",\"Warcry\",\"Battle Trance\",\"Bloodletting\",\"Burning Pact\",\"Disarm\",\"Dual Wield\",\"Entrench\",\"Flame Barrier\",\"Ghostly Armor\",\"Infernal Blade\",\"Intimidate\",\"Power Through\",\"Rage\",\"Second Wind\",\"Seeing Red\",\"Sentinel\",\"Shockwave\",\"Spot Weakness\",\"Double Tap\",\"Exhume\",\"Impervious\",\"Limit Break\",\"Offering\"]\n",
    "IC_SKILL_CARD_P = [\n",
    "    \"Armaments+1\", \"Flex+1\", \"Havoc+1\", \"Shrug It Off+1\", \"True Grit+1\", \"Warcry+1\", \"Battle Trance+1\", \n",
    "    \"Bloodletting+1\", \"Burning Pact+1\", \"Disarm+1\", \"Dual Wield+1\", \"Entrench+1\", \"Flame Barrier+1\", \n",
    "    \"Ghostly Armor+1\", \"Infernal Blade+1\", \"Intimidate+1\", \"Power Through+1\", \"Rage+1\", \"Second Wind+1\", \n",
    "    \"Seeing Red+1\", \"Sentinel+1\", \"Shockwave+1\", \"Spot Weakness+1\", \"Double Tap+1\", \"Exhume+1\", \n",
    "    \"Impervious+1\", \"Limit Break+1\", \"Offering+1\"\n",
    "]\n",
    "IC_POWER_CARD = [\"Combust\",\"Dark Embrace\",\"Evolve\",\"Feel No Pain\",\"Fire Breathing\",\"Inflame\",\"Metallicize\",\"Rupture\",\"Barricade\",\"Berserk\",\"Brutality\",\"Corruption\",\"Demon Form\",\"Juggernaut\"]\n",
    "IC_POWER_CARD_P = [\n",
    "    \"Combust+1\", \"Dark Embrace+1\", \"Evolve+1\", \"Feel No Pain+1\", \"Fire Breathing+1\", \"Inflame+1\", \n",
    "    \"Metallicize+1\", \"Rupture+1\", \"Barricade+1\", \"Berserk+1\", \"Brutality+1\", \"Corruption+1\", \n",
    "    \"Demon Form+1\", \"Juggernaut+1\"\n",
    "]"
   ]
  },
  {
   "cell_type": "code",
   "execution_count": 51,
   "metadata": {
    "id": "6zYU_8W_T7wA"
   },
   "outputs": [],
   "source": [
    "def log_add(log , floor , key , input):\n",
    "    if key == 'TRANFORM':\n",
    "        log.append( { 'floor' : floor , 'key' : key , 'cards' : input})\n",
    "    elif isinstance(input, list):\n",
    "        for i in input:\n",
    "            if key == 'GET_RELIC':\n",
    "                log.append( { 'floor' : floor , 'key' : key , 'relic' : i})\n",
    "            else:\n",
    "                log.append( { 'floor' : floor , 'key' : key , 'card' : i})\n",
    "    elif key == 'GET_RELIC':\n",
    "        log.append( { 'floor' : floor , 'key' : key , 'relic' : input})\n",
    "    elif 'UN_' in key:\n",
    "        log.append( { 'floor' : floor , 'key' : key , 'num' : input})\n",
    "    elif key == 'Writhing Mass':\n",
    "        log.append( { 'floor' : floor , 'key' : 'Writhing Mass' })\n",
    "    else:\n",
    "        log.append( { 'floor' : floor , 'key' : key , 'card' : input})"
   ]
  },
  {
   "cell_type": "code",
   "execution_count": 52,
   "metadata": {
    "id": "m-sa8r8AV8gf"
   },
   "outputs": [],
   "source": [
    "def process_pick(log , run):\n",
    "  for i in run.card_choices:\n",
    "    try:\n",
    "        if i['picked'] != 'SKIP' and i['picked'] != 'Singing Bowl':\n",
    "          log_add(log , i['floor'] , 'PICK' , i['picked'])\n",
    "    except KeyError as e:\n",
    "        ### มีบาง run card_choices ไม่บรรทึก floor?\n",
    "        continue\n",
    "  log[:] = sorted(log, key=lambda d: d['floor'])"
   ]
  },
  {
   "cell_type": "code",
   "execution_count": 53,
   "metadata": {
    "id": "7EiWOT-eYi1v"
   },
   "outputs": [],
   "source": [
    "def process_campfire(log , run):\n",
    "  for i in run.campfire_choices :\n",
    "    if i['key'] == 'SMITH':\n",
    "      log_add(log , i['floor'] , 'UPGRADE' , i['data'])\n",
    "    if i['key'] == 'PURGE':\n",
    "      log_add(log, i['floor'] , 'REMOVE' , i['data'])\n",
    "  log[:]  = sorted(log, key=lambda d: d['floor'])"
   ]
  },
  {
   "cell_type": "code",
   "execution_count": 54,
   "metadata": {
    "id": "Kl3AO23iapau"
   },
   "outputs": [],
   "source": [
    "def process_purged(log , run):\n",
    "  for i,j in zip(run.items_purged , run.items_purged_floors):\n",
    "    log_add(log , j , 'REMOVE' , i)\n",
    "  log[:]  = sorted(log, key=lambda d: d['floor'])"
   ]
  },
  {
   "cell_type": "code",
   "execution_count": 55,
   "metadata": {
    "id": "KYbDQnndb4uD"
   },
   "outputs": [],
   "source": [
    "def process_purchased(log , run):\n",
    "  for i,j in zip(run.items_purchased , run.item_purchase_floors ):\n",
    "    if i not in BASE_GAME_RELICS and 'Potion' not in i:\n",
    "        log_add(log , j , 'ADD' , i)\n",
    "    if i in UV_RELICS:\n",
    "        log_add(log , j , 'GET_RELIC' , i)\n",
    "  log[:]  = sorted(log, key=lambda d: d['floor'])"
   ]
  },
  {
   "cell_type": "code",
   "execution_count": 56,
   "metadata": {
    "id": "iplSND7aMiQE"
   },
   "outputs": [],
   "source": [
    "def process_relic(log , run):\n",
    "    for i in run.relics_obtained:\n",
    "        if i['key'] in UV_RELICS:\n",
    "            log_add(log , i['floor'] , 'GET_RELIC' , i['key'])\n",
    "    for f in run.boss_relics:\n",
    "        try:\n",
    "            if 'picked' in f.keys() and f['picked'] in UV_RELICS:\n",
    "                log_add(log , f['floor'] , 'GET_RELIC' , f['picked'])\n",
    "        except:\n",
    "            pass\n",
    "    log[:]  = sorted(log, key=lambda d: d['floor'])"
   ]
  },
  {
   "cell_type": "code",
   "execution_count": 57,
   "metadata": {
    "id": "NrmyM4ZvcswF"
   },
   "outputs": [],
   "source": [
    "## cards_obtained   cards_removed   cards_upgraded   , event_name == 'Vampires'   cards_transformed(ทั้ง get and remove)???\n",
    "def process_event(log , run):\n",
    "  for i in run.event_choices:\n",
    "    if 'cards_removed' in i:\n",
    "        log_add(log , i['floor'] , 'REMOVE' , i['cards_removed'])\n",
    "    elif 'cards_transformed' in i:\n",
    "        log_add(log , i['floor'] , 'TRANFORM' , [i['cards_transformed'][0],i['cards_obtained'][0]])\n",
    "    elif 'cards_obtained' in i:\n",
    "        log_add(log , i['floor'] , 'ADD' , i['cards_obtained'])\n",
    "    elif 'cards_upgraded' in i:\n",
    "        log_add(log , i['floor'] , 'UPGRADE' , i['cards_upgraded'])\n",
    "    elif i['event_name'] in 'Vampires' and i['player_choice'] == 'Accept':\n",
    "        log_add(log , i['floor'] , 'VAM' , '')\n",
    "    elif 'relics_obtained' in i and  i['relics_obtained'][0] in UV_RELICS:\n",
    "        log_add(log , i['floor'] , 'GET_RELIC' , i['relics_obtained'])\n",
    "  log[:] = sorted(log, key=lambda d: d['floor'])"
   ]
  },
  {
   "cell_type": "code",
   "execution_count": 58,
   "metadata": {},
   "outputs": [],
   "source": [
    "def process_battle(log , run):\n",
    "    for i in run.damage_taken :\n",
    "        if 'enemies' in i.keys() and i['enemies'] == 'Writhing Mass':\n",
    "            log_add(log , i['floor'] , 'Writhing Mass' , 'Parasite')\n",
    "    log[:] = sorted(log, key=lambda d: d['floor'])"
   ]
  },
  {
   "cell_type": "code",
   "execution_count": 59,
   "metadata": {},
   "outputs": [],
   "source": [
    "def process_neow(log , run):\n",
    "    if run.neow_bonus == 'UPGRADE_CARD':\n",
    "        log_add(log , 0 , 'UN_UPGRADE' , 2)\n",
    "    if run.neow_bonus == 'REMOVE_CARD' :\n",
    "        log_add(log , 0 , 'UN_REMOVE' , 1)\n",
    "    if run.neow_bonus == 'REMOVE_TWO' :\n",
    "        log_add(log , 0 , 'UN_REMOVE' , 2)\n",
    "    if run.neow_bonus == 'TRANSFORM_CARD':\n",
    "        log_add(log , 0 , 'UN_TRANFROM' , 1)\n",
    "    if run.neow_bonus == 'ONE_RANDOM_RARE_CARD':\n",
    "        log_add(log , 0 , 'UN_ADD' , 1)\n",
    "    if run.neow_bonus in ['ONE_RARE_RELIC' , 'RANDOM_COMMON_RELIC']:\n",
    "        log_add(log , 0, 'GET_RELIC' , run.relics[1])\n",
    "    if run.neow_bonus == 'BOSS_RELIC':\n",
    "        log_add(log , 0, 'GET_RELIC' , run.relics[0])\n",
    "    log[:] = sorted(log, key=lambda d: d['floor'])\n",
    "        \n",
    "    "
   ]
  },
  {
   "cell_type": "code",
   "execution_count": 60,
   "metadata": {},
   "outputs": [],
   "source": [
    "def unknow_value_form_relic(log):\n",
    "    for event in log:\n",
    "        if event['key'] == 'GET_RELIC':\n",
    "            if event['relic'] == 'War Paint':\n",
    "                log_add(log , event['floor'] , 'UN_UPGRADE' , 2)\n",
    "            if event['relic'] == 'Whetstone':\n",
    "                log_add(log , event['floor'] , 'UN_UPGRADE' , 2)\n",
    "            if event['relic'] == 'DollysMirror':\n",
    "                log_add(log , event['floor'] , 'UN_ADD' , 1)\n",
    "            if event['relic'] == 'Astrolbe':\n",
    "                log_add(log , event['floor'] , 'UN_TRANFROM' , 3)\n",
    "            if event['relic'] == 'Pandora\\'s Box': ## ไม่ได้เอามาคิด\n",
    "                log_add(log , event['floor'] , 'UN_TRANFROM' , 0)\n",
    "            if event['relic'] == 'Calling Bell': ## and 3 relic asume dont count\n",
    "                log_add(log , event['floor'] , 'UN_ADD_CURSE' , 1)\n",
    "            if event['relic'] == 'Tiny House':\n",
    "                log_add(log , event['floor'] , 'UN_ADD' , 1)\n",
    "                log_add(log , event['floor'] , 'UN_UPGRADE' , 1)\n",
    "            if event['relic'] == 'Necronomicon':\n",
    "                log_add(log , event['floor'] , 'ADD' , 'Necronomicurse')\n",
    "    log[:] = sorted(log, key=lambda d: d['floor'])"
   ]
  },
  {
   "cell_type": "code",
   "execution_count": 73,
   "metadata": {},
   "outputs": [],
   "source": [
    "def fill_missing_value(log,run):\n",
    "    curr_deck, curr_relic , deck_state = build_deck(log,run)\n",
    "    curr_deck = list(curr_deck)\n",
    "    master_deck = run.master_deck\n",
    "    try:\n",
    "        miss_cards  = [card for card in curr_deck if card not in master_deck]\n",
    "        extar_cards = [card for card in master_deck if card not in curr_deck]\n",
    "        unknow_value = { 'ADD' : list() , 'REMOVE' :list() , 'UPGRADE' : list()}\n",
    "        ## fill upgrade\n",
    "        ex_tmp = list(extar_cards)\n",
    "        for ex in extar_cards:\n",
    "            if ex[:-2] in miss_cards:\n",
    "                unknow_value['UPGRADE'].append(ex[:-2])\n",
    "                ex_tmp.remove(ex)\n",
    "                miss_cards.remove(ex[:-2])\n",
    "        extar_cards = ex_tmp\n",
    "        \n",
    "        unknow_value['ADD'] = list(extar_cards)\n",
    "        unknow_value['REMOVE'] = list(miss_cards)\n",
    "    \n",
    "        newLog = list(log)\n",
    "        for f in log:\n",
    "            if f['key'] =='UN_UPGRADE':\n",
    "                for i in range(f['num']) :\n",
    "                    if len(unknow_value['UPGRADE']) != 0:\n",
    "                        card = unknow_value['UPGRADE'].pop(0)\n",
    "                        log_add( newLog , f['floor'] ,'UPGRADE',card)\n",
    "            if f['key'] =='UN_TRANFROM':\n",
    "                for i in range(f['num']):\n",
    "                    if len(unknow_value['REMOVE']) != 0 and len(unknow_value['ADD']) != 0:\n",
    "                        card1 = unknow_value['REMOVE'].pop(0)\n",
    "                        card2 = unknow_value['ADD'].pop(0)\n",
    "                        log_add( newLog , f['floor'] ,'UN_TRANFROM',[card1,card2])\n",
    "            if f['key'] =='UN_ADD':\n",
    "                for i in range(f['num']):\n",
    "                    if len(unknow_value['ADD']) != 0:\n",
    "                        card = unknow_value['ADD'].pop(0)\n",
    "                        log_add( newLog , f['floor'] ,'ADD',card)\n",
    "            if f['key'] =='UN_REMOVE':\n",
    "                for i in range(f['num']):\n",
    "                    if len(unknow_value['REMOVE']):\n",
    "                        card = unknow_value['REMOVE'].pop(0)\n",
    "                        log_add( newLog , f['floor'] ,'REMOVE',card)\n",
    "            if f['key'] == 'Writhing Mass':\n",
    "                for i in range( unknow_value['ADD'].count('Parasite')):\n",
    "                    log_add( newLog , f['floor'] ,'ADD','Parasite')\n",
    "                    unknow_value['ADD'].remove('Parasite')\n",
    "            return sorted(newLog, key=lambda d: d['floor'])\n",
    "    except:\n",
    "        print(curr_deck,master_deck)\n",
    "    "
   ]
  },
  {
   "cell_type": "code",
   "execution_count": 74,
   "metadata": {},
   "outputs": [],
   "source": [
    "def build_log(run):\n",
    "    log = list()\n",
    "    process_pick(log,run)\n",
    "    process_campfire(log , run)\n",
    "    process_purged(log , run)\n",
    "    process_purchased(log , run)\n",
    "    process_event(log , run)\n",
    "    process_battle(log , run)\n",
    "    process_relic(log , run)\n",
    "    process_neow(log , run)\n",
    "    unknow_value_form_relic(log)\n",
    "    log = fill_missing_value(log,run)\n",
    "    return log"
   ]
  },
  {
   "cell_type": "code",
   "execution_count": 75,
   "metadata": {
    "id": "OrhuB19vuyZ4"
   },
   "outputs": [],
   "source": [
    "## relics relics_obtained boss_relics"
   ]
  },
  {
   "cell_type": "code",
   "execution_count": 76,
   "metadata": {
    "id": "QNrcg744SJuX"
   },
   "outputs": [],
   "source": [
    "def check_egg_add(EGG_CHECK , curr_deck ,card):\n",
    "  if EGG_CHECK['Frozen'] and card in IC_POWER_CARD:\n",
    "    curr_deck.append(card + '+1')\n",
    "  elif EGG_CHECK['Molten'] and card in IC_ATK_CARD:\n",
    "    curr_deck.append(card + '+1')\n",
    "  elif EGG_CHECK['TOXIC'] and card in IC_SKILL_CARD:\n",
    "    curr_deck.append(card + '+1')\n",
    "  else:\n",
    "    curr_deck.append(card)"
   ]
  },
  {
   "cell_type": "code",
   "execution_count": 77,
   "metadata": {},
   "outputs": [],
   "source": [
    "def check_egg_remove(EGG_CHECK , curr_deck ,card):\n",
    "    not_remove = True\n",
    "    if card + '+1' in curr_deck:\n",
    "        if EGG_CHECK['Frozen'] and card in IC_POWER_CARD_P:\n",
    "            curr_deck.remove(card + '+1')\n",
    "            not_remove = False\n",
    "        elif EGG_CHECK['Molten'] and card in IC_ATK_CARD_P:\n",
    "            print(card)\n",
    "            curr_deck.remove(card + '+1')\n",
    "            not_remove = False\n",
    "        elif EGG_CHECK['TOXIC'] and card in IC_SKILL_CARD_P:\n",
    "            curr_deck.remove(card + '+1')\n",
    "            not_remove = False\n",
    "    if not_remove and card in curr_deck:\n",
    "        curr_deck.remove(card)"
   ]
  },
  {
   "cell_type": "code",
   "execution_count": 78,
   "metadata": {},
   "outputs": [],
   "source": [
    "## IRONCLAD  THE_SILENT  WATCHER  DEFECT\n",
    "def get_stater(run):\n",
    "    Char = run.character_chosen\n",
    "    if  Char == 'THE_SILENT':\n",
    "        return[\"Strike_G\"] * 5 + [\"Defend_G\"]*5 + [\"Neutralize\"] + [\"Survivor\"]\n",
    "    elif  Char == 'IRONCLAD':\n",
    "        return[\"Strike_R\"] * 5 + [\"Defend_R\"]*5 +   [\"Bash\"]\n",
    "    \n",
    "    "
   ]
  },
  {
   "cell_type": "code",
   "execution_count": 79,
   "metadata": {
    "id": "oCJf-w8tghSR"
   },
   "outputs": [],
   "source": [
    "def build_deck(log,run):\n",
    "    curr_deck = get_stater(run)\n",
    "    curr_relic = list()\n",
    "    EGG_CHECK = {'Frozen':  False , 'Molten' : False , 'TOXIC': False }\n",
    "    deck_state = list()\n",
    "    if run.ascension_level >= 10:\n",
    "        curr_deck.append('AscendersBane')\n",
    "    for f in log:\n",
    "        if f['key'] == 'PICK':\n",
    "            check_egg_add(EGG_CHECK , curr_deck ,f['card'])\n",
    "            deck_state.append( {'deck': list(curr_deck[:-1]) , 'picked': curr_deck[-1]} )\n",
    "        elif f['key'] == 'ADD':\n",
    "            check_egg_add(EGG_CHECK , curr_deck ,f['card'])\n",
    "        elif f['key'] == 'TRANFORM' and f['cards'][0] in curr_deck:\n",
    "            curr_deck.remove(f['cards'][0])\n",
    "            curr_deck.append(f['cards'][1])\n",
    "        elif f['key'] == 'UPGRADE':\n",
    "            if f['card'] != 'Searing Blow' and f['card'] in curr_deck:\n",
    "                index = curr_deck.index(f['card'])\n",
    "                curr_deck[index] = f['card'] + '+1'\n",
    "        elif f['key'] == 'REMOVE' and f['card'] in curr_deck:\n",
    "            curr_deck.remove(f['card'])\n",
    "        elif f['key'] == 'GET_RELIC':\n",
    "            if f['relic'] == 'Frozen Egg 2':\n",
    "                EGG_CHECK['Frozen'] = True\n",
    "            elif f['relic'] == 'Molten Egg 2':\n",
    "                EGG_CHECK['Molten'] = True\n",
    "            elif f['relic'] == 'Toxic Egg 2':\n",
    "                 EGG_CHECK['TOXIC'] = True\n",
    "            curr_relic.append(f['relic'])\n",
    "    return curr_deck , curr_relic , deck_state"
   ]
  },
  {
   "cell_type": "code",
   "execution_count": 80,
   "metadata": {},
   "outputs": [],
   "source": [
    "### didn't use\n",
    "\n",
    "def back_track(log,run):\n",
    "    re_log = list(reversed(log))\n",
    "    curr_deck = list(run.master_deck)\n",
    "    curr_relic = [r for r in run.relics if any(relic in r for relic in UV_RELICS)]\n",
    "    EGG_CHECK = {'Frozen': bool('Frozen Egg 2' in curr_relic)  , 'Molten' : bool('Molten Egg 2' in curr_relic) , 'TOXIC': bool('Toxic Egg 2' in curr_relic) }\n",
    "    for f in re_log:\n",
    "        if f['key'] == 'PICK' and f['card'] in curr_deck:\n",
    "            check_egg_remove(EGG_CHECK , curr_deck ,f['card'])\n",
    "        elif f['key'] == 'ADD'and f['card'] in curr_deck:\n",
    "            check_egg_remove(EGG_CHECK , curr_deck ,f['card'])\n",
    "        elif f['key'] == 'TRANFORM' and f['cards'][0] in curr_deck:\n",
    "            curr_deck.remove(f['cards'][1])\n",
    "            curr_deck.append(f['cards'][0])\n",
    "        elif f['key'] == 'UPGRADE':\n",
    "            if f['card'] != 'Searing Blow' and f['card']+'+1' in curr_deck:\n",
    "                index = curr_deck.index(f['card']+ '+1')\n",
    "                curr_deck[index] = curr_deck[index] [:-2]\n",
    "        elif f['key'] == 'REMOVE':\n",
    "            curr_deck.append(f['card'])\n",
    "        elif f['key'] == 'GET_RELIC':\n",
    "            if f['relic'] == 'Frozen Egg 2':\n",
    "                EGG_CHECK['Frozen'] = False\n",
    "            elif f['relic'] == 'Molten Egg 2':\n",
    "                EGG_CHECK['Molten'] = False\n",
    "            elif f['relic'] == 'Toxic Egg 2':\n",
    "                 EGG_CHECK['TOXIC'] = False\n",
    "            curr_relic.remove(f['relic'])\n",
    "    return curr_deck , curr_relic"
   ]
  },
  {
   "cell_type": "code",
   "execution_count": 81,
   "metadata": {
    "id": "VkqPDqCQpnDK"
   },
   "outputs": [
    {
     "ename": "TypeError",
     "evalue": "'NoneType' object is not iterable",
     "output_type": "error",
     "traceback": [
      "\u001b[1;31m---------------------------------------------------------------------------\u001b[0m",
      "\u001b[1;31mTypeError\u001b[0m                                 Traceback (most recent call last)",
      "Cell \u001b[1;32mIn[81], line 5\u001b[0m\n\u001b[0;32m      3\u001b[0m \u001b[38;5;28;01mfor\u001b[39;00m index,run \u001b[38;5;129;01min\u001b[39;00m df\u001b[38;5;241m.\u001b[39miterrows():\n\u001b[0;32m      4\u001b[0m     log \u001b[38;5;241m=\u001b[39m build_log(run)\n\u001b[1;32m----> 5\u001b[0m     curr_deck , curr_relic , deck_state\u001b[38;5;241m=\u001b[39m \u001b[43mbuild_deck\u001b[49m\u001b[43m(\u001b[49m\u001b[43mlog\u001b[49m\u001b[43m,\u001b[49m\u001b[43mrun\u001b[49m\u001b[43m)\u001b[49m\n\u001b[0;32m      6\u001b[0m     curr_deck \u001b[38;5;241m=\u001b[39m \u001b[38;5;28msorted\u001b[39m(curr_deck)\n\u001b[0;32m      7\u001b[0m     master \u001b[38;5;241m=\u001b[39m \u001b[38;5;28msorted\u001b[39m(run\u001b[38;5;241m.\u001b[39mmaster_deck)\n",
      "Cell \u001b[1;32mIn[79], line 8\u001b[0m, in \u001b[0;36mbuild_deck\u001b[1;34m(log, run)\u001b[0m\n\u001b[0;32m      6\u001b[0m \u001b[38;5;28;01mif\u001b[39;00m run\u001b[38;5;241m.\u001b[39mascension_level \u001b[38;5;241m>\u001b[39m\u001b[38;5;241m=\u001b[39m \u001b[38;5;241m10\u001b[39m:\n\u001b[0;32m      7\u001b[0m     curr_deck\u001b[38;5;241m.\u001b[39mappend(\u001b[38;5;124m'\u001b[39m\u001b[38;5;124mAscendersBane\u001b[39m\u001b[38;5;124m'\u001b[39m)\n\u001b[1;32m----> 8\u001b[0m \u001b[38;5;28;01mfor\u001b[39;00m f \u001b[38;5;129;01min\u001b[39;00m log:\n\u001b[0;32m      9\u001b[0m     \u001b[38;5;28;01mif\u001b[39;00m f[\u001b[38;5;124m'\u001b[39m\u001b[38;5;124mkey\u001b[39m\u001b[38;5;124m'\u001b[39m] \u001b[38;5;241m==\u001b[39m \u001b[38;5;124m'\u001b[39m\u001b[38;5;124mPICK\u001b[39m\u001b[38;5;124m'\u001b[39m:\n\u001b[0;32m     10\u001b[0m         check_egg_add(EGG_CHECK , curr_deck ,f[\u001b[38;5;124m'\u001b[39m\u001b[38;5;124mcard\u001b[39m\u001b[38;5;124m'\u001b[39m])\n",
      "\u001b[1;31mTypeError\u001b[0m: 'NoneType' object is not iterable"
     ]
    }
   ],
   "source": [
    "deck_stateAndPick = list()\n",
    "count = 0\n",
    "for index,run in df.iterrows():\n",
    "    log = build_log(run)\n",
    "    curr_deck , curr_relic , deck_state= build_deck(log,run)\n",
    "    curr_deck = sorted(curr_deck)\n",
    "    master = sorted(run.master_deck)\n",
    "    if( curr_deck == master):\n",
    "        count = count + 1\n",
    "        deck_stateAndPick.extend(deck_state)\n",
    "print(len(deck_stateAndPick))\n",
    "print(count)"
   ]
  },
  {
   "cell_type": "code",
   "execution_count": null,
   "metadata": {
    "id": "1TnwB9-O5l3y"
   },
   "outputs": [],
   "source": []
  },
  {
   "cell_type": "code",
   "execution_count": 27,
   "metadata": {},
   "outputs": [],
   "source": [
    "import json\n",
    "import os\n",
    "\n",
    "directory = 'processed_data'  \n",
    "filename = os.path.join(directory, 'picked_2k_6k.json')\n",
    "\n",
    "os.makedirs(directory, exist_ok=True)\n",
    "\n",
    "with open(filename, 'w') as file:\n",
    "    json.dump(deck_stateAndPick , file)"
   ]
  },
  {
   "cell_type": "code",
   "execution_count": null,
   "metadata": {},
   "outputs": [],
   "source": []
  }
 ],
 "metadata": {
  "colab": {
   "provenance": []
  },
  "kernelspec": {
   "display_name": "Python 3 (ipykernel)",
   "language": "python",
   "name": "python3"
  },
  "language_info": {
   "codemirror_mode": {
    "name": "ipython",
    "version": 3
   },
   "file_extension": ".py",
   "mimetype": "text/x-python",
   "name": "python",
   "nbconvert_exporter": "python",
   "pygments_lexer": "ipython3",
   "version": "3.9.5"
  }
 },
 "nbformat": 4,
 "nbformat_minor": 4
}
