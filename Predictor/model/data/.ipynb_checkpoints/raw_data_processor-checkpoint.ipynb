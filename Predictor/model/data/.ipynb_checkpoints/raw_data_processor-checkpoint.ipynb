{
 "cells": [
  {
   "cell_type": "markdown",
   "metadata": {
    "colab_type": "text",
    "id": "view-in-github"
   },
   "source": [
    "<a href=\"https://colab.research.google.com/github/KU81-ComSci-ProjectEnd-GameCard/main/blob/master/Predictor/data/json_unzip.ipynb\" target=\"_parent\"><img src=\"https://colab.research.google.com/assets/colab-badge.svg\" alt=\"Open In Colab\"/></a>"
   ]
  },
  {
   "cell_type": "markdown",
   "metadata": {
    "id": "04DcMHIr9wAZ"
   },
   "source": [
    "# load data\n",
    "**https://drive.google.com/drive/folders/1c7MwTdLxnPgvmPbBEfNWa45YAUU53H0l** make sure to load data form this before processing.  "
   ]
  },
  {
   "cell_type": "markdown",
   "metadata": {},
   "source": [
    "raw_data file so large to push to github"
   ]
  },
  {
   "cell_type": "code",
   "execution_count": 2,
   "metadata": {
    "id": "VQJ_117kMZMA"
   },
   "outputs": [],
   "source": [
    "import re\n",
    "def clear_SearingBlowPlus(lst):\n",
    "    return [re.sub(r'Searing Blow\\+\\d+', 'Searing Blow', item) for item in lst]"
   ]
  },
  {
   "cell_type": "code",
   "execution_count": 3,
   "metadata": {
    "id": "i3mdLMqFNFJe"
   },
   "outputs": [],
   "source": [
    "def upgrade_lst(lst):\n",
    "  new_lst = list()\n",
    "  for item in lst:\n",
    "    if(item == 'Searing Blow'):\n",
    "      new_lst.append('Searing Blow')\n",
    "    else:\n",
    "      new_lst.append(item+'+1')\n",
    "  return new_lst"
   ]
  },
  {
   "cell_type": "code",
   "execution_count": 14,
   "metadata": {
    "id": "KdsTG8ABM6ap"
   },
   "outputs": [],
   "source": [
    "def get_ALL_IC_CARD():\n",
    "  IC_ATTACK_CARDS = [\"Strike_R\", \"Bash\", \"Anger\", \"Body Slam\", \"Clash\", \"Cleave\", \"Clothesline\", \"Headbutt\", \"Heavy Blade\", \"Iron Wave\", \"Perfected Strike\", \"Pommel Strike\", \"Sword Boomerang\", \"Thunderclap\", \"Twin Strike\", \"Wild Strike\", \"Blood for Blood\", \"Carnage\", \"Dropkick\", \"Hemokinesis\", \"Pummel\", \"Rampage\", \"Reckless Charge\", \"Searing Blow\", \"Sever Soul\", \"Uppercut\", \"Whirlwind\", \"Bludgeon\", \"Feed\", \"Fiend Fire\", \"Immolate\", \"Reaper\"]\n",
    "  IC_SKILL_CARDS = [\"Defend_R\", \"Armaments\", \"Flex\", \"Havoc\", \"Shrug It Off\", \"True Grit\", \"Warcry\", \"Battle Trance\", \"Bloodletting\", \"Burning Pact\", \"Disarm\", \"Dual Wield\", \"Entrench\", \"Flame Barrier\", \"Ghostly Armor\", \"Infernal Blade\", \"Intimidate\", \"Power Through\", \"Rage\", \"Second Wind\", \"Seeing Red\", \"Sentinel\", \"Shockwave\", \"Spot Weakness\", \"Double Tap\", \"Exhume\", \"Impervious\", \"Limit Break\", \"Offering\"]\n",
    "  IC_POWER_CARDS = [\"Combust\", \"Dark Embrace\", \"Evolve\", \"Feel No Pain\", \"Fire Breathing\", \"Inflame\", \"Metallicize\", \"Rupture\", \"Barricade\", \"Berserk\", \"Brutality\", \"Corruption\", \"Demon Form\", \"Juggernaut\"]\n",
    "  IRONCLAD_CARDS = IC_ATTACK_CARDS + IC_SKILL_CARDS + IC_POWER_CARDS\n",
    "\n",
    "  COLORLESS_CARDS = [\"Dramatic Entrance\", \"Flash of Steel\", \"Mind Blast\", \"Swift Strike\", \"HandOfGreed\", \"Bite\", \"Expunger\", \"Ritual Dagger\", \"Shiv\", \"Smite\", \"Through Violence\", \"Bandage Up\", \"Blind\", \"Dark Shackles\", \"Deep Breath\", \"Discovery\", \"Enlightenment\", \"Finesse\", \"Forethought\", \"Good Instincts\", \"Impatience\", \"Jack Of All Trades\", \"Madness\", \"Panacea\", \"PanicButton\", \"Purity\", \"Trip\", \"Apotheosis\", \"Chrysalis\", \"Master of Strategy\", \"Metamorphosis\", \"Secret Technique\", \"Secret Weapon\", \"The Bomb\", \"Thinking Ahead\", \"Transmutation\", \"Violence\", \"Apparition\", \"Beta\", \"Insight\", \"J.A.X.\", \"Miracle\", \"Safety\", \"Magnetism\", \"Mayhem\", \"Panache\", \"Sadistic Nature\"]\n",
    "\n",
    "  CURSE_CARDS = [\"AscendersBane\", \"Clumsy\", \"Curse of the Bell\", \"Decay\", \"Doubt\", \"Injury\", \"Necronomicurse\", \"Normality\", \"Pain\", \"Parasite\", \"Pride\", \"Regret\", \"Shame\", \"Writhe\"]\n",
    "  return IRONCLAD_CARDS + COLORLESS_CARDS + CURSE_CARDS + upgrade_lst(IRONCLAD_CARDS) + upgrade_lst(COLORLESS_CARDS)"
   ]
  },
  {
   "cell_type": "code",
   "execution_count": null,
   "metadata": {},
   "outputs": [],
   "source": []
  },
  {
   "cell_type": "code",
   "execution_count": 41,
   "metadata": {},
   "outputs": [],
   "source": [
    "SL_ALL_CARD =[ \t\n",
    "    \"Strike_G\" , \"Defend_G\" ,\"Neutralize\" , \"Survivor\",\n",
    "    \"Bane\", \"Dagger Spray\", \"Dagger Throw\", \"Flying Knee\", \"Poisoned Stab\", \"Quick Slash\", \"Slice\", \"Sneaky Strike\", \"Sucker Punch\",\n",
    "    \"All-Out Attack\", \"Backstab\", \"Choke\", \"Dash\", \"Endless Agony\", \"Eviscerate\", \"Finisher\", \"Flechettes\", \"Heel Hook\", \"Masterful Stab\", \"Predator\", \"Riddle with Holes\", \"Skewer\",\n",
    "    \"Die Die Die\", \"Glass Knife\", \"Grand Finale\", \"Unload\",\n",
    "    \"Acrobatics\", \"Backflip\", \"Blade Dance\", \"Cloak and Dagger\", \"Deadly Poison\", \"Deflect\", \"Dodge and Roll\", \"Outmaneuver\", \"Piercing Wail\", \"Prepared\",\n",
    "    \"Blur\", \"Bouncing Flask\", \"Calculated Gamble\", \"Catalyst\", \"Concentrate\", \"Crippling Cloud\", \"Distraction\", \"Escape Plan\", \"Expertise\", \"Leg Sweep\", \"Reflex\", \"Setup\", \"Tactician\", \"Terror\",\n",
    "    \"Adrenaline\", \"Alchemize\", \"Bullet Time\", \"Burst\", \"Corpse Explosion\", \"Doppelganger\", \"Malaise\", \"Nightmare\", \"Phantasmal Killer\", \"Storm of Steel\",\n",
    "    \"Accuracy\", \"Caltrops\", \"Footwork\", \"Infinite Blades\", \"Noxious Fumes\", \"Well-Laid Plans\",\n",
    "    \"A Thousand Cuts\", \"After Image\", \"Envenom\", \"Tools of the Trade\", \"Wraith Form\"\n",
    "]"
   ]
  },
  {
   "cell_type": "code",
   "execution_count": null,
   "metadata": {},
   "outputs": [],
   "source": []
  },
  {
   "cell_type": "code",
   "execution_count": 42,
   "metadata": {
    "id": "c-wAMWxCL4Tw"
   },
   "outputs": [],
   "source": [
    "import pandas as pd\n",
    "def get_ic_run(json_data):\n",
    "  df = pd.DataFrame(json_data)\n",
    "  runInfo = df['event'].apply(pd.Series)\n",
    "  print(runInfo.groupby('character_chosen').count())\n",
    "  runInfo['master_deck'] = runInfo['master_deck'].apply(clear_SearingBlowPlus)\n",
    "  ## รับแค่ run ของ ironclad\n",
    "  ALL_CARD = get_ALL_IC_CARD() +SL_ALL_CARD\n",
    "  ic_run = runInfo[runInfo['master_deck'].apply(lambda x: all(word in ALL_CARD for word in x))]\n",
    "  ## เกณคือ ต้องผ่านชั้น 50 แล้ว\n",
    "  return ic_run.loc[ic_run.floor_reached <= 50]"
   ]
  },
  {
   "cell_type": "code",
   "execution_count": 43,
   "metadata": {
    "id": "aOqpP-JbKp2U"
   },
   "outputs": [],
   "source": [
    "import os\n",
    "import gzip\n",
    "import json\n",
    "\n",
    "def get_quality_run(directory, run_num,start=0, end=None):\n",
    "    quality_run = pd.DataFrame()\n",
    "    try:\n",
    "        counter = 0\n",
    "        for file_name in os.listdir(directory):\n",
    "            file_path = os.path.join(directory, file_name)\n",
    "            if os.path.isfile(file_path) and file_name.endswith('.json.gz'):\n",
    "                if counter >= start and (end is None or counter < end):\n",
    "                    with gzip.open(file_path, 'rt', encoding='utf-8') as gz_file:\n",
    "                        run_info = json.load(gz_file)\n",
    "                        ic_run = get_ic_run(run_info)\n",
    "                        quality_run = pd.concat([quality_run, ic_run], axis=0, join='outer')\n",
    "                        quality_run.drop_duplicates(subset=['play_id'])\n",
    "                        print(counter, '   :     ',len(quality_run))\n",
    "                        if(len(quality_run) >= run_num):\n",
    "                            break\n",
    "            counter += 1\n",
    "    except Exception as e:\n",
    "        print(f\"Error: {e}\")\n",
    "    return quality_run\n",
    "                        "
   ]
  },
  {
   "cell_type": "code",
   "execution_count": 44,
   "metadata": {
    "id": "4haU1ttlZFGK"
   },
   "outputs": [],
   "source": [
    "raw_data = 'Monthly_2020_11'"
   ]
  },
  {
   "cell_type": "code",
   "execution_count": 45,
   "metadata": {
    "colab": {
     "base_uri": "https://localhost:8080/",
     "height": 263
    },
    "id": "zWKPZBqEPJWP",
    "outputId": "8695d629-8085-434e-ef1c-bcf72784cf19"
   },
   "outputs": [
    {
     "name": "stdout",
     "output_type": "stream",
     "text": [
      "                  gold_per_floor  floor_reached  playtime  items_purged  \\\n",
      "character_chosen                                                          \n",
      "DEFECT                       254            254       254           254   \n",
      "IRONCLAD                     331            331       331           331   \n",
      "THE_SILENT                   286            286       286           286   \n",
      "WATCHER                      196            196       196           196   \n",
      "\n",
      "                  score  play_id  local_time  is_ascension_mode  \\\n",
      "character_chosen                                                  \n",
      "DEFECT              254      254         254                254   \n",
      "IRONCLAD            331      331         331                331   \n",
      "THE_SILENT          286      286         286                286   \n",
      "WATCHER             196      196         196                196   \n",
      "\n",
      "                  campfire_choices  neow_cost  ...  relics_obtained  \\\n",
      "character_chosen                               ...                    \n",
      "DEFECT                         254        254  ...              254   \n",
      "IRONCLAD                       331        331  ...              331   \n",
      "THE_SILENT                     286        286  ...              286   \n",
      "WATCHER                        196        196  ...              196   \n",
      "\n",
      "                  event_choices  is_beta  boss_relics  items_purged_floors  \\\n",
      "character_chosen                                                             \n",
      "DEFECT                      254      254          254                  254   \n",
      "IRONCLAD                    331      331          331                  331   \n",
      "THE_SILENT                  286      286          286                  286   \n",
      "WATCHER                     196      196          196                  196   \n",
      "\n",
      "                  is_endless  potions_floor_spawned  killed_by  \\\n",
      "character_chosen                                                 \n",
      "DEFECT                   254                    254        199   \n",
      "IRONCLAD                 331                    331        275   \n",
      "THE_SILENT               286                    286        224   \n",
      "WATCHER                  196                    196        151   \n",
      "\n",
      "                  ascension_level  special_seed  \n",
      "character_chosen                                 \n",
      "DEFECT                        254            53  \n",
      "IRONCLAD                      331            76  \n",
      "THE_SILENT                    286            53  \n",
      "WATCHER                       196            59  \n",
      "\n",
      "[4 rows x 49 columns]\n",
      "0    :      313\n"
     ]
    }
   ],
   "source": [
    "quality_run = get_quality_run(raw_data,1)"
   ]
  },
  {
   "cell_type": "code",
   "execution_count": 46,
   "metadata": {},
   "outputs": [],
   "source": [
    "quality_run = quality_run.reset_index()"
   ]
  },
  {
   "cell_type": "code",
   "execution_count": 47,
   "metadata": {},
   "outputs": [
    {
     "data": {
      "text/html": [
       "<div>\n",
       "<style scoped>\n",
       "    .dataframe tbody tr th:only-of-type {\n",
       "        vertical-align: middle;\n",
       "    }\n",
       "\n",
       "    .dataframe tbody tr th {\n",
       "        vertical-align: top;\n",
       "    }\n",
       "\n",
       "    .dataframe thead th {\n",
       "        text-align: right;\n",
       "    }\n",
       "</style>\n",
       "<table border=\"1\" class=\"dataframe\">\n",
       "  <thead>\n",
       "    <tr style=\"text-align: right;\">\n",
       "      <th></th>\n",
       "      <th>index</th>\n",
       "      <th>gold_per_floor</th>\n",
       "      <th>floor_reached</th>\n",
       "      <th>playtime</th>\n",
       "      <th>items_purged</th>\n",
       "      <th>score</th>\n",
       "      <th>play_id</th>\n",
       "      <th>local_time</th>\n",
       "      <th>is_ascension_mode</th>\n",
       "      <th>campfire_choices</th>\n",
       "      <th>...</th>\n",
       "      <th>relics_obtained</th>\n",
       "      <th>event_choices</th>\n",
       "      <th>is_beta</th>\n",
       "      <th>boss_relics</th>\n",
       "      <th>items_purged_floors</th>\n",
       "      <th>is_endless</th>\n",
       "      <th>potions_floor_spawned</th>\n",
       "      <th>killed_by</th>\n",
       "      <th>ascension_level</th>\n",
       "      <th>special_seed</th>\n",
       "    </tr>\n",
       "    <tr>\n",
       "      <th>character_chosen</th>\n",
       "      <th></th>\n",
       "      <th></th>\n",
       "      <th></th>\n",
       "      <th></th>\n",
       "      <th></th>\n",
       "      <th></th>\n",
       "      <th></th>\n",
       "      <th></th>\n",
       "      <th></th>\n",
       "      <th></th>\n",
       "      <th></th>\n",
       "      <th></th>\n",
       "      <th></th>\n",
       "      <th></th>\n",
       "      <th></th>\n",
       "      <th></th>\n",
       "      <th></th>\n",
       "      <th></th>\n",
       "      <th></th>\n",
       "      <th></th>\n",
       "      <th></th>\n",
       "    </tr>\n",
       "  </thead>\n",
       "  <tbody>\n",
       "    <tr>\n",
       "      <th>IRONCLAD</th>\n",
       "      <td>263</td>\n",
       "      <td>263</td>\n",
       "      <td>263</td>\n",
       "      <td>263</td>\n",
       "      <td>263</td>\n",
       "      <td>263</td>\n",
       "      <td>263</td>\n",
       "      <td>263</td>\n",
       "      <td>263</td>\n",
       "      <td>263</td>\n",
       "      <td>...</td>\n",
       "      <td>263</td>\n",
       "      <td>263</td>\n",
       "      <td>263</td>\n",
       "      <td>263</td>\n",
       "      <td>263</td>\n",
       "      <td>263</td>\n",
       "      <td>263</td>\n",
       "      <td>239</td>\n",
       "      <td>263</td>\n",
       "      <td>51</td>\n",
       "    </tr>\n",
       "    <tr>\n",
       "      <th>THE_SILENT</th>\n",
       "      <td>50</td>\n",
       "      <td>50</td>\n",
       "      <td>50</td>\n",
       "      <td>50</td>\n",
       "      <td>50</td>\n",
       "      <td>50</td>\n",
       "      <td>50</td>\n",
       "      <td>50</td>\n",
       "      <td>50</td>\n",
       "      <td>50</td>\n",
       "      <td>...</td>\n",
       "      <td>50</td>\n",
       "      <td>50</td>\n",
       "      <td>50</td>\n",
       "      <td>50</td>\n",
       "      <td>50</td>\n",
       "      <td>50</td>\n",
       "      <td>50</td>\n",
       "      <td>17</td>\n",
       "      <td>50</td>\n",
       "      <td>0</td>\n",
       "    </tr>\n",
       "  </tbody>\n",
       "</table>\n",
       "<p>2 rows × 50 columns</p>\n",
       "</div>"
      ],
      "text/plain": [
       "                  index  gold_per_floor  floor_reached  playtime  \\\n",
       "character_chosen                                                   \n",
       "IRONCLAD            263             263            263       263   \n",
       "THE_SILENT           50              50             50        50   \n",
       "\n",
       "                  items_purged  score  play_id  local_time  is_ascension_mode  \\\n",
       "character_chosen                                                                \n",
       "IRONCLAD                   263    263      263         263                263   \n",
       "THE_SILENT                  50     50       50          50                 50   \n",
       "\n",
       "                  campfire_choices  ...  relics_obtained  event_choices  \\\n",
       "character_chosen                    ...                                   \n",
       "IRONCLAD                       263  ...              263            263   \n",
       "THE_SILENT                      50  ...               50             50   \n",
       "\n",
       "                  is_beta  boss_relics  items_purged_floors  is_endless  \\\n",
       "character_chosen                                                          \n",
       "IRONCLAD              263          263                  263         263   \n",
       "THE_SILENT             50           50                   50          50   \n",
       "\n",
       "                  potions_floor_spawned  killed_by  ascension_level  \\\n",
       "character_chosen                                                      \n",
       "IRONCLAD                            263        239              263   \n",
       "THE_SILENT                           50         17               50   \n",
       "\n",
       "                  special_seed  \n",
       "character_chosen                \n",
       "IRONCLAD                    51  \n",
       "THE_SILENT                   0  \n",
       "\n",
       "[2 rows x 50 columns]"
      ]
     },
     "execution_count": 47,
     "metadata": {},
     "output_type": "execute_result"
    }
   ],
   "source": [
    "quality_run.groupby('character_chosen').count()"
   ]
  },
  {
   "cell_type": "code",
   "execution_count": 16,
   "metadata": {},
   "outputs": [],
   "source": [
    "import os\n",
    "file_path = os.path.join('processed_data', 'bad_run2k.json')\n",
    "quality_run.to_json(file_path)"
   ]
  },
  {
   "cell_type": "code",
   "execution_count": 17,
   "metadata": {},
   "outputs": [
    {
     "data": {
      "text/plain": [
       "['AscendersBane',\n",
       " 'Strike_R',\n",
       " 'Strike_R+1',\n",
       " 'Strike_R',\n",
       " 'Strike_R+1',\n",
       " 'Strike_R',\n",
       " 'Defend_R',\n",
       " 'Defend_R',\n",
       " 'Defend_R',\n",
       " 'Bash+1',\n",
       " 'Metallicize+1']"
      ]
     },
     "execution_count": 17,
     "metadata": {},
     "output_type": "execute_result"
    }
   ],
   "source": [
    "(quality_run.loc[quality_run.ascension_level >= 10]).iloc[0].master_deck"
   ]
  },
  {
   "cell_type": "code",
   "execution_count": null,
   "metadata": {},
   "outputs": [],
   "source": []
  }
 ],
 "metadata": {
  "colab": {
   "include_colab_link": true,
   "provenance": []
  },
  "kernelspec": {
   "display_name": "Python 3 (ipykernel)",
   "language": "python",
   "name": "python3"
  },
  "language_info": {
   "codemirror_mode": {
    "name": "ipython",
    "version": 3
   },
   "file_extension": ".py",
   "mimetype": "text/x-python",
   "name": "python",
   "nbconvert_exporter": "python",
   "pygments_lexer": "ipython3",
   "version": "3.9.5"
  }
 },
 "nbformat": 4,
 "nbformat_minor": 4
}
