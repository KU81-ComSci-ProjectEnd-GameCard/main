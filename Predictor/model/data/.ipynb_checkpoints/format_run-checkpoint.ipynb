{
 "cells": [
  {
   "cell_type": "code",
   "execution_count": 45,
   "id": "3c49db05-bc30-4e73-bc2a-4e65c4b6c5f1",
   "metadata": {},
   "outputs": [],
   "source": [
    "import os\n",
    "import json\n",
    "from functools import partial\n",
    "from collections import Counter\n",
    "import time\n",
    "import gc\n",
    "import re\n",
    "import datetime\n",
    "\n",
    "import pprint"
   ]
  },
  {
   "cell_type": "code",
   "execution_count": 38,
   "id": "f84016b0-04bd-402b-a45b-60f01a3aee30",
   "metadata": {},
   "outputs": [],
   "source": [
    "BASE_GAME_RELICS = {'Burning Blood', 'Cracked Core', 'PureWater', 'Ring of the Snake', 'Akabeko', 'Anchor', 'Ancient Tea Set', 'Art of War', 'Bag of Marbles', 'Bag of Preparation', 'Blood Vial', 'TestModSTS:BottledPlaceholderRelic', 'Bronze Scales', 'Centennial Puzzle', 'CeramicFish', 'Damaru', 'DataDisk', 'Dream Catcher', 'Happy Flower', 'Juzu Bracelet', 'Lantern', 'MawBank', 'MealTicket', 'Nunchaku', 'Oddly Smooth Stone', 'Omamori', 'Orichalcum', 'Pen Nib', 'TestModSTS:PlaceholderRelic2', 'Potion Belt', 'PreservedInsect', 'Red Skull', 'Regal Pillow', 'TestModSTS:DefaultClickableRelic', 'Smiling Mask', 'Snake Skull', 'Strawberry', 'Boot', 'Tiny Chest', 'Toy Ornithopter', 'Vajra', 'War Paint', 'Whetstone', 'Blue Candle', 'Bottled Flame', 'Bottled Lightning', 'Bottled Tornado', 'Darkstone Periapt', 'Yang', 'Eternal Feather', 'Frozen Egg 2', 'Cables', 'Gremlin Horn', 'HornCleat', 'InkBottle', 'Kunai', 'Letter Opener', 'Matryoshka', 'Meat on the Bone', 'Mercury Hourglass', 'Molten Egg 2', 'Mummified Hand', 'Ninja Scroll', 'Ornamental Fan', 'Pantograph', 'Paper Crane', 'Paper Frog', 'Pear', 'Question Card', 'Self Forming Clay', 'Shuriken', 'Singing Bowl', 'StrikeDummy', 'Sundial', 'Symbiotic Virus', 'TeardropLocket', 'The Courier', 'Toxic Egg 2', 'White Beast Statue', 'Bird Faced Urn', 'Calipers', 'CaptainsWheel', 'Champion Belt', 'Charon\\'s Ashes', 'CloakClasp', 'Dead Branch', 'Du-Vu Doll', 'Emotion Chip', 'FossilizedHelix', 'Gambling Chip', 'Ginger', 'Girya', 'GoldenEye', 'Ice Cream', 'Incense Burner', 'Lizard Tail', 'Magic Flower', 'Mango', 'Old Coin', 'Peace Pipe', 'Pocketwatch', 'Prayer Wheel', 'Shovel', 'StoneCalendar', 'The Specimen', 'Thread and Needle', 'Tingsha', 'Torii', 'Tough Bandages', 'TungstenRod', 'Turnip', 'Unceasing Top', 'WingedGreaves', 'Astrolabe', 'Black Blood', 'Black Star', 'Busted Crown', 'Calling Bell', 'Coffee Dripper', 'Cursed Key', 'Ectoplasm', 'Empty Cage', 'FrozenCore', 'Fusion Hammer', 'HolyWater', 'HoveringKite', 'Inserter', 'Mark of Pain', 'Nuclear Battery', 'Pandora\\'s Box', 'Philosopher\\'s Stone', 'Ring of the Serpent', 'Runic Cube', 'Runic Dome', 'Runic Pyramid', 'SacredBark', 'SlaversCollar', 'Snecko Eye', 'Sozu', 'Tiny House', 'Velvet Choker', 'VioletLotus', 'WristBlade', 'Bloody Idol', 'CultistMask', 'Enchiridion', 'FaceOfCleric', 'Golden Idol', 'GremlinMask', 'Mark of the Bloom', 'MutagenicStrength', 'Nloth\\'s Gift', 'NlothsMask', 'Necronomicon', 'NeowsBlessing', 'Nilry\\'s Codex', 'Odd Mushroom', 'Red Mask', 'Spirit Poop', 'SsserpentHead', 'WarpedTongs', 'Brimstone', 'Cauldron', 'Chemical X', 'ClockworkSouvenir', 'DollysMirror', 'Frozen Eye', 'HandDrill', 'Lee\\'s Waffle', 'Medical Kit', 'Melange', 'Membership Card', 'OrangePellets', 'Orrery', 'PrismaticShard', 'Runic Capacitor', 'Sling', 'Strange Spoon', 'TheAbacus', 'Toolbox', 'TwistedFunnel'}\n",
    "BASE_GAME_POTIONS = {'BloodPotion', 'Poison Potion', 'FocusPotion', 'BottledMiracle', 'Block Potion', 'Dexterity Potion', 'Energy Potion', 'Explosive Potion', 'Fire Potion', 'Strength Potion', 'Swift Potion', 'Weak Potion', 'FearPotion', 'AttackPotion', 'SkillPotion', 'PowerPotion', 'ColorlessPotion', 'SteroidPotion', 'SpeedPotion', 'BlessingOfTheForge', 'TestModSTS:PlaceholderPotion', 'ElixirPotion', 'CunningPotion', 'PotionOfCapacity', 'StancePotion', 'Regen Potion', 'Ancient Potion', 'LiquidBronze', 'GamblersBrew', 'EssenceOfSteel', 'DuplicationPotion', 'DistilledChaos', 'LiquidMemories', 'HeartOfIron', 'GhostInAJar', 'EssenceOfDarkness', 'Ambrosia', 'CultistPotion', 'Fruit Juice', 'SneckoOil', 'FairyPotion', 'SmokeBomb', 'EntropicBrew'}\n",
    "\n",
    "BASE_GAME_ATTACKS = {'Immolate', 'Anger', 'Cleave', 'Reaper', 'Iron Wave', 'Reckless Charge', 'Hemokinesis', 'Body Slam', 'Blood for Blood', 'Clash', 'Thunderclap', 'Pummel', 'Pommel Strike', 'Twin Strike', 'Bash', 'Clothesline', 'Rampage', 'Sever Soul', 'Whirlwind', 'Fiend Fire', 'Headbutt', 'Wild Strike', 'Heavy Blade', 'Searing Blow', 'Feed', 'Bludgeon', 'Perfected Strike', 'Carnage', 'Dropkick', 'Sword Boomerang', 'Uppercut', 'Strike_R', 'Grand Finale', 'Glass Knife', 'Underhanded Strike', 'Dagger Spray', 'Bane', 'Unload', 'Dagger Throw', 'Choke', 'Poisoned Stab', 'Endless Agony', 'Riddle With Holes', 'Skewer', 'Quick Slash', 'Finisher', 'Die Die Die', 'Heel Hook', 'Eviscerate', 'Dash', 'Backstab', 'Slice', 'Flechettes', 'Masterful Stab', 'Strike_G', 'Neutralize', 'Sucker Punch', 'All Out Attack', 'Flying Knee', 'Predator', 'Go for the Eyes', 'Core Surge', 'Ball Lightning', 'Sunder', 'Streamline', 'Compile Driver', 'All For One', 'Blizzard', 'Barrage', 'Meteor Strike', 'Rebound', 'Melter', 'Gash', 'Sweeping Beam', 'FTL', 'Rip and Tear', 'Lockon', 'Scrape', 'Beam Cell', 'Cold Snap', 'Strike_B', 'Thunder Strike', 'Hyperbeam', 'Doom and Gloom', 'Consecrate', 'BowlingBash', 'WheelKick', 'FlyingSleeves', 'JustLucky', 'FlurryOfBlows', 'TalkToTheHand', 'WindmillStrike', 'CarveReality', 'Wallop', 'SashWhip', 'Eruption', 'LessonLearned', 'CutThroughFate', 'ReachHeaven', 'Ragnarok', 'FearNoEvil', 'SandsOfTime', 'Conclude', 'FollowUp', 'Brilliance', 'CrushJoints', 'Tantrum', 'Weave', 'SignatureMove', 'Strike_P', 'EmptyFist', 'Shiv', 'Dramatic Entrance', 'RitualDagger', 'Bite', 'Smite', 'Expunger', 'HandOfGreed', 'Flash of Steel', 'ThroughViolence', 'Swift Strike', 'Mind Blast'}\n",
    "BASE_GAME_SKILLS = {'Spot Weakness', 'Warcry', 'Offering', 'Exhume', 'Power Through', 'Dual Wield', 'Flex', 'Infernal Blade', 'Intimidate', 'True Grit', 'Impervious', 'Shrug It Off', 'Flame Barrier', 'Burning Pact', 'Shockwave', 'Seeing Red', 'Disarm', 'Armaments', 'Havoc', 'Rage', 'Limit Break', 'Entrench', 'Defend_R', 'Sentinel', 'Battle Trance', 'Second Wind', 'Bloodletting', 'Ghostly Armor', 'Double Tap', 'Crippling Poison', 'Cloak And Dagger', 'Storm of Steel', 'Deadly Poison', 'Leg Sweep', 'Bullet Time', 'Catalyst', 'Tactician', 'Blade Dance', 'Deflect', 'Night Terror', 'Expertise', 'Blur', 'Setup', 'Burst', 'Acrobatics', 'Doppelganger', 'Adrenaline', 'Calculated Gamble', 'Escape Plan', 'Terror', 'Phantasmal Killer', 'Malaise', 'Reflex', 'Survivor', 'Defend_G', 'Corpse Explosion', 'Venomology', 'Bouncing Flask', 'Backflip', 'Outmaneuver', 'Concentrate', 'Prepared', 'PiercingWail', 'Distraction', 'Dodge and Roll', 'Genetic Algorithm', 'Zap', 'Steam Power', 'Fission', 'Glacier', 'Consume', 'Redo', 'Fusion', 'Amplify', 'Reboot', 'Aggregate', 'Chaos', 'Stack', 'Seek', 'Rainbow', 'Chill', 'BootSequence', 'Coolheaded', 'Tempest', 'Turbo', 'Undo', 'Force Field', 'Darkness', 'Double Energy', 'Reinforced Body', 'Conserve Battery', 'Defend_B', 'Dualcast', 'Auto Shields', 'Reprogram', 'Hologram', 'Leap', 'Recycle', 'Skim', 'White Noise', 'Multi-Cast', 'Steam', 'DeusExMachina', 'Vengeance', 'Sanctity', 'Halt', 'Protect', 'Indignation', 'ThirdEye', 'ForeignInfluence', 'Crescendo', 'SpiritShield', 'ClearTheMind', 'EmptyBody', 'WreathOfFlame', 'Collect', 'InnerPeace', 'Omniscience', 'Wish', 'DeceiveReality', 'Alpha', 'Vault', 'Scrawl', 'Blasphemy', 'Defend_P', 'WaveOfTheHand', 'Meditate', 'Perseverance', 'Swivel', 'Worship', 'Vigilance', 'PathToVictory', 'Evaluate', 'EmptyMind', 'Prostrate', 'ConjureBlade', 'Judgement', 'Pray', 'Beta', 'Dark Shackles', 'J.A.X.', 'PanicButton', 'Trip', 'FameAndFortune', 'Impatience', 'The Bomb', 'Insight', 'Miracle', 'Blind', 'Bandage Up', 'Secret Technique', 'Deep Breath', 'Violence', 'Secret Weapon', 'Apotheosis', 'Forethought', 'Enlightenment', 'Purity', 'Panacea', 'Transmutation', 'Ghostly', 'Chrysalis', 'Discovery', 'Finesse', 'Master of Strategy', 'Good Instincts', 'Jack Of All Trades', 'Safety', 'Metamorphosis', 'Thinking Ahead', 'Madness'}\n",
    "BASE_GAME_POWERS = {'Inflame', 'Brutality', 'Juggernaut', 'Berserk', 'Metallicize', 'Combust', 'Dark Embrace', 'Barricade', 'Feel No Pain', 'Corruption', 'Rupture', 'Demon Form', 'Fire Breathing', 'Evolve', 'A Thousand Cuts', 'After Image', 'Tools of the Trade', 'Caltrops', 'Wraith Form v2', 'Envenom', 'Well Laid Plans', 'Noxious Fumes', 'Infinite Blades', 'Accuracy', 'Footwork', 'Storm', 'Hello World', 'Creative AI', 'Echo Form', 'Self Repair', 'Loop', 'Static Discharge', 'Heatsinks', 'Buffer', 'Electrodynamics', 'Machine Learning', 'Biased Cognition', 'Capacitor', 'Defragment', 'Wireheading', 'BattleHymn', 'DevaForm', 'LikeWater', 'Establishment', 'Fasting2', 'Adaptation', 'MentalFortress', 'Study', 'Devotion', 'Nirvana', 'MasterReality', 'Sadistic Nature', 'LiveForever', 'BecomeAlmighty', 'Panache', 'Mayhem', 'Magnetism', 'Omega'}\n",
    "BASE_GAME_CURSES = {'Regret', 'Writhe', 'AscendersBane', 'Decay', 'Necronomicurse', 'Pain', 'Parasite', 'Doubt', 'Injury', 'Clumsy', 'CurseOfTheBell', 'Normality', 'Pride', 'Shame'}\n",
    "\n",
    "BASE_GAME_CARDS_AND_UPGRADES = {'A Thousand Cuts', 'A Thousand Cuts+1', 'Accuracy', 'Accuracy+1', 'Acrobatics', 'Acrobatics+1', 'Adaptation', 'Adaptation+1', 'Adrenaline', 'Adrenaline+1', 'After Image', 'After Image+1', 'Aggregate', 'Aggregate+1', 'All For One', 'All For One+1', 'All Out Attack', 'All Out Attack+1', 'Alpha', 'Alpha+1', 'Amplify', 'Amplify+1', 'Anger', 'Anger+1', 'Apotheosis', 'Apotheosis+1', 'Armaments', 'Armaments+1', 'AscendersBane', 'Auto Shields', 'Auto Shields+1', 'Backflip', 'Backflip+1', 'Backstab', 'Backstab+1', 'Ball Lightning', 'Ball Lightning+1', 'Bandage Up', 'Bandage Up+1', 'Bane', 'Bane+1', 'Barrage', 'Barrage+1', 'Barricade', 'Barricade+1', 'Bash', 'Bash+1', 'Battle Trance', 'Battle Trance+1', 'BattleHymn', 'BattleHymn+1', 'Beam Cell', 'Beam Cell+1', 'BecomeAlmighty', 'BecomeAlmighty+1', 'Berserk', 'Berserk+1', 'Beta', 'Beta+1', 'Biased Cognition', 'Biased Cognition+1', 'Bite', 'Bite+1', 'Blade Dance', 'Blade Dance+1', 'Blasphemy', 'Blasphemy+1', 'Blind', 'Blind+1', 'Blizzard', 'Blizzard+1', 'Blood for Blood', 'Blood for Blood+1', 'Bloodletting', 'Bloodletting+1', 'Bludgeon', 'Bludgeon+1', 'Blur', 'Blur+1', 'Body Slam', 'Body Slam+1', 'BootSequence', 'BootSequence+1', 'Bouncing Flask', 'Bouncing Flask+1', 'BowlingBash', 'BowlingBash+1', 'Brilliance', 'Brilliance+1', 'Brutality', 'Brutality+1', 'Buffer', 'Buffer+1', 'Bullet Time', 'Bullet Time+1', 'Burn', 'Burn+1', 'Burning Pact', 'Burning Pact+1', 'Burst', 'Burst+1', 'Calculated Gamble', 'Calculated Gamble+1', 'Caltrops', 'Caltrops+1', 'Capacitor', 'Capacitor+1', 'Carnage', 'Carnage+1', 'CarveReality', 'CarveReality+1', 'Catalyst', 'Catalyst+1', 'Chaos', 'Chaos+1', 'Chill', 'Chill+1', 'Choke', 'Choke+1', 'Chrysalis', 'Chrysalis+1', 'Clash', 'Clash+1', 'ClearTheMind', 'ClearTheMind+1', 'Cleave', 'Cleave+1', 'Cloak And Dagger', 'Cloak And Dagger+1', 'Clothesline', 'Clothesline+1', 'Clumsy', 'Cold Snap', 'Cold Snap+1', 'Collect', 'Collect+1', 'Combust', 'Combust+1', 'Compile Driver', 'Compile Driver+1', 'Concentrate', 'Concentrate+1', 'Conclude', 'Conclude+1', 'ConjureBlade', 'ConjureBlade+1', 'Consecrate', 'Consecrate+1', 'Conserve Battery', 'Conserve Battery+1', 'Consume', 'Consume+1', 'Coolheaded', 'Coolheaded+1', 'Core Surge', 'Core Surge+1', 'Corpse Explosion', 'Corpse Explosion+1', 'Corruption', 'Corruption+1', 'Creative AI', 'Creative AI+1', 'Crescendo', 'Crescendo+1', 'Crippling Poison', 'Crippling Poison+1', 'CrushJoints', 'CrushJoints+1', 'CurseOfTheBell', 'CutThroughFate', 'CutThroughFate+1', 'Dagger Spray', 'Dagger Spray+1', 'Dagger Throw', 'Dagger Throw+1', 'Dark Embrace', 'Dark Embrace+1', 'Dark Shackles', 'Dark Shackles+1', 'Darkness', 'Darkness+1', 'Dash', 'Dash+1', 'Dazed', 'Dazed+1', 'Deadly Poison', 'Deadly Poison+1', 'Decay', 'DeceiveReality', 'DeceiveReality+1', 'Deep Breath', 'Deep Breath+1', 'Defend', 'Defend+1', 'Deflect', 'Deflect+1', 'Defragment', 'Defragment+1', 'Demon Form', 'Demon Form+1', 'DeusExMachina', 'DeusExMachina+1', 'DevaForm', 'DevaForm+1', 'Devotion', 'Devotion+1', 'Die Die Die', 'Die Die Die+1', 'Disarm', 'Disarm+1', 'Discovery', 'Discovery+1', 'Distraction', 'Distraction+1', 'Dodge and Roll', 'Dodge and Roll+1', 'Doom and Gloom', 'Doom and Gloom+1', 'Doppelganger', 'Doppelganger+1', 'Double Energy', 'Double Energy+1', 'Double Tap', 'Double Tap+1', 'Doubt', 'Dramatic Entrance', 'Dramatic Entrance+1', 'Dropkick', 'Dropkick+1', 'Dual Wield', 'Dual Wield+1', 'Dualcast', 'Dualcast+1', 'Echo Form', 'Echo Form+1', 'Electrodynamics', 'Electrodynamics+1', 'EmptyBody', 'EmptyBody+1', 'EmptyFist', 'EmptyFist+1', 'EmptyMind', 'EmptyMind+1', 'Endless Agony', 'Endless Agony+1', 'Enlightenment', 'Enlightenment+1', 'Entrench', 'Entrench+1', 'Envenom', 'Envenom+1', 'Eruption', 'Eruption+1', 'Escape Plan', 'Escape Plan+1', 'Establishment', 'Establishment+1', 'Evaluate', 'Evaluate+1', 'Eviscerate', 'Eviscerate+1', 'Evolve', 'Evolve+1', 'Exhume', 'Exhume+1', 'Expertise', 'Expertise+1', 'Expunger', 'Expunger+1', 'FTL', 'FTL+1', 'FameAndFortune', 'FameAndFortune+1', 'Fasting2', 'Fasting2+1', 'FearNoEvil', 'FearNoEvil+1', 'Feed', 'Feed+1', 'Feel No Pain', 'Feel No Pain+1', 'Fiend Fire', 'Fiend Fire+1', 'Finesse', 'Finesse+1', 'Finisher', 'Finisher+1', 'Fire Breathing', 'Fire Breathing+1', 'Fission', 'Fission+1', 'Flame Barrier', 'Flame Barrier+1', 'Flash of Steel', 'Flash of Steel+1', 'Flechettes', 'Flechettes+1', 'Flex', 'Flex+1', 'FlurryOfBlows', 'FlurryOfBlows+1', 'Flying Knee', 'Flying Knee+1', 'FlyingSleeves', 'FlyingSleeves+1', 'FollowUp', 'FollowUp+1', 'Footwork', 'Footwork+1', 'Force Field', 'Force Field+1', 'ForeignInfluence', 'ForeignInfluence+1', 'Forethought', 'Forethought+1', 'Fusion', 'Fusion+1', 'Gash', 'Gash+1', 'Genetic Algorithm', 'Genetic Algorithm+1', 'Ghostly', 'Ghostly Armor', 'Ghostly Armor+1', 'Ghostly+1', 'Glacier', 'Glacier+1', 'Glass Knife', 'Glass Knife+1', 'Go for the Eyes', 'Go for the Eyes+1', 'Good Instincts', 'Good Instincts+1', 'Grand Finale', 'Grand Finale+1', 'Halt', 'Halt+1', 'HandOfGreed', 'HandOfGreed+1', 'Havoc', 'Havoc+1', 'Headbutt', 'Headbutt+1', 'Heatsinks', 'Heatsinks+1', 'Heavy Blade', 'Heavy Blade+1', 'Heel Hook', 'Heel Hook+1', 'Hello World', 'Hello World+1', 'Hemokinesis', 'Hemokinesis+1', 'Hologram', 'Hologram+1', 'Hyperbeam', 'Hyperbeam+1', 'Immolate', 'Immolate+1', 'Impatience', 'Impatience+1', 'Impervious', 'Impervious+1', 'Indignation', 'Indignation+1', 'Infernal Blade', 'Infernal Blade+1', 'Infinite Blades', 'Infinite Blades+1', 'Inflame', 'Inflame+1', 'Injury', 'InnerPeace', 'InnerPeace+1', 'Insight', 'Insight+1', 'Intimidate', 'Intimidate+1', 'Iron Wave', 'Iron Wave+1', 'J.A.X.', 'J.A.X.+1', 'Jack Of All Trades', 'Jack Of All Trades+1', 'Judgement', 'Judgement+1', 'Juggernaut', 'Juggernaut+1', 'JustLucky', 'JustLucky+1', 'Leap', 'Leap+1', 'Leg Sweep', 'Leg Sweep+1', 'LessonLearned', 'LessonLearned+1', 'LikeWater', 'LikeWater+1', 'Limit Break', 'Limit Break+1', 'LiveForever', 'LiveForever+1', 'Lockon', 'Lockon+1', 'Loop', 'Loop+1', 'Machine Learning', 'Machine Learning+1', 'Madness', 'Madness+1', 'Magnetism', 'Magnetism+1', 'Malaise', 'Malaise+1', 'Master of Strategy', 'Master of Strategy+1', 'MasterReality', 'MasterReality+1', 'Masterful Stab', 'Masterful Stab+1', 'Mayhem', 'Mayhem+1', 'Meditate', 'Meditate+1', 'Melter', 'Melter+1', 'MentalFortress', 'MentalFortress+1', 'Metallicize', 'Metallicize+1', 'Metamorphosis', 'Metamorphosis+1', 'Meteor Strike', 'Meteor Strike+1', 'Mind Blast', 'Mind Blast+1', 'Miracle', 'Miracle+1', 'Multi-Cast', 'Multi-Cast+1', 'Necronomicurse', 'Neutralize', 'Neutralize+1', 'Night Terror', 'Night Terror+1', 'Nirvana', 'Nirvana+1', 'Normality', 'Noxious Fumes', 'Noxious Fumes+1', 'Offering', 'Offering+1', 'Omega', 'Omega+1', 'Omniscience', 'Omniscience+1', 'Outmaneuver', 'Outmaneuver+1', 'Pain', 'Panacea', 'Panacea+1', 'Panache', 'Panache+1', 'PanicButton', 'PanicButton+1', 'Parasite', 'PathToVictory', 'PathToVictory+1', 'Perfected Strike', 'Perfected Strike+1', 'Perseverance', 'Perseverance+1', 'Phantasmal Killer', 'Phantasmal Killer+1', 'PiercingWail', 'PiercingWail+1', 'Poisoned Stab', 'Poisoned Stab+1', 'Pommel Strike', 'Pommel Strike+1', 'Power Through', 'Power Through+1', 'Pray', 'Pray+1', 'Predator', 'Predator+1', 'Prepared', 'Prepared+1', 'Pride', 'Prostrate', 'Prostrate+1', 'Protect', 'Protect+1', 'Pummel', 'Pummel+1', 'Purity', 'Purity+1', 'Quick Slash', 'Quick Slash+1', 'Rage', 'Rage+1', 'Ragnarok', 'Ragnarok+1', 'Rainbow', 'Rainbow+1', 'Rampage', 'Rampage+1', 'ReachHeaven', 'ReachHeaven+1', 'Reaper', 'Reaper+1', 'Reboot', 'Reboot+1', 'Rebound', 'Rebound+1', 'Reckless Charge', 'Reckless Charge+1', 'Recycle', 'Recycle+1', 'Redo', 'Redo+1', 'Reflex', 'Reflex+1', 'Regret', 'Reinforced Body', 'Reinforced Body+1', 'Reprogram', 'Reprogram+1', 'Riddle With Holes', 'Riddle With Holes+1', 'Rip and Tear', 'Rip and Tear+1', 'RitualDagger', 'RitualDagger+1', 'Rupture', 'Rupture+1', 'Sadistic Nature', 'Sadistic Nature+1', 'Safety', 'Safety+1', 'Sanctity', 'Sanctity+1', 'SandsOfTime', 'SandsOfTime+1', 'SashWhip', 'SashWhip+1', 'Scrape', 'Scrape+1', 'Scrawl', 'Scrawl+1', 'Searing Blow', 'Searing Blow+1', 'Second Wind', 'Second Wind+1', 'Secret Technique', 'Secret Technique+1', 'Secret Weapon', 'Secret Weapon+1', 'Seeing Red', 'Seeing Red+1', 'Seek', 'Seek+1', 'Self Repair', 'Self Repair+1', 'Sentinel', 'Sentinel+1', 'Setup', 'Setup+1', 'Sever Soul', 'Sever Soul+1', 'Shame', 'Shiv', 'Shiv+1', 'Shockwave', 'Shockwave+1', 'Shrug It Off', 'Shrug It Off+1', 'SignatureMove', 'SignatureMove+1', 'Skewer', 'Skewer+1', 'Skim', 'Skim+1', 'Slice', 'Slice+1', 'Slimed', 'Slimed+1', 'Smite', 'Smite+1', 'SpiritShield', 'SpiritShield+1', 'Spot Weakness', 'Spot Weakness+1', 'Stack', 'Stack+1', 'Static Discharge', 'Static Discharge+1', 'Steam', 'Steam Power', 'Steam Power+1', 'Steam+1', 'Storm', 'Storm of Steel', 'Storm of Steel+1', 'Storm+1', 'Streamline', 'Streamline+1', 'Strike', 'Strike+1', 'Study', 'Study+1', 'Sucker Punch', 'Sucker Punch+1', 'Sunder', 'Sunder+1', 'Survivor', 'Survivor+1', 'Sweeping Beam', 'Sweeping Beam+1', 'Swift Strike', 'Swift Strike+1', 'Swivel', 'Swivel+1', 'Sword Boomerang', 'Sword Boomerang+1', 'Tactician', 'Tactician+1', 'TalkToTheHand', 'TalkToTheHand+1', 'Tantrum', 'Tantrum+1', 'Tempest', 'Tempest+1', 'Terror', 'Terror+1', 'The Bomb', 'The Bomb+1', 'Thinking Ahead', 'Thinking Ahead+1', 'ThirdEye', 'ThirdEye+1', 'ThroughViolence', 'ThroughViolence+1', 'Thunder Strike', 'Thunder Strike+1', 'Thunderclap', 'Thunderclap+1', 'Tools of the Trade', 'Tools of the Trade+1', 'Transmutation', 'Transmutation+1', 'Trip', 'Trip+1', 'True Grit', 'True Grit+1', 'Turbo', 'Turbo+1', 'Twin Strike', 'Twin Strike+1', 'Underhanded Strike', 'Underhanded Strike+1', 'Undo', 'Undo+1', 'Unload', 'Unload+1', 'Uppercut', 'Uppercut+1', 'Vault', 'Vault+1', 'Vengeance', 'Vengeance+1', 'Venomology', 'Venomology+1', 'Vigilance', 'Vigilance+1', 'Violence', 'Violence+1', 'Void', 'Void+1', 'Wallop', 'Wallop+1', 'Warcry', 'Warcry+1', 'WaveOfTheHand', 'WaveOfTheHand+1',\n",
    "             'Weave', 'Weave+1', 'Well Laid Plans', 'Well Laid Plans+1', 'WheelKick', 'WheelKick+1', 'Whirlwind', 'Whirlwind+1', 'White Noise', 'White Noise+1', 'Wild Strike', 'Wild Strike+1', 'WindmillStrike', 'WindmillStrike+1', 'Wireheading', 'Wireheading+1', 'Wish', 'Wish+1', 'Worship', 'Worship+1', 'Wound', 'Wound+1', 'Wraith Form v2', 'Wraith Form v2+1', 'WreathOfFlame', 'WreathOfFlame+1', 'Writhe', 'Zap', 'Zap+1', 'Strike_R', 'Strike_R+1', 'Strike_G', 'Strike_G+1', 'Strike_B', 'Strike_B+1', 'Strike_P', 'Strike_P+1', 'Defend_R', 'Defend_R+1', 'Defend_G', 'Defend_G+1', 'Defend_B', 'Defend_B+1', 'Defend_P', 'Defend_P+1'}\n",
    "\n",
    "BASE_GAME_ENEMIES = {'Blue Slaver', 'Cultist', 'Jaw Worm', 'Looter', '2 Louse', 'Small Slimes', 'Gremlin Gang', 'Red Slaver', 'Large Slime', 'Exordium Thugs', 'Exordium Wildlife', '3 Louse', '2 Fungi Beasts', 'Lots of Slimes', 'Gremlin Nob', 'Lagavulin', '3 Sentries', 'Lagavulin Event', 'The Mushroom Lair', 'The Guardian', 'Hexaghost', 'Slime Boss', '2 Thieves', '3 Byrds', 'Chosen', 'Shell Parasite', 'Spheric Guardian', 'Cultist and Chosen', '3 Cultists', '4 Byrds', 'Chosen and Byrds', 'Sentry and Sphere', 'Snake Plant', 'Snecko', 'Centurion and Healer', 'Shelled Parasite and Fungi', 'Book of Stabbing', 'Gremlin Leader', 'Slavers', 'Masked Bandits', 'Colosseum Slavers', 'Colosseum Nobs', 'Automaton', 'Champ', 'Collector', '3 Darklings', '3 Shapes', 'Orb Walker', 'Transient', 'Reptomancer', 'Spire Growth', 'Maw', '4 Shapes', 'Sphere and 2 Shapes', 'Jaw Worm Horde', 'Snecko and Mystics', 'Writhing Mass', '2 Orb Walkers', 'Nemesis', 'Giant Head', 'Mysterious Sphere', 'Mind Bloom Boss Battle', 'Time Eater', 'Awakened One', 'Donu and Deca', 'The Heart', 'Shield and Spear', 'The Eyes', 'Apologetic Slime', 'Flame Bruiser 1 Orb', 'Flame Bruiser 2 Orb', 'Slaver and Parasite', 'Snecko and Mystics'}"
   ]
  },
  {
   "cell_type": "code",
   "execution_count": 21,
   "id": "683a5adb-2415-40cd-9ccf-68950473c873",
   "metadata": {},
   "outputs": [],
   "source": [
    "def process_run(data):\n",
    "    battle_stats_by_floor = {battle_stat['floor']: battle_stat for battle_stat in data['damage_taken']}\n",
    "    events_by_floor = {event_stat['floor']: event_stat for event_stat in data['event_choices']}\n",
    "    card_choices_by_floor = {card_choice['floor']: card_choice for card_choice in data['card_choices']}\n",
    "    relics_by_floor = get_relics_by_floor(data)\n",
    "    campfire_choices_by_floor = {campfire_choice['floor']: campfire_choice for campfire_choice in\n",
    "                                 data['campfire_choices']}\n",
    "    purchases_by_floor = get_stat_with_separate_floor_list(data, 'items_purchased', 'item_purchase_floors')\n",
    "    purges_by_floor = get_stat_with_separate_floor_list(data, 'items_purged', 'items_purged_floors')\n",
    "    potion_use_by_floor = list(set(data['potions_floor_usage']))\n",
    "\n",
    "    current_deck = get_starting_deck(data['character_chosen'], data['ascension_level'])\n",
    "    current_relics = get_starting_relics(data['character_chosen'])\n",
    "\n",
    "    unknown_removes_by_floor = dict()\n",
    "    unknown_upgrades_by_floor = dict()\n",
    "    unknown_transforms_by_floor = dict()\n",
    "    unknown_cards_by_floor = dict()\n",
    "    unknowns = (unknown_removes_by_floor, unknown_upgrades_by_floor, unknown_transforms_by_floor, unknown_cards_by_floor)\n",
    "\n",
    "    processed_fights = list()\n",
    "    for floor in range(0, data['floor_reached'] + 1):\n",
    "        if floor in battle_stats_by_floor and floor != 1:\n",
    "            fight_data = process_battle(data, battle_stats_by_floor[floor], potion_use_by_floor, current_deck, current_relics, floor)\n",
    "            processed_fights.append(fight_data)\n",
    "\n",
    "        if floor in relics_by_floor:\n",
    "            process_relics(relics_by_floor[floor], current_relics, data['relics'], floor, unknowns)\n",
    "\n",
    "        if floor in card_choices_by_floor:\n",
    "            process_card_choice(card_choices_by_floor[floor], current_deck, current_relics)\n",
    "\n",
    "        if floor in campfire_choices_by_floor:\n",
    "            restart_needed, new_data = try_process_data(partial(process_campfire_choice, campfire_choices_by_floor[floor], current_deck), floor, current_deck, current_relics, data, unknowns)\n",
    "            if restart_needed:\n",
    "                return process_run(new_data)\n",
    "\n",
    "        if floor in purchases_by_floor:\n",
    "            try_process_data(partial(process_purchases, purchases_by_floor[floor], current_deck, current_relics, data['relics'], floor, unknowns), floor, current_deck, current_relics, data, unknowns)\n",
    "\n",
    "        if floor in purges_by_floor:\n",
    "            try_process_data(partial(process_purges, purges_by_floor[floor], current_deck), floor, current_deck, current_relics, data, unknowns)\n",
    "\n",
    "        if floor in events_by_floor:\n",
    "            try_process_data(partial(process_events, events_by_floor[floor], current_deck, current_relics, data['relics'], floor, unknowns), floor, current_deck, current_relics, data, unknowns)\n",
    "\n",
    "        if floor == 0:\n",
    "            process_neow(data['neow_bonus'], current_deck, current_relics, data['relics'], unknowns)\n",
    "\n",
    "    current_deck.sort()\n",
    "    master_deck = sorted(data['master_deck'])\n",
    "    current_relics.sort()\n",
    "    master_relics = sorted(data['relics'])\n",
    "    if current_deck != master_deck or current_relics != master_relics:\n",
    "        success, new_data = resolve_missing_data(current_deck, current_relics, master_deck=data['master_deck'],\n",
    "                                                 master_relics=data['relics'], unknowns=unknowns, master_data=data)\n",
    "        if success:\n",
    "            return process_run(new_data)\n",
    "        # if current_deck == master_deck:\n",
    "        #     print(f'\\nSo close!!!!!   XX Relics XX')\n",
    "        # elif current_relics == master_relics:\n",
    "        #     print(f'\\nSo close!!!!!   XX Deck XX')\n",
    "        # else:\n",
    "        #     print(f'\\nLess close!!!!!   XX Deck and Relics XX')\n",
    "        #\n",
    "        #\n",
    "         print(f'Current Deck\\t: {sorted(current_deck)}')\n",
    "         print(f'Master Deck\\t\\t: {sorted(master_deck)}')\n",
    "        # print(f'Current Relics\\t: {sorted(current_relics)}')\n",
    "        # print(f'Master Relics\\t: {sorted(master_relics)}\\n')\n",
    "        raise RuntimeError('Final decks or relics did not match')\n",
    "    else:\n",
    "        return processed_fights\n",
    "    "
   ]
  },
  {
   "cell_type": "code",
   "execution_count": 42,
   "id": "6baa2df3-a107-4565-8f59-e6443bbfca20",
   "metadata": {},
   "outputs": [],
   "source": [
    "def try_process_data(func, floor, current_deck, current_relics, master_data, unknowns):\n",
    "    try:\n",
    "        func()\n",
    "        return False, None\n",
    "    except Exception as e:\n",
    "        # success, new_data = resolve_missing_data(current_deck, current_relics, master_deck=master_data['master_deck'], master_relics=master_data['relics'], unknowns=unknowns, master_data=master_data)\n",
    "        # if success:\n",
    "        #     return success, new_data\n",
    "        # else:\n",
    "        floor_reached = master_data['floor_reached']\n",
    "        master_deck = master_data['master_deck']\n",
    "        # print(f'\\nFunction {func.func.__name__} failed on floor {floor} of {floor_reached}')\n",
    "        # print(f'Reason for exception: {e}')\n",
    "        # print(f'Current Deck\\t: {sorted(current_deck)}')\n",
    "        # print(f'Master Deck\\t\\t: {sorted(master_deck)}\\n')\n",
    "        raise e"
   ]
  },
  {
   "cell_type": "code",
   "execution_count": 22,
   "id": "86d1f9c9-0c3d-46ab-91e7-563ff1d5f067",
   "metadata": {},
   "outputs": [],
   "source": [
    "def process_battle(master_data, battle_stat, potion_use_by_floor, current_deck, current_relics, floor):\n",
    "    if battle_stat['enemies'] not in BASE_GAME_ENEMIES:\n",
    "        raise RuntimeError('Modded enemy')\n",
    "\n",
    "    fight_data = dict()\n",
    "    fight_data['cards'] = list(current_deck)\n",
    "    fight_data['relics'] = list(current_relics)\n",
    "    fight_data['max_hp'] = master_data['max_hp_per_floor'][floor - 2]\n",
    "    fight_data['entering_hp'] = master_data['current_hp_per_floor'][floor - 2]\n",
    "    fight_data['character'] = master_data['character_chosen']\n",
    "    fight_data['ascension'] = master_data['ascension_level']\n",
    "    fight_data['enemies'] = battle_stat['enemies']\n",
    "    fight_data['potion_used'] = floor in potion_use_by_floor\n",
    "    fight_data['floor'] = floor\n",
    "    if master_data['current_hp_per_floor'] == 0:\n",
    "        hp_change = battle_stat['damage']\n",
    "    else:\n",
    "        hp_change = master_data['current_hp_per_floor'][floor - 2] - master_data['current_hp_per_floor'][floor - 1]\n",
    "    fight_data['damage_taken'] = hp_change\n",
    "    return fight_data\n"
   ]
  },
  {
   "cell_type": "code",
   "execution_count": 23,
   "id": "44285e78-2fe4-446c-a5ca-89fbd8c7c0da",
   "metadata": {},
   "outputs": [],
   "source": [
    "def process_card_choice(card_choice_data, current_deck, current_relics):\n",
    "    picked_card = card_choice_data['picked']\n",
    "    if picked_card != 'SKIP' and picked_card != 'Singing Bowl':\n",
    "        if 'Molten Egg 2' in current_relics and picked_card in BASE_GAME_ATTACKS and picked_card[-2] != '+1':\n",
    "            picked_card += '+1'\n",
    "        if 'Toxic Egg 2' in current_relics and picked_card in BASE_GAME_SKILLS and picked_card[-2] != '+1':\n",
    "            picked_card += '+1'\n",
    "        if 'Frozen Egg 2' in current_relics and picked_card in BASE_GAME_POWERS and picked_card[-2] != '+1':\n",
    "            picked_card += '+1'\n",
    "        current_deck.append(picked_card)"
   ]
  },
  {
   "cell_type": "code",
   "execution_count": 24,
   "id": "aba0634a-97cb-46e6-b504-19668ad58ec5",
   "metadata": {},
   "outputs": [],
   "source": [
    "def process_relics(relics, current_relics, master_relics, floor, unknowns):\n",
    "    for r in relics:\n",
    "        obtain_relic(r, current_relics, master_relics, floor, unknowns)"
   ]
  },
  {
   "cell_type": "code",
   "execution_count": 25,
   "id": "565c7572-62dd-4528-856b-eb189fc3b59b",
   "metadata": {},
   "outputs": [],
   "source": [
    "def process_campfire_choice(campfire_data, current_deck):\n",
    "    choice = campfire_data['key']\n",
    "    if choice == 'SMITH':\n",
    "        upgrade_card(current_deck, campfire_data['data'])\n",
    "    if choice == 'PURGE':\n",
    "        current_deck.remove(campfire_data['data'])"
   ]
  },
  {
   "cell_type": "code",
   "execution_count": 26,
   "id": "47899753-7948-49e0-932f-cd31ca0d0296",
   "metadata": {},
   "outputs": [],
   "source": [
    "def process_purchases(purchase_data, current_deck, current_relics, master_relics, floor, unknowns):\n",
    "    purchased_cards = [x for x in purchase_data if x not in BASE_GAME_RELICS and x not in BASE_GAME_POTIONS]\n",
    "    purchased_relics = [x for x in purchase_data if x not in purchased_cards and x not in BASE_GAME_POTIONS]\n",
    "    current_deck.extend(purchased_cards)\n",
    "    for r in purchased_relics:\n",
    "        obtain_relic(r, current_relics, master_relics, floor, unknowns)"
   ]
  },
  {
   "cell_type": "code",
   "execution_count": 27,
   "id": "2a3efa63-27b8-4aad-a5cc-4183192ed2f4",
   "metadata": {},
   "outputs": [],
   "source": [
    "def process_purges(purge_data, current_deck):\n",
    "    for card in purge_data:\n",
    "        current_deck.remove(card)"
   ]
  },
  {
   "cell_type": "code",
   "execution_count": 28,
   "id": "e394276e-1f73-4acb-b60e-ac099cc1bf6e",
   "metadata": {},
   "outputs": [],
   "source": [
    "def process_events(event_data, current_deck, current_relics, master_relics, floor, unknowns):\n",
    "    if 'relics_obtained' in event_data:\n",
    "        for r in event_data['relics_obtained']:\n",
    "            obtain_relic(r, current_relics, master_relics, floor, unknowns)\n",
    "    if 'relics_lost' in event_data:\n",
    "        for relic in event_data['relics_lost']:\n",
    "            current_relics.remove(relic)\n",
    "    if 'cards_obtained' in event_data:\n",
    "        current_deck.extend(event_data['cards_obtained'])\n",
    "    if 'cards_removed' in event_data:\n",
    "        for card in event_data['cards_removed']:\n",
    "            current_deck.remove(card)\n",
    "    if 'cards_upgraded' in event_data:\n",
    "        for card in event_data['cards_upgraded']:\n",
    "            upgrade_card(current_deck, card)\n",
    "    if 'event_name' in event_data and event_data['event_name'] == 'Vampires':\n",
    "        current_deck[:] = [x for x in current_deck if not x.startswith('Strike')]"
   ]
  },
  {
   "cell_type": "code",
   "execution_count": 29,
   "id": "e5e23655-f97f-4b6b-8a1f-861c8b2ffaf9",
   "metadata": {},
   "outputs": [],
   "source": [
    "def process_neow(neow_bonus, current_deck, current_relics, master_relics, unknowns):\n",
    "    unknown_removes_by_floor, unknown_upgrades_by_floor, unknown_transforms_by_floor, unknown_cards_by_floor = unknowns\n",
    "    if neow_bonus == 'ONE_RARE_RELIC' or neow_bonus == 'RANDOM_COMMON_RELIC':\n",
    "        current_relics.append(master_relics[1])\n",
    "    if neow_bonus == 'BOSS_RELIC':\n",
    "        current_relics[0] = master_relics[0]\n",
    "    if neow_bonus == 'THREE_ENEMY_KILL':\n",
    "        current_relics.append('NeowsBlessing')\n",
    "    if neow_bonus == 'UPGRADE_CARD':\n",
    "        unknown_upgrades_by_floor[0] = [{'type': 'unknown'}]\n",
    "    if neow_bonus == 'REMOVE_CARD':\n",
    "        unknown_removes_by_floor[0] = 1\n",
    "    if neow_bonus == 'REMOVE_TWO':\n",
    "        unknown_removes_by_floor[0] = 2\n",
    "    if neow_bonus == 'TRANSFORM_CARD':\n",
    "        unknown_transforms_by_floor[0] = 1\n",
    "    if neow_bonus == 'THREE_CARDS':\n",
    "        unknown_cards_by_floor[0] = [{'type': 'unknown'}]\n",
    "    if neow_bonus == 'THREE_RARE_CARDS' or neow_bonus == 'ONE_RANDOM_RARE_CARD':\n",
    "        unknown_cards_by_floor[0] = [{'type': 'rare'}]"
   ]
  },
  {
   "cell_type": "code",
   "execution_count": 30,
   "id": "723644f3-1941-4b4a-be0c-472235ad3c38",
   "metadata": {},
   "outputs": [],
   "source": [
    "def upgrade_card(current_deck, card_to_upgrade):\n",
    "    card_to_upgrade_index = current_deck.index(card_to_upgrade)\n",
    "    # if 'earing' in card_to_upgrade:\n",
    "        # print(f'Probably Searing Blow id: {card_to_upgrade}')\n",
    "    current_deck[card_to_upgrade_index] += '+1'"
   ]
  },
  {
   "cell_type": "code",
   "execution_count": 31,
   "id": "a6ea3f4d-c7c1-478f-b34a-36fc4a7940cf",
   "metadata": {},
   "outputs": [],
   "source": [
    "def obtain_relic(relic_to_obtain, current_relics, master_relics, floor, unknowns):\n",
    "    unknown_removes_by_floor, unknown_upgrades_by_floor, unknown_transforms_by_floor, unknown_cards_by_floor = unknowns\n",
    "    if relic_to_obtain == 'Black Blood':\n",
    "        current_relics[0] = 'Black Blood'\n",
    "        return\n",
    "    if relic_to_obtain == 'Ring of the Serpent':\n",
    "        current_relics[0] = 'Ring of the Serpent'\n",
    "        return\n",
    "    if relic_to_obtain == 'FrozenCore':\n",
    "        current_relics[0] = 'FrozenCore'\n",
    "        return\n",
    "    if relic_to_obtain == 'Calling Bell':\n",
    "        current_relics.extend(master_relics[len(current_relics) + 1:len(current_relics) + 4])\n",
    "    if relic_to_obtain == 'Empty Cage':\n",
    "        unknown_removes_by_floor[floor] = 2\n",
    "    if relic_to_obtain == 'Whetstone':\n",
    "        unknown_upgrades_by_floor[floor] = [{'type': 'attack'}, {'type': 'attack'}]\n",
    "    if relic_to_obtain == 'War Paint':\n",
    "        unknown_upgrades_by_floor[floor] = [{'type': 'skill'}, {'type': 'skill'}]\n",
    "    current_relics.append(relic_to_obtain)\n"
   ]
  },
  {
   "cell_type": "code",
   "execution_count": 32,
   "id": "d09eb63c-4aa5-4cd2-9a92-536d8220a999",
   "metadata": {},
   "outputs": [],
   "source": [
    "def get_stats_by_floor_with_list(data, data_key):\n",
    "    stats_by_floor = dict()\n",
    "    if data_key in data:\n",
    "        for stat in data[data_key]:\n",
    "            floor = stat['floor']\n",
    "            if floor not in stats_by_floor:\n",
    "                stats_by_floor[floor] = list()\n",
    "            stats_by_floor[floor].append(stat['key'])\n",
    "    return stats_by_floor"
   ]
  },
  {
   "cell_type": "code",
   "execution_count": 33,
   "id": "8081421e-683d-4949-930c-58271cf996ef",
   "metadata": {},
   "outputs": [],
   "source": [
    "def get_stat_with_separate_floor_list(data, obtain_key, floor_key):\n",
    "    stats_by_floor = dict()\n",
    "    if obtain_key in data and floor_key in data and len(data[obtain_key]) == len(data[floor_key]):\n",
    "        obtains = data[obtain_key]\n",
    "        floors = data[floor_key]\n",
    "        for index, obt in enumerate(obtains):\n",
    "            flr = floors[index]\n",
    "            obt = obtains[index]\n",
    "            if flr not in stats_by_floor:\n",
    "                stats_by_floor[flr] = list()\n",
    "            stats_by_floor[flr].append(obt)\n",
    "    return stats_by_floor"
   ]
  },
  {
   "cell_type": "code",
   "execution_count": 34,
   "id": "eb695a7a-967c-4500-b2c0-6f0ebd58ec58",
   "metadata": {},
   "outputs": [],
   "source": [
    "def get_relics_by_floor(data):\n",
    "    relics_by_floor = get_stats_by_floor_with_list(data, 'relics_obtained')\n",
    "    boss_relics = data['boss_relics']\n",
    "    if len(boss_relics) >= 1:\n",
    "        picked_relic = boss_relics[0]['picked']\n",
    "        if picked_relic != 'SKIP':\n",
    "            relics_by_floor[17] = [picked_relic]\n",
    "    if len(boss_relics) == 2:\n",
    "        picked_relic = boss_relics[1]['picked']\n",
    "        if picked_relic != 'SKIP':\n",
    "            relics_by_floor[34] = [picked_relic]\n",
    "    return relics_by_floor\n"
   ]
  },
  {
   "cell_type": "code",
   "execution_count": 35,
   "id": "b7fa832d-cd45-45f1-b14a-7f4d9d664140",
   "metadata": {},
   "outputs": [],
   "source": [
    "def get_starting_relics(character):\n",
    "        return ['Burning Blood']"
   ]
  },
  {
   "cell_type": "code",
   "execution_count": 36,
   "id": "0d4d44d0-3210-4a6a-b60c-3df8e625f578",
   "metadata": {},
   "outputs": [],
   "source": [
    "def get_starting_deck(character, ascension):\n",
    "    basic_deck = ['Strike_R', 'Strike_R', 'Strike_R', 'Strike_R', 'Defend_R', 'Defend_R', 'Defend_R', 'Defend_R']\n",
    "    basic_deck.extend(['Strike_R', 'Bash'])\n",
    "    if ascension >= 10:\n",
    "        basic_deck.append('AscendersBane')\n",
    "    return basic_deck"
   ]
  },
  {
   "cell_type": "code",
   "execution_count": 37,
   "id": "dd10f63f-4064-44f4-a155-3f703e6cc6c4",
   "metadata": {},
   "outputs": [],
   "source": [
    "def resolve_missing_data(current_deck, current_relics, master_deck, master_relics, unknowns, master_data):\n",
    "    unknown_removes_by_floor, unknown_upgrades_by_floor, unknown_transforms_by_floor, unknown_cards_by_floor = unknowns\n",
    "    if current_deck != master_deck:\n",
    "        if len(current_deck) > len(master_deck) and len(unknown_removes_by_floor) == 1 and len(unknown_upgrades_by_floor) == 0 and len(unknown_transforms_by_floor) == 0 and len(unknown_cards_by_floor) == 0:\n",
    "            differences = list((Counter(current_deck) - Counter(master_deck)).elements())\n",
    "            for floor, number_of_removes in unknown_removes_by_floor.items():\n",
    "                if len(differences) == number_of_removes:\n",
    "                    master_data['items_purged'].extend(differences)\n",
    "                    for i in range(number_of_removes):\n",
    "                        items_purched_floors = master_data['items_purged_floors']\n",
    "                        items_purched_floors.append(floor)\n",
    "                    return True, master_data\n",
    "        elif len(current_deck) == len(master_deck) and len(unknown_upgrades_by_floor) == 1 and len(unknown_removes_by_floor) == 0 and len(unknown_transforms_by_floor) == 0 and len(unknown_cards_by_floor) == 0:\n",
    "            diff1 = list((Counter(current_deck) - Counter(master_deck)).elements())\n",
    "            diff2 = list((Counter(master_deck) - Counter(current_deck)).elements())\n",
    "            if len(diff1) == len(diff2):\n",
    "                upgraded_names_of_unupgraded_cards = [x + \"+1\" for x in diff1]\n",
    "                if upgraded_names_of_unupgraded_cards == diff2:\n",
    "                    for floor, upgrade_types in unknown_upgrades_by_floor.items():\n",
    "                        if len(diff1) == len(upgrade_types):\n",
    "                            for unupgraded_card in diff1:\n",
    "                                master_data['campfire_choices'].append({\"data\": unupgraded_card, \"floor\": floor, \"key\": \"SMITH\"})\n",
    "                            return True, master_data\n",
    "\n",
    "    return False, None\n"
   ]
  },
  {
   "cell_type": "code",
   "execution_count": 39,
   "id": "b1484504-6d1b-4c54-9f80-5bcd1b0964d3",
   "metadata": {},
   "outputs": [],
   "source": [
    "import urllib.request\n",
    "import json\n",
    "import numpy as np\n",
    "import pandas as pd"
   ]
  },
  {
   "cell_type": "code",
   "execution_count": 40,
   "id": "73de2526-1997-4384-a923-f3bfa368c1e1",
   "metadata": {},
   "outputs": [],
   "source": [
    "data_url = 'https://raw.githubusercontent.com/KU81-ComSci-ProjectEnd-GameCard/main/master/Predictor/data/processed_data/quality_run.json'\n",
    "json_data = list()\n",
    "with urllib.request.urlopen(data_url) as url:\n",
    "    run_js = json.loads(url.read().decode())\n",
    "run = pd.DataFrame(run_js)"
   ]
  },
  {
   "cell_type": "code",
   "execution_count": 46,
   "id": "47fa9493-864d-4855-97e0-cf994f609b93",
   "metadata": {},
   "outputs": [
    {
     "ename": "RuntimeError",
     "evalue": "Final decks or relics did not match",
     "output_type": "error",
     "traceback": [
      "\u001b[1;31m---------------------------------------------------------------------------\u001b[0m",
      "\u001b[1;31mRuntimeError\u001b[0m                              Traceback (most recent call last)",
      "Cell \u001b[1;32mIn[46], line 1\u001b[0m\n\u001b[1;32m----> 1\u001b[0m \u001b[43mprocess_run\u001b[49m\u001b[43m(\u001b[49m\u001b[43mrun\u001b[49m\u001b[38;5;241;43m.\u001b[39;49m\u001b[43miloc\u001b[49m\u001b[43m[\u001b[49m\u001b[38;5;241;43m0\u001b[39;49m\u001b[43m]\u001b[49m\u001b[43m)\u001b[49m\n",
      "Cell \u001b[1;32mIn[21], line 71\u001b[0m, in \u001b[0;36mprocess_run\u001b[1;34m(data)\u001b[0m\n\u001b[0;32m     58\u001b[0m         \u001b[38;5;28;01mreturn\u001b[39;00m process_run(new_data)\n\u001b[0;32m     59\u001b[0m     \u001b[38;5;66;03m# if current_deck == master_deck:\u001b[39;00m\n\u001b[0;32m     60\u001b[0m     \u001b[38;5;66;03m#     print(f'\\nSo close!!!!!   XX Relics XX')\u001b[39;00m\n\u001b[0;32m     61\u001b[0m     \u001b[38;5;66;03m# elif current_relics == master_relics:\u001b[39;00m\n\u001b[1;32m   (...)\u001b[0m\n\u001b[0;32m     69\u001b[0m     \u001b[38;5;66;03m# print(f'Current Relics\\t: {sorted(current_relics)}')\u001b[39;00m\n\u001b[0;32m     70\u001b[0m     \u001b[38;5;66;03m# print(f'Master Relics\\t: {sorted(master_relics)}\\n')\u001b[39;00m\n\u001b[1;32m---> 71\u001b[0m     \u001b[38;5;28;01mraise\u001b[39;00m \u001b[38;5;167;01mRuntimeError\u001b[39;00m(\u001b[38;5;124m'\u001b[39m\u001b[38;5;124mFinal decks or relics did not match\u001b[39m\u001b[38;5;124m'\u001b[39m)\n\u001b[0;32m     72\u001b[0m \u001b[38;5;28;01melse\u001b[39;00m:\n\u001b[0;32m     73\u001b[0m     \u001b[38;5;28;01mreturn\u001b[39;00m processed_fights\n",
      "\u001b[1;31mRuntimeError\u001b[0m: Final decks or relics did not match"
     ]
    }
   ],
   "source": [
    "process_run(run.iloc[0])"
   ]
  },
  {
   "cell_type": "code",
   "execution_count": null,
   "id": "01b847b9-88d3-476e-b619-da507afeafba",
   "metadata": {},
   "outputs": [],
   "source": []
  }
 ],
 "metadata": {
  "kernelspec": {
   "display_name": "Python 3 (ipykernel)",
   "language": "python",
   "name": "python3"
  },
  "language_info": {
   "codemirror_mode": {
    "name": "ipython",
    "version": 3
   },
   "file_extension": ".py",
   "mimetype": "text/x-python",
   "name": "python",
   "nbconvert_exporter": "python",
   "pygments_lexer": "ipython3",
   "version": "3.9.5"
  }
 },
 "nbformat": 4,
 "nbformat_minor": 5
}
