{
  "cells": [
    {
      "cell_type": "code",
      "execution_count": 1,
      "metadata": {
        "id": "mlI4exTXRy_H"
      },
      "outputs": [],
      "source": [
        "import pandas as pd\n",
        "# URL of the raw JSON file on GitHub\n",
        "url = \"https://raw.githubusercontent.com/KU81-ComSci-ProjectEnd-GameCard/main/master/Predictor/data/processed_data/quality_run2k.json\"\n",
        "# Load the JSON data into a pandas DataFrame\n",
        "df = pd.read_json(url)"
      ]
    },
    {
      "cell_type": "code",
      "execution_count": 2,
      "metadata": {
        "id": "E4oPuWuvSTCj"
      },
      "outputs": [],
      "source": [
        "run = df.iloc[0]"
      ]
    },
    {
      "cell_type": "code",
      "execution_count": 3,
      "metadata": {
        "colab": {
          "base_uri": "https://localhost:8080/",
          "height": 1000
        },
        "id": "gBmJzXiLufKR",
        "outputId": "ec75be42-931b-4433-f5f8-f71031e05e8b"
      },
      "outputs": [
        {
          "output_type": "execute_result",
          "data": {
            "text/plain": [
              "index                                                                    0\n",
              "gold_per_floor           [114, 127, 127, 127, 145, 177, 177, 193, 193, ...\n",
              "floor_reached                                                           50\n",
              "playtime                                                              3610\n",
              "items_purged                      [Strike_R, Strike_R, Defend_R, Defend_R]\n",
              "score                                                                  531\n",
              "play_id                               251eb1e0-5bfe-4c74-a86d-2925b198cd9c\n",
              "local_time                                      1970-08-22 19:25:01.005734\n",
              "is_ascension_mode                                                    False\n",
              "campfire_choices         [{'data': 'Anger', 'floor': 7, 'key': 'SMITH'}...\n",
              "neow_cost                                              TEN_PERCENT_HP_LOSS\n",
              "seed_source_timestamp                                       18759847683600\n",
              "circlet_count                                                            0\n",
              "master_deck              [Strike_R+1, Strike_R+1, Defend_R, Defend_R+1,...\n",
              "relics                   [Burning Blood, Ancient Tea Set, Ginger, Molte...\n",
              "potions_floor_usage                                       [10, 16, 22, 50]\n",
              "damage_taken             [{'damage': 0, 'enemies': 'Cultist', 'floor': ...\n",
              "seed_played                                            4360709066122050048\n",
              "potions_obtained         [{'floor': 1, 'key': 'BlessingOfTheForge'}, {'...\n",
              "is_trial                                                             False\n",
              "path_per_floor           [M, M, ?, ?, M, E, R, M, T, E, M, $, R, E, R, ...\n",
              "character_chosen                                                  IRONCLAD\n",
              "items_purchased                         [Demon Form, Whirlwind+1, Clash+1]\n",
              "campfire_rested                                                          2\n",
              "item_purchase_floors                                          [12, 24, 30]\n",
              "current_hp_per_floor     [72, 72, 72, 72, 69, 49, 49, 52, 52, 42, 48, 4...\n",
              "gold                                                                   161\n",
              "neow_bonus                                                THREE_RARE_CARDS\n",
              "is_prod                                                              False\n",
              "is_daily                                                             False\n",
              "chose_seed                                                           False\n",
              "campfire_upgraded                                                        9\n",
              "win_rate                                                                 0\n",
              "timestamp                                              2020-10-31 23:57:34\n",
              "path_taken               [M, M, ?, ?, M, E, R, M, T, E, M, $, R, E, R, ...\n",
              "build_version                                                   2020-07-30\n",
              "purchased_purges                                                         4\n",
              "victory                                                              False\n",
              "max_hp_per_floor         [72, 72, 72, 72, 72, 72, 72, 72, 72, 72, 72, 7...\n",
              "card_choices             [{'not_picked': ['Fiend Fire', 'Corruption'], ...\n",
              "player_experience                                                     3232\n",
              "relics_obtained          [{'floor': 6, 'key': 'Ginger'}, {'floor': 9, '...\n",
              "event_choices            [{'damage_healed': 0, 'gold_gain': 0, 'player_...\n",
              "is_beta                                                                0.0\n",
              "boss_relics              [{'not_picked': ['Fusion Hammer', 'Black Star'...\n",
              "items_purged_floors                                       [12, 24, 30, 39]\n",
              "is_endless                                                           False\n",
              "potions_floor_spawned                                [1, 5, 8, 18, 19, 38]\n",
              "killed_by                                                     Awakened One\n",
              "ascension_level                                                          0\n",
              "special_seed                                                           NaN\n",
              "Name: 0, dtype: object"
            ],
            "text/html": [
              "<div>\n",
              "<style scoped>\n",
              "    .dataframe tbody tr th:only-of-type {\n",
              "        vertical-align: middle;\n",
              "    }\n",
              "\n",
              "    .dataframe tbody tr th {\n",
              "        vertical-align: top;\n",
              "    }\n",
              "\n",
              "    .dataframe thead th {\n",
              "        text-align: right;\n",
              "    }\n",
              "</style>\n",
              "<table border=\"1\" class=\"dataframe\">\n",
              "  <thead>\n",
              "    <tr style=\"text-align: right;\">\n",
              "      <th></th>\n",
              "      <th>0</th>\n",
              "    </tr>\n",
              "  </thead>\n",
              "  <tbody>\n",
              "    <tr>\n",
              "      <th>index</th>\n",
              "      <td>0</td>\n",
              "    </tr>\n",
              "    <tr>\n",
              "      <th>gold_per_floor</th>\n",
              "      <td>[114, 127, 127, 127, 145, 177, 177, 193, 193, ...</td>\n",
              "    </tr>\n",
              "    <tr>\n",
              "      <th>floor_reached</th>\n",
              "      <td>50</td>\n",
              "    </tr>\n",
              "    <tr>\n",
              "      <th>playtime</th>\n",
              "      <td>3610</td>\n",
              "    </tr>\n",
              "    <tr>\n",
              "      <th>items_purged</th>\n",
              "      <td>[Strike_R, Strike_R, Defend_R, Defend_R]</td>\n",
              "    </tr>\n",
              "    <tr>\n",
              "      <th>score</th>\n",
              "      <td>531</td>\n",
              "    </tr>\n",
              "    <tr>\n",
              "      <th>play_id</th>\n",
              "      <td>251eb1e0-5bfe-4c74-a86d-2925b198cd9c</td>\n",
              "    </tr>\n",
              "    <tr>\n",
              "      <th>local_time</th>\n",
              "      <td>1970-08-22 19:25:01.005734</td>\n",
              "    </tr>\n",
              "    <tr>\n",
              "      <th>is_ascension_mode</th>\n",
              "      <td>False</td>\n",
              "    </tr>\n",
              "    <tr>\n",
              "      <th>campfire_choices</th>\n",
              "      <td>[{'data': 'Anger', 'floor': 7, 'key': 'SMITH'}...</td>\n",
              "    </tr>\n",
              "    <tr>\n",
              "      <th>neow_cost</th>\n",
              "      <td>TEN_PERCENT_HP_LOSS</td>\n",
              "    </tr>\n",
              "    <tr>\n",
              "      <th>seed_source_timestamp</th>\n",
              "      <td>18759847683600</td>\n",
              "    </tr>\n",
              "    <tr>\n",
              "      <th>circlet_count</th>\n",
              "      <td>0</td>\n",
              "    </tr>\n",
              "    <tr>\n",
              "      <th>master_deck</th>\n",
              "      <td>[Strike_R+1, Strike_R+1, Defend_R, Defend_R+1,...</td>\n",
              "    </tr>\n",
              "    <tr>\n",
              "      <th>relics</th>\n",
              "      <td>[Burning Blood, Ancient Tea Set, Ginger, Molte...</td>\n",
              "    </tr>\n",
              "    <tr>\n",
              "      <th>potions_floor_usage</th>\n",
              "      <td>[10, 16, 22, 50]</td>\n",
              "    </tr>\n",
              "    <tr>\n",
              "      <th>damage_taken</th>\n",
              "      <td>[{'damage': 0, 'enemies': 'Cultist', 'floor': ...</td>\n",
              "    </tr>\n",
              "    <tr>\n",
              "      <th>seed_played</th>\n",
              "      <td>4360709066122050048</td>\n",
              "    </tr>\n",
              "    <tr>\n",
              "      <th>potions_obtained</th>\n",
              "      <td>[{'floor': 1, 'key': 'BlessingOfTheForge'}, {'...</td>\n",
              "    </tr>\n",
              "    <tr>\n",
              "      <th>is_trial</th>\n",
              "      <td>False</td>\n",
              "    </tr>\n",
              "    <tr>\n",
              "      <th>path_per_floor</th>\n",
              "      <td>[M, M, ?, ?, M, E, R, M, T, E, M, $, R, E, R, ...</td>\n",
              "    </tr>\n",
              "    <tr>\n",
              "      <th>character_chosen</th>\n",
              "      <td>IRONCLAD</td>\n",
              "    </tr>\n",
              "    <tr>\n",
              "      <th>items_purchased</th>\n",
              "      <td>[Demon Form, Whirlwind+1, Clash+1]</td>\n",
              "    </tr>\n",
              "    <tr>\n",
              "      <th>campfire_rested</th>\n",
              "      <td>2</td>\n",
              "    </tr>\n",
              "    <tr>\n",
              "      <th>item_purchase_floors</th>\n",
              "      <td>[12, 24, 30]</td>\n",
              "    </tr>\n",
              "    <tr>\n",
              "      <th>current_hp_per_floor</th>\n",
              "      <td>[72, 72, 72, 72, 69, 49, 49, 52, 52, 42, 48, 4...</td>\n",
              "    </tr>\n",
              "    <tr>\n",
              "      <th>gold</th>\n",
              "      <td>161</td>\n",
              "    </tr>\n",
              "    <tr>\n",
              "      <th>neow_bonus</th>\n",
              "      <td>THREE_RARE_CARDS</td>\n",
              "    </tr>\n",
              "    <tr>\n",
              "      <th>is_prod</th>\n",
              "      <td>False</td>\n",
              "    </tr>\n",
              "    <tr>\n",
              "      <th>is_daily</th>\n",
              "      <td>False</td>\n",
              "    </tr>\n",
              "    <tr>\n",
              "      <th>chose_seed</th>\n",
              "      <td>False</td>\n",
              "    </tr>\n",
              "    <tr>\n",
              "      <th>campfire_upgraded</th>\n",
              "      <td>9</td>\n",
              "    </tr>\n",
              "    <tr>\n",
              "      <th>win_rate</th>\n",
              "      <td>0</td>\n",
              "    </tr>\n",
              "    <tr>\n",
              "      <th>timestamp</th>\n",
              "      <td>2020-10-31 23:57:34</td>\n",
              "    </tr>\n",
              "    <tr>\n",
              "      <th>path_taken</th>\n",
              "      <td>[M, M, ?, ?, M, E, R, M, T, E, M, $, R, E, R, ...</td>\n",
              "    </tr>\n",
              "    <tr>\n",
              "      <th>build_version</th>\n",
              "      <td>2020-07-30</td>\n",
              "    </tr>\n",
              "    <tr>\n",
              "      <th>purchased_purges</th>\n",
              "      <td>4</td>\n",
              "    </tr>\n",
              "    <tr>\n",
              "      <th>victory</th>\n",
              "      <td>False</td>\n",
              "    </tr>\n",
              "    <tr>\n",
              "      <th>max_hp_per_floor</th>\n",
              "      <td>[72, 72, 72, 72, 72, 72, 72, 72, 72, 72, 72, 7...</td>\n",
              "    </tr>\n",
              "    <tr>\n",
              "      <th>card_choices</th>\n",
              "      <td>[{'not_picked': ['Fiend Fire', 'Corruption'], ...</td>\n",
              "    </tr>\n",
              "    <tr>\n",
              "      <th>player_experience</th>\n",
              "      <td>3232</td>\n",
              "    </tr>\n",
              "    <tr>\n",
              "      <th>relics_obtained</th>\n",
              "      <td>[{'floor': 6, 'key': 'Ginger'}, {'floor': 9, '...</td>\n",
              "    </tr>\n",
              "    <tr>\n",
              "      <th>event_choices</th>\n",
              "      <td>[{'damage_healed': 0, 'gold_gain': 0, 'player_...</td>\n",
              "    </tr>\n",
              "    <tr>\n",
              "      <th>is_beta</th>\n",
              "      <td>0.0</td>\n",
              "    </tr>\n",
              "    <tr>\n",
              "      <th>boss_relics</th>\n",
              "      <td>[{'not_picked': ['Fusion Hammer', 'Black Star'...</td>\n",
              "    </tr>\n",
              "    <tr>\n",
              "      <th>items_purged_floors</th>\n",
              "      <td>[12, 24, 30, 39]</td>\n",
              "    </tr>\n",
              "    <tr>\n",
              "      <th>is_endless</th>\n",
              "      <td>False</td>\n",
              "    </tr>\n",
              "    <tr>\n",
              "      <th>potions_floor_spawned</th>\n",
              "      <td>[1, 5, 8, 18, 19, 38]</td>\n",
              "    </tr>\n",
              "    <tr>\n",
              "      <th>killed_by</th>\n",
              "      <td>Awakened One</td>\n",
              "    </tr>\n",
              "    <tr>\n",
              "      <th>ascension_level</th>\n",
              "      <td>0</td>\n",
              "    </tr>\n",
              "    <tr>\n",
              "      <th>special_seed</th>\n",
              "      <td>NaN</td>\n",
              "    </tr>\n",
              "  </tbody>\n",
              "</table>\n",
              "</div><br><label><b>dtype:</b> object</label>"
            ]
          },
          "metadata": {},
          "execution_count": 3
        }
      ],
      "source": [
        "run"
      ]
    },
    {
      "cell_type": "code",
      "execution_count": 4,
      "metadata": {
        "id": "GzcH6jJvUGTI"
      },
      "outputs": [],
      "source": [
        " ## campfire_choices   items_purged  items_purged_floors   card_choices    items_purchased  item_purchase_floors   event_choices   neow_bonus"
      ]
    },
    {
      "cell_type": "code",
      "execution_count": 5,
      "metadata": {
        "colab": {
          "base_uri": "https://localhost:8080/",
          "height": 35
        },
        "id": "IFfKdFEbSZsp",
        "outputId": "cb12814a-5d1f-4138-b1e7-155e5d4b0f0f"
      },
      "outputs": [
        {
          "output_type": "execute_result",
          "data": {
            "text/plain": [
              "'THREE_RARE_CARDS'"
            ],
            "application/vnd.google.colaboratory.intrinsic+json": {
              "type": "string"
            }
          },
          "metadata": {},
          "execution_count": 5
        }
      ],
      "source": [
        "run.neow_bonus"
      ]
    },
    {
      "cell_type": "code",
      "execution_count": 6,
      "metadata": {
        "id": "6PPP7UN_trda"
      },
      "outputs": [],
      "source": [
        "BASE_GAME_RELICS = {'Burning Blood', 'Cracked Core', 'PureWater', 'Ring of the Snake', 'Akabeko', 'Anchor', 'Ancient Tea Set', 'Art of War', 'Bag of Marbles', 'Bag of Preparation', 'Blood Vial', 'TestModSTS:BottledPlaceholderRelic', 'Bronze Scales', 'Centennial Puzzle', 'CeramicFish', 'Damaru', 'DataDisk', 'Dream Catcher', 'Happy Flower', 'Juzu Bracelet', 'Lantern', 'MawBank', 'MealTicket', 'Nunchaku', 'Oddly Smooth Stone', 'Omamori', 'Orichalcum', 'Pen Nib', 'TestModSTS:PlaceholderRelic2', 'Potion Belt', 'PreservedInsect', 'Red Skull', 'Regal Pillow', 'TestModSTS:DefaultClickableRelic', 'Smiling Mask', 'Snake Skull', 'Strawberry', 'Boot', 'Tiny Chest', 'Toy Ornithopter', 'Vajra', 'War Paint', 'Whetstone', 'Blue Candle', 'Bottled Flame', 'Bottled Lightning', 'Bottled Tornado', 'Darkstone Periapt', 'Yang', 'Eternal Feather', 'Frozen Egg 2', 'Cables', 'Gremlin Horn', 'HornCleat', 'InkBottle', 'Kunai', 'Letter Opener', 'Matryoshka', 'Meat on the Bone', 'Mercury Hourglass', 'Molten Egg 2', 'Mummified Hand', 'Ninja Scroll', 'Ornamental Fan', 'Pantograph', 'Paper Crane', 'Paper Frog', 'Pear', 'Question Card', 'Self Forming Clay', 'Shuriken', 'Singing Bowl', 'StrikeDummy', 'Sundial', 'Symbiotic Virus', 'TeardropLocket', 'The Courier', 'Toxic Egg 2', 'White Beast Statue', 'Bird Faced Urn', 'Calipers', 'CaptainsWheel', 'Champion Belt', 'Charon\\'s Ashes', 'CloakClasp', 'Dead Branch', 'Du-Vu Doll', 'Emotion Chip', 'FossilizedHelix', 'Gambling Chip', 'Ginger', 'Girya', 'GoldenEye', 'Ice Cream', 'Incense Burner', 'Lizard Tail', 'Magic Flower', 'Mango', 'Old Coin', 'Peace Pipe', 'Pocketwatch', 'Prayer Wheel', 'Shovel', 'StoneCalendar', 'The Specimen', 'Thread and Needle', 'Tingsha', 'Torii', 'Tough Bandages', 'TungstenRod', 'Turnip', 'Unceasing Top', 'WingedGreaves', 'Astrolabe', 'Black Blood', 'Black Star', 'Busted Crown', 'Calling Bell', 'Coffee Dripper', 'Cursed Key', 'Ectoplasm', 'Empty Cage', 'FrozenCore', 'Fusion Hammer', 'HolyWater', 'HoveringKite', 'Inserter', 'Mark of Pain', 'Nuclear Battery', 'Pandora\\'s Box', 'Philosopher\\'s Stone', 'Ring of the Serpent', 'Runic Cube', 'Runic Dome', 'Runic Pyramid', 'SacredBark', 'SlaversCollar', 'Snecko Eye', 'Sozu', 'Tiny House', 'Velvet Choker', 'VioletLotus', 'WristBlade', 'Bloody Idol', 'CultistMask', 'Enchiridion', 'FaceOfCleric', 'Golden Idol', 'GremlinMask', 'Mark of the Bloom', 'MutagenicStrength', 'Nloth\\'s Gift', 'NlothsMask', 'Necronomicon', 'NeowsBlessing', 'Nilry\\'s Codex', 'Odd Mushroom', 'Red Mask', 'Spirit Poop', 'SsserpentHead', 'WarpedTongs', 'Brimstone', 'Cauldron', 'Chemical X', 'ClockworkSouvenir', 'DollysMirror', 'Frozen Eye', 'HandDrill', 'Lee\\'s Waffle', 'Medical Kit', 'Melange', 'Membership Card', 'OrangePellets', 'Orrery', 'PrismaticShard', 'Runic Capacitor', 'Sling', 'Strange Spoon', 'TheAbacus', 'Toolbox', 'TwistedFunnel'}"
      ]
    },
    {
      "cell_type": "code",
      "execution_count": 154,
      "metadata": {
        "id": "6zYU_8W_T7wA"
      },
      "outputs": [],
      "source": [
        "def log_add(log , floor , key , card):\n",
        "  if key == 'TRANFORM':\n",
        "    log.append( { 'floor' : floor , 'key' : key , 'card' : card})\n",
        "  elif isinstance(card, list):\n",
        "    for i in card:\n",
        "      log.append( { 'floor' : floor , 'key' : key , 'card' : i})\n",
        "  else:\n",
        "    log.append( { 'floor' : floor , 'key' : key , 'card' : card})"
      ]
    },
    {
      "cell_type": "code",
      "execution_count": 155,
      "metadata": {
        "id": "m-sa8r8AV8gf"
      },
      "outputs": [],
      "source": [
        "def process_pick(log , run):\n",
        "  for i in run.card_choices:\n",
        "    if i['picked'] != 'SKIP' and i['picked'] != 'Singing Bowl':\n",
        "      log_add(log , i['floor'] , 'PICK' , i['picked'])\n",
        "  log[:] = sorted(log, key=lambda d: d['floor'])"
      ]
    },
    {
      "cell_type": "code",
      "execution_count": 156,
      "metadata": {
        "id": "7EiWOT-eYi1v"
      },
      "outputs": [],
      "source": [
        "def process_campfire(log , run):\n",
        "  for i in run.campfire_choices :\n",
        "    if i['key'] == 'SMITH':\n",
        "      log_add(log , i['floor'] , 'UPGRADE' , i['data'])\n",
        "    if i['key'] == 'PURGE':\n",
        "      log_add(log, i['floor'] , 'REMOVE' , i['data'])\n",
        "  log[:]  = sorted(log, key=lambda d: d['floor'])"
      ]
    },
    {
      "cell_type": "code",
      "execution_count": 157,
      "metadata": {
        "id": "Kl3AO23iapau"
      },
      "outputs": [],
      "source": [
        "def process_purged(log , run):\n",
        "  for i,j in zip(run.items_purged , run.items_purged_floors):\n",
        "    log_add(log , j , 'REMOVE' , i)\n",
        "  log[:]  = sorted(log, key=lambda d: d['floor'])"
      ]
    },
    {
      "cell_type": "code",
      "execution_count": 158,
      "metadata": {
        "id": "KYbDQnndb4uD"
      },
      "outputs": [],
      "source": [
        "def process_purchased(log , run):\n",
        "  for i,j in zip(run.items_purchased , run.item_purchase_floors ):\n",
        "    if i not in BASE_GAME_RELICS:\n",
        "      log_add(log , j , 'ADD' , i)\n",
        "  log[:]  = sorted(log, key=lambda d: d['floor'])"
      ]
    },
    {
      "cell_type": "code",
      "execution_count": 159,
      "metadata": {
        "id": "NrmyM4ZvcswF"
      },
      "outputs": [],
      "source": [
        "## cards_obtained   cards_removed   cards_upgraded   , event_name == 'Vampires'   cards_transformed(ทั้ง get and remove)???\n",
        "def process_event(log , run):\n",
        "  for i in run.event_choices:\n",
        "    if 'cards_removed' in i:\n",
        "      log_add(log , i['floor'] , 'REMOVE' , i['cards_removed'])\n",
        "    elif 'cards_transformed' in i:\n",
        "      log_add(log , i['floor'] , 'TRANFORM' , [i['cards_transformed'][0],i['cards_obtained'][0]])\n",
        "    elif 'cards_obtained' in i:\n",
        "      log_add(log , i['floor'] , 'ADD' , i['cards_obtained'])\n",
        "    elif 'cards_upgraded' in i:\n",
        "      log_add(log , i['floor'] , 'UPGRADE' , i['cards_upgraded'])\n",
        "    elif i['event_name'] in 'Vampires' and i['player_choice'] == 'Accept':\n",
        "      log_add(log , i['floor'] , 'VAM' , '')\n",
        "  log[:] = sorted(log, key=lambda d: d['floor'])"
      ]
    },
    {
      "cell_type": "code",
      "execution_count": 160,
      "metadata": {
        "colab": {
          "base_uri": "https://localhost:8080/"
        },
        "id": "OrhuB19vuyZ4",
        "outputId": "844b5b9b-a0c9-44ee-fcf6-33ae0ad06d19"
      },
      "outputs": [
        {
          "output_type": "execute_result",
          "data": {
            "text/plain": [
              "['Black Blood',\n",
              " 'Prayer Wheel',\n",
              " 'MealTicket',\n",
              " 'PreservedInsect',\n",
              " 'Dream Catcher',\n",
              " 'Omamori',\n",
              " 'Calling Bell',\n",
              " 'Juzu Bracelet',\n",
              " 'White Beast Statue',\n",
              " 'CaptainsWheel',\n",
              " 'HandDrill',\n",
              " 'Red Mask',\n",
              " 'Mummified Hand',\n",
              " 'Meat on the Bone',\n",
              " 'Oddly Smooth Stone',\n",
              " 'Bottled Tornado',\n",
              " 'Bottled Lightning',\n",
              " \"Charon's Ashes\",\n",
              " 'Letter Opener',\n",
              " 'Ancient Tea Set']"
            ]
          },
          "metadata": {},
          "execution_count": 160
        }
      ],
      "source": [
        "## relics relics_obtained boss_relics\n",
        "run.relics"
      ]
    },
    {
      "cell_type": "code",
      "execution_count": 167,
      "metadata": {
        "id": "oCJf-w8tghSR"
      },
      "outputs": [],
      "source": [
        "def build_deck(log,run):\n",
        "  curr_deck = [\"Strike_R\"]*5 + [\"Defend_R\"]*4 +   [\"Bash\"]\n",
        "  if run.ascension_level >= 10:\n",
        "    curr_deck.append('AscendersBane')\n",
        "  for f in log:\n",
        "    if f['key'] == 'PICK':\n",
        "      curr_deck.append(f['card'])\n",
        "    elif f['key'] == 'TRANFORM':\n",
        "        curr_deck.remove(f['card'][0])\n",
        "        curr_deck.append(f['card'][1])\n",
        "    elif f['key'] == 'UPGRADE':\n",
        "        if f['card'] != 'Searing Blow':\n",
        "            index = curr_deck.index(f['card'])\n",
        "            curr_deck[index] = f['card'] + '+1'\n",
        "    elif f['key'] == 'REMOVE':\n",
        "        curr_deck.remove(f['card'])\n",
        "    elif f['key'] == 'ADD':\n",
        "        curr_deck.append(f['card'])\n",
        "  return curr_deck"
      ]
    },
    {
      "cell_type": "code",
      "execution_count": 168,
      "metadata": {
        "id": "VGx-o2hhVj05"
      },
      "outputs": [],
      "source": [
        "log = list()\n",
        "run = df.iloc[12]"
      ]
    },
    {
      "cell_type": "code",
      "execution_count": 169,
      "metadata": {
        "id": "LNoIrgAxWv2Z"
      },
      "outputs": [],
      "source": [
        "process_pick(log,run)\n",
        "process_campfire(log , run)\n",
        "process_purged(log , run)\n",
        "process_purchased(log , run)\n",
        "process_event(log , run)"
      ]
    },
    {
      "cell_type": "code",
      "execution_count": 170,
      "metadata": {
        "id": "w_k5LpoF5l3x",
        "outputId": "b0df5a68-06a1-4230-a704-a9542f4438b3",
        "colab": {
          "base_uri": "https://localhost:8080/",
          "height": 35
        }
      },
      "outputs": [
        {
          "output_type": "execute_result",
          "data": {
            "text/plain": [
              "'ONE_RARE_RELIC'"
            ],
            "application/vnd.google.colaboratory.intrinsic+json": {
              "type": "string"
            }
          },
          "metadata": {},
          "execution_count": 170
        }
      ],
      "source": [
        "run.neow_bonus"
      ]
    },
    {
      "cell_type": "code",
      "execution_count": 171,
      "metadata": {
        "id": "gchsipJR5l3x",
        "outputId": "1d8e41d7-e199-40e6-85b5-1cb9f55d3332",
        "colab": {
          "base_uri": "https://localhost:8080/"
        }
      },
      "outputs": [
        {
          "output_type": "execute_result",
          "data": {
            "text/plain": [
              "[{'floor': 1, 'key': 'PICK', 'card': 'Disarm'},\n",
              " {'floor': 1, 'key': 'PICK', 'card': 'Entrench'},\n",
              " {'floor': 2, 'key': 'REMOVE', 'card': 'Disarm'},\n",
              " {'floor': 3, 'key': 'PICK', 'card': 'Iron Wave'},\n",
              " {'floor': 4, 'key': 'PICK', 'card': 'Armaments'},\n",
              " {'floor': 4, 'key': 'PICK', 'card': 'Offering'},\n",
              " {'floor': 6, 'key': 'PICK', 'card': 'Hemokinesis'},\n",
              " {'floor': 8, 'key': 'UPGRADE', 'card': 'Armaments'},\n",
              " {'floor': 10, 'key': 'PICK', 'card': 'Fire Breathing'},\n",
              " {'floor': 11, 'key': 'PICK', 'card': 'Dual Wield'},\n",
              " {'floor': 12, 'key': 'TRANFORM', 'card': ['Strike_R', 'Bludgeon']},\n",
              " {'floor': 13, 'key': 'ADD', 'card': 'Armaments'},\n",
              " {'floor': 13, 'key': 'ADD', 'card': 'Power Through'},\n",
              " {'floor': 14, 'key': 'PICK', 'card': 'Uppercut'},\n",
              " {'floor': 14, 'key': 'PICK', 'card': 'Ghostly Armor'},\n",
              " {'floor': 15, 'key': 'UPGRADE', 'card': 'Armaments'},\n",
              " {'floor': 16, 'key': 'PICK', 'card': 'Berserk'},\n",
              " {'floor': 18, 'key': 'PICK', 'card': 'Inflame'},\n",
              " {'floor': 18, 'key': 'PICK', 'card': 'Flame Barrier+1'},\n",
              " {'floor': 21, 'key': 'ADD', 'card': 'Shame'},\n",
              " {'floor': 23, 'key': 'UPGRADE', 'card': 'Offering'},\n",
              " {'floor': 24, 'key': 'PICK', 'card': 'Rage'},\n",
              " {'floor': 25, 'key': 'PICK', 'card': 'Immolate'},\n",
              " {'floor': 28, 'key': 'TRANFORM', 'card': ['Strike_R', 'Twin Strike']},\n",
              " {'floor': 29, 'key': 'UPGRADE', 'card': 'Berserk'},\n",
              " {'floor': 30, 'key': 'PICK', 'card': 'Reaper'},\n",
              " {'floor': 31, 'key': 'PICK', 'card': 'Carnage'},\n",
              " {'floor': 32, 'key': 'UPGRADE', 'card': 'Bludgeon'},\n",
              " {'floor': 33, 'key': 'PICK', 'card': 'Immolate'},\n",
              " {'floor': 35, 'key': 'PICK', 'card': 'Metallicize'},\n",
              " {'floor': 35, 'key': 'PICK', 'card': 'Power Through'},\n",
              " {'floor': 36, 'key': 'REMOVE', 'card': 'Defend_R'},\n",
              " {'floor': 36, 'key': 'ADD', 'card': 'Apotheosis'},\n",
              " {'floor': 38, 'key': 'PICK', 'card': 'Combust+1'},\n",
              " {'floor': 38, 'key': 'PICK', 'card': 'Seeing Red+1'},\n",
              " {'floor': 39, 'key': 'PICK', 'card': 'Metallicize+1'},\n",
              " {'floor': 39, 'key': 'PICK', 'card': 'Brutality'},\n",
              " {'floor': 40, 'key': 'UPGRADE', 'card': 'Brutality'},\n",
              " {'floor': 41, 'key': 'PICK', 'card': 'Rage'},\n",
              " {'floor': 42, 'key': 'PICK', 'card': 'Hemokinesis+1'},\n",
              " {'floor': 44, 'key': 'PICK', 'card': 'Intimidate+1'},\n",
              " {'floor': 45, 'key': 'PICK', 'card': 'Impervious'},\n",
              " {'floor': 46, 'key': 'REMOVE', 'card': 'Power Through'},\n",
              " {'floor': 47, 'key': 'PICK', 'card': 'Mayhem'},\n",
              " {'floor': 47, 'key': 'PICK', 'card': 'Chrysalis'},\n",
              " {'floor': 47, 'key': 'PICK', 'card': 'Bandage Up'},\n",
              " {'floor': 48, 'key': 'PICK', 'card': 'Uppercut'},\n",
              " {'floor': 49, 'key': 'PICK', 'card': 'Feel No Pain'}]"
            ]
          },
          "metadata": {},
          "execution_count": 171
        }
      ],
      "source": [
        "log"
      ]
    },
    {
      "cell_type": "code",
      "execution_count": 172,
      "metadata": {
        "colab": {
          "base_uri": "https://localhost:8080/"
        },
        "id": "3irTrkYMhqtf",
        "outputId": "dca3803a-a05c-4d4c-be3e-b5b830eb7061"
      },
      "outputs": [
        {
          "output_type": "stream",
          "name": "stdout",
          "text": [
            "['Bludgeon+1', 'Twin Strike', 'Strike_R', 'Strike_R', 'Strike_R', 'Defend_R', 'Defend_R', 'Defend_R', 'Bash', 'Entrench', 'Iron Wave', 'Armaments+1', 'Offering+1', 'Hemokinesis', 'Fire Breathing', 'Dual Wield', 'Armaments+1', 'Uppercut', 'Ghostly Armor', 'Berserk+1', 'Inflame', 'Flame Barrier+1', 'Shame', 'Rage', 'Immolate', 'Reaper', 'Carnage', 'Immolate', 'Metallicize', 'Power Through', 'Apotheosis', 'Combust+1', 'Seeing Red+1', 'Metallicize+1', 'Brutality+1', 'Rage', 'Hemokinesis+1', 'Intimidate+1', 'Impervious', 'Mayhem', 'Chrysalis', 'Bandage Up', 'Uppercut', 'Feel No Pain']\n",
            "['Strike_R', 'Strike_R', 'Defend_R', 'Defend_R', 'Defend_R', 'Bash', 'Entrench', 'Iron Wave', 'Armaments+1', 'Offering+1', 'Hemokinesis', 'Fire Breathing', 'Dual Wield', 'Bludgeon+1', 'Armaments+1', 'Uppercut', 'Ghostly Armor', 'Berserk+1', 'Inflame', 'Flame Barrier+1', 'Rage', 'Immolate', 'Twin Strike', 'Thunderclap', 'Reaper', 'Carnage', 'Immolate', 'Metallicize', 'Power Through', 'Apotheosis', 'Combust+1', 'Seeing Red+1', 'Metallicize+1', 'Brutality+1', 'Rage', 'Hemokinesis+1', 'Intimidate+1', 'Impervious', 'Mayhem', 'Chrysalis', 'Bandage Up', 'Uppercut', 'Feel No Pain']\n"
          ]
        }
      ],
      "source": [
        "print(build_deck(log,run))\n",
        "print(run.master_deck)"
      ]
    },
    {
      "cell_type": "code",
      "execution_count": 172,
      "metadata": {
        "id": "VkqPDqCQpnDK"
      },
      "outputs": [],
      "source": []
    },
    {
      "cell_type": "code",
      "execution_count": 172,
      "metadata": {
        "id": "1TnwB9-O5l3y"
      },
      "outputs": [],
      "source": []
    }
  ],
  "metadata": {
    "colab": {
      "provenance": []
    },
    "kernelspec": {
      "display_name": "Python 3 (ipykernel)",
      "language": "python",
      "name": "python3"
    },
    "language_info": {
      "codemirror_mode": {
        "name": "ipython",
        "version": 3
      },
      "file_extension": ".py",
      "mimetype": "text/x-python",
      "name": "python",
      "nbconvert_exporter": "python",
      "pygments_lexer": "ipython3",
      "version": "3.9.5"
    }
  },
  "nbformat": 4,
  "nbformat_minor": 0
}