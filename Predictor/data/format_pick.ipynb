{
  "cells": [
    {
      "cell_type": "code",
      "execution_count": 1,
      "metadata": {
        "id": "mlI4exTXRy_H"
      },
      "outputs": [],
      "source": [
        "import pandas as pd\n",
        "# URL of the raw JSON file on GitHub\n",
        "url = \"https://raw.githubusercontent.com/KU81-ComSci-ProjectEnd-GameCard/main/master/Predictor/data/processed_data/quality_run2k.json\"\n",
        "# Load the JSON data into a pandas DataFrame\n",
        "df = pd.read_json(url)"
      ]
    },
    {
      "cell_type": "code",
      "execution_count": 2,
      "metadata": {
        "id": "E4oPuWuvSTCj"
      },
      "outputs": [],
      "source": [
        "run = df.iloc[0]"
      ]
    },
    {
      "cell_type": "code",
      "execution_count": 3,
      "metadata": {
        "colab": {
          "base_uri": "https://localhost:8080/",
          "height": 1000
        },
        "id": "gBmJzXiLufKR",
        "outputId": "c714f131-f3d0-4f27-fa0b-0f9cb8776b44"
      },
      "outputs": [
        {
          "output_type": "execute_result",
          "data": {
            "text/plain": [
              "index                                                                    0\n",
              "gold_per_floor           [114, 127, 127, 127, 145, 177, 177, 193, 193, ...\n",
              "floor_reached                                                           50\n",
              "playtime                                                              3610\n",
              "items_purged                      [Strike_R, Strike_R, Defend_R, Defend_R]\n",
              "score                                                                  531\n",
              "play_id                               251eb1e0-5bfe-4c74-a86d-2925b198cd9c\n",
              "local_time                                      1970-08-22 19:25:01.005734\n",
              "is_ascension_mode                                                    False\n",
              "campfire_choices         [{'data': 'Anger', 'floor': 7, 'key': 'SMITH'}...\n",
              "neow_cost                                              TEN_PERCENT_HP_LOSS\n",
              "seed_source_timestamp                                       18759847683600\n",
              "circlet_count                                                            0\n",
              "master_deck              [Strike_R+1, Strike_R+1, Defend_R, Defend_R+1,...\n",
              "relics                   [Burning Blood, Ancient Tea Set, Ginger, Molte...\n",
              "potions_floor_usage                                       [10, 16, 22, 50]\n",
              "damage_taken             [{'damage': 0, 'enemies': 'Cultist', 'floor': ...\n",
              "seed_played                                            4360709066122050048\n",
              "potions_obtained         [{'floor': 1, 'key': 'BlessingOfTheForge'}, {'...\n",
              "is_trial                                                             False\n",
              "path_per_floor           [M, M, ?, ?, M, E, R, M, T, E, M, $, R, E, R, ...\n",
              "character_chosen                                                  IRONCLAD\n",
              "items_purchased                         [Demon Form, Whirlwind+1, Clash+1]\n",
              "campfire_rested                                                          2\n",
              "item_purchase_floors                                          [12, 24, 30]\n",
              "current_hp_per_floor     [72, 72, 72, 72, 69, 49, 49, 52, 52, 42, 48, 4...\n",
              "gold                                                                   161\n",
              "neow_bonus                                                THREE_RARE_CARDS\n",
              "is_prod                                                              False\n",
              "is_daily                                                             False\n",
              "chose_seed                                                           False\n",
              "campfire_upgraded                                                        9\n",
              "win_rate                                                                 0\n",
              "timestamp                                              2020-10-31 23:57:34\n",
              "path_taken               [M, M, ?, ?, M, E, R, M, T, E, M, $, R, E, R, ...\n",
              "build_version                                                   2020-07-30\n",
              "purchased_purges                                                         4\n",
              "victory                                                              False\n",
              "max_hp_per_floor         [72, 72, 72, 72, 72, 72, 72, 72, 72, 72, 72, 7...\n",
              "card_choices             [{'not_picked': ['Fiend Fire', 'Corruption'], ...\n",
              "player_experience                                                     3232\n",
              "relics_obtained          [{'floor': 6, 'key': 'Ginger'}, {'floor': 9, '...\n",
              "event_choices            [{'damage_healed': 0, 'gold_gain': 0, 'player_...\n",
              "is_beta                                                                0.0\n",
              "boss_relics              [{'not_picked': ['Fusion Hammer', 'Black Star'...\n",
              "items_purged_floors                                       [12, 24, 30, 39]\n",
              "is_endless                                                           False\n",
              "potions_floor_spawned                                [1, 5, 8, 18, 19, 38]\n",
              "killed_by                                                     Awakened One\n",
              "ascension_level                                                          0\n",
              "special_seed                                                           NaN\n",
              "Name: 0, dtype: object"
            ],
            "text/html": [
              "<div>\n",
              "<style scoped>\n",
              "    .dataframe tbody tr th:only-of-type {\n",
              "        vertical-align: middle;\n",
              "    }\n",
              "\n",
              "    .dataframe tbody tr th {\n",
              "        vertical-align: top;\n",
              "    }\n",
              "\n",
              "    .dataframe thead th {\n",
              "        text-align: right;\n",
              "    }\n",
              "</style>\n",
              "<table border=\"1\" class=\"dataframe\">\n",
              "  <thead>\n",
              "    <tr style=\"text-align: right;\">\n",
              "      <th></th>\n",
              "      <th>0</th>\n",
              "    </tr>\n",
              "  </thead>\n",
              "  <tbody>\n",
              "    <tr>\n",
              "      <th>index</th>\n",
              "      <td>0</td>\n",
              "    </tr>\n",
              "    <tr>\n",
              "      <th>gold_per_floor</th>\n",
              "      <td>[114, 127, 127, 127, 145, 177, 177, 193, 193, ...</td>\n",
              "    </tr>\n",
              "    <tr>\n",
              "      <th>floor_reached</th>\n",
              "      <td>50</td>\n",
              "    </tr>\n",
              "    <tr>\n",
              "      <th>playtime</th>\n",
              "      <td>3610</td>\n",
              "    </tr>\n",
              "    <tr>\n",
              "      <th>items_purged</th>\n",
              "      <td>[Strike_R, Strike_R, Defend_R, Defend_R]</td>\n",
              "    </tr>\n",
              "    <tr>\n",
              "      <th>score</th>\n",
              "      <td>531</td>\n",
              "    </tr>\n",
              "    <tr>\n",
              "      <th>play_id</th>\n",
              "      <td>251eb1e0-5bfe-4c74-a86d-2925b198cd9c</td>\n",
              "    </tr>\n",
              "    <tr>\n",
              "      <th>local_time</th>\n",
              "      <td>1970-08-22 19:25:01.005734</td>\n",
              "    </tr>\n",
              "    <tr>\n",
              "      <th>is_ascension_mode</th>\n",
              "      <td>False</td>\n",
              "    </tr>\n",
              "    <tr>\n",
              "      <th>campfire_choices</th>\n",
              "      <td>[{'data': 'Anger', 'floor': 7, 'key': 'SMITH'}...</td>\n",
              "    </tr>\n",
              "    <tr>\n",
              "      <th>neow_cost</th>\n",
              "      <td>TEN_PERCENT_HP_LOSS</td>\n",
              "    </tr>\n",
              "    <tr>\n",
              "      <th>seed_source_timestamp</th>\n",
              "      <td>18759847683600</td>\n",
              "    </tr>\n",
              "    <tr>\n",
              "      <th>circlet_count</th>\n",
              "      <td>0</td>\n",
              "    </tr>\n",
              "    <tr>\n",
              "      <th>master_deck</th>\n",
              "      <td>[Strike_R+1, Strike_R+1, Defend_R, Defend_R+1,...</td>\n",
              "    </tr>\n",
              "    <tr>\n",
              "      <th>relics</th>\n",
              "      <td>[Burning Blood, Ancient Tea Set, Ginger, Molte...</td>\n",
              "    </tr>\n",
              "    <tr>\n",
              "      <th>potions_floor_usage</th>\n",
              "      <td>[10, 16, 22, 50]</td>\n",
              "    </tr>\n",
              "    <tr>\n",
              "      <th>damage_taken</th>\n",
              "      <td>[{'damage': 0, 'enemies': 'Cultist', 'floor': ...</td>\n",
              "    </tr>\n",
              "    <tr>\n",
              "      <th>seed_played</th>\n",
              "      <td>4360709066122050048</td>\n",
              "    </tr>\n",
              "    <tr>\n",
              "      <th>potions_obtained</th>\n",
              "      <td>[{'floor': 1, 'key': 'BlessingOfTheForge'}, {'...</td>\n",
              "    </tr>\n",
              "    <tr>\n",
              "      <th>is_trial</th>\n",
              "      <td>False</td>\n",
              "    </tr>\n",
              "    <tr>\n",
              "      <th>path_per_floor</th>\n",
              "      <td>[M, M, ?, ?, M, E, R, M, T, E, M, $, R, E, R, ...</td>\n",
              "    </tr>\n",
              "    <tr>\n",
              "      <th>character_chosen</th>\n",
              "      <td>IRONCLAD</td>\n",
              "    </tr>\n",
              "    <tr>\n",
              "      <th>items_purchased</th>\n",
              "      <td>[Demon Form, Whirlwind+1, Clash+1]</td>\n",
              "    </tr>\n",
              "    <tr>\n",
              "      <th>campfire_rested</th>\n",
              "      <td>2</td>\n",
              "    </tr>\n",
              "    <tr>\n",
              "      <th>item_purchase_floors</th>\n",
              "      <td>[12, 24, 30]</td>\n",
              "    </tr>\n",
              "    <tr>\n",
              "      <th>current_hp_per_floor</th>\n",
              "      <td>[72, 72, 72, 72, 69, 49, 49, 52, 52, 42, 48, 4...</td>\n",
              "    </tr>\n",
              "    <tr>\n",
              "      <th>gold</th>\n",
              "      <td>161</td>\n",
              "    </tr>\n",
              "    <tr>\n",
              "      <th>neow_bonus</th>\n",
              "      <td>THREE_RARE_CARDS</td>\n",
              "    </tr>\n",
              "    <tr>\n",
              "      <th>is_prod</th>\n",
              "      <td>False</td>\n",
              "    </tr>\n",
              "    <tr>\n",
              "      <th>is_daily</th>\n",
              "      <td>False</td>\n",
              "    </tr>\n",
              "    <tr>\n",
              "      <th>chose_seed</th>\n",
              "      <td>False</td>\n",
              "    </tr>\n",
              "    <tr>\n",
              "      <th>campfire_upgraded</th>\n",
              "      <td>9</td>\n",
              "    </tr>\n",
              "    <tr>\n",
              "      <th>win_rate</th>\n",
              "      <td>0</td>\n",
              "    </tr>\n",
              "    <tr>\n",
              "      <th>timestamp</th>\n",
              "      <td>2020-10-31 23:57:34</td>\n",
              "    </tr>\n",
              "    <tr>\n",
              "      <th>path_taken</th>\n",
              "      <td>[M, M, ?, ?, M, E, R, M, T, E, M, $, R, E, R, ...</td>\n",
              "    </tr>\n",
              "    <tr>\n",
              "      <th>build_version</th>\n",
              "      <td>2020-07-30</td>\n",
              "    </tr>\n",
              "    <tr>\n",
              "      <th>purchased_purges</th>\n",
              "      <td>4</td>\n",
              "    </tr>\n",
              "    <tr>\n",
              "      <th>victory</th>\n",
              "      <td>False</td>\n",
              "    </tr>\n",
              "    <tr>\n",
              "      <th>max_hp_per_floor</th>\n",
              "      <td>[72, 72, 72, 72, 72, 72, 72, 72, 72, 72, 72, 7...</td>\n",
              "    </tr>\n",
              "    <tr>\n",
              "      <th>card_choices</th>\n",
              "      <td>[{'not_picked': ['Fiend Fire', 'Corruption'], ...</td>\n",
              "    </tr>\n",
              "    <tr>\n",
              "      <th>player_experience</th>\n",
              "      <td>3232</td>\n",
              "    </tr>\n",
              "    <tr>\n",
              "      <th>relics_obtained</th>\n",
              "      <td>[{'floor': 6, 'key': 'Ginger'}, {'floor': 9, '...</td>\n",
              "    </tr>\n",
              "    <tr>\n",
              "      <th>event_choices</th>\n",
              "      <td>[{'damage_healed': 0, 'gold_gain': 0, 'player_...</td>\n",
              "    </tr>\n",
              "    <tr>\n",
              "      <th>is_beta</th>\n",
              "      <td>0.0</td>\n",
              "    </tr>\n",
              "    <tr>\n",
              "      <th>boss_relics</th>\n",
              "      <td>[{'not_picked': ['Fusion Hammer', 'Black Star'...</td>\n",
              "    </tr>\n",
              "    <tr>\n",
              "      <th>items_purged_floors</th>\n",
              "      <td>[12, 24, 30, 39]</td>\n",
              "    </tr>\n",
              "    <tr>\n",
              "      <th>is_endless</th>\n",
              "      <td>False</td>\n",
              "    </tr>\n",
              "    <tr>\n",
              "      <th>potions_floor_spawned</th>\n",
              "      <td>[1, 5, 8, 18, 19, 38]</td>\n",
              "    </tr>\n",
              "    <tr>\n",
              "      <th>killed_by</th>\n",
              "      <td>Awakened One</td>\n",
              "    </tr>\n",
              "    <tr>\n",
              "      <th>ascension_level</th>\n",
              "      <td>0</td>\n",
              "    </tr>\n",
              "    <tr>\n",
              "      <th>special_seed</th>\n",
              "      <td>NaN</td>\n",
              "    </tr>\n",
              "  </tbody>\n",
              "</table>\n",
              "</div><br><label><b>dtype:</b> object</label>"
            ]
          },
          "metadata": {},
          "execution_count": 3
        }
      ],
      "source": [
        "run"
      ]
    },
    {
      "cell_type": "code",
      "execution_count": 4,
      "metadata": {
        "id": "GzcH6jJvUGTI"
      },
      "outputs": [],
      "source": [
        " ## campfire_choices   items_purged  items_purged_floors   card_choices    items_purchased  item_purchase_floors   event_choices   neow_bonus"
      ]
    },
    {
      "cell_type": "code",
      "execution_count": 6,
      "metadata": {
        "id": "6PPP7UN_trda"
      },
      "outputs": [],
      "source": [
        "BASE_GAME_RELICS = {'Burning Blood', 'Cracked Core', 'PureWater', 'Ring of the Snake', 'Akabeko', 'Anchor', 'Ancient Tea Set', 'Art of War', 'Bag of Marbles', 'Bag of Preparation', 'Blood Vial', 'TestModSTS:BottledPlaceholderRelic', 'Bronze Scales', 'Centennial Puzzle', 'CeramicFish', 'Damaru', 'DataDisk', 'Dream Catcher', 'Happy Flower', 'Juzu Bracelet', 'Lantern', 'MawBank', 'MealTicket', 'Nunchaku', 'Oddly Smooth Stone', 'Omamori', 'Orichalcum', 'Pen Nib', 'TestModSTS:PlaceholderRelic2', 'Potion Belt', 'PreservedInsect', 'Red Skull', 'Regal Pillow', 'TestModSTS:DefaultClickableRelic', 'Smiling Mask', 'Snake Skull', 'Strawberry', 'Boot', 'Tiny Chest', 'Toy Ornithopter', 'Vajra', 'War Paint', 'Whetstone', 'Blue Candle', 'Bottled Flame', 'Bottled Lightning', 'Bottled Tornado', 'Darkstone Periapt', 'Yang', 'Eternal Feather', 'Frozen Egg 2', 'Cables', 'Gremlin Horn', 'HornCleat', 'InkBottle', 'Kunai', 'Letter Opener', 'Matryoshka', 'Meat on the Bone', 'Mercury Hourglass', 'Molten Egg 2', 'Mummified Hand', 'Ninja Scroll', 'Ornamental Fan', 'Pantograph', 'Paper Crane', 'Paper Frog', 'Pear', 'Question Card', 'Self Forming Clay', 'Shuriken', 'Singing Bowl', 'StrikeDummy', 'Sundial', 'Symbiotic Virus', 'TeardropLocket', 'The Courier', 'Toxic Egg 2', 'White Beast Statue', 'Bird Faced Urn', 'Calipers', 'CaptainsWheel', 'Champion Belt', 'Charon\\'s Ashes', 'CloakClasp', 'Dead Branch', 'Du-Vu Doll', 'Emotion Chip', 'FossilizedHelix', 'Gambling Chip', 'Ginger', 'Girya', 'GoldenEye', 'Ice Cream', 'Incense Burner', 'Lizard Tail', 'Magic Flower', 'Mango', 'Old Coin', 'Peace Pipe', 'Pocketwatch', 'Prayer Wheel', 'Shovel', 'StoneCalendar', 'The Specimen', 'Thread and Needle', 'Tingsha', 'Torii', 'Tough Bandages', 'TungstenRod', 'Turnip', 'Unceasing Top', 'WingedGreaves', 'Astrolabe', 'Black Blood', 'Black Star', 'Busted Crown', 'Calling Bell', 'Coffee Dripper', 'Cursed Key', 'Ectoplasm', 'Empty Cage', 'FrozenCore', 'Fusion Hammer', 'HolyWater', 'HoveringKite', 'Inserter', 'Mark of Pain', 'Nuclear Battery', 'Pandora\\'s Box', 'Philosopher\\'s Stone', 'Ring of the Serpent', 'Runic Cube', 'Runic Dome', 'Runic Pyramid', 'SacredBark', 'SlaversCollar', 'Snecko Eye', 'Sozu', 'Tiny House', 'Velvet Choker', 'VioletLotus', 'WristBlade', 'Bloody Idol', 'CultistMask', 'Enchiridion', 'FaceOfCleric', 'Golden Idol', 'GremlinMask', 'Mark of the Bloom', 'MutagenicStrength', 'Nloth\\'s Gift', 'NlothsMask', 'Necronomicon', 'NeowsBlessing', 'Nilry\\'s Codex', 'Odd Mushroom', 'Red Mask', 'Spirit Poop', 'SsserpentHead', 'WarpedTongs', 'Brimstone', 'Cauldron', 'Chemical X', 'ClockworkSouvenir', 'DollysMirror', 'Frozen Eye', 'HandDrill', 'Lee\\'s Waffle', 'Medical Kit', 'Melange', 'Membership Card', 'OrangePellets', 'Orrery', 'PrismaticShard', 'Runic Capacitor', 'Sling', 'Strange Spoon', 'TheAbacus', 'Toolbox', 'TwistedFunnel'}"
      ]
    },
    {
      "cell_type": "code",
      "source": [
        "UV_RELICS = {'Omamori','War Paint','Whetstone','DollysMirror','Orrery','Astrolbe','Pandora\\'s Box','Calling Bell','Tiny House','Empty Cage'}"
      ],
      "metadata": {
        "id": "leobnIPZL1ma"
      },
      "execution_count": 7,
      "outputs": []
    },
    {
      "cell_type": "code",
      "source": [
        "IC_ATK_CARD =[\"Anger\",\"Body Slam\",\"Clash\",\"Cleave\",\"Clothesline\",\"Headbutt\",\"Heavy Blade\",\"Iron Wave\",\"Perfected Strike\",\"Pommel Strike\",\"Sword Boomerang\",\"Thunderclap\",\"Twin Strike\",\"Wild Strike\",\"Blood for Blood\",\"Carnage\",\"Dropkick\",\"Hemokinesis\",\"Pummel\",\"Rampage\",\"Reckless Charge\",\"Searing Blow\",\"Sever Soul\",\"Uppercut\",\"Whirlwind\",\"Bludgeon\",\"Feed\",\"Fiend Fire\",\"Immolate\",\"Reaper\"]\n",
        "IC_SKILL_CARD = [\"Armaments\",\"Flex\",\"Havoc\",\"Shrug It Off\",\"True Grit\",\"Warcry\",\"Battle Trance\",\"Bloodletting\",\"Burning Pact\",\"Disarm\",\"Dual Wield\",\"Entrench\",\"Flame Barrier\",\"Ghostly Armor\",\"Infernal Blade\",\"Intimidate\",\"Power Through\",\"Rage\",\"Second Wind\",\"Seeing Red\",\"Sentinel\",\"Shockwave\",\"Spot Weakness\",\"Double Tap\",\"Exhume\",\"Impervious\",\"Limit Break\",\"Offering\"]\n",
        "IC_POWER_CARD = [\"Combust\",\"Dark Embrace\",\"Evolve\",\"Feel No Pain\",\"Fire Breathing\",\"Inflame\",\"Metallicize\",\"Rupture\",\"Barricade\",\"Berserk\",\"Brutality\",\"Corruption\",\"Demon Form\",\"Juggernaut\"]"
      ],
      "metadata": {
        "id": "GJcb-DecMA9R"
      },
      "execution_count": 94,
      "outputs": []
    },
    {
      "cell_type": "code",
      "execution_count": 99,
      "metadata": {
        "id": "6zYU_8W_T7wA"
      },
      "outputs": [],
      "source": [
        "def log_add(log , floor , key , input):\n",
        "  if key == 'TRANFORM':\n",
        "    log.append( { 'floor' : floor , 'key' : key , 'cards' : input})\n",
        "  elif isinstance(input, list):\n",
        "    for i in input:\n",
        "      log.append( { 'floor' : floor , 'key' : key , 'card' : i})\n",
        "  elif key == 'GET_RELIC':\n",
        "    log.append( { 'floor' : floor , 'key' : key , 'relic' : input})\n",
        "  else:\n",
        "    log.append( { 'floor' : floor , 'key' : key , 'card' : input})"
      ]
    },
    {
      "cell_type": "code",
      "execution_count": 100,
      "metadata": {
        "id": "m-sa8r8AV8gf"
      },
      "outputs": [],
      "source": [
        "def process_pick(log , run):\n",
        "  for i in run.card_choices:\n",
        "    if i['picked'] != 'SKIP' and i['picked'] != 'Singing Bowl':\n",
        "      log_add(log , i['floor'] , 'PICK' , i['picked'])\n",
        "  log[:] = sorted(log, key=lambda d: d['floor'])"
      ]
    },
    {
      "cell_type": "code",
      "execution_count": 101,
      "metadata": {
        "id": "7EiWOT-eYi1v"
      },
      "outputs": [],
      "source": [
        "def process_campfire(log , run):\n",
        "  for i in run.campfire_choices :\n",
        "    if i['key'] == 'SMITH':\n",
        "      log_add(log , i['floor'] , 'UPGRADE' , i['data'])\n",
        "    if i['key'] == 'PURGE':\n",
        "      log_add(log, i['floor'] , 'REMOVE' , i['data'])\n",
        "  log[:]  = sorted(log, key=lambda d: d['floor'])"
      ]
    },
    {
      "cell_type": "code",
      "execution_count": 102,
      "metadata": {
        "id": "Kl3AO23iapau"
      },
      "outputs": [],
      "source": [
        "def process_purged(log , run):\n",
        "  for i,j in zip(run.items_purged , run.items_purged_floors):\n",
        "    log_add(log , j , 'REMOVE' , i)\n",
        "  log[:]  = sorted(log, key=lambda d: d['floor'])"
      ]
    },
    {
      "cell_type": "code",
      "execution_count": 103,
      "metadata": {
        "id": "KYbDQnndb4uD"
      },
      "outputs": [],
      "source": [
        "def process_purchased(log , run):\n",
        "  for i,j in zip(run.items_purchased , run.item_purchase_floors ):\n",
        "    if i not in BASE_GAME_RELICS:\n",
        "      log_add(log , j , 'ADD' , i)\n",
        "  log[:]  = sorted(log, key=lambda d: d['floor'])"
      ]
    },
    {
      "cell_type": "code",
      "source": [
        "def process_relic(log , run):\n",
        "  for i in run.relics_obtained:\n",
        "    if i['key'] in UV_RELICS:\n",
        "      log_add(log , i['floor'] , 'GET_RELIC' , i['key'])\n",
        "  for f in run.boss_relics:\n",
        "    if f['picked'] in UV_RELICS:\n",
        "      log_add(log , i['floor'] , 'GET_RELIC' , f['picked'])\n",
        "  log[:]  = sorted(log, key=lambda d: d['floor'])"
      ],
      "metadata": {
        "id": "iplSND7aMiQE"
      },
      "execution_count": 112,
      "outputs": []
    },
    {
      "cell_type": "code",
      "execution_count": 113,
      "metadata": {
        "id": "NrmyM4ZvcswF"
      },
      "outputs": [],
      "source": [
        "## cards_obtained   cards_removed   cards_upgraded   , event_name == 'Vampires'   cards_transformed(ทั้ง get and remove)???\n",
        "def process_event(log , run):\n",
        "  for i in run.event_choices:\n",
        "    if 'cards_removed' in i:\n",
        "      log_add(log , i['floor'] , 'REMOVE' , i['cards_removed'])\n",
        "    elif 'cards_transformed' in i:\n",
        "      log_add(log , i['floor'] , 'TRANFORM' , [i['cards_transformed'][0],i['cards_obtained'][0]])\n",
        "    elif 'cards_obtained' in i:\n",
        "      log_add(log , i['floor'] , 'ADD' , i['cards_obtained'])\n",
        "    elif 'cards_upgraded' in i:\n",
        "      log_add(log , i['floor'] , 'UPGRADE' , i['cards_upgraded'])\n",
        "    elif i['event_name'] in 'Vampires' and i['player_choice'] == 'Accept':\n",
        "      log_add(log , i['floor'] , 'VAM' , '')\n",
        "  log[:] = sorted(log, key=lambda d: d['floor'])"
      ]
    },
    {
      "cell_type": "code",
      "execution_count": 114,
      "metadata": {
        "id": "OrhuB19vuyZ4"
      },
      "outputs": [],
      "source": [
        "## relics relics_obtained boss_relics"
      ]
    },
    {
      "cell_type": "code",
      "source": [
        "run.boss_relics"
      ],
      "metadata": {
        "id": "LZ1dVwk_W7y8",
        "outputId": "a2081b67-6266-4dd8-b479-cdc2bced590b",
        "colab": {
          "base_uri": "https://localhost:8080/"
        }
      },
      "execution_count": 115,
      "outputs": [
        {
          "output_type": "execute_result",
          "data": {
            "text/plain": [
              "[{'not_picked': ['Fusion Hammer', 'Black Star'], 'picked': 'Busted Crown'},\n",
              " {'not_picked': ['Runic Dome', 'Mark of Pain'],\n",
              "  'picked': \"Philosopher's Stone\"}]"
            ]
          },
          "metadata": {},
          "execution_count": 115
        }
      ]
    },
    {
      "cell_type": "code",
      "source": [
        "def check_egg_add(EGG_CHECK , curr_deck ,card):\n",
        "  if EGG_CHECK['Frozen'] and card in IC_POWER_CARD:\n",
        "    curr_deck.append(card + '+1')\n",
        "  elif EGG_CHECK['Molten'] and card in IC_ATK_CARD:\n",
        "    curr_deck.append(card + '+1')\n",
        "  elif EGG_CHECK['TOXIC'] and card in IC_SKILL_CARD:\n",
        "    curr_deck.append(card + '+1')\n",
        "  else:\n",
        "    curr_deck.append(card)"
      ],
      "metadata": {
        "id": "QNrcg744SJuX"
      },
      "execution_count": 116,
      "outputs": []
    },
    {
      "cell_type": "code",
      "execution_count": 117,
      "metadata": {
        "id": "oCJf-w8tghSR"
      },
      "outputs": [],
      "source": [
        "def build_deck(log,run):\n",
        "  curr_deck = [\"Strike_R\"]*5 + [\"Defend_R\"]*4 +   [\"Bash\"]\n",
        "  curr_relic = list()\n",
        "  EGG_CHECK = {'Frozen':  False , 'Molten' : False , 'TOXIC': False }\n",
        "  if run.ascension_level >= 10:\n",
        "    curr_deck.append('AscendersBane')\n",
        "  for f in log:\n",
        "    if f['key'] == 'PICK':\n",
        "      check_egg_add(EGG_CHECK , curr_deck ,f['card'])\n",
        "    elif f['key'] == 'ADD':\n",
        "      check_egg_add(EGG_CHECK , curr_deck ,f['card'])\n",
        "    elif f['key'] == 'TRANFORM':\n",
        "      curr_deck.remove(f['cards'][0])\n",
        "      curr_deck.append(f['cards'][1])\n",
        "    elif f['key'] == 'UPGRADE':\n",
        "      if f['card'] != 'Searing Blow':\n",
        "        index = curr_deck.index(f['card'])\n",
        "        curr_deck[index] = f['card'] + '+1'\n",
        "    elif f['key'] == 'REMOVE':\n",
        "      curr_deck.remove(f['card'])\n",
        "    elif f['key'] == 'GET_RELIC':\n",
        "      if f['relic'] == 'Frozen Egg 2':\n",
        "        EGG_CHECK['Frozen'] = True\n",
        "      elif f['relic'] == 'Molten Egg 2':\n",
        "        EGG_CHECK['Molten'] = True\n",
        "      elif f['relic'] == 'Toxic Egg 2':\n",
        "         EGG_CHECK['TOXIC'] = True\n",
        "      curr_relic.append(f['relic'])\n",
        "  return curr_deck , curr_relic"
      ]
    },
    {
      "cell_type": "code",
      "execution_count": 118,
      "metadata": {
        "id": "VGx-o2hhVj05"
      },
      "outputs": [],
      "source": [
        "log = list()\n",
        "run = df.iloc[0]"
      ]
    },
    {
      "cell_type": "code",
      "execution_count": 119,
      "metadata": {
        "id": "LNoIrgAxWv2Z"
      },
      "outputs": [],
      "source": [
        "process_pick(log,run)\n",
        "process_campfire(log , run)\n",
        "process_purged(log , run)\n",
        "process_purchased(log , run)\n",
        "process_event(log , run)\n",
        "process_relic(log , run)"
      ]
    },
    {
      "cell_type": "code",
      "execution_count": 120,
      "metadata": {
        "id": "w_k5LpoF5l3x",
        "outputId": "74e3e0db-389c-46a2-ac5e-a05a864e0851",
        "colab": {
          "base_uri": "https://localhost:8080/",
          "height": 35
        }
      },
      "outputs": [
        {
          "output_type": "execute_result",
          "data": {
            "text/plain": [
              "'THREE_RARE_CARDS'"
            ],
            "application/vnd.google.colaboratory.intrinsic+json": {
              "type": "string"
            }
          },
          "metadata": {},
          "execution_count": 120
        }
      ],
      "source": [
        "run.neow_bonus"
      ]
    },
    {
      "cell_type": "code",
      "execution_count": 121,
      "metadata": {
        "id": "gchsipJR5l3x",
        "outputId": "9ba6ab45-027c-42c8-fa53-5aa18662fa7f",
        "colab": {
          "base_uri": "https://localhost:8080/"
        }
      },
      "outputs": [
        {
          "output_type": "execute_result",
          "data": {
            "text/plain": [
              "[{'floor': 0, 'key': 'PICK', 'card': 'Bludgeon'},\n",
              " {'floor': 1, 'key': 'PICK', 'card': 'Flex'},\n",
              " {'floor': 2, 'key': 'PICK', 'card': 'Anger'},\n",
              " {'floor': 3, 'key': 'ADD', 'card': 'Regret'},\n",
              " {'floor': 4, 'key': 'REMOVE', 'card': 'Regret'},\n",
              " {'floor': 5, 'key': 'PICK', 'card': 'Reckless Charge'},\n",
              " {'floor': 7, 'key': 'UPGRADE', 'card': 'Anger'},\n",
              " {'floor': 8, 'key': 'PICK', 'card': 'Flex'},\n",
              " {'floor': 10, 'key': 'PICK', 'card': 'Anger+1'},\n",
              " {'floor': 11, 'key': 'PICK', 'card': 'Battle Trance'},\n",
              " {'floor': 12, 'key': 'REMOVE', 'card': 'Strike_R'},\n",
              " {'floor': 12, 'key': 'ADD', 'card': 'Demon Form'},\n",
              " {'floor': 13, 'key': 'UPGRADE', 'card': 'Demon Form'},\n",
              " {'floor': 14, 'key': 'PICK', 'card': 'Power Through'},\n",
              " {'floor': 15, 'key': 'UPGRADE', 'card': 'Bash'},\n",
              " {'floor': 20, 'key': 'REMOVE', 'card': 'Strike_R'},\n",
              " {'floor': 22, 'key': 'PICK', 'card': 'Shrug It Off'},\n",
              " {'floor': 23, 'key': 'UPGRADE', 'card': 'Shrug It Off'},\n",
              " {'floor': 24, 'key': 'REMOVE', 'card': 'Strike_R'},\n",
              " {'floor': 24, 'key': 'ADD', 'card': 'Whirlwind+1'},\n",
              " {'floor': 25, 'key': 'UPGRADE', 'card': 'Battle Trance'},\n",
              " {'floor': 27, 'key': 'UPGRADE', 'card': 'Bludgeon'},\n",
              " {'floor': 28, 'key': 'GET_RELIC', 'relic': 'Whetstone'},\n",
              " {'floor': 30, 'key': 'REMOVE', 'card': 'Defend_R'},\n",
              " {'floor': 30, 'key': 'ADD', 'card': 'Clash+1'},\n",
              " {'floor': 33, 'key': 'PICK', 'card': 'Barricade'},\n",
              " {'floor': 35, 'key': 'PICK', 'card': 'Flex'},\n",
              " {'floor': 37, 'key': 'ADD', 'card': 'Anger'},\n",
              " {'floor': 38, 'key': 'PICK', 'card': 'Clash+1'},\n",
              " {'floor': 39, 'key': 'REMOVE', 'card': 'Defend_R'},\n",
              " {'floor': 40, 'key': 'UPGRADE', 'card': 'Barricade'},\n",
              " {'floor': 42, 'key': 'UPGRADE', 'card': 'Power Through'},\n",
              " {'floor': 44, 'key': 'UPGRADE', 'card': 'Defend_R'},\n",
              " {'floor': 47, 'key': 'PICK', 'card': 'The Bomb'},\n",
              " {'floor': 47, 'key': 'PICK', 'card': 'Metamorphosis'},\n",
              " {'floor': 47, 'key': 'PICK', 'card': 'Discovery'},\n",
              " {'floor': 49, 'key': 'PICK', 'card': 'Seeing Red+1'}]"
            ]
          },
          "metadata": {},
          "execution_count": 121
        }
      ],
      "source": [
        "log"
      ]
    },
    {
      "cell_type": "code",
      "execution_count": 122,
      "metadata": {
        "colab": {
          "base_uri": "https://localhost:8080/"
        },
        "id": "3irTrkYMhqtf",
        "outputId": "418554ae-7645-4957-e797-493c58e25ac0"
      },
      "outputs": [
        {
          "output_type": "stream",
          "name": "stdout",
          "text": [
            "(['Strike_R', 'Strike_R', 'Defend_R+1', 'Defend_R', 'Bash+1', 'Bludgeon+1', 'Flex', 'Anger+1', 'Reckless Charge', 'Flex', 'Anger+1', 'Battle Trance+1', 'Demon Form+1', 'Power Through+1', 'Shrug It Off+1', 'Whirlwind+1', 'Clash+1', 'Barricade+1', 'Flex', 'Anger', 'Clash+1', 'The Bomb', 'Metamorphosis', 'Discovery', 'Seeing Red+1'], ['Whetstone'])\n",
            "['Strike_R+1', 'Strike_R+1', 'Defend_R', 'Defend_R+1', 'Bash+1', 'Bludgeon+1', 'Flex', 'Anger+1', 'Reckless Charge', 'Flex', 'Anger+1', 'Battle Trance+1', 'Demon Form+1', 'Power Through+1', 'Shrug It Off+1', 'Whirlwind+1', 'Clash+1', 'Barricade+1', 'Flex', 'Anger+1', 'Clash+1', 'The Bomb', 'Metamorphosis', 'Discovery', 'Seeing Red+1']\n"
          ]
        }
      ],
      "source": [
        "print(build_deck(log,run))\n",
        "print(run.master_deck)"
      ]
    },
    {
      "cell_type": "code",
      "execution_count": 75,
      "metadata": {
        "id": "VkqPDqCQpnDK"
      },
      "outputs": [],
      "source": []
    },
    {
      "cell_type": "code",
      "execution_count": 47,
      "metadata": {
        "id": "1TnwB9-O5l3y"
      },
      "outputs": [],
      "source": []
    }
  ],
  "metadata": {
    "colab": {
      "provenance": []
    },
    "kernelspec": {
      "display_name": "Python 3 (ipykernel)",
      "language": "python",
      "name": "python3"
    },
    "language_info": {
      "codemirror_mode": {
        "name": "ipython",
        "version": 3
      },
      "file_extension": ".py",
      "mimetype": "text/x-python",
      "name": "python",
      "nbconvert_exporter": "python",
      "pygments_lexer": "ipython3",
      "version": "3.9.5"
    }
  },
  "nbformat": 4,
  "nbformat_minor": 0
}