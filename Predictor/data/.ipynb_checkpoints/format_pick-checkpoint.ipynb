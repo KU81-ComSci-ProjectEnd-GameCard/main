{
  "nbformat": 4,
  "nbformat_minor": 0,
  "metadata": {
    "colab": {
      "provenance": []
    },
    "kernelspec": {
      "name": "python3",
      "display_name": "Python 3"
    },
    "language_info": {
      "name": "python"
    }
  },
  "cells": [
    {
      "cell_type": "code",
      "execution_count": null,
      "metadata": {
        "id": "mlI4exTXRy_H"
      },
      "outputs": [],
      "source": [
        "import pandas as pd\n",
        "# URL of the raw JSON file on GitHub\n",
        "url = \"https://raw.githubusercontent.com/KU81-ComSci-ProjectEnd-GameCard/main/master/Predictor/data/processed_data/quality_run.json\"\n",
        "# Load the JSON data into a pandas DataFrame\n",
        "df = pd.read_json(url)"
      ]
    },
    {
      "cell_type": "code",
      "source": [
        "run = df.iloc[0]"
      ],
      "metadata": {
        "id": "E4oPuWuvSTCj"
      },
      "execution_count": null,
      "outputs": []
    },
    {
      "cell_type": "code",
      "source": [
        "run"
      ],
      "metadata": {
        "colab": {
          "base_uri": "https://localhost:8080/",
          "height": 1000
        },
        "id": "gBmJzXiLufKR",
        "outputId": "4642be9b-bd6a-43e2-9e76-c508d400d72f"
      },
      "execution_count": null,
      "outputs": [
        {
          "output_type": "execute_result",
          "data": {
            "text/plain": [
              "index                                                                    0\n",
              "gold_per_floor           [114, 127, 127, 127, 145, 177, 177, 193, 193, ...\n",
              "floor_reached                                                           50\n",
              "playtime                                                              3610\n",
              "items_purged                      [Strike_R, Strike_R, Defend_R, Defend_R]\n",
              "score                                                                  531\n",
              "play_id                               251eb1e0-5bfe-4c74-a86d-2925b198cd9c\n",
              "local_time                                      1970-08-22 19:25:01.005734\n",
              "is_ascension_mode                                                    False\n",
              "campfire_choices         [{'data': 'Anger', 'floor': 7, 'key': 'SMITH'}...\n",
              "neow_cost                                              TEN_PERCENT_HP_LOSS\n",
              "seed_source_timestamp                                       18759847683600\n",
              "circlet_count                                                            0\n",
              "master_deck              [Strike_R+1, Strike_R+1, Defend_R, Defend_R+1,...\n",
              "relics                   [Burning Blood, Ancient Tea Set, Ginger, Molte...\n",
              "potions_floor_usage                                       [10, 16, 22, 50]\n",
              "damage_taken             [{'damage': 0, 'enemies': 'Cultist', 'floor': ...\n",
              "seed_played                                            4360709066122050048\n",
              "potions_obtained         [{'floor': 1, 'key': 'BlessingOfTheForge'}, {'...\n",
              "is_trial                                                             False\n",
              "path_per_floor           [M, M, ?, ?, M, E, R, M, T, E, M, $, R, E, R, ...\n",
              "character_chosen                                                  IRONCLAD\n",
              "items_purchased                         [Demon Form, Whirlwind+1, Clash+1]\n",
              "campfire_rested                                                          2\n",
              "item_purchase_floors                                          [12, 24, 30]\n",
              "current_hp_per_floor     [72, 72, 72, 72, 69, 49, 49, 52, 52, 42, 48, 4...\n",
              "gold                                                                   161\n",
              "neow_bonus                                                THREE_RARE_CARDS\n",
              "is_prod                                                              False\n",
              "is_daily                                                             False\n",
              "chose_seed                                                           False\n",
              "campfire_upgraded                                                        9\n",
              "win_rate                                                                 0\n",
              "timestamp                                              2020-10-31 23:57:34\n",
              "path_taken               [M, M, ?, ?, M, E, R, M, T, E, M, $, R, E, R, ...\n",
              "build_version                                                   2020-07-30\n",
              "purchased_purges                                                         4\n",
              "victory                                                              False\n",
              "max_hp_per_floor         [72, 72, 72, 72, 72, 72, 72, 72, 72, 72, 72, 7...\n",
              "card_choices             [{'not_picked': ['Fiend Fire', 'Corruption'], ...\n",
              "player_experience                                                     3232\n",
              "relics_obtained          [{'floor': 6, 'key': 'Ginger'}, {'floor': 9, '...\n",
              "event_choices            [{'damage_healed': 0, 'gold_gain': 0, 'player_...\n",
              "is_beta                                                                0.0\n",
              "boss_relics              [{'not_picked': ['Fusion Hammer', 'Black Star'...\n",
              "items_purged_floors                                       [12, 24, 30, 39]\n",
              "is_endless                                                           False\n",
              "potions_floor_spawned                                [1, 5, 8, 18, 19, 38]\n",
              "killed_by                                                     Awakened One\n",
              "ascension_level                                                          0\n",
              "special_seed                                                           NaN\n",
              "Name: 0, dtype: object"
            ],
            "text/html": [
              "<div>\n",
              "<style scoped>\n",
              "    .dataframe tbody tr th:only-of-type {\n",
              "        vertical-align: middle;\n",
              "    }\n",
              "\n",
              "    .dataframe tbody tr th {\n",
              "        vertical-align: top;\n",
              "    }\n",
              "\n",
              "    .dataframe thead th {\n",
              "        text-align: right;\n",
              "    }\n",
              "</style>\n",
              "<table border=\"1\" class=\"dataframe\">\n",
              "  <thead>\n",
              "    <tr style=\"text-align: right;\">\n",
              "      <th></th>\n",
              "      <th>0</th>\n",
              "    </tr>\n",
              "  </thead>\n",
              "  <tbody>\n",
              "    <tr>\n",
              "      <th>index</th>\n",
              "      <td>0</td>\n",
              "    </tr>\n",
              "    <tr>\n",
              "      <th>gold_per_floor</th>\n",
              "      <td>[114, 127, 127, 127, 145, 177, 177, 193, 193, ...</td>\n",
              "    </tr>\n",
              "    <tr>\n",
              "      <th>floor_reached</th>\n",
              "      <td>50</td>\n",
              "    </tr>\n",
              "    <tr>\n",
              "      <th>playtime</th>\n",
              "      <td>3610</td>\n",
              "    </tr>\n",
              "    <tr>\n",
              "      <th>items_purged</th>\n",
              "      <td>[Strike_R, Strike_R, Defend_R, Defend_R]</td>\n",
              "    </tr>\n",
              "    <tr>\n",
              "      <th>score</th>\n",
              "      <td>531</td>\n",
              "    </tr>\n",
              "    <tr>\n",
              "      <th>play_id</th>\n",
              "      <td>251eb1e0-5bfe-4c74-a86d-2925b198cd9c</td>\n",
              "    </tr>\n",
              "    <tr>\n",
              "      <th>local_time</th>\n",
              "      <td>1970-08-22 19:25:01.005734</td>\n",
              "    </tr>\n",
              "    <tr>\n",
              "      <th>is_ascension_mode</th>\n",
              "      <td>False</td>\n",
              "    </tr>\n",
              "    <tr>\n",
              "      <th>campfire_choices</th>\n",
              "      <td>[{'data': 'Anger', 'floor': 7, 'key': 'SMITH'}...</td>\n",
              "    </tr>\n",
              "    <tr>\n",
              "      <th>neow_cost</th>\n",
              "      <td>TEN_PERCENT_HP_LOSS</td>\n",
              "    </tr>\n",
              "    <tr>\n",
              "      <th>seed_source_timestamp</th>\n",
              "      <td>18759847683600</td>\n",
              "    </tr>\n",
              "    <tr>\n",
              "      <th>circlet_count</th>\n",
              "      <td>0</td>\n",
              "    </tr>\n",
              "    <tr>\n",
              "      <th>master_deck</th>\n",
              "      <td>[Strike_R+1, Strike_R+1, Defend_R, Defend_R+1,...</td>\n",
              "    </tr>\n",
              "    <tr>\n",
              "      <th>relics</th>\n",
              "      <td>[Burning Blood, Ancient Tea Set, Ginger, Molte...</td>\n",
              "    </tr>\n",
              "    <tr>\n",
              "      <th>potions_floor_usage</th>\n",
              "      <td>[10, 16, 22, 50]</td>\n",
              "    </tr>\n",
              "    <tr>\n",
              "      <th>damage_taken</th>\n",
              "      <td>[{'damage': 0, 'enemies': 'Cultist', 'floor': ...</td>\n",
              "    </tr>\n",
              "    <tr>\n",
              "      <th>seed_played</th>\n",
              "      <td>4360709066122050048</td>\n",
              "    </tr>\n",
              "    <tr>\n",
              "      <th>potions_obtained</th>\n",
              "      <td>[{'floor': 1, 'key': 'BlessingOfTheForge'}, {'...</td>\n",
              "    </tr>\n",
              "    <tr>\n",
              "      <th>is_trial</th>\n",
              "      <td>False</td>\n",
              "    </tr>\n",
              "    <tr>\n",
              "      <th>path_per_floor</th>\n",
              "      <td>[M, M, ?, ?, M, E, R, M, T, E, M, $, R, E, R, ...</td>\n",
              "    </tr>\n",
              "    <tr>\n",
              "      <th>character_chosen</th>\n",
              "      <td>IRONCLAD</td>\n",
              "    </tr>\n",
              "    <tr>\n",
              "      <th>items_purchased</th>\n",
              "      <td>[Demon Form, Whirlwind+1, Clash+1]</td>\n",
              "    </tr>\n",
              "    <tr>\n",
              "      <th>campfire_rested</th>\n",
              "      <td>2</td>\n",
              "    </tr>\n",
              "    <tr>\n",
              "      <th>item_purchase_floors</th>\n",
              "      <td>[12, 24, 30]</td>\n",
              "    </tr>\n",
              "    <tr>\n",
              "      <th>current_hp_per_floor</th>\n",
              "      <td>[72, 72, 72, 72, 69, 49, 49, 52, 52, 42, 48, 4...</td>\n",
              "    </tr>\n",
              "    <tr>\n",
              "      <th>gold</th>\n",
              "      <td>161</td>\n",
              "    </tr>\n",
              "    <tr>\n",
              "      <th>neow_bonus</th>\n",
              "      <td>THREE_RARE_CARDS</td>\n",
              "    </tr>\n",
              "    <tr>\n",
              "      <th>is_prod</th>\n",
              "      <td>False</td>\n",
              "    </tr>\n",
              "    <tr>\n",
              "      <th>is_daily</th>\n",
              "      <td>False</td>\n",
              "    </tr>\n",
              "    <tr>\n",
              "      <th>chose_seed</th>\n",
              "      <td>False</td>\n",
              "    </tr>\n",
              "    <tr>\n",
              "      <th>campfire_upgraded</th>\n",
              "      <td>9</td>\n",
              "    </tr>\n",
              "    <tr>\n",
              "      <th>win_rate</th>\n",
              "      <td>0</td>\n",
              "    </tr>\n",
              "    <tr>\n",
              "      <th>timestamp</th>\n",
              "      <td>2020-10-31 23:57:34</td>\n",
              "    </tr>\n",
              "    <tr>\n",
              "      <th>path_taken</th>\n",
              "      <td>[M, M, ?, ?, M, E, R, M, T, E, M, $, R, E, R, ...</td>\n",
              "    </tr>\n",
              "    <tr>\n",
              "      <th>build_version</th>\n",
              "      <td>2020-07-30</td>\n",
              "    </tr>\n",
              "    <tr>\n",
              "      <th>purchased_purges</th>\n",
              "      <td>4</td>\n",
              "    </tr>\n",
              "    <tr>\n",
              "      <th>victory</th>\n",
              "      <td>False</td>\n",
              "    </tr>\n",
              "    <tr>\n",
              "      <th>max_hp_per_floor</th>\n",
              "      <td>[72, 72, 72, 72, 72, 72, 72, 72, 72, 72, 72, 7...</td>\n",
              "    </tr>\n",
              "    <tr>\n",
              "      <th>card_choices</th>\n",
              "      <td>[{'not_picked': ['Fiend Fire', 'Corruption'], ...</td>\n",
              "    </tr>\n",
              "    <tr>\n",
              "      <th>player_experience</th>\n",
              "      <td>3232</td>\n",
              "    </tr>\n",
              "    <tr>\n",
              "      <th>relics_obtained</th>\n",
              "      <td>[{'floor': 6, 'key': 'Ginger'}, {'floor': 9, '...</td>\n",
              "    </tr>\n",
              "    <tr>\n",
              "      <th>event_choices</th>\n",
              "      <td>[{'damage_healed': 0, 'gold_gain': 0, 'player_...</td>\n",
              "    </tr>\n",
              "    <tr>\n",
              "      <th>is_beta</th>\n",
              "      <td>0.0</td>\n",
              "    </tr>\n",
              "    <tr>\n",
              "      <th>boss_relics</th>\n",
              "      <td>[{'not_picked': ['Fusion Hammer', 'Black Star'...</td>\n",
              "    </tr>\n",
              "    <tr>\n",
              "      <th>items_purged_floors</th>\n",
              "      <td>[12, 24, 30, 39]</td>\n",
              "    </tr>\n",
              "    <tr>\n",
              "      <th>is_endless</th>\n",
              "      <td>False</td>\n",
              "    </tr>\n",
              "    <tr>\n",
              "      <th>potions_floor_spawned</th>\n",
              "      <td>[1, 5, 8, 18, 19, 38]</td>\n",
              "    </tr>\n",
              "    <tr>\n",
              "      <th>killed_by</th>\n",
              "      <td>Awakened One</td>\n",
              "    </tr>\n",
              "    <tr>\n",
              "      <th>ascension_level</th>\n",
              "      <td>0</td>\n",
              "    </tr>\n",
              "    <tr>\n",
              "      <th>special_seed</th>\n",
              "      <td>NaN</td>\n",
              "    </tr>\n",
              "  </tbody>\n",
              "</table>\n",
              "</div><br><label><b>dtype:</b> object</label>"
            ]
          },
          "metadata": {},
          "execution_count": 229
        }
      ]
    },
    {
      "cell_type": "code",
      "source": [
        " ## campfire_choices   items_purged  items_purged_floors   card_choices    items_purchased  item_purchase_floors   event_choices   neow_bonus"
      ],
      "metadata": {
        "id": "GzcH6jJvUGTI"
      },
      "execution_count": null,
      "outputs": []
    },
    {
      "cell_type": "code",
      "source": [
        "run.neow_bonus"
      ],
      "metadata": {
        "colab": {
          "base_uri": "https://localhost:8080/",
          "height": 35
        },
        "id": "IFfKdFEbSZsp",
        "outputId": "e7ed0a56-0fa5-44fc-dd53-7bc5353b5feb"
      },
      "execution_count": null,
      "outputs": [
        {
          "output_type": "execute_result",
          "data": {
            "text/plain": [
              "'THREE_RARE_CARDS'"
            ],
            "application/vnd.google.colaboratory.intrinsic+json": {
              "type": "string"
            }
          },
          "metadata": {},
          "execution_count": 184
        }
      ]
    },
    {
      "cell_type": "code",
      "source": [
        "BASE_GAME_RELICS = {'Burning Blood', 'Cracked Core', 'PureWater', 'Ring of the Snake', 'Akabeko', 'Anchor', 'Ancient Tea Set', 'Art of War', 'Bag of Marbles', 'Bag of Preparation', 'Blood Vial', 'TestModSTS:BottledPlaceholderRelic', 'Bronze Scales', 'Centennial Puzzle', 'CeramicFish', 'Damaru', 'DataDisk', 'Dream Catcher', 'Happy Flower', 'Juzu Bracelet', 'Lantern', 'MawBank', 'MealTicket', 'Nunchaku', 'Oddly Smooth Stone', 'Omamori', 'Orichalcum', 'Pen Nib', 'TestModSTS:PlaceholderRelic2', 'Potion Belt', 'PreservedInsect', 'Red Skull', 'Regal Pillow', 'TestModSTS:DefaultClickableRelic', 'Smiling Mask', 'Snake Skull', 'Strawberry', 'Boot', 'Tiny Chest', 'Toy Ornithopter', 'Vajra', 'War Paint', 'Whetstone', 'Blue Candle', 'Bottled Flame', 'Bottled Lightning', 'Bottled Tornado', 'Darkstone Periapt', 'Yang', 'Eternal Feather', 'Frozen Egg 2', 'Cables', 'Gremlin Horn', 'HornCleat', 'InkBottle', 'Kunai', 'Letter Opener', 'Matryoshka', 'Meat on the Bone', 'Mercury Hourglass', 'Molten Egg 2', 'Mummified Hand', 'Ninja Scroll', 'Ornamental Fan', 'Pantograph', 'Paper Crane', 'Paper Frog', 'Pear', 'Question Card', 'Self Forming Clay', 'Shuriken', 'Singing Bowl', 'StrikeDummy', 'Sundial', 'Symbiotic Virus', 'TeardropLocket', 'The Courier', 'Toxic Egg 2', 'White Beast Statue', 'Bird Faced Urn', 'Calipers', 'CaptainsWheel', 'Champion Belt', 'Charon\\'s Ashes', 'CloakClasp', 'Dead Branch', 'Du-Vu Doll', 'Emotion Chip', 'FossilizedHelix', 'Gambling Chip', 'Ginger', 'Girya', 'GoldenEye', 'Ice Cream', 'Incense Burner', 'Lizard Tail', 'Magic Flower', 'Mango', 'Old Coin', 'Peace Pipe', 'Pocketwatch', 'Prayer Wheel', 'Shovel', 'StoneCalendar', 'The Specimen', 'Thread and Needle', 'Tingsha', 'Torii', 'Tough Bandages', 'TungstenRod', 'Turnip', 'Unceasing Top', 'WingedGreaves', 'Astrolabe', 'Black Blood', 'Black Star', 'Busted Crown', 'Calling Bell', 'Coffee Dripper', 'Cursed Key', 'Ectoplasm', 'Empty Cage', 'FrozenCore', 'Fusion Hammer', 'HolyWater', 'HoveringKite', 'Inserter', 'Mark of Pain', 'Nuclear Battery', 'Pandora\\'s Box', 'Philosopher\\'s Stone', 'Ring of the Serpent', 'Runic Cube', 'Runic Dome', 'Runic Pyramid', 'SacredBark', 'SlaversCollar', 'Snecko Eye', 'Sozu', 'Tiny House', 'Velvet Choker', 'VioletLotus', 'WristBlade', 'Bloody Idol', 'CultistMask', 'Enchiridion', 'FaceOfCleric', 'Golden Idol', 'GremlinMask', 'Mark of the Bloom', 'MutagenicStrength', 'Nloth\\'s Gift', 'NlothsMask', 'Necronomicon', 'NeowsBlessing', 'Nilry\\'s Codex', 'Odd Mushroom', 'Red Mask', 'Spirit Poop', 'SsserpentHead', 'WarpedTongs', 'Brimstone', 'Cauldron', 'Chemical X', 'ClockworkSouvenir', 'DollysMirror', 'Frozen Eye', 'HandDrill', 'Lee\\'s Waffle', 'Medical Kit', 'Melange', 'Membership Card', 'OrangePellets', 'Orrery', 'PrismaticShard', 'Runic Capacitor', 'Sling', 'Strange Spoon', 'TheAbacus', 'Toolbox', 'TwistedFunnel'}"
      ],
      "metadata": {
        "id": "6PPP7UN_trda"
      },
      "execution_count": null,
      "outputs": []
    },
    {
      "cell_type": "code",
      "source": [
        "def log_add(log , floor , key , card):\n",
        "  if isinstance(card, list):\n",
        "    for i in card:\n",
        "      log.append( { 'floor' : floor , 'key' : key , 'card' : i})\n",
        "  else:\n",
        "    log.append( { 'floor' : floor , 'key' : key , 'card' : card})"
      ],
      "metadata": {
        "id": "6zYU_8W_T7wA"
      },
      "execution_count": null,
      "outputs": []
    },
    {
      "cell_type": "code",
      "source": [
        "def process_pick(log , run):\n",
        "  for i in run.card_choices:\n",
        "    if i['picked'] != 'SKIP' and i['picked'] != 'Singing Bowl':\n",
        "      log_add(log , i['floor'] , 'PICK' , i['picked'])\n",
        "  log[:] = sorted(log, key=lambda d: d['floor'])"
      ],
      "metadata": {
        "id": "m-sa8r8AV8gf"
      },
      "execution_count": null,
      "outputs": []
    },
    {
      "cell_type": "code",
      "source": [
        "def process_campfire(log , run):\n",
        "  for i in run.campfire_choices :\n",
        "    if i['key'] == 'SMITH':\n",
        "      log_add(log , i['floor'] , 'UBGRADE' , i['data'])\n",
        "    if i['key'] == 'PURGE':\n",
        "      log_add(log, i['floor'] , 'REMOVE' , i['data'])\n",
        "  log[:]  = sorted(log, key=lambda d: d['floor'])"
      ],
      "metadata": {
        "id": "7EiWOT-eYi1v"
      },
      "execution_count": null,
      "outputs": []
    },
    {
      "cell_type": "code",
      "source": [
        "def process_purged(log , run):\n",
        "  for i,j in zip(run.items_purged , run.items_purged_floors):\n",
        "    log_add(log , j , 'REMOVE' , i)\n",
        "  log[:]  = sorted(log, key=lambda d: d['floor'])"
      ],
      "metadata": {
        "id": "Kl3AO23iapau"
      },
      "execution_count": null,
      "outputs": []
    },
    {
      "cell_type": "code",
      "source": [
        "def process_purchased(log , run):\n",
        "  for i,j in zip(run.items_purchased , run.item_purchase_floors ):\n",
        "    if i not in BASE_GAME_RELICS:\n",
        "      log_add(log , j , 'ADD' , i)\n",
        "  log[:]  = sorted(log, key=lambda d: d['floor'])"
      ],
      "metadata": {
        "id": "KYbDQnndb4uD"
      },
      "execution_count": null,
      "outputs": []
    },
    {
      "cell_type": "code",
      "source": [
        "## cards_obtained   cards_removed   cards_upgraded   , event_name == 'Vampires'   cards_transformed(ทั้ง get and remove)???  i665 to check\n",
        "def process_event(log , run):\n",
        "  for i in run.event_choices:\n",
        "    if 'cards_obtained' in i:\n",
        "      log_add(log , i['floor'] , 'ADD' , i['cards_obtained'])\n",
        "    if 'cards_removed' in i:\n",
        "      log_add(log , i['floor'] , 'REMOVE' , i['cards_removed'])\n",
        "    elif 'cards_transformed' in i:\n",
        "      log_add(log , i['floor'] , 'REMOVE' , i['cards_transformed'])\n",
        "    elif 'cards_upgraded' in i:\n",
        "      log_add(log , i['floor'] , 'UBGRADE' , i['cards_upgraded'])\n",
        "    elif i['event_name'] in 'Vampires' and i['player_choice'] == 'Accept':\n",
        "      log_add(log , i['floor'] , 'VAM' , '')\n",
        "  log[:] = sorted(log, key=lambda d: d['floor'])"
      ],
      "metadata": {
        "id": "NrmyM4ZvcswF"
      },
      "execution_count": null,
      "outputs": []
    },
    {
      "cell_type": "code",
      "source": [
        "## relics relics_obtained boss_relics\n",
        "run.boss_relics"
      ],
      "metadata": {
        "colab": {
          "base_uri": "https://localhost:8080/"
        },
        "id": "OrhuB19vuyZ4",
        "outputId": "70e9f2d3-c114-458d-8ba9-95d23d7defe6"
      },
      "execution_count": null,
      "outputs": [
        {
          "output_type": "execute_result",
          "data": {
            "text/plain": [
              "[{'not_picked': ['Fusion Hammer', 'Black Star'], 'picked': 'Busted Crown'},\n",
              " {'not_picked': ['Runic Dome', 'Mark of Pain'],\n",
              "  'picked': \"Philosopher's Stone\"}]"
            ]
          },
          "metadata": {},
          "execution_count": 232
        }
      ]
    },
    {
      "cell_type": "code",
      "source": [
        "def build_deck(log,run):\n",
        "  curr_deck = [\"Strike_R\"]*5 + [\"Defend_R\"]*4 +   [\"Bash\"]\n",
        "  if run.ascension_level >= 10:\n",
        "    curr_deck.append('AscendersBane')\n",
        "  for f in log:\n",
        "    match f['key']:\n",
        "      case 'PICK':\n",
        "        curr_deck.append(f['card'])\n",
        "      case 'UBGRADE':\n",
        "        if f['card'] != 'Singing Bowl':\n",
        "          index = curr_deck.index(f['card'])\n",
        "          curr_deck[index] = f['card'] +'+1'\n",
        "      case 'REMOVE':\n",
        "        curr_deck.remove(f['card'])\n",
        "      case 'ADD':\n",
        "        curr_deck.append(f['card'])\n",
        "  return curr_deck"
      ],
      "metadata": {
        "id": "oCJf-w8tghSR"
      },
      "execution_count": null,
      "outputs": []
    },
    {
      "cell_type": "code",
      "source": [
        "log = list()\n",
        "run = df.iloc[0]"
      ],
      "metadata": {
        "id": "VGx-o2hhVj05"
      },
      "execution_count": null,
      "outputs": []
    },
    {
      "cell_type": "code",
      "source": [
        "process_pick(log,run)\n",
        "process_campfire(log , run)\n",
        "process_purged(log , run)\n",
        "process_purchased(log , run)\n",
        "process_event(log , run)"
      ],
      "metadata": {
        "id": "LNoIrgAxWv2Z"
      },
      "execution_count": null,
      "outputs": []
    },
    {
      "cell_type": "code",
      "source": [
        "print(build_deck(log,run))\n",
        "print(run.master_deck)"
      ],
      "metadata": {
        "colab": {
          "base_uri": "https://localhost:8080/"
        },
        "id": "3irTrkYMhqtf",
        "outputId": "f40101c1-7c65-4975-9955-d3ee9be28935"
      },
      "execution_count": null,
      "outputs": [
        {
          "output_type": "stream",
          "name": "stdout",
          "text": [
            "['Strike_R', 'Strike_R', 'Strike_R', 'Strike_R', 'Strike_R', 'Defend_R', 'Defend_R', 'Bash+1', 'Clash+1', 'Whirlwind+1', 'Heavy Blade+1', 'Pommel Strike+1', 'Flex+1', 'Rage+1', 'Clash+1', 'Anger', 'Limit Break+1', 'Pommel Strike+1']\n",
            "['Strike_R', 'Strike_R', 'Strike_R', 'Strike_R', 'Strike_R', 'Defend_R+1', 'Defend_R+1', 'Bash+1', 'Clash+1', 'Whirlwind+1', 'Heavy Blade+1', 'Pommel Strike+1', 'Flex+1', 'Rage+1', 'Necronomicurse', 'Clash+1', 'Anger', 'Limit Break+1', 'Pommel Strike+1']\n"
          ]
        }
      ]
    },
    {
      "cell_type": "code",
      "source": [],
      "metadata": {
        "id": "VkqPDqCQpnDK"
      },
      "execution_count": null,
      "outputs": []
    }
  ]
}