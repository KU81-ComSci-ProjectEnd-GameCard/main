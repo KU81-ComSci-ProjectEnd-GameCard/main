{
 "cells": [
  {
   "cell_type": "code",
   "execution_count": 1,
   "metadata": {},
   "outputs": [],
   "source": [
    "import pandas as pd\n",
    "from collections import Counter"
   ]
  },
  {
   "cell_type": "code",
   "execution_count": 2,
   "metadata": {
    "id": "mlI4exTXRy_H"
   },
   "outputs": [],
   "source": [
    "\n",
    "# URL of the raw JSON file on GitHub\n",
    "url = \"https://raw.githubusercontent.com/KU81-ComSci-ProjectEnd-GameCard/main/master/Predictor/data/processed_data/quality_run2k.json\"\n",
    "# Load the JSON data into a pandas DataFrame\n",
    "df = pd.read_json(url)"
   ]
  },
  {
   "cell_type": "code",
   "execution_count": 3,
   "metadata": {
    "id": "E4oPuWuvSTCj"
   },
   "outputs": [],
   "source": [
    "run = df.iloc[0]"
   ]
  },
  {
   "cell_type": "code",
   "execution_count": 4,
   "metadata": {
    "colab": {
     "base_uri": "https://localhost:8080/",
     "height": 1000
    },
    "id": "gBmJzXiLufKR",
    "outputId": "c714f131-f3d0-4f27-fa0b-0f9cb8776b44",
    "scrolled": true
   },
   "outputs": [
    {
     "data": {
      "text/plain": [
       "index                                                                    0\n",
       "gold_per_floor           [114, 127, 127, 127, 145, 177, 177, 193, 193, ...\n",
       "floor_reached                                                           50\n",
       "playtime                                                              3610\n",
       "items_purged                      [Strike_R, Strike_R, Defend_R, Defend_R]\n",
       "score                                                                  531\n",
       "play_id                               251eb1e0-5bfe-4c74-a86d-2925b198cd9c\n",
       "local_time                                      1970-08-22 19:25:01.005734\n",
       "is_ascension_mode                                                    False\n",
       "campfire_choices         [{'data': 'Anger', 'floor': 7, 'key': 'SMITH'}...\n",
       "neow_cost                                              TEN_PERCENT_HP_LOSS\n",
       "seed_source_timestamp                                       18759847683600\n",
       "circlet_count                                                            0\n",
       "master_deck              [Strike_R+1, Strike_R+1, Defend_R, Defend_R+1,...\n",
       "relics                   [Burning Blood, Ancient Tea Set, Ginger, Molte...\n",
       "potions_floor_usage                                       [10, 16, 22, 50]\n",
       "damage_taken             [{'damage': 0, 'enemies': 'Cultist', 'floor': ...\n",
       "seed_played                                            4360709066122050048\n",
       "potions_obtained         [{'floor': 1, 'key': 'BlessingOfTheForge'}, {'...\n",
       "is_trial                                                             False\n",
       "path_per_floor           [M, M, ?, ?, M, E, R, M, T, E, M, $, R, E, R, ...\n",
       "character_chosen                                                  IRONCLAD\n",
       "items_purchased                         [Demon Form, Whirlwind+1, Clash+1]\n",
       "campfire_rested                                                          2\n",
       "item_purchase_floors                                          [12, 24, 30]\n",
       "current_hp_per_floor     [72, 72, 72, 72, 69, 49, 49, 52, 52, 42, 48, 4...\n",
       "gold                                                                   161\n",
       "neow_bonus                                                THREE_RARE_CARDS\n",
       "is_prod                                                              False\n",
       "is_daily                                                             False\n",
       "chose_seed                                                           False\n",
       "campfire_upgraded                                                        9\n",
       "win_rate                                                                 0\n",
       "timestamp                                              2020-10-31 23:57:34\n",
       "path_taken               [M, M, ?, ?, M, E, R, M, T, E, M, $, R, E, R, ...\n",
       "build_version                                                   2020-07-30\n",
       "purchased_purges                                                         4\n",
       "victory                                                              False\n",
       "max_hp_per_floor         [72, 72, 72, 72, 72, 72, 72, 72, 72, 72, 72, 7...\n",
       "card_choices             [{'not_picked': ['Fiend Fire', 'Corruption'], ...\n",
       "player_experience                                                     3232\n",
       "relics_obtained          [{'floor': 6, 'key': 'Ginger'}, {'floor': 9, '...\n",
       "event_choices            [{'damage_healed': 0, 'gold_gain': 0, 'player_...\n",
       "is_beta                                                                0.0\n",
       "boss_relics              [{'not_picked': ['Fusion Hammer', 'Black Star'...\n",
       "items_purged_floors                                       [12, 24, 30, 39]\n",
       "is_endless                                                           False\n",
       "potions_floor_spawned                                [1, 5, 8, 18, 19, 38]\n",
       "killed_by                                                     Awakened One\n",
       "ascension_level                                                          0\n",
       "special_seed                                                           NaN\n",
       "Name: 0, dtype: object"
      ]
     },
     "execution_count": 4,
     "metadata": {},
     "output_type": "execute_result"
    }
   ],
   "source": [
    "run"
   ]
  },
  {
   "cell_type": "code",
   "execution_count": 5,
   "metadata": {
    "id": "GzcH6jJvUGTI"
   },
   "outputs": [],
   "source": [
    " ## campfire_choices   items_purged  items_purged_floors   card_choices    items_purchased  item_purchase_floors   event_choices   neow_bonus"
   ]
  },
  {
   "cell_type": "code",
   "execution_count": 6,
   "metadata": {
    "id": "6PPP7UN_trda"
   },
   "outputs": [],
   "source": [
    "BASE_GAME_RELICS = {'Burning Blood', 'Cracked Core', 'PureWater', 'Ring of the Snake', 'Akabeko', 'Anchor', 'Ancient Tea Set', 'Art of War', 'Bag of Marbles', 'Bag of Preparation', 'Blood Vial', 'TestModSTS:BottledPlaceholderRelic', 'Bronze Scales', 'Centennial Puzzle', 'CeramicFish', 'Damaru', 'DataDisk', 'Dream Catcher', 'Happy Flower', 'Juzu Bracelet', 'Lantern', 'MawBank', 'MealTicket', 'Nunchaku', 'Oddly Smooth Stone', 'Omamori', 'Orichalcum', 'Pen Nib', 'TestModSTS:PlaceholderRelic2', 'Potion Belt', 'PreservedInsect', 'Red Skull', 'Regal Pillow', 'TestModSTS:DefaultClickableRelic', 'Smiling Mask', 'Snake Skull', 'Strawberry', 'Boot', 'Tiny Chest', 'Toy Ornithopter', 'Vajra', 'War Paint', 'Whetstone', 'Blue Candle', 'Bottled Flame', 'Bottled Lightning', 'Bottled Tornado', 'Darkstone Periapt', 'Yang', 'Eternal Feather', 'Frozen Egg 2', 'Cables', 'Gremlin Horn', 'HornCleat', 'InkBottle', 'Kunai', 'Letter Opener', 'Matryoshka', 'Meat on the Bone', 'Mercury Hourglass', 'Molten Egg 2', 'Mummified Hand', 'Ninja Scroll', 'Ornamental Fan', 'Pantograph', 'Paper Crane', 'Paper Frog', 'Pear', 'Question Card', 'Self Forming Clay', 'Shuriken', 'Singing Bowl', 'StrikeDummy', 'Sundial', 'Symbiotic Virus', 'TeardropLocket', 'The Courier', 'Toxic Egg 2', 'White Beast Statue', 'Bird Faced Urn', 'Calipers', 'CaptainsWheel', 'Champion Belt', 'Charon\\'s Ashes', 'CloakClasp', 'Dead Branch', 'Du-Vu Doll', 'Emotion Chip', 'FossilizedHelix', 'Gambling Chip', 'Ginger', 'Girya', 'GoldenEye', 'Ice Cream', 'Incense Burner', 'Lizard Tail', 'Magic Flower', 'Mango', 'Old Coin', 'Peace Pipe', 'Pocketwatch', 'Prayer Wheel', 'Shovel', 'StoneCalendar', 'The Specimen', 'Thread and Needle', 'Tingsha', 'Torii', 'Tough Bandages', 'TungstenRod', 'Turnip', 'Unceasing Top', 'WingedGreaves', 'Astrolabe', 'Black Blood', 'Black Star', 'Busted Crown', 'Calling Bell', 'Coffee Dripper', 'Cursed Key', 'Ectoplasm', 'Empty Cage', 'FrozenCore', 'Fusion Hammer', 'HolyWater', 'HoveringKite', 'Inserter', 'Mark of Pain', 'Nuclear Battery', 'Pandora\\'s Box', 'Philosopher\\'s Stone', 'Ring of the Serpent', 'Runic Cube', 'Runic Dome', 'Runic Pyramid', 'SacredBark', 'SlaversCollar', 'Snecko Eye', 'Sozu', 'Tiny House', 'Velvet Choker', 'VioletLotus', 'WristBlade', 'Bloody Idol', 'CultistMask', 'Enchiridion', 'FaceOfCleric', 'Golden Idol', 'GremlinMask', 'Mark of the Bloom', 'MutagenicStrength', 'Nloth\\'s Gift', 'NlothsMask', 'Necronomicon', 'NeowsBlessing', 'Nilry\\'s Codex', 'Odd Mushroom', 'Red Mask', 'Spirit Poop', 'SsserpentHead', 'WarpedTongs', 'Brimstone', 'Cauldron', 'Chemical X', 'ClockworkSouvenir', 'DollysMirror', 'Frozen Eye', 'HandDrill', 'Lee\\'s Waffle', 'Medical Kit', 'Melange', 'Membership Card', 'OrangePellets', 'Orrery', 'PrismaticShard', 'Runic Capacitor', 'Sling', 'Strange Spoon', 'TheAbacus', 'Toolbox', 'TwistedFunnel'}"
   ]
  },
  {
   "cell_type": "code",
   "execution_count": 7,
   "metadata": {
    "id": "leobnIPZL1ma"
   },
   "outputs": [],
   "source": [
    "UV_RELICS = {'Omamori','War Paint','Whetstone','DollysMirror','Orrery','Astrolbe','Pandora\\'s Box','Calling Bell','Tiny House','Empty Cage','Frozen Egg 2','Molten Egg 2','Toxic Egg 2','Necronomicon','Singing Bowl'}"
   ]
  },
  {
   "cell_type": "code",
   "execution_count": 8,
   "metadata": {
    "id": "GJcb-DecMA9R"
   },
   "outputs": [],
   "source": [
    "IC_ATK_CARD =[\"Anger\",\"Body Slam\",\"Clash\",\"Cleave\",\"Clothesline\",\"Headbutt\",\"Heavy Blade\",\"Iron Wave\",\"Perfected Strike\",\"Pommel Strike\",\"Sword Boomerang\",\"Thunderclap\",\"Twin Strike\",\"Wild Strike\",\"Blood for Blood\",\"Carnage\",\"Dropkick\",\"Hemokinesis\",\"Pummel\",\"Rampage\",\"Reckless Charge\",\"Searing Blow\",\"Sever Soul\",\"Uppercut\",\"Whirlwind\",\"Bludgeon\",\"Feed\",\"Fiend Fire\",\"Immolate\",\"Reaper\"]\n",
    "IC_ATK_CARD_P =[\"Anger+1\", \"Body Slam+1\", \"Clash+1\", \"Cleave+1\", \"Clothesline+1\", \"Headbutt+1\", \n",
    "    \"Heavy Blade+1\", \"Iron Wave+1\", \"Perfected Strike+1\", \"Pommel Strike+1\", \"Sword Boomerang+1\", \n",
    "    \"Thunderclap+1\", \"Twin Strike+1\", \"Wild Strike+1\", \"Blood for Blood+1\", \"Carnage+1\", \n",
    "    \"Dropkick+1\", \"Hemokinesis+1\", \"Pummel+1\", \"Rampage+1\", \"Reckless Charge+1\", \n",
    "    \"Searing Blow+1\", \"Sever Soul+1\", \"Uppercut+1\", \"Whirlwind+1\", \"Bludgeon+1\", \n",
    "    \"Feed+1\", \"Fiend Fire+1\", \"Immolate+1\", \"Reaper+1\"]\n",
    "IC_SKILL_CARD = [\"Armaments\",\"Flex\",\"Havoc\",\"Shrug It Off\",\"True Grit\",\"Warcry\",\"Battle Trance\",\"Bloodletting\",\"Burning Pact\",\"Disarm\",\"Dual Wield\",\"Entrench\",\"Flame Barrier\",\"Ghostly Armor\",\"Infernal Blade\",\"Intimidate\",\"Power Through\",\"Rage\",\"Second Wind\",\"Seeing Red\",\"Sentinel\",\"Shockwave\",\"Spot Weakness\",\"Double Tap\",\"Exhume\",\"Impervious\",\"Limit Break\",\"Offering\"]\n",
    "IC_SKILL_CARD_P = [\n",
    "    \"Armaments+1\", \"Flex+1\", \"Havoc+1\", \"Shrug It Off+1\", \"True Grit+1\", \"Warcry+1\", \"Battle Trance+1\", \n",
    "    \"Bloodletting+1\", \"Burning Pact+1\", \"Disarm+1\", \"Dual Wield+1\", \"Entrench+1\", \"Flame Barrier+1\", \n",
    "    \"Ghostly Armor+1\", \"Infernal Blade+1\", \"Intimidate+1\", \"Power Through+1\", \"Rage+1\", \"Second Wind+1\", \n",
    "    \"Seeing Red+1\", \"Sentinel+1\", \"Shockwave+1\", \"Spot Weakness+1\", \"Double Tap+1\", \"Exhume+1\", \n",
    "    \"Impervious+1\", \"Limit Break+1\", \"Offering+1\"\n",
    "]\n",
    "IC_POWER_CARD = [\"Combust\",\"Dark Embrace\",\"Evolve\",\"Feel No Pain\",\"Fire Breathing\",\"Inflame\",\"Metallicize\",\"Rupture\",\"Barricade\",\"Berserk\",\"Brutality\",\"Corruption\",\"Demon Form\",\"Juggernaut\"]\n",
    "IC_POWER_CARD_P = [\n",
    "    \"Combust+1\", \"Dark Embrace+1\", \"Evolve+1\", \"Feel No Pain+1\", \"Fire Breathing+1\", \"Inflame+1\", \n",
    "    \"Metallicize+1\", \"Rupture+1\", \"Barricade+1\", \"Berserk+1\", \"Brutality+1\", \"Corruption+1\", \n",
    "    \"Demon Form+1\", \"Juggernaut+1\"\n",
    "]"
   ]
  },
  {
   "cell_type": "code",
   "execution_count": 9,
   "metadata": {
    "id": "6zYU_8W_T7wA"
   },
   "outputs": [],
   "source": [
    "def log_add(log , floor , key , input):\n",
    "    if key == 'TRANFORM':\n",
    "        log.append( { 'floor' : floor , 'key' : key , 'cards' : input})\n",
    "    elif isinstance(input, list):\n",
    "        for i in input:\n",
    "            if key == 'GET_RELIC':\n",
    "                log.append( { 'floor' : floor , 'key' : key , 'relic' : i})\n",
    "            else:\n",
    "                log.append( { 'floor' : floor , 'key' : key , 'card' : i})\n",
    "    elif key == 'GET_RELIC':\n",
    "        log.append( { 'floor' : floor , 'key' : key , 'relic' : input})\n",
    "    elif 'UN_' in key:\n",
    "        log.append( { 'floor' : floor , 'key' : key , 'num' : input})\n",
    "    else:\n",
    "        log.append( { 'floor' : floor , 'key' : key , 'card' : input})"
   ]
  },
  {
   "cell_type": "code",
   "execution_count": 10,
   "metadata": {
    "id": "m-sa8r8AV8gf"
   },
   "outputs": [],
   "source": [
    "def process_pick(log , run):\n",
    "  for i in run.card_choices:\n",
    "    if i['picked'] != 'SKIP' and i['picked'] != 'Singing Bowl':\n",
    "      log_add(log , i['floor'] , 'PICK' , i['picked'])\n",
    "  log[:] = sorted(log, key=lambda d: d['floor'])"
   ]
  },
  {
   "cell_type": "code",
   "execution_count": 11,
   "metadata": {
    "id": "7EiWOT-eYi1v"
   },
   "outputs": [],
   "source": [
    "def process_campfire(log , run):\n",
    "  for i in run.campfire_choices :\n",
    "    if i['key'] == 'SMITH':\n",
    "      log_add(log , i['floor'] , 'UPGRADE' , i['data'])\n",
    "    if i['key'] == 'PURGE':\n",
    "      log_add(log, i['floor'] , 'REMOVE' , i['data'])\n",
    "  log[:]  = sorted(log, key=lambda d: d['floor'])"
   ]
  },
  {
   "cell_type": "code",
   "execution_count": 12,
   "metadata": {
    "id": "Kl3AO23iapau"
   },
   "outputs": [],
   "source": [
    "def process_purged(log , run):\n",
    "  for i,j in zip(run.items_purged , run.items_purged_floors):\n",
    "    log_add(log , j , 'REMOVE' , i)\n",
    "  log[:]  = sorted(log, key=lambda d: d['floor'])"
   ]
  },
  {
   "cell_type": "code",
   "execution_count": 13,
   "metadata": {
    "id": "KYbDQnndb4uD"
   },
   "outputs": [],
   "source": [
    "def process_purchased(log , run):\n",
    "  for i,j in zip(run.items_purchased , run.item_purchase_floors ):\n",
    "    if i not in BASE_GAME_RELICS:\n",
    "      log_add(log , j , 'ADD' , i)\n",
    "  log[:]  = sorted(log, key=lambda d: d['floor'])"
   ]
  },
  {
   "cell_type": "code",
   "execution_count": 14,
   "metadata": {
    "id": "iplSND7aMiQE"
   },
   "outputs": [],
   "source": [
    "def process_relic(log , run):\n",
    "    for i in run.relics_obtained:\n",
    "        if i['key'] in UV_RELICS:\n",
    "            log_add(log , i['floor'] , 'GET_RELIC' , i['key'])\n",
    "    for f in run.boss_relics:\n",
    "        if 'picked' in f.keys() and f['picked'] in UV_RELICS:\n",
    "            log_add(log , i['floor'] , 'GET_RELIC' , f['picked'])\n",
    "    log[:]  = sorted(log, key=lambda d: d['floor'])"
   ]
  },
  {
   "cell_type": "code",
   "execution_count": 15,
   "metadata": {
    "id": "NrmyM4ZvcswF"
   },
   "outputs": [],
   "source": [
    "## cards_obtained   cards_removed   cards_upgraded   , event_name == 'Vampires'   cards_transformed(ทั้ง get and remove)???\n",
    "def process_event(log , run):\n",
    "  for i in run.event_choices:\n",
    "    if 'cards_removed' in i:\n",
    "        log_add(log , i['floor'] , 'REMOVE' , i['cards_removed'])\n",
    "    elif 'cards_transformed' in i:\n",
    "        log_add(log , i['floor'] , 'TRANFORM' , [i['cards_transformed'][0],i['cards_obtained'][0]])\n",
    "    elif 'cards_obtained' in i:\n",
    "        log_add(log , i['floor'] , 'ADD' , i['cards_obtained'])\n",
    "    elif 'cards_upgraded' in i:\n",
    "        log_add(log , i['floor'] , 'UPGRADE' , i['cards_upgraded'])\n",
    "    elif i['event_name'] in 'Vampires' and i['player_choice'] == 'Accept':\n",
    "        log_add(log , i['floor'] , 'VAM' , '')\n",
    "    elif 'relics_obtained' in i and  i['relics_obtained'][0] in UV_RELICS:\n",
    "        log_add(log , i['floor'] , 'GET_RELIC' , i['relics_obtained'])\n",
    "  log[:] = sorted(log, key=lambda d: d['floor'])"
   ]
  },
  {
   "cell_type": "code",
   "execution_count": 16,
   "metadata": {},
   "outputs": [],
   "source": [
    "def process_neow(log , run):\n",
    "    if run.neow_bonus == 'UPGRADE_CARD':\n",
    "        log_add(log , 0 , 'UN_UPGRADE' , 2)\n",
    "    if run.neow_bonus == 'REMOVE_CARD' :\n",
    "        log_add(log , 0 , 'UN_REMOVE' , 1)\n",
    "    if run.neow_bonus == 'REMOVE_TWO' :\n",
    "        log_add(log , 0 , 'UN_REMOVE' , 2)\n",
    "    if run.neow_bonus == 'TRANSFORM_CARD':\n",
    "        log_add(log , 0 , 'UN_TRANFROM' , 1)\n",
    "    if run.neow_bonus == 'ONE_RANDOM_RARE_CARD':\n",
    "        log_add(log , 0 , 'UN_ADD' , 1)\n",
    "    if run.neow_bonus in ['ONE_RARE_RELIC' , 'RANDOM_COMMON_RELIC']:\n",
    "        log_add(log , 0, 'GET_RELIC' , run.relics[1])\n",
    "    if run.neow_bonus == 'BOSS_RELIC':\n",
    "        log_add(log , 0, 'GET_RELIC' , run.relics[0])\n",
    "        \n",
    "    "
   ]
  },
  {
   "cell_type": "code",
   "execution_count": 17,
   "metadata": {},
   "outputs": [],
   "source": [
    "def unknow_value_form_relic(log):\n",
    "    for event in log:\n",
    "        if event['key'] == 'GET_RELIC':\n",
    "            if event['relic'] == 'War Paint':\n",
    "                log_add(log , event['floor'] , 'UN_UPGRADE' , 2)\n",
    "            if event['relic'] == 'Whetstone':\n",
    "                log_add(log , event['floor'] , 'UN_UPGRADE' , 2)\n",
    "            if event['relic'] == 'DollysMirror':\n",
    "                log_add(log , event['floor'] , 'UN_ADD' , 1)\n",
    "            if event['relic'] == 'Astrolbe':\n",
    "                log_add(log , event['floor'] , 'UN_TRANFROM' , 3)\n",
    "            if event['relic'] == 'Pandora\\'s Box': ## ไม่ได้เอามาคิด\n",
    "                log_add(log , event['floor'] , 'UN_TRANFROM' , 0)\n",
    "            if event['relic'] == 'Calling Bell': ## and 3 relic asume dont count\n",
    "                log_add(log , event['floor'] , 'UN_ADD_CURSE' , 1)\n",
    "            if event['relic'] == 'Tiny House':\n",
    "                log_add(log , event['floor'] , 'UN_ADD' , 1)\n",
    "                log_add(log , event['floor'] , 'UN_UPGRADE' , 1)\n",
    "            if event['relic'] == 'Necronomicon':\n",
    "                log_add(log , event['floor'] , 'ADD' , 'Necronomicurse')\n",
    "    log[:] = sorted(log, key=lambda d: d['floor'])"
   ]
  },
  {
   "cell_type": "code",
   "execution_count": 29,
   "metadata": {},
   "outputs": [],
   "source": [
    "def fill_missing_value(log,run):\n",
    "    curr_deck, curr_relic = build_deck(log,run)\n",
    "    master_deck = run.master_deck\n",
    "\n",
    "    miss_cards  = [card for card in curr_deck if card not in master_deck]\n",
    "    extar_cards = [card for card in master_deck if card not in curr_deck]\n",
    "    unknow_value = { 'ADD' : list() , 'REMOVE' :list() , 'UPGRADE' : list()}\n",
    "    ## fill upgrade\n",
    "    ex_tmp = list(extar_cards)\n",
    "    for ex in extar_cards:\n",
    "        if ex[:-2] in miss_cards:\n",
    "            unknow_value['UPGRADE'].append(ex[:-2])\n",
    "            ex_tmp.remove(ex)\n",
    "            miss_cards.remove(ex[:-2])\n",
    "    extar_cards = ex_tmp\n",
    "    \n",
    "    unknow_value['ADD'] = list(extar_cards)\n",
    "    unknow_value['REMOVE'] = list(miss_cards)\n",
    "    newLog = list(log)\n",
    "    for f in log:\n",
    "        if f['key'] =='UN_UPGRADE':\n",
    "            for i in range(f['num']) :\n",
    "                if len(unknow_value['UPGRADE']) != 0:\n",
    "                    card = unknow_value['UPGRADE'].pop(0)\n",
    "                    log_add( newLog , f['floor'] ,'UPGRADE',card)\n",
    "        if f['key'] =='UN_TRANFROM':\n",
    "            for i in range(f['num']):\n",
    "                if len(unknow_value['REMOVE']) != 0 and len(unknow_value['ADD']):\n",
    "                    print(card1,card2)\n",
    "                    card1 = unknow_value['REMOVE'].pop(0)\n",
    "                    card2 = unknow_value['ADD'].pop(0)\n",
    "                    log_add( newLog , f['floor'] ,'UN_TRANFROM',[card1,card2])\n",
    "        if f['key'] =='UN_ADD':\n",
    "            for i in range(f['num']):\n",
    "                card = unknow_value['ADD'].pop(0)\n",
    "                log_add( newLog , f['floor'] ,'ADD',card)\n",
    "        if f['key'] =='UN_REMOVE':\n",
    "            for i in range(f['num']):\n",
    "                card = unknow_value['REOMOVE'].pop(0)\n",
    "                log_add( newLog , f['floor'] ,'REMOVE',card)\n",
    "    return sorted(newLog, key=lambda d: d['floor'])"
   ]
  },
  {
   "cell_type": "code",
   "execution_count": 18,
   "metadata": {},
   "outputs": [],
   "source": [
    "def build_log(run):\n",
    "    log = list()\n",
    "    process_pick(log,run)\n",
    "    process_campfire(log , run)\n",
    "    process_purged(log , run)\n",
    "    process_purchased(log , run)\n",
    "    process_event(log , run)\n",
    "    process_relic(log , run)\n",
    "    process_neow(log , run)\n",
    "    unknow_value_form_relic(log)\n",
    "    fill_missing_value(log,run)\n",
    "    return log"
   ]
  },
  {
   "cell_type": "code",
   "execution_count": 19,
   "metadata": {
    "id": "OrhuB19vuyZ4"
   },
   "outputs": [],
   "source": [
    "## relics relics_obtained boss_relics"
   ]
  },
  {
   "cell_type": "code",
   "execution_count": 20,
   "metadata": {
    "id": "QNrcg744SJuX"
   },
   "outputs": [],
   "source": [
    "def check_egg_add(EGG_CHECK , curr_deck ,card):\n",
    "  if EGG_CHECK['Frozen'] and card in IC_POWER_CARD:\n",
    "    curr_deck.append(card + '+1')\n",
    "  elif EGG_CHECK['Molten'] and card in IC_ATK_CARD:\n",
    "    curr_deck.append(card + '+1')\n",
    "  elif EGG_CHECK['TOXIC'] and card in IC_SKILL_CARD:\n",
    "    curr_deck.append(card + '+1')\n",
    "  else:\n",
    "    curr_deck.append(card)"
   ]
  },
  {
   "cell_type": "code",
   "execution_count": 21,
   "metadata": {},
   "outputs": [],
   "source": [
    "def check_egg_remove(EGG_CHECK , curr_deck ,card):\n",
    "    not_remove = True\n",
    "    if card + '+1' in curr_deck:\n",
    "        if EGG_CHECK['Frozen'] and card in IC_POWER_CARD_P:\n",
    "            curr_deck.remove(card + '+1')\n",
    "            not_remove = False\n",
    "        elif EGG_CHECK['Molten'] and card in IC_ATK_CARD_P:\n",
    "            print(card)\n",
    "            curr_deck.remove(card + '+1')\n",
    "            not_remove = False\n",
    "        elif EGG_CHECK['TOXIC'] and card in IC_SKILL_CARD_P:\n",
    "            curr_deck.remove(card + '+1')\n",
    "            not_remove = False\n",
    "    if not_remove and card in curr_deck:\n",
    "        curr_deck.remove(card)"
   ]
  },
  {
   "cell_type": "code",
   "execution_count": 22,
   "metadata": {
    "id": "oCJf-w8tghSR"
   },
   "outputs": [],
   "source": [
    "def build_deck(log,run):\n",
    "    curr_deck = [\"Strike_R\"]*5 + [\"Defend_R\"]*4 +   [\"Bash\"]\n",
    "    curr_relic = list()\n",
    "    EGG_CHECK = {'Frozen':  False , 'Molten' : False , 'TOXIC': False }\n",
    "    if run.ascension_level >= 10:\n",
    "        curr_deck.append('AscendersBane')\n",
    "    for f in log:\n",
    "        if f['key'] == 'PICK':\n",
    "            check_egg_add(EGG_CHECK , curr_deck ,f['card'])\n",
    "        elif f['key'] == 'ADD':\n",
    "            check_egg_add(EGG_CHECK , curr_deck ,f['card'])\n",
    "        elif f['key'] == 'TRANFORM' and f['cards'][0] in curr_deck:\n",
    "            curr_deck.remove(f['cards'][0])\n",
    "            curr_deck.append(f['cards'][1])\n",
    "        elif f['key'] == 'UPGRADE':\n",
    "            if f['card'] != 'Searing Blow' and f['card'] in curr_deck:\n",
    "                index = curr_deck.index(f['card'])\n",
    "                curr_deck[index] = f['card'] + '+1'\n",
    "        elif f['key'] == 'REMOVE' and f['card'] in curr_deck:\n",
    "            curr_deck.remove(f['card'])\n",
    "        elif f['key'] == 'GET_RELIC':\n",
    "            if f['relic'] == 'Frozen Egg 2':\n",
    "                EGG_CHECK['Frozen'] = True\n",
    "            elif f['relic'] == 'Molten Egg 2':\n",
    "                EGG_CHECK['Molten'] = True\n",
    "            elif f['relic'] == 'Toxic Egg 2':\n",
    "                 EGG_CHECK['TOXIC'] = True\n",
    "            curr_relic.append(f['relic'])\n",
    "    return curr_deck , curr_relic"
   ]
  },
  {
   "cell_type": "code",
   "execution_count": 24,
   "metadata": {},
   "outputs": [],
   "source": [
    "### didn't use\n",
    "\n",
    "def back_track(log,run):\n",
    "    re_log = list(reversed(log))\n",
    "    curr_deck = list(run.master_deck)\n",
    "    curr_relic = [r for r in run.relics if any(relic in r for relic in UV_RELICS)]\n",
    "    EGG_CHECK = {'Frozen': bool('Frozen Egg 2' in curr_relic)  , 'Molten' : bool('Molten Egg 2' in curr_relic) , 'TOXIC': bool('Toxic Egg 2' in curr_relic) }\n",
    "    for f in re_log:\n",
    "        if f['key'] == 'PICK' and f['card'] in curr_deck:\n",
    "            check_egg_remove(EGG_CHECK , curr_deck ,f['card'])\n",
    "        elif f['key'] == 'ADD'and f['card'] in curr_deck:\n",
    "            check_egg_remove(EGG_CHECK , curr_deck ,f['card'])\n",
    "        elif f['key'] == 'TRANFORM' and f['cards'][0] in curr_deck:\n",
    "            curr_deck.remove(f['cards'][1])\n",
    "            curr_deck.append(f['cards'][0])\n",
    "        elif f['key'] == 'UPGRADE':\n",
    "            if f['card'] != 'Searing Blow' and f['card']+'+1' in curr_deck:\n",
    "                index = curr_deck.index(f['card']+ '+1')\n",
    "                curr_deck[index] = curr_deck[index] [:-2]\n",
    "        elif f['key'] == 'REMOVE':\n",
    "            curr_deck.append(f['card'])\n",
    "        elif f['key'] == 'GET_RELIC':\n",
    "            if f['relic'] == 'Frozen Egg 2':\n",
    "                EGG_CHECK['Frozen'] = False\n",
    "            elif f['relic'] == 'Molten Egg 2':\n",
    "                EGG_CHECK['Molten'] = False\n",
    "            elif f['relic'] == 'Toxic Egg 2':\n",
    "                 EGG_CHECK['TOXIC'] = False\n",
    "            curr_relic.remove(f['relic'])\n",
    "    return curr_deck , curr_relic"
   ]
  },
  {
   "cell_type": "code",
   "execution_count": 25,
   "metadata": {},
   "outputs": [
    {
     "name": "stdout",
     "output_type": "stream",
     "text": [
      "['Strike_R+1', 'Strike_R+1', 'Strike_R+1', 'Strike_R+1', 'Strike_R+1', 'Defend_R+1', 'Defend_R+1', 'Defend_R+1', 'Defend_R+1', 'Bash', 'Heavy Blade+1', 'Shrug It Off+1', 'Offering', 'Rampage', 'Spot Weakness+1', 'Iron Wave', 'Shrug It Off', 'Immolate+1', 'Iron Wave', 'Impervious', 'Armaments+1', 'Metallicize', 'Metallicize', 'Whirlwind+1', 'Decay', 'Thunderclap', 'Pain', 'Iron Wave+1', 'Infernal Blade+1', 'Entrench+1', 'Ghostly Armor+1', 'Limit Break+1', 'True Grit+1', 'Dropkick+1', 'Wild Strike+1', 'Infernal Blade+1', 'Combust+1', 'Bloodletting+1', 'Parasite', 'Feel No Pain+1', 'Inflame']\n",
      "{'ADD': ['Shrug It Off+1', 'Parasite'], 'REMOVE': [], 'UPGRADE': ['Spot Weakness']}\n",
      "['Armaments+1', 'Bash', 'Bloodletting+1', 'Combust+1', 'Decay', 'Defend_R+1', 'Defend_R+1', 'Defend_R+1', 'Defend_R+1', 'Dropkick+1', 'Entrench+1', 'Feel No Pain+1', 'Ghostly Armor+1', 'Heavy Blade+1', 'Immolate+1', 'Impervious', 'Infernal Blade+1', 'Infernal Blade+1', 'Inflame', 'Iron Wave', 'Iron Wave', 'Iron Wave+1', 'Limit Break+1', 'Metallicize', 'Metallicize', 'Offering', 'Pain', 'Rampage', 'Shrug It Off', 'Shrug It Off', 'Spot Weakness', 'Strike_R+1', 'Strike_R+1', 'Strike_R+1', 'Strike_R+1', 'Strike_R+1', 'Thunderclap', 'True Grit+1', 'Whirlwind+1', 'Wild Strike+1']\n",
      "['Armaments+1', 'Bash', 'Bloodletting+1', 'Combust+1', 'Decay', 'Defend_R+1', 'Defend_R+1', 'Defend_R+1', 'Defend_R+1', 'Dropkick+1', 'Entrench+1', 'Feel No Pain+1', 'Ghostly Armor+1', 'Heavy Blade+1', 'Immolate+1', 'Impervious', 'Infernal Blade+1', 'Infernal Blade+1', 'Inflame', 'Iron Wave', 'Iron Wave', 'Iron Wave+1', 'Limit Break+1', 'Metallicize', 'Metallicize', 'Offering', 'Pain', 'Parasite', 'Rampage', 'Shrug It Off', 'Shrug It Off+1', 'Spot Weakness+1', 'Strike_R+1', 'Strike_R+1', 'Strike_R+1', 'Strike_R+1', 'Strike_R+1', 'Thunderclap', 'True Grit+1', 'Whirlwind+1', 'Wild Strike+1']\n",
      "[[], ['Strike_R', 'Strike_R', 'Strike_R', 'Strike_R', 'Strike_R', 'Defend_R', 'Defend_R', 'Defend_R', 'Defend_R', 'Bash', 'Shrug It Off+1', 'Spot Weakness+1', 'Parasite']]\n"
     ]
    }
   ],
   "source": [
    "run = df.iloc[4]\n",
    "log = build_log(run)\n",
    "curr_deck , curr_relic = build_deck(log,run)"
   ]
  },
  {
   "cell_type": "code",
   "execution_count": 30,
   "metadata": {
    "id": "VkqPDqCQpnDK"
   },
   "outputs": [
    {
     "ename": "UnboundLocalError",
     "evalue": "local variable 'card1' referenced before assignment",
     "output_type": "error",
     "traceback": [
      "\u001b[1;31m---------------------------------------------------------------------------\u001b[0m",
      "\u001b[1;31mUnboundLocalError\u001b[0m                         Traceback (most recent call last)",
      "Cell \u001b[1;32mIn[30], line 3\u001b[0m\n\u001b[0;32m      1\u001b[0m count \u001b[38;5;241m=\u001b[39m \u001b[38;5;241m0\u001b[39m\n\u001b[0;32m      2\u001b[0m \u001b[38;5;28;01mfor\u001b[39;00m index,run \u001b[38;5;129;01min\u001b[39;00m df\u001b[38;5;241m.\u001b[39miterrows():\n\u001b[1;32m----> 3\u001b[0m     log \u001b[38;5;241m=\u001b[39m \u001b[43mbuild_log\u001b[49m\u001b[43m(\u001b[49m\u001b[43mrun\u001b[49m\u001b[43m)\u001b[49m\n\u001b[0;32m      4\u001b[0m     curr_deck , curr_relic \u001b[38;5;241m=\u001b[39m build_deck(log,run)\n\u001b[0;32m      5\u001b[0m     curr_deck \u001b[38;5;241m=\u001b[39m \u001b[38;5;28msorted\u001b[39m(curr_deck)\n",
      "Cell \u001b[1;32mIn[18], line 11\u001b[0m, in \u001b[0;36mbuild_log\u001b[1;34m(run)\u001b[0m\n\u001b[0;32m      9\u001b[0m process_neow(log , run)\n\u001b[0;32m     10\u001b[0m unknow_value_form_relic(log)\n\u001b[1;32m---> 11\u001b[0m \u001b[43mfill_missing_value\u001b[49m\u001b[43m(\u001b[49m\u001b[43mlog\u001b[49m\u001b[43m,\u001b[49m\u001b[43mrun\u001b[49m\u001b[43m)\u001b[49m\n\u001b[0;32m     12\u001b[0m \u001b[38;5;28;01mreturn\u001b[39;00m log\n",
      "Cell \u001b[1;32mIn[29], line 32\u001b[0m, in \u001b[0;36mfill_missing_value\u001b[1;34m(log, run)\u001b[0m\n\u001b[0;32m     30\u001b[0m             card1 \u001b[38;5;241m=\u001b[39m unknow_value[\u001b[38;5;124m'\u001b[39m\u001b[38;5;124mREMOVE\u001b[39m\u001b[38;5;124m'\u001b[39m]\u001b[38;5;241m.\u001b[39mpop(\u001b[38;5;241m0\u001b[39m)\n\u001b[0;32m     31\u001b[0m             card2 \u001b[38;5;241m=\u001b[39m unknow_value[\u001b[38;5;124m'\u001b[39m\u001b[38;5;124mADD\u001b[39m\u001b[38;5;124m'\u001b[39m]\u001b[38;5;241m.\u001b[39mpop(\u001b[38;5;241m0\u001b[39m)\n\u001b[1;32m---> 32\u001b[0m     log_add( newLog , f[\u001b[38;5;124m'\u001b[39m\u001b[38;5;124mfloor\u001b[39m\u001b[38;5;124m'\u001b[39m] ,\u001b[38;5;124m'\u001b[39m\u001b[38;5;124mUN_TRANFROM\u001b[39m\u001b[38;5;124m'\u001b[39m,[\u001b[43mcard1\u001b[49m,card2])\n\u001b[0;32m     33\u001b[0m \u001b[38;5;28;01mif\u001b[39;00m f[\u001b[38;5;124m'\u001b[39m\u001b[38;5;124mkey\u001b[39m\u001b[38;5;124m'\u001b[39m] \u001b[38;5;241m==\u001b[39m\u001b[38;5;124m'\u001b[39m\u001b[38;5;124mUN_ADD\u001b[39m\u001b[38;5;124m'\u001b[39m:\n\u001b[0;32m     34\u001b[0m     \u001b[38;5;28;01mfor\u001b[39;00m i \u001b[38;5;129;01min\u001b[39;00m \u001b[38;5;28mrange\u001b[39m(f[\u001b[38;5;124m'\u001b[39m\u001b[38;5;124mnum\u001b[39m\u001b[38;5;124m'\u001b[39m]):\n",
      "\u001b[1;31mUnboundLocalError\u001b[0m: local variable 'card1' referenced before assignment"
     ]
    }
   ],
   "source": [
    "count = 0\n",
    "for index,run in df.iterrows():\n",
    "    log = build_log(run)\n",
    "    curr_deck , curr_relic = build_deck(log,run)\n",
    "    curr_deck = sorted(curr_deck)\n",
    "    master = sorted(run.master_deck)\n",
    "    if( curr_deck != master):\n",
    "        count = count + 1\n",
    "print(count)"
   ]
  },
  {
   "cell_type": "code",
   "execution_count": null,
   "metadata": {
    "id": "1TnwB9-O5l3y"
   },
   "outputs": [],
   "source": []
  },
  {
   "cell_type": "code",
   "execution_count": null,
   "metadata": {},
   "outputs": [],
   "source": []
  },
  {
   "cell_type": "code",
   "execution_count": null,
   "metadata": {},
   "outputs": [],
   "source": []
  }
 ],
 "metadata": {
  "colab": {
   "provenance": []
  },
  "kernelspec": {
   "display_name": "Python 3 (ipykernel)",
   "language": "python",
   "name": "python3"
  },
  "language_info": {
   "codemirror_mode": {
    "name": "ipython",
    "version": 3
   },
   "file_extension": ".py",
   "mimetype": "text/x-python",
   "name": "python",
   "nbconvert_exporter": "python",
   "pygments_lexer": "ipython3",
   "version": "3.9.5"
  }
 },
 "nbformat": 4,
 "nbformat_minor": 4
}
