{
 "cells": [
  {
   "cell_type": "markdown",
   "metadata": {
    "colab_type": "text",
    "id": "view-in-github"
   },
   "source": [
    "<a href=\"https://colab.research.google.com/github/KU81-ComSci-ProjectEnd-GameCard/main/blob/master/Predictor/data/json_unzip.ipynb\" target=\"_parent\"><img src=\"https://colab.research.google.com/assets/colab-badge.svg\" alt=\"Open In Colab\"/></a>"
   ]
  },
  {
   "cell_type": "markdown",
   "metadata": {
    "id": "04DcMHIr9wAZ"
   },
   "source": [
    "# load data\n",
    "**https://drive.google.com/drive/folders/1c7MwTdLxnPgvmPbBEfNWa45YAUU53H0l** make sure to load data form this before processing.  "
   ]
  },
  {
   "cell_type": "markdown",
   "metadata": {},
   "source": [
    "raw_data file so large to push to github"
   ]
  },
  {
   "cell_type": "code",
   "execution_count": 1,
   "metadata": {
    "id": "VQJ_117kMZMA"
   },
   "outputs": [],
   "source": [
    "import re\n",
    "def clear_SearingBlowPlus(lst):\n",
    "    return [re.sub(r'Searing Blow\\+\\d+', 'Searing Blow', item) for item in lst]"
   ]
  },
  {
   "cell_type": "code",
   "execution_count": 2,
   "metadata": {
    "id": "i3mdLMqFNFJe"
   },
   "outputs": [],
   "source": [
    "def upgrade_lst(lst):\n",
    "  new_lst = list()\n",
    "  for item in lst:\n",
    "    if(item == 'Searing Blow'):\n",
    "      new_lst.append('Searing Blow')\n",
    "    else:\n",
    "      new_lst.append(item+'+1')\n",
    "  return new_lst"
   ]
  },
  {
   "cell_type": "code",
   "execution_count": 3,
   "metadata": {
    "id": "KdsTG8ABM6ap"
   },
   "outputs": [],
   "source": [
    "def get_ALL_CARD():\n",
    "  IC_ATTACK_CARDS = [\"Strike_R\", \"Bash\", \"Anger\", \"Body Slam\", \"Clash\", \"Cleave\", \"Clothesline\", \"Headbutt\", \"Heavy Blade\", \"Iron Wave\", \"Perfected Strike\", \"Pommel Strike\", \"Sword Boomerang\", \"Thunderclap\", \"Twin Strike\", \"Wild Strike\", \"Blood for Blood\", \"Carnage\", \"Dropkick\", \"Hemokinesis\", \"Pummel\", \"Rampage\", \"Reckless Charge\", \"Searing Blow\", \"Sever Soul\", \"Uppercut\", \"Whirlwind\", \"Bludgeon\", \"Feed\", \"Fiend Fire\", \"Immolate\", \"Reaper\"]\n",
    "  IC_SKILL_CARDS = [\"Defend_R\", \"Armaments\", \"Flex\", \"Havoc\", \"Shrug It Off\", \"True Grit\", \"Warcry\", \"Battle Trance\", \"Bloodletting\", \"Burning Pact\", \"Disarm\", \"Dual Wield\", \"Entrench\", \"Flame Barrier\", \"Ghostly Armor\", \"Infernal Blade\", \"Intimidate\", \"Power Through\", \"Rage\", \"Second Wind\", \"Seeing Red\", \"Sentinel\", \"Shockwave\", \"Spot Weakness\", \"Double Tap\", \"Exhume\", \"Impervious\", \"Limit Break\", \"Offering\"]\n",
    "  IC_POWER_CARDS = [\"Combust\", \"Dark Embrace\", \"Evolve\", \"Feel No Pain\", \"Fire Breathing\", \"Inflame\", \"Metallicize\", \"Rupture\", \"Barricade\", \"Berserk\", \"Brutality\", \"Corruption\", \"Demon Form\", \"Juggernaut\"]\n",
    "  IRONCLAD_CARDS = IC_ATTACK_CARDS + IC_SKILL_CARDS + IC_POWER_CARDS\n",
    "\n",
    "  COLORLESS_CARDS = [\"Dramatic Entrance\", \"Flash of Steel\", \"Mind Blast\", \"Swift Strike\", \"HandOfGreed\", \"Bite\", \"Expunger\", \"Ritual Dagger\", \"Shiv\", \"Smite\", \"Through Violence\", \"Bandage Up\", \"Blind\", \"Dark Shackles\", \"Deep Breath\", \"Discovery\", \"Enlightenment\", \"Finesse\", \"Forethought\", \"Good Instincts\", \"Impatience\", \"Jack Of All Trades\", \"Madness\", \"Panacea\", \"PanicButton\", \"Purity\", \"Trip\", \"Apotheosis\", \"Chrysalis\", \"Master of Strategy\", \"Metamorphosis\", \"Secret Technique\", \"Secret Weapon\", \"The Bomb\", \"Thinking Ahead\", \"Transmutation\", \"Violence\", \"Apparition\", \"Beta\", \"Insight\", \"J.A.X.\", \"Miracle\", \"Safety\", \"Magnetism\", \"Mayhem\", \"Panache\", \"Sadistic Nature\", \"Omega\", ]\n",
    "\n",
    "  CURSE_CARDS = [\"Ascender s Bane\", \"Clumsy\", \"Curse of the Bell\", \"Decay\", \"Doubt\", \"Injury\", \"Necronomicurse\", \"Normality\", \"Pain\", \"Parasite\", \"Pride\", \"Regret\", \"Shame\", \"Writhe\"]\n",
    "  return IRONCLAD_CARDS + COLORLESS_CARDS + CURSE_CARDS + upgrade_lst(IRONCLAD_CARDS) + upgrade_lst(COLORLESS_CARDS)"
   ]
  },
  {
   "cell_type": "code",
   "execution_count": 5,
   "metadata": {
    "id": "c-wAMWxCL4Tw"
   },
   "outputs": [],
   "source": [
    "import pandas as pd\n",
    "def get_ic_run(json_data):\n",
    "  df = pd.DataFrame(json_data)\n",
    "  runInfo = df['event'].apply(pd.Series)\n",
    "  runInfo['master_deck'] = runInfo['master_deck'].apply(clear_SearingBlowPlus)\n",
    "  ## รับแค่ run ของ ironclad\n",
    "  ALL_CARD = get_ALL_CARD()\n",
    "  ic_run = runInfo[runInfo['master_deck'].apply(lambda x: all(word in ALL_CARD for word in x))]\n",
    "  ## เกณคือ ต้องผ่านชั้น 50 แล้ว\n",
    "  return ic_run.loc[ic_run.floor_reached >= 50]"
   ]
  },
  {
   "cell_type": "code",
   "execution_count": 11,
   "metadata": {
    "id": "aOqpP-JbKp2U"
   },
   "outputs": [],
   "source": [
    "import zipfile\n",
    "import gzip\n",
    "import json\n",
    "from io import BytesIO\n",
    "\n",
    "def get_quality_run(raw_data, run_num):\n",
    "    quality_run = pd.DataFrame()\n",
    "    with zipfile.ZipFile(raw_data, 'r') as zip_ref:\n",
    "        for gzip_file_name in zip_ref.namelist():\n",
    "            with zip_ref.open(gzip_file_name) as gzip_file:\n",
    "                with gzip.GzipFile(fileobj=gzip_file) as decompressed_file:\n",
    "                    run_info = json.load(decompressed_file)\n",
    "                    ic_run = get_ic_run(run_info)\n",
    "                    quality_run = pd.concat([quality_run, ic_run], axis=0, join='outer')\n",
    "                    quality_run.drop_duplicates(subset=['play_id'])\n",
    "                    print(len(quality_run))\n",
    "                    if(len(quality_run) >= run_num):\n",
    "                        break\n",
    "    return quality_run"
   ]
  },
  {
   "cell_type": "code",
   "execution_count": 12,
   "metadata": {
    "id": "4haU1ttlZFGK"
   },
   "outputs": [],
   "source": [
    "raw_data = 'Monthly_2020_11-20240801T051321Z-001.zip'"
   ]
  },
  {
   "cell_type": "code",
   "execution_count": 13,
   "metadata": {
    "colab": {
     "base_uri": "https://localhost:8080/",
     "height": 263
    },
    "id": "zWKPZBqEPJWP",
    "outputId": "8695d629-8085-434e-ef1c-bcf72784cf19"
   },
   "outputs": [
    {
     "name": "stdout",
     "output_type": "stream",
     "text": [
      "36\n",
      "71\n",
      "119\n",
      "155\n",
      "202\n",
      "245\n",
      "286\n",
      "334\n",
      "379\n",
      "418\n",
      "460\n",
      "508\n",
      "553\n",
      "594\n",
      "649\n",
      "695\n",
      "726\n",
      "747\n",
      "795\n",
      "826\n",
      "866\n",
      "900\n",
      "939\n",
      "990\n",
      "1036\n",
      "1083\n",
      "1125\n",
      "1167\n",
      "1214\n",
      "1265\n",
      "1302\n",
      "1348\n",
      "1384\n",
      "1427\n",
      "1463\n",
      "1498\n",
      "1533\n",
      "1564\n",
      "1600\n",
      "1641\n",
      "1690\n",
      "1727\n",
      "1772\n",
      "1816\n",
      "1855\n",
      "1899\n",
      "1924\n",
      "1967\n",
      "1998\n",
      "2043\n"
     ]
    }
   ],
   "source": [
    "quality_run = get_quality_run(raw_data, 2000)"
   ]
  },
  {
   "cell_type": "code",
   "execution_count": 16,
   "metadata": {},
   "outputs": [],
   "source": [
    "quality_run = quality_run.reset_index()"
   ]
  },
  {
   "cell_type": "code",
   "execution_count": 32,
   "metadata": {},
   "outputs": [],
   "source": [
    "import os\n",
    "file_path = os.path.join('processed_data', 'quality_run.json')\n",
    "quality_run.to_json(file_path)"
   ]
  },
  {
   "cell_type": "code",
   "execution_count": null,
   "metadata": {},
   "outputs": [],
   "source": []
  }
 ],
 "metadata": {
  "colab": {
   "include_colab_link": true,
   "provenance": []
  },
  "kernelspec": {
   "display_name": "Python 3 (ipykernel)",
   "language": "python",
   "name": "python3"
  },
  "language_info": {
   "codemirror_mode": {
    "name": "ipython",
    "version": 3
   },
   "file_extension": ".py",
   "mimetype": "text/x-python",
   "name": "python",
   "nbconvert_exporter": "python",
   "pygments_lexer": "ipython3",
   "version": "3.12.4"
  }
 },
 "nbformat": 4,
 "nbformat_minor": 4
}
