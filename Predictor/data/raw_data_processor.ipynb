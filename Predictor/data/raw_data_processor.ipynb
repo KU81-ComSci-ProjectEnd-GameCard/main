{
 "cells": [
  {
   "cell_type": "markdown",
   "metadata": {
    "colab_type": "text",
    "id": "view-in-github"
   },
   "source": [
    "<a href=\"https://colab.research.google.com/github/KU81-ComSci-ProjectEnd-GameCard/main/blob/master/Predictor/data/json_unzip.ipynb\" target=\"_parent\"><img src=\"https://colab.research.google.com/assets/colab-badge.svg\" alt=\"Open In Colab\"/></a>"
   ]
  },
  {
   "cell_type": "markdown",
   "metadata": {
    "id": "04DcMHIr9wAZ"
   },
   "source": [
    "# load data\n",
    "**https://drive.google.com/drive/folders/1c7MwTdLxnPgvmPbBEfNWa45YAUU53H0l** make sure to load data form this before processing.  "
   ]
  },
  {
   "cell_type": "markdown",
   "metadata": {},
   "source": [
    "raw_data file so large to push to github"
   ]
  },
  {
   "cell_type": "code",
   "execution_count": 1,
   "metadata": {
    "id": "VQJ_117kMZMA"
   },
   "outputs": [],
   "source": [
    "import re\n",
    "def clear_SearingBlowPlus(lst):\n",
    "    return [re.sub(r'Searing Blow\\+\\d+', 'Searing Blow', item) for item in lst]"
   ]
  },
  {
   "cell_type": "code",
   "execution_count": 2,
   "metadata": {
    "id": "i3mdLMqFNFJe"
   },
   "outputs": [],
   "source": [
    "def upgrade_lst(lst):\n",
    "  new_lst = list()\n",
    "  for item in lst:\n",
    "    if(item == 'Searing Blow'):\n",
    "      new_lst.append('Searing Blow')\n",
    "    else:\n",
    "      new_lst.append(item+'+1')\n",
    "  return new_lst"
   ]
  },
  {
   "cell_type": "code",
   "execution_count": 3,
   "metadata": {
    "id": "KdsTG8ABM6ap"
   },
   "outputs": [],
   "source": [
    "def get_ALL_CARD():\n",
    "  IC_ATTACK_CARDS = [\"Strike_R\", \"Bash\", \"Anger\", \"Body Slam\", \"Clash\", \"Cleave\", \"Clothesline\", \"Headbutt\", \"Heavy Blade\", \"Iron Wave\", \"Perfected Strike\", \"Pommel Strike\", \"Sword Boomerang\", \"Thunderclap\", \"Twin Strike\", \"Wild Strike\", \"Blood for Blood\", \"Carnage\", \"Dropkick\", \"Hemokinesis\", \"Pummel\", \"Rampage\", \"Reckless Charge\", \"Searing Blow\", \"Sever Soul\", \"Uppercut\", \"Whirlwind\", \"Bludgeon\", \"Feed\", \"Fiend Fire\", \"Immolate\", \"Reaper\"]\n",
    "  IC_SKILL_CARDS = [\"Defend_R\", \"Armaments\", \"Flex\", \"Havoc\", \"Shrug It Off\", \"True Grit\", \"Warcry\", \"Battle Trance\", \"Bloodletting\", \"Burning Pact\", \"Disarm\", \"Dual Wield\", \"Entrench\", \"Flame Barrier\", \"Ghostly Armor\", \"Infernal Blade\", \"Intimidate\", \"Power Through\", \"Rage\", \"Second Wind\", \"Seeing Red\", \"Sentinel\", \"Shockwave\", \"Spot Weakness\", \"Double Tap\", \"Exhume\", \"Impervious\", \"Limit Break\", \"Offering\"]\n",
    "  IC_POWER_CARDS = [\"Combust\", \"Dark Embrace\", \"Evolve\", \"Feel No Pain\", \"Fire Breathing\", \"Inflame\", \"Metallicize\", \"Rupture\", \"Barricade\", \"Berserk\", \"Brutality\", \"Corruption\", \"Demon Form\", \"Juggernaut\"]\n",
    "  IRONCLAD_CARDS = IC_ATTACK_CARDS + IC_SKILL_CARDS + IC_POWER_CARDS\n",
    "\n",
    "  COLORLESS_CARDS = [\"Dramatic Entrance\", \"Flash of Steel\", \"Mind Blast\", \"Swift Strike\", \"HandOfGreed\", \"Bite\", \"Expunger\", \"Ritual Dagger\", \"Shiv\", \"Smite\", \"Through Violence\", \"Bandage Up\", \"Blind\", \"Dark Shackles\", \"Deep Breath\", \"Discovery\", \"Enlightenment\", \"Finesse\", \"Forethought\", \"Good Instincts\", \"Impatience\", \"Jack Of All Trades\", \"Madness\", \"Panacea\", \"PanicButton\", \"Purity\", \"Trip\", \"Apotheosis\", \"Chrysalis\", \"Master of Strategy\", \"Metamorphosis\", \"Secret Technique\", \"Secret Weapon\", \"The Bomb\", \"Thinking Ahead\", \"Transmutation\", \"Violence\", \"Apparition\", \"Beta\", \"Insight\", \"J.A.X.\", \"Miracle\", \"Safety\", \"Magnetism\", \"Mayhem\", \"Panache\", \"Sadistic Nature\", \"Omega\", ]\n",
    "\n",
    "  CURSE_CARDS = [\"Ascender s Bane\", \"Clumsy\", \"Curse of the Bell\", \"Decay\", \"Doubt\", \"Injury\", \"Necronomicurse\", \"Normality\", \"Pain\", \"Parasite\", \"Pride\", \"Regret\", \"Shame\", \"Writhe\"]\n",
    "  return IRONCLAD_CARDS + COLORLESS_CARDS + CURSE_CARDS + upgrade_lst(IRONCLAD_CARDS) + upgrade_lst(COLORLESS_CARDS)"
   ]
  },
  {
   "cell_type": "code",
   "execution_count": 4,
   "metadata": {
    "id": "c-wAMWxCL4Tw"
   },
   "outputs": [],
   "source": [
    "import pandas as pd\n",
    "def get_ic_run(json_data):\n",
    "  df = pd.DataFrame(json_data)\n",
    "  runInfo = df['event'].apply(pd.Series)\n",
    "  runInfo['master_deck'] = runInfo['master_deck'].apply(clear_SearingBlowPlus)\n",
    "  ## รับแค่ run ของ ironclad\n",
    "  ALL_CARD = get_ALL_CARD()\n",
    "  ic_run = runInfo[runInfo['master_deck'].apply(lambda x: all(word in ALL_CARD for word in x))]\n",
    "  ## เกณคือ ต้องผ่านชั้น 50 แล้ว\n",
    "  return ic_run.loc[ic_run.floor_reached >= 50]"
   ]
  },
  {
   "cell_type": "code",
   "execution_count": 16,
   "metadata": {
    "id": "aOqpP-JbKp2U"
   },
   "outputs": [],
   "source": [
    "import os\n",
    "import gzip\n",
    "import json\n",
    "\n",
    "def get_quality_run(directory, run_num,start=0, end=None):\n",
    "    quality_run = pd.DataFrame()\n",
    "    try:\n",
    "        counter = 0\n",
    "        for file_name in os.listdir(directory):\n",
    "            file_path = os.path.join(directory, file_name)\n",
    "            if os.path.isfile(file_path) and file_name.endswith('.json.gz'):\n",
    "                if counter >= start and (end is None or counter < end):\n",
    "                    with gzip.open(file_path, 'rt', encoding='utf-8') as gz_file:\n",
    "                        run_info = json.load(gz_file)\n",
    "                        ic_run = get_ic_run(run_info)\n",
    "                        quality_run = pd.concat([quality_run, ic_run], axis=0, join='outer')\n",
    "                        quality_run.drop_duplicates(subset=['play_id'])\n",
    "                        print(counter, '   :     ',len(quality_run))\n",
    "                        if(len(quality_run) >= run_num):\n",
    "                            break\n",
    "            counter += 1\n",
    "    except Exception as e:\n",
    "        print(f\"Error: {e}\")\n",
    "    return quality_run\n",
    "                        "
   ]
  },
  {
   "cell_type": "code",
   "execution_count": 17,
   "metadata": {
    "id": "4haU1ttlZFGK"
   },
   "outputs": [],
   "source": [
    "raw_data = 'Monthly_2020_11'"
   ]
  },
  {
   "cell_type": "code",
   "execution_count": 18,
   "metadata": {
    "colab": {
     "base_uri": "https://localhost:8080/",
     "height": 263
    },
    "id": "zWKPZBqEPJWP",
    "outputId": "8695d629-8085-434e-ef1c-bcf72784cf19"
   },
   "outputs": [
    {
     "name": "stdout",
     "output_type": "stream",
     "text": [
      "0    :      39\n",
      "1    :      81\n",
      "2    :      127\n",
      "3    :      168\n",
      "4    :      221\n",
      "5    :      273\n",
      "6    :      302\n",
      "7    :      344\n",
      "8    :      380\n",
      "9    :      423\n",
      "10    :      454\n",
      "11    :      492\n",
      "12    :      523\n",
      "13    :      555\n",
      "14    :      596\n",
      "15    :      633\n",
      "16    :      687\n",
      "17    :      742\n",
      "18    :      800\n",
      "19    :      841\n",
      "20    :      889\n",
      "21    :      947\n",
      "22    :      990\n",
      "23    :      1050\n",
      "24    :      1094\n",
      "25    :      1149\n",
      "26    :      1185\n",
      "27    :      1226\n",
      "28    :      1262\n",
      "29    :      1310\n",
      "30    :      1366\n",
      "31    :      1420\n",
      "32    :      1468\n",
      "33    :      1510\n",
      "34    :      1553\n",
      "35    :      1589\n",
      "36    :      1651\n",
      "37    :      1695\n",
      "38    :      1751\n",
      "39    :      1798\n",
      "40    :      1832\n",
      "41    :      1873\n",
      "42    :      1917\n",
      "43    :      1965\n",
      "44    :      2015\n"
     ]
    }
   ],
   "source": [
    "quality_run = get_quality_run(raw_data, 2000)"
   ]
  },
  {
   "cell_type": "code",
   "execution_count": 16,
   "metadata": {},
   "outputs": [],
   "source": [
    "quality_run = quality_run.reset_index()"
   ]
  },
  {
   "cell_type": "code",
   "execution_count": 32,
   "metadata": {},
   "outputs": [],
   "source": [
    "import os\n",
    "file_path = os.path.join('processed_data', 'quality_run.json')\n",
    "quality_run.to_json(file_path)"
   ]
  },
  {
   "cell_type": "code",
   "execution_count": null,
   "metadata": {},
   "outputs": [],
   "source": []
  }
 ],
 "metadata": {
  "colab": {
   "include_colab_link": true,
   "provenance": []
  },
  "kernelspec": {
   "display_name": "Python 3 (ipykernel)",
   "language": "python",
   "name": "python3"
  },
  "language_info": {
   "codemirror_mode": {
    "name": "ipython",
    "version": 3
   },
   "file_extension": ".py",
   "mimetype": "text/x-python",
   "name": "python",
   "nbconvert_exporter": "python",
   "pygments_lexer": "ipython3",
   "version": "3.9.5"
  }
 },
 "nbformat": 4,
 "nbformat_minor": 4
}
