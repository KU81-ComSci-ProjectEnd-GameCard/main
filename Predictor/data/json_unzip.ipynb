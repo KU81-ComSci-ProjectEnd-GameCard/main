{
  "nbformat": 4,
  "nbformat_minor": 0,
  "metadata": {
    "colab": {
      "provenance": [],
      "include_colab_link": true
    },
    "kernelspec": {
      "name": "python3",
      "display_name": "Python 3"
    },
    "language_info": {
      "name": "python"
    }
  },
  "cells": [
    {
      "cell_type": "markdown",
      "metadata": {
        "id": "view-in-github",
        "colab_type": "text"
      },
      "source": [
        "<a href=\"https://colab.research.google.com/github/KU81-ComSci-ProjectEnd-GameCard/main/blob/master/predicter/data/json_unzip.ipynb\" target=\"_parent\"><img src=\"https://colab.research.google.com/assets/colab-badge.svg\" alt=\"Open In Colab\"/></a>"
      ]
    },
    {
      "cell_type": "markdown",
      "source": [
        "# load data\n",
        "**connect to https://drive.google.com/drive/folders/1c7MwTdLxnPgvmPbBEfNWa45YAUU53H0l** that share short cut in my google drive"
      ],
      "metadata": {
        "id": "04DcMHIr9wAZ"
      }
    },
    {
      "cell_type": "code",
      "source": [
        "import os\n",
        "from google.colab import drive\n",
        "drive.mount(\"/content/drive\")"
      ],
      "metadata": {
        "colab": {
          "base_uri": "https://localhost:8080/"
        },
        "id": "vM5-gRwb9WG0",
        "outputId": "e5b66a99-6257-4811-e594-68c370e601ef"
      },
      "execution_count": null,
      "outputs": [
        {
          "output_type": "stream",
          "name": "stdout",
          "text": [
            "Mounted at /content/drive\n"
          ]
        }
      ]
    },
    {
      "cell_type": "markdown",
      "source": [
        "# unzip raw data .json.gz"
      ],
      "metadata": {
        "id": "3Zm5cwF2_eXq"
      }
    },
    {
      "cell_type": "code",
      "source": [
        "directory_path = '/content/drive/MyDrive/STS Data/Monthly_2020_11'\n",
        "# List all files in the directory\n",
        "file_names = os.listdir(directory_path)\n",
        "select_files = file_names[0:10]"
      ],
      "metadata": {
        "id": "RWyvWyAD98Cz"
      },
      "execution_count": null,
      "outputs": []
    },
    {
      "cell_type": "code",
      "execution_count": null,
      "metadata": {
        "id": "hCDsXLgUadKs"
      },
      "outputs": [],
      "source": [
        "import gzip\n",
        "import json\n",
        "\n",
        "combined_data = []\n",
        "# Open the .gz file and read its content\n",
        "for i in select_files:\n",
        "  with gzip.open(directory_path + '/'+i, 'rt', encoding='utf-8') as f:\n",
        "      data = json.load(f)"
      ]
    },
    {
      "cell_type": "code",
      "source": [
        "!mkdir output"
      ],
      "metadata": {
        "id": "9J7XVG0uIV4S"
      },
      "execution_count": null,
      "outputs": []
    },
    {
      "cell_type": "code",
      "source": [
        "%cd"
      ],
      "metadata": {
        "id": "6lIe0xtBMVXr",
        "outputId": "bcc2c110-2709-42d0-aa7a-d973291948e6",
        "colab": {
          "base_uri": "https://localhost:8080/"
        }
      },
      "execution_count": null,
      "outputs": [
        {
          "output_type": "stream",
          "name": "stdout",
          "text": [
            "/root\n"
          ]
        }
      ]
    },
    {
      "cell_type": "code",
      "source": [
        "for i in select_files:\n",
        " with open( '/content/output/' + i.replace('.gz', ''), 'w', encoding='utf-8') as f:\n",
        "      json.dump(data, f, indent=4)"
      ],
      "metadata": {
        "id": "BP2Vz3T8KOt-"
      },
      "execution_count": null,
      "outputs": []
    },
    {
      "cell_type": "code",
      "source": [
        "import shutil\n",
        "# Directory you want to zip\n",
        "dir_to_zip = '/content/output'\n",
        "# Output zip file\n",
        "output_filename = '/content/raw_data.zip'\n",
        "# Zipping the directory\n",
        "shutil.make_archive(output_filename.replace('.zip', ''), 'zip', dir_to_zip)\n"
      ],
      "metadata": {
        "id": "cXAxu1q700wJ",
        "outputId": "18da23df-aed3-4a9f-af5c-c07a9a076f3b",
        "colab": {
          "base_uri": "https://localhost:8080/",
          "height": 35
        }
      },
      "execution_count": null,
      "outputs": [
        {
          "output_type": "execute_result",
          "data": {
            "text/plain": [
              "'/content/raw_data.zip'"
            ],
            "application/vnd.google.colaboratory.intrinsic+json": {
              "type": "string"
            }
          },
          "metadata": {},
          "execution_count": 10
        }
      ]
    }
  ]
}